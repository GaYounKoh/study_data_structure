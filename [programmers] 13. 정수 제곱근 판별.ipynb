{
 "cells": [
  {
   "cell_type": "markdown",
   "metadata": {},
   "source": [
    "# 220325 정수 제곱근 판별 (획득한 점수: 3)\n",
    "소수에 대한 개념을 생각해본적이 없어서 꽤나 어렵게 풀었음..; <br>\n",
    "풀고도 이건 아닌 것 같음... <br>\n",
    "남이 푼거 확인 함. 1로 나눈 나머지라니..... 꽤나 충격...."
   ]
  },
  {
   "cell_type": "code",
   "execution_count": null,
   "metadata": {},
   "outputs": [],
   "source": [
    "def solution(n):\n",
    "    # print(type(n**(1/2)), \".\" in str(n**(1/2)), str(n**(1/2))[str(n**(1/2)).index(\".\")+1:])\n",
    "    if len(str(n**(1/2))[str(n**(1/2)).index(\".\")+1:]) == 1: # 근데 누가 소수를 이딴 식으로 판단하지...\n",
    "        return round((n**(1/2)+1) ** 2)\n",
    "    else:\n",
    "        return -1"
   ]
  }
 ],
 "metadata": {
  "interpreter": {
   "hash": "e4cfef919f511c0e3a05919ed86dab4fa959f970f2723dae87eeb918be14f5f0"
  },
  "kernelspec": {
   "display_name": "Python 3.8.8 ('base')",
   "language": "python",
   "name": "python3"
  },
  "language_info": {
   "name": "python",
   "version": "3.8.8"
  },
  "orig_nbformat": 4
 },
 "nbformat": 4,
 "nbformat_minor": 2
}
