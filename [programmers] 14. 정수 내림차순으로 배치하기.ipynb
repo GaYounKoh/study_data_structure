{
 "cells": [
  {
   "cell_type": "code",
   "execution_count": 4,
   "metadata": {},
   "outputs": [],
   "source": [
    "from IPython.core.interactiveshell import InteractiveShell\n",
    "InteractiveShell.ast_node_interactivity = \"all\""
   ]
  },
  {
   "cell_type": "code",
   "execution_count": null,
   "metadata": {},
   "outputs": [],
   "source": [
    "# 이게 런타임에러가 난다고..?\n",
    "def solution(n):\n",
    "    # lst = [int(i) for i in str(n)]\n",
    "    # lst = sorted(lst) # sorted(seq_data)는 list를 반환, list.sort()는 None 반환..?\n",
    "    ## https://docs.python.org/ko/3/howto/sorting.html\n",
    "    # print(lst[::-1])#str(n).sort(acsending = False)) # 이거로도 할 수 있긴한데 첨부터 str로 하고싶었으니까 str로 제출할래\n",
    "    \n",
    "    st = sorted(str(n))\n",
    "    st = ''.join(st[::-1])\n",
    "    return int(st)"
   ]
  },
  {
   "cell_type": "code",
   "execution_count": 9,
   "metadata": {},
   "outputs": [
    {
     "data": {
      "text/plain": [
       "['1', '1', '2', '3', '7', '8']"
      ]
     },
     "execution_count": 9,
     "metadata": {},
     "output_type": "execute_result"
    },
    {
     "data": {
      "text/plain": [
       "873211"
      ]
     },
     "execution_count": 9,
     "metadata": {},
     "output_type": "execute_result"
    }
   ],
   "source": [
    "n = 118372\n",
    "st = sorted(str(n))\n",
    "st\n",
    "st = ''.join(st[::-1])\n",
    "# print(st)\n",
    "int(st)"
   ]
  },
  {
   "cell_type": "code",
   "execution_count": null,
   "metadata": {},
   "outputs": [],
   "source": []
  }
 ],
 "metadata": {
  "interpreter": {
   "hash": "e4cfef919f511c0e3a05919ed86dab4fa959f970f2723dae87eeb918be14f5f0"
  },
  "kernelspec": {
   "display_name": "Python 3.8.8 ('base')",
   "language": "python",
   "name": "python3"
  },
  "language_info": {
   "codemirror_mode": {
    "name": "ipython",
    "version": 3
   },
   "file_extension": ".py",
   "mimetype": "text/x-python",
   "name": "python",
   "nbconvert_exporter": "python",
   "pygments_lexer": "ipython3",
   "version": "3.8.8"
  },
  "orig_nbformat": 4
 },
 "nbformat": 4,
 "nbformat_minor": 2
}
