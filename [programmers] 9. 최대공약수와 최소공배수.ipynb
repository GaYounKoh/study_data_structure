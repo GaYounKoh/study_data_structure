{
 "cells": [
  {
   "cell_type": "code",
   "execution_count": 1,
   "metadata": {},
   "outputs": [],
   "source": [
    "from IPython.core.interactiveshell import InteractiveShell\n",
    "InteractiveShell.ast_node_interactivity = \"all\""
   ]
  },
  {
   "cell_type": "markdown",
   "metadata": {},
   "source": [
    "# 인터넷 참고\n",
    "[최대공약수와 최소공배수, 유클리드 호제법](https://dimenchoi.tistory.com/46)"
   ]
  },
  {
   "cell_type": "markdown",
   "metadata": {},
   "source": [
    "# 220321 최대공약수와 최소공배수"
   ]
  },
  {
   "cell_type": "code",
   "execution_count": 12,
   "metadata": {},
   "outputs": [
    {
     "data": {
      "text/plain": [
       "3"
      ]
     },
     "execution_count": 12,
     "metadata": {},
     "output_type": "execute_result"
    },
    {
     "data": {
      "text/plain": [
       "0"
      ]
     },
     "execution_count": 12,
     "metadata": {},
     "output_type": "execute_result"
    }
   ],
   "source": [
    "n = 3\n",
    "m = 12\n",
    "\n",
    "# (n*m)**(1/2)\n",
    "R1 = n % m\n",
    "R2 = m % R1\n",
    "# R3 = R1 % R2\n",
    "\n",
    "\n",
    "R1\n",
    "R2\n",
    "# R3"
   ]
  },
  {
   "cell_type": "code",
   "execution_count": 1,
   "metadata": {},
   "outputs": [
    {
     "ename": "NameError",
     "evalue": "name 'n' is not defined",
     "output_type": "error",
     "traceback": [
      "\u001b[1;31m---------------------------------------------------------------------------\u001b[0m",
      "\u001b[1;31mNameError\u001b[0m                                 Traceback (most recent call last)",
      "\u001b[1;32m<ipython-input-1-616c5582e4c1>\u001b[0m in \u001b[0;36m<module>\u001b[1;34m\u001b[0m\n\u001b[0;32m     18\u001b[0m \u001b[1;31m# 동일 링크에서 최대 공약수를 구하는 유클리드 호제법 발견\u001b[0m\u001b[1;33m\u001b[0m\u001b[1;33m\u001b[0m\u001b[1;33m\u001b[0m\u001b[0m\n\u001b[0;32m     19\u001b[0m \u001b[1;31m# 최대 공약수 구해서 n*m = L*G 이용... L = (n*m)/G 일거니까...\u001b[0m\u001b[1;33m\u001b[0m\u001b[1;33m\u001b[0m\u001b[1;33m\u001b[0m\u001b[0m\n\u001b[1;32m---> 20\u001b[1;33m \u001b[0mR1\u001b[0m \u001b[1;33m=\u001b[0m \u001b[0mn\u001b[0m \u001b[1;33m%\u001b[0m \u001b[0mm\u001b[0m\u001b[1;33m\u001b[0m\u001b[1;33m\u001b[0m\u001b[0m\n\u001b[0m\u001b[0;32m     21\u001b[0m \u001b[0mR2\u001b[0m \u001b[1;33m=\u001b[0m \u001b[0mm\u001b[0m \u001b[1;33m%\u001b[0m \u001b[0mR1\u001b[0m\u001b[1;33m\u001b[0m\u001b[1;33m\u001b[0m\u001b[0m\n\u001b[0;32m     22\u001b[0m \u001b[0mR3\u001b[0m \u001b[1;33m=\u001b[0m \u001b[0mR1\u001b[0m \u001b[1;33m%\u001b[0m \u001b[0mR2\u001b[0m\u001b[1;33m\u001b[0m\u001b[1;33m\u001b[0m\u001b[0m\n",
      "\u001b[1;31mNameError\u001b[0m: name 'n' is not defined"
     ]
    }
   ],
   "source": [
    "# 최대공약수\n",
    "# : 서로가 서로로 나뉘어지는지 확인\n",
    "# 구구단으로 하면 좀 빠르지 않을까?\n",
    "# 일단 둘 이 서로로 안나눠지면..? 나눠지냐 마느냐의 문제가 아님.\n",
    "# 나눗셈의 원리를 이해해야 풀 수 있는 문제이긴 했음.\n",
    "\n",
    "\n",
    "# 곱셈의 문제인데... (소인수분해의 영역인것을...)\n",
    "# 소수로 이뤄지게 돼있는데...\n",
    "# 소인수 분해를 코드로 어떻게 짜는지의 문제인데...\n",
    "\n",
    "# !!!!!!!!!!\n",
    "# 최대 공약수(G) 최소 공배수(L)와 두 수(n,m) 사이에 규칙이 있음. (인터넷 참고)\n",
    "# n*m = L*G\n",
    "    # n*m에 루트를 씌우면 뭔가 최대공약수(G)가 나올 것 같음.\n",
    "    # test 결과 운이좋게도 바로 아닌 것 발견...\n",
    "\n",
    "# 동일 링크에서 최대 공약수를 구하는 유클리드 호제법 발견\n",
    "# 최대 공약수 구해서 n*m = L*G 이용... L = (n*m)/G 일거니까...\n",
    "R1 = n % m\n",
    "R2 = m % R1\n",
    "R3 = R1 % R2"
   ]
  },
  {
   "cell_type": "markdown",
   "metadata": {},
   "source": [
    "[solution](https://velog.io/@richeberry/%ED%94%84%EB%A1%9C%EA%B7%B8%EB%9E%98%EB%A8%B8%EC%8A%A4python-%EC%B5%9C%EB%8C%80%EA%B3%B5%EC%95%BD%EC%88%98%EC%99%80-%EC%B5%9C%EC%86%8C%EA%B3%B5%EB%B0%B0%EC%88%98)"
   ]
  },
  {
   "cell_type": "code",
   "execution_count": null,
   "metadata": {},
   "outputs": [],
   "source": [
    "## 유클리드 호제법으로 최대공약수 구하는 함수 구현\n",
    "### 최대공약수 받는 함수를 따로 만들어서 이용...\n",
    "### 최대공약수 받는 함수에는 재귀함수 이용..\n",
    "\n",
    "## 최대공약수(G)와 최소공배수(L) 그리고 두 수 (n,m) 사이의 관계를 이용\n",
    "### n*m = L*G\n",
    "\n",
    "def gcd(n,m):\n",
    "    r = m % n\n",
    "    if r != 0: # mod가 0이면 나눠지지 않는 문제 발생\n",
    "        m,n = n, r\n",
    "        return gcd(n,m)\n",
    "    else:\n",
    "        return n\n",
    "    \n",
    "def solution(n,m):\n",
    "    return [gcd(n,m), int(n*m/gcd(n,m))]"
   ]
  }
 ],
 "metadata": {
  "interpreter": {
   "hash": "a189447917acffb1567c89b7cb00fa9d2475a0f68c2a9e06a8cc7f2367540eba"
  },
  "kernelspec": {
   "display_name": "Python 3.8.5 ('base')",
   "language": "python",
   "name": "python3"
  },
  "language_info": {
   "codemirror_mode": {
    "name": "ipython",
    "version": 3
   },
   "file_extension": ".py",
   "mimetype": "text/x-python",
   "name": "python",
   "nbconvert_exporter": "python",
   "pygments_lexer": "ipython3",
   "version": "3.8.8"
  },
  "orig_nbformat": 4
 },
 "nbformat": 4,
 "nbformat_minor": 2
}
