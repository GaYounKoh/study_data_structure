{
 "cells": [
  {
   "cell_type": "markdown",
   "metadata": {},
   "source": [
    "# (큐) 주식가격 <br>\n",
    "[코드](https://javaiyagi.tistory.com/651)"
   ]
  },
  {
   "cell_type": "code",
   "execution_count": 11,
   "metadata": {},
   "outputs": [
    {
     "name": "stdout",
     "output_type": "stream",
     "text": [
      "[4, 3, 1, 1, 0]\n"
     ]
    }
   ],
   "source": [
    "prices = [1, 2, 3, 2, 3]\n",
    "from collections import deque\n",
    "queue = deque(prices)\n",
    "#################\n",
    "ans = []\n",
    "while queue: # 주식가격 순회\n",
    "    sec = 0\n",
    "    p = queue.popleft() # 첫 번째 요소 꺼냄 (현재 가격)\n",
    "\n",
    "    for price in queue: # ***나머지 가격들*** 순회하면서 걸리는 시간에 1초씩 +++\n",
    "        sec += 1\n",
    "        if price < p: # 현재 가격보다 낮은 가격 만나면 루프 종료\n",
    "            break\n",
    "    ans.append(sec)\n",
    "print(ans)"
   ]
  },
  {
   "cell_type": "code",
   "execution_count": null,
   "metadata": {},
   "outputs": [],
   "source": []
  }
 ],
 "metadata": {
  "interpreter": {
   "hash": "e4cfef919f511c0e3a05919ed86dab4fa959f970f2723dae87eeb918be14f5f0"
  },
  "kernelspec": {
   "display_name": "Python 3.8.8 ('base')",
   "language": "python",
   "name": "python3"
  },
  "language_info": {
   "codemirror_mode": {
    "name": "ipython",
    "version": 3
   },
   "file_extension": ".py",
   "mimetype": "text/x-python",
   "name": "python",
   "nbconvert_exporter": "python",
   "pygments_lexer": "ipython3",
   "version": "3.8.8"
  },
  "orig_nbformat": 4
 },
 "nbformat": 4,
 "nbformat_minor": 2
}
