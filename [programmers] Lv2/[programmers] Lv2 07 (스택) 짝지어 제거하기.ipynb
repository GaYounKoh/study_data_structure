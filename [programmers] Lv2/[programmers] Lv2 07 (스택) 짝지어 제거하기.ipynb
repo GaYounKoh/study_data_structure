{
 "cells": [
  {
   "cell_type": "markdown",
   "metadata": {},
   "source": [
    "# (스택) 짝지어 제거하기 (10점)"
   ]
  },
  {
   "cell_type": "markdown",
   "metadata": {},
   "source": [
    "# 이것저것해보다가 안돼서 답 구글링"
   ]
  },
  {
   "cell_type": "code",
   "execution_count": null,
   "metadata": {},
   "outputs": [],
   "source": [
    "def solution(s):\n",
    "    stack = []\n",
    "    for i in s:\n",
    "        \n",
    "        if not stack:\n",
    "            stack.append(i)\n",
    "        else:\n",
    "            if i == stack[-1]:\n",
    "                stack.pop()\n",
    "            else:               ### 추가\n",
    "                stack.append(i) ### 추가\n",
    "\n",
    "    if not stack:\n",
    "        return 1\n",
    "    else:\n",
    "        return 0"
   ]
  },
  {
   "cell_type": "markdown",
   "metadata": {},
   "source": [
    "# 정확성테스트 한 문제에서 실패"
   ]
  },
  {
   "cell_type": "code",
   "execution_count": null,
   "metadata": {},
   "outputs": [],
   "source": [
    "def solution(s):\n",
    "    stack = []\n",
    "    for i in s:\n",
    "        \n",
    "        if not stack:\n",
    "            stack.append(i)\n",
    "        else:\n",
    "            if i == stack[-1]:\n",
    "                stack.pop()\n",
    "\n",
    "    if not stack:\n",
    "        return 1\n",
    "    else:\n",
    "        return 0"
   ]
  },
  {
   "cell_type": "code",
   "execution_count": 29,
   "metadata": {},
   "outputs": [
    {
     "name": "stdout",
     "output_type": "stream",
     "text": [
      "0, [], c\n",
      "1, ['c'], d\n",
      "d\n",
      "2, ['c', 'd'], c\n",
      "c\n",
      "3, ['c', 'd', 'c'], d\n",
      "d\n",
      "['c', 'd', 'c', 'd']\n"
     ]
    }
   ],
   "source": [
    "# 맨 처음에 stack에 넣는 순서를 바꿔봄.\n",
    "s = 'cdcd'\n",
    "stack = []\n",
    "# ans = []\n",
    "for n,i in enumerate(s):\n",
    "    print(f'{n}, {stack}, {i}')\n",
    "    if not stack:\n",
    "        stack.append(i)\n",
    "        \n",
    "    else:\n",
    "        if i == stack[-1]:\n",
    "            print(f'stack.pop(): {stack.pop()}')\n",
    "            print(f'stack: {stack}')\n",
    "            # if stack:\n",
    "            #     ans.append(stack.pop())\n",
    "        else:\n",
    "            print(i)\n",
    "            stack.append(i)\n",
    "print(stack)\n",
    "# print(ans)\n",
    "if not stack:\n",
    "    print(1)\n",
    "else:\n",
    "    print(0)"
   ]
  },
  {
   "cell_type": "code",
   "execution_count": 2,
   "metadata": {},
   "outputs": [
    {
     "name": "stdout",
     "output_type": "stream",
     "text": [
      "1\n"
     ]
    }
   ],
   "source": [
    "# 문제이해를 괄호짝 문제로 잘못 이해함...\n",
    "s = 'cdcd'\n",
    "stack = []\n",
    "for i in s:\n",
    "    stack.append(i)\n",
    "    if stack:\n",
    "        if i == stack[-1]:\n",
    "            stack.pop()\n",
    "if not stack:\n",
    "    print(1)\n",
    "else:\n",
    "    print(0)"
   ]
  },
  {
   "cell_type": "code",
   "execution_count": null,
   "metadata": {},
   "outputs": [],
   "source": []
  }
 ],
 "metadata": {
  "interpreter": {
   "hash": "e4cfef919f511c0e3a05919ed86dab4fa959f970f2723dae87eeb918be14f5f0"
  },
  "kernelspec": {
   "display_name": "Python 3.8.8 ('base')",
   "language": "python",
   "name": "python3"
  },
  "language_info": {
   "codemirror_mode": {
    "name": "ipython",
    "version": 3
   },
   "file_extension": ".py",
   "mimetype": "text/x-python",
   "name": "python",
   "nbconvert_exporter": "python",
   "pygments_lexer": "ipython3",
   "version": "3.8.8"
  },
  "orig_nbformat": 4
 },
 "nbformat": 4,
 "nbformat_minor": 2
}
