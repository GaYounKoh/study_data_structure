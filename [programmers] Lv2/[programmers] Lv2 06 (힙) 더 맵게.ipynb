{
 "cells": [
  {
   "cell_type": "markdown",
   "metadata": {},
   "source": [
    "# 220429, (힙) 더 맵게 ()\n",
    "# 힙이 뭔지는 모르겠고... 그냥 풀었다.\n",
    "* 결과는 런타임에러..."
   ]
  },
  {
   "cell_type": "code",
   "execution_count": null,
   "metadata": {},
   "outputs": [],
   "source": [
    "def solution(scoville, K):\n",
    "    scoville.sort()\n",
    "    cp = scoville.copy()\n",
    "    ans = 0\n",
    "    for i in range(len(cp)):\n",
    "        if cp[i] < 7:\n",
    "            if i == 0:\n",
    "                tmp = scoville.pop(0)\n",
    "                print(i, tmp)\n",
    "            else:\n",
    "                tmp = min(tmp,scoville[0])+ max(tmp,scoville[0])*2\n",
    "                scoville.pop(0)\n",
    "                ans+=1\n",
    "                if tmp > 7:\n",
    "                    scoville.append(tmp)\n",
    "        else:\n",
    "            pass\n",
    "    \n",
    "    if tmp > 7:\n",
    "        return ans\n",
    "    else:\n",
    "        return -1"
   ]
  },
  {
   "cell_type": "code",
   "execution_count": 17,
   "metadata": {},
   "outputs": [
    {
     "name": "stdout",
     "output_type": "stream",
     "text": [
      "0 1\n"
     ]
    },
    {
     "data": {
      "text/plain": [
       "[9, 10, 12, 13]"
      ]
     },
     "execution_count": 17,
     "metadata": {},
     "output_type": "execute_result"
    }
   ],
   "source": [
    "scoville = [1, 2, 3, 9, 10, 12]\n",
    "K = 7\n",
    "scoville.sort()\n",
    "cp = scoville.copy()\n",
    "\n",
    "# while scoville.sum()>7*len(scoville): # 이건 논리에 오류있음.\n",
    "for i in range(len(cp)):\n",
    "    if cp[i] < 7:\n",
    "        if i == 0:\n",
    "            tmp = scoville.pop(0)\n",
    "            print(i, tmp)\n",
    "        else:\n",
    "            tmp = min(tmp,scoville[0])+ max(tmp,scoville[0])*2\n",
    "            scoville.pop(0)\n",
    "            if tmp > 7:\n",
    "                scoville.append(tmp)\n",
    "    else:\n",
    "        pass\n",
    "scoville"
   ]
  },
  {
   "cell_type": "code",
   "execution_count": null,
   "metadata": {},
   "outputs": [],
   "source": []
  }
 ],
 "metadata": {
  "interpreter": {
   "hash": "6410af7c2dfa4069b2c7d49a5fe679014da99f4de105009041bd84f5aada7cfa"
  },
  "kernelspec": {
   "display_name": "Python 3.10.3 64-bit",
   "language": "python",
   "name": "python3"
  },
  "language_info": {
   "codemirror_mode": {
    "name": "ipython",
    "version": 3
   },
   "file_extension": ".py",
   "mimetype": "text/x-python",
   "name": "python",
   "nbconvert_exporter": "python",
   "pygments_lexer": "ipython3",
   "version": "3.8.8"
  },
  "orig_nbformat": 4
 },
 "nbformat": 4,
 "nbformat_minor": 2
}
