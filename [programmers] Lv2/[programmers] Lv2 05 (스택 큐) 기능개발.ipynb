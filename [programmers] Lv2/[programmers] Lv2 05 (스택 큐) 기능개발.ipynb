{
 "cells": [
  {
   "cell_type": "code",
   "execution_count": 35,
   "metadata": {},
   "outputs": [
    {
     "name": "stdout",
     "output_type": "stream",
     "text": [
      "93\n",
      "else~!!!!!!!@~!!@~!@ 93 []\n",
      "93\n",
      "else~!!!!!!!@~!!@~!@ 93 []\n",
      "93\n",
      "else~!!!!!!!@~!!@~!@ 93 []\n",
      "93\n",
      "else~!!!!!!!@~!!@~!@ 93 []\n",
      "93\n",
      "else~!!!!!!!@~!!@~!@ 93 []\n",
      "93\n",
      "else~!!!!!!!@~!!@~!@ 93 []\n",
      "93\n",
      "else~!!!!!!!@~!!@~!@ 93 []\n",
      "if 93 []\n",
      "if 30 []\n",
      "55\n",
      "else~!!!!!!!@~!!@~!@ 55 [2]\n",
      "55\n",
      "else~!!!!!!!@~!!@~!@ 55 [2]\n",
      "if 55 [2]\n",
      "[2, 1]\n"
     ]
    }
   ],
   "source": [
    "progresses = [93, 30, 55]\n",
    "speeds = [1, 30, 5]\n",
    "answer = []\n",
    "time, count = 0, 0\n",
    "while progresses:\n",
    "    if progresses[0] + time * speeds[0] >= 100:\n",
    "        # print(progresses[0])\n",
    "        count += 1\n",
    "        print(f'if {progresses[0]} {answer}')\n",
    "        progresses.pop(0)\n",
    "        speeds.pop(0)\n",
    "    else:\n",
    "        print(progresses[0])\n",
    "        if count != 0:\n",
    "            answer.append(count)\n",
    "            count = 0\n",
    "        time += 1\n",
    "        print(f'else~!!!!!!!@~!!@~!@ {progresses[0]} {answer}')\n",
    "        # print(answer)\n",
    "answer.append(count)\n",
    "print(answer)"
   ]
  },
  {
   "cell_type": "markdown",
   "metadata": {},
   "source": [
    "# Try 1\n",
    "* 그냥 문제에서 해본거 해보기"
   ]
  },
  {
   "cell_type": "code",
   "execution_count": 20,
   "metadata": {},
   "outputs": [
    {
     "name": "stdout",
     "output_type": "stream",
     "text": [
      "[(0, 7), (1, 2), (2, 9)]\n"
     ]
    }
   ],
   "source": [
    "progresses = [93, 30, 55]\n",
    "speeds = [1, 30, 5]\n",
    "dic = {}\n",
    "cnt = 0\n",
    "\n",
    "prcopy = progresses.copy()\n",
    "while len(dic)!= len(progresses):\n",
    "    for i in range(len(progresses)):\n",
    "        \n",
    "        if prcopy[i] > 100:\n",
    "            continue\n",
    "\n",
    "        elif prcopy[i] + speeds[i] > 100:\n",
    "            prcopy[i] = prcopy[i] + speeds[i]\n",
    "            dic[i] = cnt # key를 progresses[i]로도 해봤으나 이것보단 idx가 key인 것이 더 맞는 것 같음.\n",
    "\n",
    "        else:\n",
    "            prcopy[i] = prcopy[i] + speeds[i]\n",
    "        \n",
    "        # if len(dic) == len(progresses):\n",
    "        #     break\n",
    "        # break\n",
    "\n",
    "    # break\n",
    "    cnt+=1\n",
    "\n",
    "dic_srt = sorted(dic.items(), key = lambda x:x[0])\n",
    "print(dic_srt)"
   ]
  },
  {
   "cell_type": "code",
   "execution_count": 23,
   "metadata": {},
   "outputs": [
    {
     "name": "stdout",
     "output_type": "stream",
     "text": [
      "7\n",
      "2\n",
      "9\n"
     ]
    }
   ],
   "source": [
    "stack = []\n",
    "for i in range(len(dic_srt)):\n",
    "    # stack.append(dic_srt[i][1])\n",
    "    if i == 0 and dic_srt[i][1] == min(dic.values()):\n",
    "        stack.append(dic_srt[i][1])\n",
    "\n",
    "    else:\n",
    "        print(dic_srt[i][1])"
   ]
  },
  {
   "cell_type": "code",
   "execution_count": null,
   "metadata": {},
   "outputs": [],
   "source": []
  }
 ],
 "metadata": {
  "interpreter": {
   "hash": "2e5c6628eef985e7fd2fa2aad22c988c5b8aa1d2648cf9c51c543a2a2637c546"
  },
  "kernelspec": {
   "display_name": "Python 3.6.3 64-bit",
   "language": "python",
   "name": "python3"
  },
  "language_info": {
   "codemirror_mode": {
    "name": "ipython",
    "version": 3
   },
   "file_extension": ".py",
   "mimetype": "text/x-python",
   "name": "python",
   "nbconvert_exporter": "python",
   "pygments_lexer": "ipython3",
   "version": "3.6.3"
  },
  "orig_nbformat": 4
 },
 "nbformat": 4,
 "nbformat_minor": 2
}
