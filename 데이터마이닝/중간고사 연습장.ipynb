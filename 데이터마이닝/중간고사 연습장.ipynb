{
 "cells": [
  {
   "cell_type": "markdown",
   "metadata": {},
   "source": [
    "# 스택"
   ]
  },
  {
   "cell_type": "code",
   "execution_count": 38,
   "metadata": {},
   "outputs": [
    {
     "name": "stdout",
     "output_type": "stream",
     "text": [
      "[5, 2, 3, 1]\n"
     ]
    }
   ],
   "source": [
    "## 후입선출 이해\n",
    "stack = []\n",
    "\n",
    "stack.append(5)\n",
    "stack.append(2)\n",
    "stack.append(3)\n",
    "stack.append(7)\n",
    "stack.pop()\n",
    "stack.append(1)\n",
    "stack.append(4)\n",
    "stack.pop()\n",
    "\n",
    "print(stack)"
   ]
  },
  {
   "cell_type": "markdown",
   "metadata": {},
   "source": [
    "## 괄호가 모두 짝이 맞는지 결과 리턴"
   ]
  },
  {
   "cell_type": "code",
   "execution_count": null,
   "metadata": {},
   "outputs": [],
   "source": [
    "def is_valid_parentheses(s):\n",
    "    stack = [] # 스택에는 아직 짝 못찾은 열린괄호가 들어감.\n",
    "    table = {')':'(', '}':'{', ']':'['} # 짝 지어주기.\n",
    "\n",
    "    for char in s:\n",
    "        if char not in table: # 이럴 때 table에서 읽히는 건 key이다.\n",
    "            stack.append(char) # 열린 괄호는 stack에 기억하게 하기\n",
    "        elif not stack or table[char] != stack.pop():\n",
    "            return False\n",
    "    return len(stack) == 0\n",
    "\n",
    "\n",
    "print(is_valid_parentheses('{}[]()'))\n",
    "print(is_valid_parentheses('{}[()]'))\n",
    "\n",
    "print(is_valid_parentheses('{[()}]'))\n",
    "print(is_valid_parentheses('{]}'))"
   ]
  },
  {
   "cell_type": "code",
   "execution_count": 4,
   "metadata": {},
   "outputs": [
    {
     "name": "stdout",
     "output_type": "stream",
     "text": [
      ")\n",
      "}\n",
      "]\n"
     ]
    }
   ],
   "source": [
    "## dic에서 읽히는게 뭔지 확인\n",
    "table = {')':'(', '}':'{', ']':'['} # 짝 지어주기.\n",
    "\n",
    "# for char in '{}[]]}':\n",
    "#     if char not in table: # 이 경우, key로 확인.\n",
    "#         print(char)\n",
    "for a in table:\n",
    "    print(a)\n"
   ]
  },
  {
   "cell_type": "markdown",
   "metadata": {},
   "source": [
    "## 더 높은 온도가 되기까지 걸리는 시간"
   ]
  },
  {
   "cell_type": "markdown",
   "metadata": {},
   "source": [
    "### 온도가 아니라 온도의 인덱스가 들어가야함.\n",
    "~~온도가 더 높아지기 전까지의 온도가 저장됨. 더 높은 온도 나오면 빠지고 그 때 loop에서의 온도 (더 높았던 온도)가 들어감.~~ <br>\n"
   ]
  },
  {
   "cell_type": "code",
   "execution_count": 16,
   "metadata": {},
   "outputs": [
    {
     "name": "stdout",
     "output_type": "stream",
     "text": [
      "[1, 1, 1, 0]\n",
      "[1, 0, 1, 0]\n",
      "[0, 1, 0, 1, 0]\n"
     ]
    }
   ],
   "source": [
    "def temp(T):\n",
    "    stack = [] # 온도가 아니라 온도의 인덱스가 들어감.\n",
    "    answer = [0] * len(T) # 0으로 채워진 list 생성\n",
    "    for idx,j in enumerate(T):\n",
    "        if not stack or T[stack[-1]]>=j:\n",
    "            stack.append(idx)\n",
    "\n",
    "        else:\n",
    "            last = stack.pop()\n",
    "            answer[last] = idx-last\n",
    "            stack.append(idx)\n",
    "    return answer\n",
    "\n",
    "\n",
    "print(temp([1,2,3,4]))\n",
    "print(temp([1,2,1,4]))\n",
    "print(temp([5,2,3,2,4]))\n"
   ]
  },
  {
   "cell_type": "code",
   "execution_count": 35,
   "metadata": {},
   "outputs": [
    {
     "name": "stdout",
     "output_type": "stream",
     "text": [
      "[1, 2, 1, 0]\n"
     ]
    }
   ],
   "source": [
    "T = [1,2,1,4]\n",
    "ans = [0] * len(T)\n",
    "stack = [] # top(즉 stack[-1])에는 처리해야할 최저온도의 인덱스가 들어있다.\n",
    "for i, cur in enumerate(T):\n",
    "    while stack and cur > T[stack[-1]]: # 스택이 존재하고, 현재온도가 스택의 top일 때의 온도보다 크다면 다음 실행.\n",
    "        last = stack.pop()\n",
    "        \n",
    "        ans[last] = i - last # 온도가 차이나는 일 수를 last의 위치에 저장\n",
    "    stack.append(i)\n",
    "print(ans)\n"
   ]
  },
  {
   "cell_type": "markdown",
   "metadata": {},
   "source": [
    "# 큐"
   ]
  },
  {
   "cell_type": "code",
   "execution_count": 36,
   "metadata": {},
   "outputs": [
    {
     "name": "stdout",
     "output_type": "stream",
     "text": [
      "deque([3, 7, 1, 4])\n",
      "deque([4, 1, 7, 3])\n"
     ]
    }
   ],
   "source": [
    "## 선입선출 FIFO 이해\n",
    "from collections import deque\n",
    "\n",
    "queue = deque()\n",
    "\n",
    "queue.append(5)\n",
    "queue.append(2)\n",
    "queue.append(3)\n",
    "queue.append(7)\n",
    "queue.popleft()\n",
    "queue.append(1)\n",
    "queue.append(4)\n",
    "queue.popleft()\n",
    "\n",
    "print(queue)\n",
    "queue.reverse()\n",
    "print(queue)"
   ]
  },
  {
   "cell_type": "code",
   "execution_count": null,
   "metadata": {},
   "outputs": [],
   "source": []
  },
  {
   "cell_type": "markdown",
   "metadata": {},
   "source": [
    "# DFS\n",
    "깊이 우선 탐색"
   ]
  },
  {
   "cell_type": "markdown",
   "metadata": {},
   "source": [
    "## 번호가 낮은 인접 노드부터 모두..."
   ]
  },
  {
   "cell_type": "code",
   "execution_count": 2,
   "metadata": {},
   "outputs": [],
   "source": []
  },
  {
   "cell_type": "code",
   "execution_count": 5,
   "metadata": {},
   "outputs": [
    {
     "name": "stdout",
     "output_type": "stream",
     "text": [
      "1 2 7 6 8 3 4 5 "
     ]
    }
   ],
   "source": [
    "# DFS 메서드 정의\n",
    "def dfs(graph, v, visited): # v는 시작노드!\n",
    "    # 현재 노드를 방문 처리\n",
    "    visited[v] = True\n",
    "    print(v, end = ' ')\n",
    "\n",
    "    # 현재 노드와 연결된 다른 노드를 재귀적으로 방문\n",
    "    for i in graph[v]:\n",
    "        if not visited[i]: # 아,,, visited의 i번째가 없으면 이구나,,,,\n",
    "            dfs(graph, i, visited)\n",
    "\n",
    "\n",
    "graph_ = [\n",
    "    [],\n",
    "    [2,3,8],\n",
    "    [1,7],\n",
    "    [1,4,5],\n",
    "    [3,5],\n",
    "    [3,4],\n",
    "    [7],\n",
    "    [2,6,8],\n",
    "    [1,7]\n",
    "] # 각 인덱스를 노드로 보고 각 노드의 인접노드 리스트로 묶어두기\n",
    "\n",
    "visited_ = [False] * len(graph_)\n",
    "\n",
    "dfs(graph_, 1, visited_)"
   ]
  },
  {
   "cell_type": "code",
   "execution_count": null,
   "metadata": {},
   "outputs": [],
   "source": [
    "## try\n",
    "def visit(graph):\n",
    "    lst = [1] # 시작은 1이므로,,, 그냥 넣고 시작. 방문했다면 여기에 추가함으로써 방문처리 (인덱스가 노드 이름)\n",
    "    for i in range(len(graph)):\n",
    "        while i > 0:\n",
    "            # print(i, graph[i-1])\n",
    "            if i not in lst and i in graph[lst[-1]]:\n",
    "                lst.append(i)\n",
    "                print(f'i: {i}, min(graph[i]): {min(graph[i])}, lst: {lst}')\n",
    "            else:\n",
    "                visit(graph)\n",
    "                \n",
    "                \n",
    "            break"
   ]
  },
  {
   "cell_type": "markdown",
   "metadata": {},
   "source": [
    "## 음료수 얼려먹기: 문제 설명"
   ]
  },
  {
   "cell_type": "markdown",
   "metadata": {},
   "source": [
    "* map 문제는 범위 설정..! (벗어나는 순간break 거는 함수짜기.)\n",
    "* 동서남북... (x,y 좌표가 아닌 행렬로써의 이해)\n",
    "> 동 (오른쪽): (x, y+1) <br>\n",
    "> 서 (왼  쪽): (x, y-1) <br>\n",
    "> 남 (아래쪽): (x+1, y) <br>\n",
    "> 북 (위  쪽): (x-1, y) <br>\n"
   ]
  },
  {
   "cell_type": "code",
   "execution_count": 3,
   "metadata": {},
   "outputs": [],
   "source": [
    "lst =  [[0,0,1,1,0],\n",
    "        [0,0,0,1,1],\n",
    "        [1,1,1,1,1],\n",
    "        [0,0,0,0,0]]\n"
   ]
  },
  {
   "cell_type": "code",
   "execution_count": null,
   "metadata": {},
   "outputs": [],
   "source": [
    "def ice(N, M): # 세로: N, 가로: M\n",
    "    # 상하좌우 살피기\n",
    "    for i in range(N):\n",
    "        for j in range(M):\n",
    "            print(lst[i][j])\n"
   ]
  },
  {
   "cell_type": "code",
   "execution_count": 2,
   "metadata": {},
   "outputs": [
    {
     "name": "stdout",
     "output_type": "stream",
     "text": [
      "3\n"
     ]
    }
   ],
   "source": [
    "## DFS로 특정 노드 방문하고 연결된 모든 노드들도 방문\n",
    "def dfs(x,y):\n",
    "    # 주어진 범위를 벗어나는 경우에는 즉시 종료\n",
    "    if x < 0 or x >= n or y < 0 or y >= m:\n",
    "        return False\n",
    "    \n",
    "    # 현재노드를 아직 방문하지 않았다면 # == 얼음이면\n",
    "    if graph[x][y] == 0:\n",
    "        \n",
    "        # 해당노드 방문처리\n",
    "        graph[x][y] = 1\n",
    "\n",
    "        # 상하좌우의 위치들도 모두 재귀적으로 호출\n",
    "        dfs(x-1, y) # 상\n",
    "        dfs(x+1, y) # 하\n",
    "        dfs(x, y-1) # 좌\n",
    "        dfs(x, y+1) # 우\n",
    "        return True # 얼음 찾았다\n",
    "    return False # 얼음 못찾았다\n",
    "\n",
    "\n",
    "# n, m을 공백을 기준으로 구분하여 입력받기\n",
    "n, m = map(int, input().split()) # n, m 따로따로 입력\n",
    "\n",
    "# 2차원 리스트의 맵 정보 입력받기\n",
    "graph = []\n",
    "for i in range(n):\n",
    "    graph.append(list(map(int, input()))) # graph 넋놓고 보지 말고... 한 줄씩 입력,,,\n",
    "\n",
    "# 모든 노드(위치)에 대해 음료수 채우기\n",
    "result = 0\n",
    "for i in range(n): # 모든 칸에 대해 DFS 다 돌리기\n",
    "    for j in range(m):\n",
    "\n",
    "        # 현재 위치에서 DFS 수행\n",
    "        if dfs(i,j) == True: # 얼음 발견했으면\n",
    "            result += 1\n",
    "\n",
    "print(result)"
   ]
  },
  {
   "cell_type": "code",
   "execution_count": null,
   "metadata": {},
   "outputs": [],
   "source": [
    "\n",
    "# N = 4\n",
    "# M = 5\n",
    "# visit = 0\n",
    "# for i in range(N): # 행\n",
    "#     for j in range(M): # 열\n",
    "#         # 현재\n",
    "#         print(f'{i},{j}: {lst[i][j]}')\n",
    "        \n",
    "#         if i < 0 or j < 0 or i >= N or j >= M: # 범위 외일 때\n",
    "#             print('False')\n",
    "\n",
    "#         elif lst[i][j] == 0:\n",
    "#             visit += 1\n",
    "#             # 상\n",
    "#             print(f'{i}상: {lst[i-1][j]}')\n",
    "#             # 하\n",
    "#             print(f'하: {lst[i+1][j]}')\n",
    "#             # 좌\n",
    "#             print(f'좌: {lst[i][j-1]}')\n",
    "#             # 우\n",
    "#             print(f'{i}우: {lst[i][j+1]}')\n",
    "\n",
    "#         # if lst[i][j] == 1:\n",
    "#         #     visit += 1"
   ]
  },
  {
   "cell_type": "code",
   "execution_count": 49,
   "metadata": {},
   "outputs": [
    {
     "name": "stdout",
     "output_type": "stream",
     "text": [
      "0,0: 0\n",
      "좌: 0\n",
      "0우: 0\n",
      "0,1: 0\n",
      "좌: 0\n",
      "0우: 1\n",
      "0,2: 1\n",
      "좌: 0\n",
      "0우: 1\n",
      "0,3: 1\n",
      "좌: 1\n",
      "0우: 0\n",
      "0,4: 0\n",
      "1,0: 0\n",
      "좌: 1\n",
      "1우: 0\n",
      "1,1: 0\n",
      "1상: 0\n",
      "하: 1\n",
      "1,2: 0\n",
      "1상: 1\n",
      "하: 1\n",
      "1,3: 1\n",
      "1상: 1\n",
      "하: 1\n",
      "1,4: 1\n",
      "1상: 0\n",
      "하: 1\n",
      "2,0: 1\n",
      "좌: 1\n",
      "2우: 1\n",
      "2,1: 1\n",
      "2상: 0\n",
      "하: 0\n",
      "2,2: 1\n",
      "2상: 0\n",
      "하: 0\n",
      "2,3: 1\n",
      "2상: 1\n",
      "하: 0\n",
      "2,4: 1\n",
      "2상: 1\n",
      "하: 0\n",
      "3,0: 0\n",
      "3,1: 0\n",
      "3상: 1\n"
     ]
    },
    {
     "ename": "IndexError",
     "evalue": "list index out of range",
     "output_type": "error",
     "traceback": [
      "\u001b[1;31m---------------------------------------------------------------------------\u001b[0m",
      "\u001b[1;31mIndexError\u001b[0m                                Traceback (most recent call last)",
      "\u001b[1;32m<ipython-input-49-2807b880d9b5>\u001b[0m in \u001b[0;36m<module>\u001b[1;34m\u001b[0m\n\u001b[0;32m      9\u001b[0m             \u001b[0mprint\u001b[0m\u001b[1;33m(\u001b[0m\u001b[1;34mf'{i}상: {lst[i-1][j]}'\u001b[0m\u001b[1;33m)\u001b[0m\u001b[1;33m\u001b[0m\u001b[1;33m\u001b[0m\u001b[0m\n\u001b[0;32m     10\u001b[0m             \u001b[1;31m# 하\u001b[0m\u001b[1;33m\u001b[0m\u001b[1;33m\u001b[0m\u001b[1;33m\u001b[0m\u001b[0m\n\u001b[1;32m---> 11\u001b[1;33m             \u001b[0mprint\u001b[0m\u001b[1;33m(\u001b[0m\u001b[1;34mf'하: {lst[i+1][j]}'\u001b[0m\u001b[1;33m)\u001b[0m\u001b[1;33m\u001b[0m\u001b[1;33m\u001b[0m\u001b[0m\n\u001b[0m\u001b[0;32m     12\u001b[0m         \u001b[1;32melif\u001b[0m  \u001b[0mi\u001b[0m\u001b[1;33m+\u001b[0m\u001b[1;36m1\u001b[0m \u001b[1;33m<\u001b[0m \u001b[0mN\u001b[0m \u001b[1;32mand\u001b[0m \u001b[0mj\u001b[0m\u001b[1;33m+\u001b[0m\u001b[1;36m1\u001b[0m \u001b[1;33m<\u001b[0m \u001b[0mM\u001b[0m\u001b[1;33m:\u001b[0m\u001b[1;33m\u001b[0m\u001b[1;33m\u001b[0m\u001b[0m\n\u001b[0;32m     13\u001b[0m             \u001b[1;31m# 좌\u001b[0m\u001b[1;33m\u001b[0m\u001b[1;33m\u001b[0m\u001b[1;33m\u001b[0m\u001b[0m\n",
      "\u001b[1;31mIndexError\u001b[0m: list index out of range"
     ]
    }
   ],
   "source": [
    "## Try1\n",
    "N = 4\n",
    "M = 5\n",
    "for i in range(N): # 행\n",
    "    for j in range(M): # 열\n",
    "        # 현재\n",
    "        print(f'{i},{j}: {lst[i][j]}')\n",
    "\n",
    "        if lst[i][j] == 1:\n",
    "            visit += 1\n",
    "        \n",
    "        elif i-1 >= 0 and j-1 >= 0: # 범위이내일 때\n",
    "            # 상\n",
    "            print(f'{i}상: {lst[i-1][j]}')\n",
    "            # 하\n",
    "            print(f'하: {lst[i+1][j]}')\n",
    "        elif  i+1 < N and j+1 < M:\n",
    "            # 좌\n",
    "            print(f'좌: {lst[i][j-1]}')\n",
    "            # 우\n",
    "            print(f'{i}우: {lst[i][j+1]}')\n",
    "            \n",
    "        # break\n",
    "\n",
    "        if lst[i][j] == 1:\n",
    "            visit += 1"
   ]
  },
  {
   "cell_type": "code",
   "execution_count": 26,
   "metadata": {},
   "outputs": [
    {
     "name": "stdout",
     "output_type": "stream",
     "text": [
      "0 0 1 1 0 \n",
      "0 0 0 1 1 \n",
      "1 1 1 1 1 \n",
      "0 0 0 0 0 \n"
     ]
    }
   ],
   "source": [
    "## 행렬 읽기\n",
    "N = 4\n",
    "M = 5\n",
    "for i in range(N):\n",
    "    for j in range(M):\n",
    "        print(lst[i][j], end = ' ')\n",
    "    print('')"
   ]
  }
 ],
 "metadata": {
  "interpreter": {
   "hash": "e4cfef919f511c0e3a05919ed86dab4fa959f970f2723dae87eeb918be14f5f0"
  },
  "kernelspec": {
   "display_name": "Python 3.8.8 ('base')",
   "language": "python",
   "name": "python3"
  },
  "language_info": {
   "codemirror_mode": {
    "name": "ipython",
    "version": 3
   },
   "file_extension": ".py",
   "mimetype": "text/x-python",
   "name": "python",
   "nbconvert_exporter": "python",
   "pygments_lexer": "ipython3",
   "version": "3.8.8"
  },
  "orig_nbformat": 4
 },
 "nbformat": 4,
 "nbformat_minor": 2
}
