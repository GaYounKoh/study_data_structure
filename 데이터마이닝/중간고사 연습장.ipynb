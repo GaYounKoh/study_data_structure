{
 "cells": [
  {
   "cell_type": "markdown",
   "metadata": {},
   "source": [
    "# 스택"
   ]
  },
  {
   "cell_type": "code",
   "execution_count": 38,
   "metadata": {},
   "outputs": [
    {
     "name": "stdout",
     "output_type": "stream",
     "text": [
      "[5, 2, 3, 1]\n"
     ]
    }
   ],
   "source": [
    "## 후입선출 이해\n",
    "stack = []\n",
    "\n",
    "stack.append(5)\n",
    "stack.append(2)\n",
    "stack.append(3)\n",
    "stack.append(7)\n",
    "stack.pop()\n",
    "stack.append(1)\n",
    "stack.append(4)\n",
    "stack.pop()\n",
    "\n",
    "print(stack)"
   ]
  },
  {
   "cell_type": "markdown",
   "metadata": {},
   "source": [
    "## 괄호가 모두 짝이 맞는지 결과 리턴"
   ]
  },
  {
   "cell_type": "code",
   "execution_count": null,
   "metadata": {},
   "outputs": [],
   "source": [
    "def is_valid_parentheses(s):\n",
    "    stack = [] # 스택에는 아직 짝 못찾은 열린괄호가 들어감.\n",
    "    table = {')':'(', '}':'{', ']':'['} # 짝 지어주기.\n",
    "\n",
    "    for char in s:\n",
    "        if char not in table: # 이럴 때 table에서 읽히는 건 key이다.\n",
    "            stack.append(char) # 열린 괄호는 stack에 기억하게 하기\n",
    "        elif not stack or table[char] != stack.pop():\n",
    "            return False\n",
    "    return len(stack) == 0\n",
    "\n",
    "\n",
    "print(is_valid_parentheses('{}[]()'))\n",
    "print(is_valid_parentheses('{}[()]'))\n",
    "\n",
    "print(is_valid_parentheses('{[()}]'))\n",
    "print(is_valid_parentheses('{]}'))"
   ]
  },
  {
   "cell_type": "code",
   "execution_count": 4,
   "metadata": {},
   "outputs": [
    {
     "name": "stdout",
     "output_type": "stream",
     "text": [
      ")\n",
      "}\n",
      "]\n"
     ]
    }
   ],
   "source": [
    "## dic에서 읽히는게 뭔지 확인\n",
    "table = {')':'(', '}':'{', ']':'['} # 짝 지어주기.\n",
    "\n",
    "# for char in '{}[]]}':\n",
    "#     if char not in table: # 이 경우, key로 확인.\n",
    "#         print(char)\n",
    "for a in table:\n",
    "    print(a)\n"
   ]
  },
  {
   "cell_type": "markdown",
   "metadata": {},
   "source": [
    "## 더 높은 온도가 되기까지 걸리는 시간"
   ]
  },
  {
   "cell_type": "markdown",
   "metadata": {},
   "source": [
    "### 온도가 아니라 온도의 인덱스가 들어가야함.\n",
    "~~온도가 더 높아지기 전까지의 온도가 저장됨. 더 높은 온도 나오면 빠지고 그 때 loop에서의 온도 (더 높았던 온도)가 들어감.~~ <br>\n"
   ]
  },
  {
   "cell_type": "code",
   "execution_count": 16,
   "metadata": {},
   "outputs": [
    {
     "name": "stdout",
     "output_type": "stream",
     "text": [
      "[1, 1, 1, 0]\n",
      "[1, 0, 1, 0]\n",
      "[0, 1, 0, 1, 0]\n"
     ]
    }
   ],
   "source": [
    "def temp(T):\n",
    "    stack = [] # 온도가 아니라 온도의 인덱스가 들어감.\n",
    "    answer = [0] * len(T) # 0으로 채워진 list 생성\n",
    "    for idx,j in enumerate(T):\n",
    "        if not stack or T[stack[-1]]>=j:\n",
    "            stack.append(idx)\n",
    "\n",
    "        else:\n",
    "            last = stack.pop()\n",
    "            answer[last] = idx-last\n",
    "            stack.append(idx)\n",
    "    return answer\n",
    "\n",
    "\n",
    "print(temp([1,2,3,4]))\n",
    "print(temp([1,2,1,4]))\n",
    "print(temp([5,2,3,2,4]))\n"
   ]
  },
  {
   "cell_type": "code",
   "execution_count": 35,
   "metadata": {},
   "outputs": [
    {
     "name": "stdout",
     "output_type": "stream",
     "text": [
      "[1, 2, 1, 0]\n"
     ]
    }
   ],
   "source": [
    "T = [1,2,1,4]\n",
    "ans = [0] * len(T)\n",
    "stack = [] # top(즉 stack[-1])에는 처리해야할 최저온도의 인덱스가 들어있다.\n",
    "for i, cur in enumerate(T):\n",
    "    while stack and cur > T[stack[-1]]: # 스택이 존재하고, 현재온도가 스택의 top일 때의 온도보다 크다면 다음 실행.\n",
    "        last = stack.pop()\n",
    "        \n",
    "        ans[last] = i - last # 온도가 차이나는 일 수를 last의 위치에 저장\n",
    "    stack.append(i)\n",
    "print(ans)\n"
   ]
  },
  {
   "cell_type": "markdown",
   "metadata": {},
   "source": [
    "# 큐"
   ]
  },
  {
   "cell_type": "code",
   "execution_count": 36,
   "metadata": {},
   "outputs": [
    {
     "name": "stdout",
     "output_type": "stream",
     "text": [
      "deque([3, 7, 1, 4])\n",
      "deque([4, 1, 7, 3])\n"
     ]
    }
   ],
   "source": [
    "## 선입선출 FIFO 이해\n",
    "from collections import deque\n",
    "\n",
    "queue = deque()\n",
    "\n",
    "queue.append(5)\n",
    "queue.append(2)\n",
    "queue.append(3)\n",
    "queue.append(7)\n",
    "queue.popleft()\n",
    "queue.append(1)\n",
    "queue.append(4)\n",
    "queue.popleft()\n",
    "\n",
    "print(queue)\n",
    "queue.reverse()\n",
    "print(queue)"
   ]
  },
  {
   "cell_type": "code",
   "execution_count": null,
   "metadata": {},
   "outputs": [],
   "source": []
  }
 ],
 "metadata": {
  "interpreter": {
   "hash": "e4cfef919f511c0e3a05919ed86dab4fa959f970f2723dae87eeb918be14f5f0"
  },
  "kernelspec": {
   "display_name": "Python 3.8.8 ('base')",
   "language": "python",
   "name": "python3"
  },
  "language_info": {
   "codemirror_mode": {
    "name": "ipython",
    "version": 3
   },
   "file_extension": ".py",
   "mimetype": "text/x-python",
   "name": "python",
   "nbconvert_exporter": "python",
   "pygments_lexer": "ipython3",
   "version": "3.8.8"
  },
  "orig_nbformat": 4
 },
 "nbformat": 4,
 "nbformat_minor": 2
}
