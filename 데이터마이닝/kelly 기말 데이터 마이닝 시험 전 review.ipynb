{
 "cells": [
  {
   "cell_type": "markdown",
   "id": "995ee34e",
   "metadata": {},
   "source": [
    "## 8-2. radix sort\n",
    "### counting_sort_by_digit(array, digit)\n",
    "특정 자릿수(digit)에 위치한 정수(num의 digit 자릿수의 정수)를 리턴해서 count의 그 자리에 +=1 하기. <br>\n",
    "count 생성시 base를 곱해준 이유는 특정 자릿수로 가능한 정수가 맨 왼쪽 자릿수가 아닌 이상 0~9까지 10개이기 때문일 것으로 판단. <br>\n",
    "\n",
    "count 다 생성 후 누적개수로 count 리스트 update. <br>\n",
    "누적개수는 왜 구하는 것인지 모르겠음. <br>\n",
    ">    ==> 다음 for문에서 results 업데이트에 이용하기 위해<br>\n",
    "results의 count의 get_digit_num의 위치에 arr의 i번째 숫자를 넣어줌. <br>\n",
    ">    아 results에서 나머지 자릿수의 정렬 여부는 상관 없음. 오직 10의 자릿수만 신경 쓰면 됨. <br>\n",
    "\n",
    "results는 정렬 결과 받는 list변수이므로 처음에 입력받는 arr와 길이 같아야함. <br>\n",
    "\n",
    "\n",
    "### get_digit_number(num, digit)\n",
    "num과 digit으로 123의 10의 자릿수를 리턴하려면 <br>\n",
    "123을 10의 1제곱으로 나눈 몫 = 12 <br>\n",
    "을 10으로 나눈 나머지 = 2 <br>\n",
    "\n",
    "### radix_sort(array)\n",
    "max_digit (최대 자릿수) 설정해주고 <br>\n",
    "1부터 max_digit까지 for loop 돌려서 (range(1, max_digit+1)) <br>\n",
    ">    arr를 counting_sort_by_digit 함수로 update (입력 arr, 해당 loop의 value(자릿수)) <br>\n",
    ">    하고 arr 하나씩 순서대로 출력 <br>\n",
    "\n",
    "return arr"
   ]
  },
  {
   "cell_type": "code",
   "execution_count": 3,
   "id": "9fd11e12",
   "metadata": {},
   "outputs": [
    {
     "name": "stdout",
     "output_type": "stream",
     "text": [
      "1 0\n",
      "2 1\n",
      "3 2\n",
      "4 3\n",
      "5 4\n",
      "6 5\n",
      "7 6\n",
      "8 7\n",
      "9 8\n"
     ]
    }
   ],
   "source": [
    "for i in range(10-1):\n",
    "    print(i+1, i)"
   ]
  },
  {
   "cell_type": "code",
   "execution_count": 4,
   "id": "9ba6476c",
   "metadata": {},
   "outputs": [],
   "source": [
    "def get_digit_number(num, digit): # 특정 자리수에 위치한 정수를 리턴하는 함수 # 특히 이해해야함!! 자리수를 리턴하는 함수!!\n",
    "    return (num // (base ** (digit - 1))) % base\n",
    "num과 digit으로 123의 10의 자릿수를 리턴하려면\n",
    "123을 10의 1제곱으로 나눈 몫 = 12\n",
    "을 10으로 나눈 나머지 = 2"
   ]
  },
  {
   "cell_type": "code",
   "execution_count": 6,
   "id": "a7775fa6",
   "metadata": {},
   "outputs": [
    {
     "name": "stdout",
     "output_type": "stream",
     "text": [
      "2\n"
     ]
    }
   ],
   "source": [
    "num = 123\n",
    "digit = 2\n",
    "base = 10\n",
    "\n",
    "print(get_digit_number(num, digit))"
   ]
  },
  {
   "cell_type": "code",
   "execution_count": 29,
   "id": "ae78e1fa",
   "metadata": {},
   "outputs": [],
   "source": [
    "def counting_sort_by_digit(array, digit): # 예, digit == 2 -> 10의 자리를 기준으로 정렬\n",
    "    base = 10 # 10진법\n",
    "\n",
    "    def get_digit_number(num, digit): # 특정 자리수에 위치한 정수를 리턴하는 함수 # 특히 이해해야함!! 자리수를 리턴하는 함수!!\n",
    "        return (num // (base ** (digit - 1))) % base\n",
    "\n",
    "    results = [None] * len(array)\n",
    "    count = [0] * base\n",
    "\n",
    "    for i in range(len(array)): # 개수 구하기\n",
    "        count[get_digit_number(array[i], digit)] += 1\n",
    "        print('개수 count:', count)\n",
    "   \n",
    "    for i in range(base-1): # 누적 개수 구하기\n",
    "        count[i+1] += count[i]\n",
    "        print('누적개수 count:', count)\n",
    "\n",
    "    for i in reversed(range(len(array))):\n",
    "        count[get_digit_number(array[i], digit)] -= 1 # 누적개수니까\n",
    "        print('arr i', array[i])\n",
    "        print(get_digit_number(array[i], digit))\n",
    "        print('count:', count)\n",
    "        print('count[get_digit_num]', count[get_digit_number(array[i], digit)])\n",
    "        results[count[get_digit_number(array[i], digit)]] = array[i]\n",
    "        print(results)\n",
    "    \n",
    "    return results"
   ]
  },
  {
   "cell_type": "code",
   "execution_count": 30,
   "id": "470a9c87",
   "metadata": {},
   "outputs": [],
   "source": [
    "data = [123, 401, 210, 113, 124, 784, 296, 472, 882, 251, 902, 943]\n",
    "# print(radix_sort(data))"
   ]
  },
  {
   "cell_type": "code",
   "execution_count": 31,
   "id": "291fda73",
   "metadata": {},
   "outputs": [
    {
     "name": "stdout",
     "output_type": "stream",
     "text": [
      "개수 count: [0, 0, 1, 0, 0, 0, 0, 0, 0, 0]\n",
      "개수 count: [1, 0, 1, 0, 0, 0, 0, 0, 0, 0]\n",
      "개수 count: [1, 1, 1, 0, 0, 0, 0, 0, 0, 0]\n",
      "개수 count: [1, 2, 1, 0, 0, 0, 0, 0, 0, 0]\n",
      "개수 count: [1, 2, 2, 0, 0, 0, 0, 0, 0, 0]\n",
      "개수 count: [1, 2, 2, 0, 0, 0, 0, 0, 1, 0]\n",
      "개수 count: [1, 2, 2, 0, 0, 0, 0, 0, 1, 1]\n",
      "개수 count: [1, 2, 2, 0, 0, 0, 0, 1, 1, 1]\n",
      "개수 count: [1, 2, 2, 0, 0, 0, 0, 1, 2, 1]\n",
      "개수 count: [1, 2, 2, 0, 0, 1, 0, 1, 2, 1]\n",
      "개수 count: [2, 2, 2, 0, 0, 1, 0, 1, 2, 1]\n",
      "개수 count: [2, 2, 2, 0, 1, 1, 0, 1, 2, 1]\n",
      "누적개수 count: [2, 4, 2, 0, 1, 1, 0, 1, 2, 1]\n",
      "누적개수 count: [2, 4, 6, 0, 1, 1, 0, 1, 2, 1]\n",
      "누적개수 count: [2, 4, 6, 6, 1, 1, 0, 1, 2, 1]\n",
      "누적개수 count: [2, 4, 6, 6, 7, 1, 0, 1, 2, 1]\n",
      "누적개수 count: [2, 4, 6, 6, 7, 8, 0, 1, 2, 1]\n",
      "누적개수 count: [2, 4, 6, 6, 7, 8, 8, 1, 2, 1]\n",
      "누적개수 count: [2, 4, 6, 6, 7, 8, 8, 9, 2, 1]\n",
      "누적개수 count: [2, 4, 6, 6, 7, 8, 8, 9, 11, 1]\n",
      "누적개수 count: [2, 4, 6, 6, 7, 8, 8, 9, 11, 12]\n",
      "arr i 943\n",
      "4\n",
      "count: [2, 4, 6, 6, 6, 8, 8, 9, 11, 12]\n",
      "count[get_digit_num] 6\n",
      "[None, None, None, None, None, None, 943, None, None, None, None, None]\n",
      "arr i 902\n",
      "0\n",
      "count: [1, 4, 6, 6, 6, 8, 8, 9, 11, 12]\n",
      "count[get_digit_num] 1\n",
      "[None, 902, None, None, None, None, 943, None, None, None, None, None]\n",
      "arr i 251\n",
      "5\n",
      "count: [1, 4, 6, 6, 6, 7, 8, 9, 11, 12]\n",
      "count[get_digit_num] 7\n",
      "[None, 902, None, None, None, None, 943, 251, None, None, None, None]\n",
      "arr i 882\n",
      "8\n",
      "count: [1, 4, 6, 6, 6, 7, 8, 9, 10, 12]\n",
      "count[get_digit_num] 10\n",
      "[None, 902, None, None, None, None, 943, 251, None, None, 882, None]\n",
      "arr i 472\n",
      "7\n",
      "count: [1, 4, 6, 6, 6, 7, 8, 8, 10, 12]\n",
      "count[get_digit_num] 8\n",
      "[None, 902, None, None, None, None, 943, 251, 472, None, 882, None]\n",
      "arr i 296\n",
      "9\n",
      "count: [1, 4, 6, 6, 6, 7, 8, 8, 10, 11]\n",
      "count[get_digit_num] 11\n",
      "[None, 902, None, None, None, None, 943, 251, 472, None, 882, 296]\n",
      "arr i 784\n",
      "8\n",
      "count: [1, 4, 6, 6, 6, 7, 8, 8, 9, 11]\n",
      "count[get_digit_num] 9\n",
      "[None, 902, None, None, None, None, 943, 251, 472, 784, 882, 296]\n",
      "arr i 124\n",
      "2\n",
      "count: [1, 4, 5, 6, 6, 7, 8, 8, 9, 11]\n",
      "count[get_digit_num] 5\n",
      "[None, 902, None, None, None, 124, 943, 251, 472, 784, 882, 296]\n",
      "arr i 113\n",
      "1\n",
      "count: [1, 3, 5, 6, 6, 7, 8, 8, 9, 11]\n",
      "count[get_digit_num] 3\n",
      "[None, 902, None, 113, None, 124, 943, 251, 472, 784, 882, 296]\n",
      "arr i 210\n",
      "1\n",
      "count: [1, 2, 5, 6, 6, 7, 8, 8, 9, 11]\n",
      "count[get_digit_num] 2\n",
      "[None, 902, 210, 113, None, 124, 943, 251, 472, 784, 882, 296]\n",
      "arr i 401\n",
      "0\n",
      "count: [0, 2, 5, 6, 6, 7, 8, 8, 9, 11]\n",
      "count[get_digit_num] 0\n",
      "[401, 902, 210, 113, None, 124, 943, 251, 472, 784, 882, 296]\n",
      "arr i 123\n",
      "2\n",
      "count: [0, 2, 4, 6, 6, 7, 8, 8, 9, 11]\n",
      "count[get_digit_num] 4\n",
      "[401, 902, 210, 113, 123, 124, 943, 251, 472, 784, 882, 296]\n"
     ]
    },
    {
     "data": {
      "text/plain": [
       "[401, 902, 210, 113, 123, 124, 943, 251, 472, 784, 882, 296]"
      ]
     },
     "execution_count": 31,
     "metadata": {},
     "output_type": "execute_result"
    }
   ],
   "source": [
    "counting_sort_by_digit(data, digit)"
   ]
  },
  {
   "cell_type": "markdown",
   "id": "e35fab5c",
   "metadata": {},
   "source": [
    "# 9 dynamic programming"
   ]
  },
  {
   "cell_type": "markdown",
   "id": "f0c9f581",
   "metadata": {},
   "source": [
    "## 9-1. 바텀업 방식(dp 테이블)으로 피보나치 수열의 항을 구하는 함수 작성\n",
    "- <입력 파라미터> <br>\n",
    "    - x: 피보나치 수열의 항 번호 <br>\n",
    "\n",
    "- <리턴> <br>\n",
    "    - 피보나치 수열의 항 값 <br>\n",
    "\n",
    "***결과***\n",
    "```\n",
    "2\n",
    "3\n",
    "9227456\n",
    "```"
   ]
  },
  {
   "cell_type": "markdown",
   "id": "9876fe7a",
   "metadata": {},
   "source": [
    "피보나치 수열은 앞선 두 개 항을 더하는 것임. <br>\n",
    "0 번째 항 값: 0 <br>\n",
    "1 번째 항 값: 1 <br>\n",
    "2 번째 항 값: 0+1 == 1임. <br>\n",
    "-----------------------------> 여기까지는 정해주면 됨. <br>\n",
    "\n",
    "\n",
    "dp 테이블로는 [0]* (x+1)까지의 리스트를 만들어 놔야함. <br>\n",
    ">    왜냐면 len은 최대 idx -1이기 때문 <br>\n",
    ">    len이 4이면 최대 idx는 3임 ([0,1,2,3]) <br>\n",
    "\n",
    "==> dp테이블의 3번째 항을 구하기 위해서는 4개의 길이가 필요함. <br>"
   ]
  },
  {
   "cell_type": "markdown",
   "id": "d122ceae",
   "metadata": {},
   "source": [
    "## 9-2. 1로 만들기 (최소 연산 횟수)\n",
    "정수 n이 주어졌을 때, 정수 n에 사용할 수 있는 연산은 다음의 4가지 <br>\n",
    "n이 5로 나누어 떨어지면 //5 <br>\n",
    "n이 3으로 나누어 떨어지면 //3 <br>\n",
    "n이 2로 나누어 떨어지면 //2 <br>\n",
    "n에서 -1 <br>\n",
    "\n",
    "- <입력 parameter> <br>\n",
    "n: 정수 (1 <= n <= 3_0000) <br>\n",
    "- <리턴> <br>\n",
    "연산을 하는 횟수의 최솟값 <br>\n",
    "    \n",
    "***결과***\n",
    "```\n",
    "3\n",
    "6\n",
    "```"
   ]
  },
  {
   "cell_type": "code",
   "execution_count": 37,
   "id": "76818bdc",
   "metadata": {},
   "outputs": [
    {
     "name": "stdout",
     "output_type": "stream",
     "text": [
      "2 [0, 0]\n",
      "3 [1, 0]\n",
      "4 [1, 1]\n",
      "5 [2, 0]\n",
      "6 [1, 1, 1]\n",
      "7 [2]\n",
      "8 [3, 2]\n",
      "9 [3, 1]\n",
      "10 [2, 1, 1]\n",
      "11 [2]\n",
      "12 [3, 2, 2]\n",
      "13 [3]\n",
      "14 [4, 3]\n",
      "15 [4, 1, 1]\n",
      "16 [2, 3]\n",
      "17 [3]\n",
      "18 [4, 2, 2]\n",
      "19 [3]\n",
      "20 [4, 2, 2]\n",
      "21 [3, 3]\n",
      "22 [4, 3]\n",
      "23 [4]\n",
      "24 [5, 3, 3]\n",
      "25 [4, 1]\n",
      "26 [2, 4]\n",
      "~~~~~~~~~~~~~~~~~~~~~~~~~~~~~~ 3\n",
      "2 [0, 0]\n",
      "3 [1, 0]\n",
      "4 [1, 1]\n",
      "5 [2, 0]\n",
      "6 [1, 1, 1]\n",
      "7 [2]\n",
      "8 [3, 2]\n",
      "9 [3, 1]\n",
      "10 [2, 1, 1]\n",
      "11 [2]\n",
      "12 [3, 2, 2]\n",
      "13 [3]\n",
      "14 [4, 3]\n",
      "15 [4, 1, 1]\n",
      "16 [2, 3]\n",
      "17 [3]\n",
      "18 [4, 2, 2]\n",
      "19 [3]\n",
      "20 [4, 2, 2]\n",
      "21 [3, 3]\n",
      "22 [4, 3]\n",
      "23 [4]\n",
      "24 [5, 3, 3]\n",
      "25 [4, 1]\n",
      "26 [2, 4]\n",
      "27 [3, 2]\n",
      "28 [3, 4]\n",
      "29 [4]\n",
      "30 [5, 2, 2, 2]\n",
      "31 [3]\n",
      "32 [4, 3]\n",
      "33 [4, 3]\n",
      "34 [4, 4]\n",
      "35 [5, 3]\n",
      "36 [4, 3, 3]\n",
      "37 [4]\n",
      "38 [5, 4]\n",
      "39 [5, 4]\n",
      "40 [5, 3, 3]\n",
      "41 [4]\n",
      "42 [5, 4, 4]\n",
      "43 [5]\n",
      "44 [6, 4]\n",
      "45 [5, 2, 2]\n",
      "46 [3, 5]\n",
      "47 [4]\n",
      "48 [5, 4, 3]\n",
      "49 [4]\n",
      "50 [5, 2, 2]\n",
      "51 [3, 4]\n",
      "52 [4, 3]\n",
      "53 [4]\n",
      "54 [5, 3, 3]\n",
      "55 [4, 3]\n",
      "56 [4, 4]\n",
      "57 [5, 4]\n",
      "58 [5, 5]\n",
      "59 [6]\n",
      "60 [7, 3, 3, 3]\n",
      "61 [4]\n",
      "62 [5, 4]\n",
      "63 [5, 4]\n",
      "64 [5, 4]\n",
      "65 [5, 4]\n",
      "66 [5, 4, 4]\n",
      "67 [5]\n",
      "68 [6, 5]\n",
      "69 [6, 5]\n",
      "70 [6, 4, 4]\n",
      "71 [5]\n",
      "72 [6, 4, 4]\n",
      "73 [5]\n",
      "74 [6, 5]\n",
      "75 [6, 2, 2]\n",
      "76 [3, 5]\n",
      "77 [4]\n",
      "78 [5, 5, 3]\n",
      "79 [4]\n",
      "80 [5, 4, 3]\n",
      "81 [4, 3]\n",
      "82 [4, 5]\n",
      "83 [5]\n",
      "84 [6, 5, 4]\n",
      "85 [5, 4]\n",
      "86 [5, 6]\n",
      "87 [6, 5]\n",
      "88 [6, 5]\n",
      "89 [6]\n",
      "90 [7, 3, 3, 3]\n",
      "91 [4]\n",
      "92 [5, 4]\n",
      "93 [5, 4]\n",
      "94 [5, 5]\n",
      "95 [6, 4]\n",
      "96 [5, 4, 4]\n",
      "97 [5]\n",
      "98 [6, 5]\n",
      "99 [6, 4]\n",
      "100 [5, 3, 3]\n",
      "101 [4]\n",
      "102 [5, 4, 5]\n",
      "103 [5]\n",
      "104 [6, 4]\n",
      "105 [5, 4, 4]\n",
      "106 [5, 5]\n",
      "107 [6]\n",
      "108 [7, 4, 4]\n",
      "109 [5]\n",
      "110 [6, 4, 4]\n",
      "111 [5, 5]\n",
      "6\n"
     ]
    }
   ],
   "source": [
    "def make_one(n):\n",
    "    d = [0]*(n+1) # 파이썬의 n+1번째가 인간의 n번째이므로\n",
    "    \n",
    "    for i in range(2, n+1): # 1번째 검사를 안하는 이유는 1번째 값이 1이므로 검사를 할 필요가 없기 때문. (1번째 검사를 하지 않고 min(c)하고 +1을 해준다.)\n",
    "        c = [d[i-1]] # -1한 결과는 append한 상태로 list_c update\n",
    "        \n",
    "        for j in [2,3,5]:\n",
    "            if i % j == 0: # 나누어 떨어지는 경우 list_c update\n",
    "                c.append(d[i//j])\n",
    "        print(i, c)\n",
    "        d[i] = min(c) + 1 # dp테이블의 i번째 update 후 다음 dp 테이블 원소 검사\n",
    "    return d[n]\n",
    "print('~~~~~~~~~~~~~~~~~~~~~~~~~~~~~~', make_one(26))\n",
    "print(make_one(111))"
   ]
  },
  {
   "cell_type": "markdown",
   "id": "cdfef060",
   "metadata": {},
   "source": [
    "# 10강 DP 2"
   ]
  },
  {
   "cell_type": "markdown",
   "id": "118c8a5b",
   "metadata": {},
   "source": [
    "## 10-1. 최소 화폐 개수\n",
    "여러 종류의 화폐가 있다. <br>\n",
    "이 화폐들의 개수를 최소한으로 이용해서 그 가치의 합이 amount원이 되도록 하려고 한다. <br>\n",
    "이 때 각 종류의 화폐는 몇 개라도 사용할 수 있다. <br>\n",
    "예를 들어 2, 3원 단위의 화폐가 있을 때는 15원을 만들기 위해 3원 5개를 사용하는 것이 가장 최소한의 화폐개수이다. <br>\n",
    "\n",
    "amount원을 만들기 위한 최소한의 화폐개수를 출력하는 프로그램 작성. <br>\n",
    "만약 amount원을 만들 수 있는 방법이 없다면 -1 리턴. <br>\n",
    "\n",
    "- 파라미터: <br>\n",
    ">    coins: 여러 종류의 화폐의 금액이 들어있는 리스트 (화폐의 금액은 1_0000보다 작거나 같은 자연수.) <br>\n",
    ">    amount: 화폐들의 조합으로 만들어야하는 금액 (amount는 1이상 1_0000 이하) <br>\n",
    "\n",
    "- 리턴: amount 금액을 만들기 위한 최소한의 화폐 개수 <br>\n",
    "\n",
    "***결과***\n",
    "```\n",
    "2\n",
    "22\n",
    "-1\n",
    "```"
   ]
  },
  {
   "cell_type": "code",
   "execution_count": 38,
   "id": "9911b219",
   "metadata": {},
   "outputs": [
    {
     "name": "stdout",
     "output_type": "stream",
     "text": [
      "2\n",
      "22\n",
      "-1\n",
      "3\n"
     ]
    }
   ],
   "source": [
    "def change_coins(coins, amount):\n",
    "    INF = 1_0000 +1\n",
    "    d = [INF] * (amount +1)\n",
    "    d[0] = 0\n",
    "    \n",
    "    # DP 테이블 채우기\n",
    "    for i in range(1, amount+1):\n",
    "        for k in coins:\n",
    "            if i >= k: # amount가 coins보다 크거나 같은 경우\n",
    "                d[i] = min(d[i], d[i-k]+1) # 그냥 들어가는 d[i]는 INF\n",
    "    return d[-1] if d[-1] < INF else -1\n",
    "\n",
    "\n",
    "print(change_coins([2,5,8], 7)) # 서로다른 종류의 동전, 정렬 안돼있어도 됨.\n",
    "print(change_coins([2,5], 101))\n",
    "print(change_coins([2,5,9], 3))\n",
    "print(change_coins([2,5], 15)) # 3"
   ]
  },
  {
   "cell_type": "markdown",
   "id": "4e74ea8a",
   "metadata": {},
   "source": [
    "## 10-2. [2차원 dp 테이블] amount 원을 만들 수 있는 방법 가짓수\n",
    "금액이 다른 여러 종류의 화폐가 있다. <br>\n",
    "이 화폐들을 이용하여 그 가치의 합이 amount원이 되도록 하려고 한다. <br>\n",
    "이 때 각 종류의 화폐는 몇 개라도 사용할 수 있다. <br>\n",
    "amount원을 만들 수 있는 방법은 모두 몇 가지인지 리턴하는 함수를 작성하라. <br>\n",
    "화폐의 조합으로 amount원을 만들 수 없다면 0을 리턴. <br>\n",
    "\n",
    "- 파라미터: <br>\n",
    ">    - coins: 여러 종류의 화폐의 금액이 들어있는 리스트 (화폐의 금액은 1_0000보다 작거나 같은 자연수) <br>\n",
    ">    - amount: 화폐들의 조합으로 만들어야하는 금액 (amount는 1이상 1_0000이하) <br>\n",
    "- 리턴: amount 금액을 만들 수 있는 방법의 가짓수 <br>\n",
    "\n",
    "***가짓수***\n",
    "```\n",
    "2\n",
    "4\n",
    "6\n",
    "```"
   ]
  },
  {
   "cell_type": "code",
   "execution_count": 41,
   "id": "5e7e6fd4",
   "metadata": {},
   "outputs": [],
   "source": [
    "def change_coins2(amount, coins):\n",
    "    d = [[1] + [0] * amount for _ in range(len(coins)+1)]\n",
    "    \n",
    "    for i in range(1, len(coins)+1): # 행\n",
    "        for j in range(1, amount+1): # 열\n",
    "            k = coins[i-1] # 0번째 행은 coin 안쓸 때, 1번째 행부터 coin[0]부터 쓰는데\n",
    "#             print(f'i: {i}, k: {k}')\n",
    "            if j-k >= 0:\n",
    "                d[i][j] = d[i-1][j] + d[i][j-k] #  amount에 - k를 한 것 번째\n",
    "            else:\n",
    "                d[i][j] = d[i-1][j]\n",
    "    return d[-1][-1]\n",
    "                "
   ]
  },
  {
   "cell_type": "code",
   "execution_count": 40,
   "id": "bef36ed9",
   "metadata": {},
   "outputs": [
    {
     "name": "stdout",
     "output_type": "stream",
     "text": [
      "[[1, 0, 0, 0], [1, 0, 0, 0], [1, 0, 0, 0]]\n"
     ]
    }
   ],
   "source": [
    "amount = 3\n",
    "coins = [1,2]\n",
    "d = [[1] + [0] * amount for _ in range(len(coins)+1)]\n",
    "print(d)"
   ]
  },
  {
   "cell_type": "code",
   "execution_count": 42,
   "id": "c21c7a3c",
   "metadata": {},
   "outputs": [
    {
     "name": "stdout",
     "output_type": "stream",
     "text": [
      "i: 1, k: 1\n",
      "i: 1, k: 1\n",
      "i: 1, k: 1\n",
      "i: 2, k: 2\n",
      "i: 2, k: 2\n",
      "i: 2, k: 2\n",
      "2\n",
      "i: 1, k: 1\n",
      "i: 1, k: 1\n",
      "i: 1, k: 1\n",
      "i: 1, k: 1\n",
      "i: 1, k: 1\n",
      "i: 2, k: 2\n",
      "i: 2, k: 2\n",
      "i: 2, k: 2\n",
      "i: 2, k: 2\n",
      "i: 2, k: 2\n",
      "i: 3, k: 5\n",
      "i: 3, k: 5\n",
      "i: 3, k: 5\n",
      "i: 3, k: 5\n",
      "i: 3, k: 5\n",
      "4\n",
      "i: 1, k: 1\n",
      "i: 1, k: 1\n",
      "i: 1, k: 1\n",
      "i: 1, k: 1\n",
      "i: 1, k: 1\n",
      "i: 1, k: 1\n",
      "i: 1, k: 1\n",
      "i: 2, k: 2\n",
      "i: 2, k: 2\n",
      "i: 2, k: 2\n",
      "i: 2, k: 2\n",
      "i: 2, k: 2\n",
      "i: 2, k: 2\n",
      "i: 2, k: 2\n",
      "i: 3, k: 5\n",
      "i: 3, k: 5\n",
      "i: 3, k: 5\n",
      "i: 3, k: 5\n",
      "i: 3, k: 5\n",
      "i: 3, k: 5\n",
      "i: 3, k: 5\n",
      "6\n"
     ]
    }
   ],
   "source": [
    "# 아래는 수정하지 마시오.\n",
    "print(change_coins2(3, [1,2]))\n",
    "print(change_coins2(5, [1,2,5]))\n",
    "print(change_coins2(7, [1,2,5]))"
   ]
  },
  {
   "cell_type": "code",
   "execution_count": null,
   "id": "428384b1",
   "metadata": {},
   "outputs": [],
   "source": [
    "from bisect import bisect_left, bisect_right\n",
    "\n",
    "def count_by_range(array, left_value, right_value):\n",
    "    R = bisect_right(array, right_value)\n",
    "    L = bisect_left(array, left_value)\n",
    "    \n",
    "    return R-L"
   ]
  },
  {
   "cell_type": "markdown",
   "id": "66375b52",
   "metadata": {},
   "source": [
    "## 7-3"
   ]
  },
  {
   "cell_type": "code",
   "execution_count": 50,
   "id": "ab881955",
   "metadata": {},
   "outputs": [
    {
     "name": "stdout",
     "output_type": "stream",
     "text": [
      "1\n",
      "m 2\n",
      "m 3\n",
      "2\n",
      "m 2\n",
      "m 3\n",
      "(1, 3)\n"
     ]
    }
   ],
   "source": [
    "def find_two_sum2(nums, target):\n",
    "    for i, v in enumerate(nums):\n",
    "        left = i +1 # start\n",
    "        right = len(nums) -1\n",
    "        print(left)\n",
    "        expected = target -v # v: i에 있는 값\n",
    "\n",
    "        # expected가 nums 안에 있는지 Binary Search\n",
    "        while left <= right:\n",
    "            mid = (left + right) //2\n",
    "            print('m', mid)\n",
    "            if nums[mid] < expected:\n",
    "                left = mid +1\n",
    "            elif nums[mid] > expected:\n",
    "                right = mid +1\n",
    "            else:               # 같으면(크지도 같지도 않으면) 발견된 것\n",
    "                return (i, mid)\n",
    "\n",
    "print(find_two_sum2([2, 7, 11, 15], 22))"
   ]
  },
  {
   "cell_type": "code",
   "execution_count": null,
   "id": "21449a1d",
   "metadata": {},
   "outputs": [],
   "source": [
    "# 수강하는 강의 수를 늘리는 이유는 위험 분산을 위함이다.\n",
    "# 이번학기 성적 똥망"
   ]
  },
  {
   "cell_type": "code",
   "execution_count": null,
   "id": "c67458c2",
   "metadata": {},
   "outputs": [],
   "source": []
  },
  {
   "cell_type": "code",
   "execution_count": null,
   "id": "e8b280cf",
   "metadata": {},
   "outputs": [],
   "source": []
  },
  {
   "cell_type": "code",
   "execution_count": null,
   "id": "8c3fbc95",
   "metadata": {},
   "outputs": [],
   "source": []
  },
  {
   "cell_type": "code",
   "execution_count": null,
   "id": "d4cba584",
   "metadata": {},
   "outputs": [],
   "source": []
  }
 ],
 "metadata": {
  "kernelspec": {
   "display_name": "Python 3 (ipykernel)",
   "language": "python",
   "name": "python3"
  },
  "language_info": {
   "codemirror_mode": {
    "name": "ipython",
    "version": 3
   },
   "file_extension": ".py",
   "mimetype": "text/x-python",
   "name": "python",
   "nbconvert_exporter": "python",
   "pygments_lexer": "ipython3",
   "version": "3.8.11"
  },
  "toc": {
   "base_numbering": 1,
   "nav_menu": {},
   "number_sections": true,
   "sideBar": true,
   "skip_h1_title": false,
   "title_cell": "Table of Contents",
   "title_sidebar": "Contents",
   "toc_cell": false,
   "toc_position": {},
   "toc_section_display": true,
   "toc_window_display": false
  }
 },
 "nbformat": 4,
 "nbformat_minor": 5
}
