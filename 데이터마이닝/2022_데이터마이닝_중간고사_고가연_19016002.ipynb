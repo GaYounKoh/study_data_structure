{
 "cells": [
  {
   "cell_type": "code",
   "execution_count": 2,
   "metadata": {
    "ExecuteTime": {
     "end_time": "2021-04-22T05:03:19.793083Z",
     "start_time": "2021-04-22T05:03:19.771114Z"
    }
   },
   "outputs": [
    {
     "data": {
      "text/html": [
       "<style>.container { width:95% !important; }</style>"
      ],
      "text/plain": [
       "<IPython.core.display.HTML object>"
      ]
     },
     "metadata": {},
     "output_type": "display_data"
    },
    {
     "data": {
      "text/html": [
       "<style>.input_area pre {font-family: Consolas; font-size: 15pt; line-height: 140%; font-weight: bold}</style>"
      ],
      "text/plain": [
       "<IPython.core.display.HTML object>"
      ]
     },
     "metadata": {},
     "output_type": "display_data"
    },
    {
     "data": {
      "text/html": [
       "<style>.output_area pre {font-family: Consolas; font-size: 15pt; line-height: 140%;}</style>"
      ],
      "text/plain": [
       "<IPython.core.display.HTML object>"
      ]
     },
     "metadata": {},
     "output_type": "display_data"
    }
   ],
   "source": [
    "from IPython.core.display import display, HTML\n",
    "display(HTML(\"<style>.container { width:95% !important; }</style>\"))\n",
    "display(HTML(\"<style>.input_area pre {font-family: Consolas; font-size: 15pt; line-height: 140%; font-weight: bold}</style>\"))\n",
    "display(HTML(\"<style>.output_area pre {font-family: Consolas; font-size: 15pt; line-height: 140%;}</style>\"))\n"
   ]
  },
  {
   "cell_type": "markdown",
   "metadata": {},
   "source": [
    "# 데이터마이닝 중간고사\n",
    "- 주의 사항\n",
    "    1. 시험 시간 14:40~16:00\n",
    "    1. ```단 한번만 제출 할 수 있으니 신중하게 제출하세요.```\n",
    "    1. 모든 문제를 풀기에는 시간이 절대적으로 부족할 것입니다. 모든 문제들을 빠르게 살펴본 후에 쉬운 문제 부터 푸시길 바랍니다.\n",
    "\n",
    "    1. 휴대폰의 전원을 끄세요.\n",
    "    1. 모든 인터넷을 사용할 수 없습니다.\n",
    "    1. closed book\n",
    "    1. 수시로 저장하세요.\n",
    "    1. 셀을 실행시켰을 때, 멈추지 않는다면, 주피터노트북 메뉴에 있는 정지버튼을 누르거나 Kernel 메뉴에서 restart를 누르세요.\n",
    "        - 그래도 동작하지 않는 경우에는 주피터노트북을 다시 시작하세요.\n",
    "- 제출 방법\n",
    "    1. 파일 이름에서 '학번'을 자신의 학번으로, '이름'을 자신의 이름으로 고치시오.\n",
    "    1. LMS에 주피터노트북 파일(.ipynb)을 제출하세요.\n",
    "        1. LMS 사용이 불가능한 경우, 이메일로 아래 주소로 제출 하세요.\n",
    "            - ydhwang@suwon.ac.kr\n",
    "            - 메일제목: `[데이터마이닝중간고사] 홍길동`\n"
   ]
  },
  {
   "cell_type": "markdown",
   "metadata": {},
   "source": [
    "# 문제1 (10점)=\n",
    "\n",
    "거스름 돈 n 을 거슬러 줘야 할 때, 최소 동전의 개수를 리턴하는 함수를 작성하시오.\n",
    "\n",
    "단, 거스름돈 n의 10의 배수이다.\n",
    "\n",
    "- 파라미터:\n",
    "    * n: 거스름 돈\n",
    "    * coins: 동전의 화폐 단위들 (내림차순으로 정렬되어 있음)\n",
    "- 리턴: 동전의 최소 개수\n",
    "\n",
    "***결과***\n",
    "```\n",
    "7\n",
    "6\n",
    "12\n",
    "```\n"
   ]
  },
  {
   "cell_type": "code",
   "execution_count": 10,
   "metadata": {
    "ExecuteTime": {
     "end_time": "2021-04-22T15:07:22.143439Z",
     "start_time": "2021-04-22T15:07:22.137460Z"
    }
   },
   "outputs": [
    {
     "name": "stdout",
     "output_type": "stream",
     "text": [
      "7\n",
      "6\n",
      "12\n"
     ]
    }
   ],
   "source": [
    "def coin_count(n, coins):\n",
    "    ans = 0\n",
    "    for i in coins:\n",
    "        ans+= (n//i)\n",
    "        n = n%i\n",
    "    return ans\n",
    "    pass\n",
    "\n",
    "#아래는 수정하지 마시오.\n",
    "print(coin_count(470, [100, 50, 10]))\n",
    "print(coin_count(1260, [500, 100, 50, 10]))\n",
    "print(coin_count(3370, [500, 100, 50, 10]))\n"
   ]
  },
  {
   "cell_type": "markdown",
   "metadata": {},
   "source": [
    "# 문제2 (10점)\n",
    "\n",
    "```\n",
    "아이들 마다 쿠키를 1개씩 나누어 주려고 한다.\n",
    "아이들은 각자 만족하는 쿠키의 최소 크기가 정해져 있다.\n",
    "최대한 많은 아이들을 만족시키고 싶다.\n",
    "최대로 만족한 아이들의 수를 리턴하는 함수를 작성하시오.\n",
    "```\n",
    "\n",
    "- 파라미터:\n",
    "    - g: 아이들이 만족하는 최소 쿠키 크기를 담은 리스트\n",
    "    - s: 쿠키들의 크기를 담은 리스트\n",
    "- 리턴 : 최대로 만족한 아이들의 수\n",
    "\n",
    "***결과***\n",
    "```\n",
    "1\n",
    "2\n",
    "3\n",
    "```\n"
   ]
  },
  {
   "cell_type": "code",
   "execution_count": 100,
   "metadata": {
    "ExecuteTime": {
     "end_time": "2021-04-22T15:07:25.255592Z",
     "start_time": "2021-04-22T15:07:25.248583Z"
    },
    "scrolled": false
   },
   "outputs": [
    {
     "name": "stdout",
     "output_type": "stream",
     "text": [
      "0 0\n",
      "1 1\n",
      "2 2\n"
     ]
    },
    {
     "ename": "IndexError",
     "evalue": "list index out of range",
     "output_type": "error",
     "traceback": [
      "\u001b[1;31m---------------------------------------------------------------------------\u001b[0m",
      "\u001b[1;31mIndexError\u001b[0m                                Traceback (most recent call last)",
      "\u001b[1;32m~\\AppData\\Local\\Temp/ipykernel_4920/1211419097.py\u001b[0m in \u001b[0;36m<module>\u001b[1;34m\u001b[0m\n\u001b[0;32m     21\u001b[0m \u001b[1;33m\u001b[0m\u001b[0m\n\u001b[0;32m     22\u001b[0m \u001b[1;31m# 아래는 수정하지 마시오.\u001b[0m\u001b[1;33m\u001b[0m\u001b[1;33m\u001b[0m\u001b[1;33m\u001b[0m\u001b[0m\n\u001b[1;32m---> 23\u001b[1;33m \u001b[0mprint\u001b[0m\u001b[1;33m(\u001b[0m\u001b[0mfindContentChildren\u001b[0m\u001b[1;33m(\u001b[0m\u001b[1;33m[\u001b[0m\u001b[1;36m1\u001b[0m\u001b[1;33m,\u001b[0m\u001b[1;36m2\u001b[0m\u001b[1;33m,\u001b[0m\u001b[1;36m3\u001b[0m\u001b[1;33m]\u001b[0m\u001b[1;33m,\u001b[0m \u001b[1;33m[\u001b[0m\u001b[1;36m1\u001b[0m\u001b[1;33m,\u001b[0m\u001b[1;36m1\u001b[0m\u001b[1;33m]\u001b[0m\u001b[1;33m)\u001b[0m\u001b[1;33m)\u001b[0m\u001b[1;33m\u001b[0m\u001b[1;33m\u001b[0m\u001b[0m\n\u001b[0m\u001b[0;32m     24\u001b[0m \u001b[0mprint\u001b[0m\u001b[1;33m(\u001b[0m\u001b[0mfindContentChildren\u001b[0m\u001b[1;33m(\u001b[0m\u001b[1;33m[\u001b[0m\u001b[1;36m1\u001b[0m\u001b[1;33m,\u001b[0m\u001b[1;36m2\u001b[0m\u001b[1;33m]\u001b[0m\u001b[1;33m,\u001b[0m \u001b[1;33m[\u001b[0m\u001b[1;36m1\u001b[0m\u001b[1;33m,\u001b[0m\u001b[1;36m2\u001b[0m\u001b[1;33m,\u001b[0m\u001b[1;36m3\u001b[0m\u001b[1;33m]\u001b[0m\u001b[1;33m)\u001b[0m\u001b[1;33m)\u001b[0m\u001b[1;33m\u001b[0m\u001b[1;33m\u001b[0m\u001b[0m\n\u001b[0;32m     25\u001b[0m \u001b[0mprint\u001b[0m\u001b[1;33m(\u001b[0m\u001b[0mfindContentChildren\u001b[0m\u001b[1;33m(\u001b[0m\u001b[1;33m[\u001b[0m\u001b[1;36m1\u001b[0m\u001b[1;33m,\u001b[0m\u001b[1;36m2\u001b[0m\u001b[1;33m,\u001b[0m\u001b[1;36m3\u001b[0m\u001b[1;33m,\u001b[0m\u001b[1;36m4\u001b[0m\u001b[1;33m]\u001b[0m\u001b[1;33m,\u001b[0m \u001b[1;33m[\u001b[0m\u001b[1;36m1\u001b[0m\u001b[1;33m,\u001b[0m\u001b[1;36m5\u001b[0m\u001b[1;33m,\u001b[0m\u001b[1;36m3\u001b[0m\u001b[1;33m,\u001b[0m\u001b[1;36m1\u001b[0m\u001b[1;33m]\u001b[0m\u001b[1;33m)\u001b[0m\u001b[1;33m)\u001b[0m\u001b[1;33m\u001b[0m\u001b[1;33m\u001b[0m\u001b[0m\n",
      "\u001b[1;32m~\\AppData\\Local\\Temp/ipykernel_4920/1211419097.py\u001b[0m in \u001b[0;36mfindContentChildren\u001b[1;34m(g, s)\u001b[0m\n\u001b[0;32m      8\u001b[0m         \u001b[1;32mif\u001b[0m \u001b[0mj\u001b[0m\u001b[1;33m>\u001b[0m\u001b[0mlen\u001b[0m\u001b[1;33m(\u001b[0m\u001b[0ms\u001b[0m\u001b[1;33m)\u001b[0m \u001b[1;32mor\u001b[0m \u001b[0mi\u001b[0m \u001b[1;33m>\u001b[0m\u001b[0mlen\u001b[0m\u001b[1;33m(\u001b[0m\u001b[0mg\u001b[0m\u001b[1;33m)\u001b[0m\u001b[1;33m:\u001b[0m\u001b[1;33m\u001b[0m\u001b[1;33m\u001b[0m\u001b[0m\n\u001b[0;32m      9\u001b[0m             \u001b[1;32mbreak\u001b[0m\u001b[1;33m\u001b[0m\u001b[1;33m\u001b[0m\u001b[0m\n\u001b[1;32m---> 10\u001b[1;33m         \u001b[1;32melif\u001b[0m \u001b[0mg\u001b[0m\u001b[1;33m[\u001b[0m\u001b[0mi\u001b[0m\u001b[1;33m]\u001b[0m \u001b[1;33m>=\u001b[0m \u001b[0ms\u001b[0m\u001b[1;33m[\u001b[0m\u001b[0mj\u001b[0m\u001b[1;33m]\u001b[0m\u001b[1;33m:\u001b[0m \u001b[1;31m# 만족했으면 둘다 update\u001b[0m\u001b[1;33m\u001b[0m\u001b[1;33m\u001b[0m\u001b[0m\n\u001b[0m\u001b[0;32m     11\u001b[0m             \u001b[0mi\u001b[0m\u001b[1;33m+=\u001b[0m\u001b[1;36m1\u001b[0m\u001b[1;33m\u001b[0m\u001b[1;33m\u001b[0m\u001b[0m\n\u001b[0;32m     12\u001b[0m             \u001b[0mj\u001b[0m\u001b[1;33m+=\u001b[0m\u001b[1;36m1\u001b[0m\u001b[1;33m\u001b[0m\u001b[1;33m\u001b[0m\u001b[0m\n",
      "\u001b[1;31mIndexError\u001b[0m: list index out of range"
     ]
    }
   ],
   "source": [
    "def findContentChildren(g, s):\n",
    "    g.sort()\n",
    "    s.sort()\n",
    "    i,j = 0,0\n",
    "    \n",
    "    while j<=len(s) or i <=len(g):\n",
    "        print(i,j)\n",
    "        if j>len(s) or i >len(g):\n",
    "            break\n",
    "        elif g[i] >= s[j]: # 만족했으면 둘다 update\n",
    "            i+=1\n",
    "            j+=1\n",
    "        else: # 불만족시 쿠키만 update\n",
    "            j+=1\n",
    "\n",
    "    return i\n",
    "\n",
    "# 아래는 수정하지 마시오.\n",
    "print(findContentChildren([1,2,3], [1,1]))\n",
    "print(findContentChildren([1,2], [1,2,3]))\n",
    "print(findContentChildren([1,2,3,4], [1,5,3,1]))"
   ]
  },
  {
   "cell_type": "code",
   "execution_count": 79,
   "metadata": {},
   "outputs": [
    {
     "name": "stdout",
     "output_type": "stream",
     "text": [
      "[1, 2, 3, 4]\n",
      "0 0\n"
     ]
    }
   ],
   "source": [
    "g, s = [1,2,4,3], [1,1]\n",
    "g.sort()\n",
    "s.sort()\n",
    "print(g)\n",
    "i,j = 0,0\n",
    "print(i,j)"
   ]
  },
  {
   "cell_type": "markdown",
   "metadata": {},
   "source": [
    "# 문제3 (15점)=\n",
    "\n",
    "여행가 A가 최종적으로 도착할 지점의 좌표 (X, Y)를 튜플 형태로 리턴하는 함수를 작성하십시오.\n",
    "\n",
    "```\n",
    "  여행가 A는 N × N 크기의 정사각형 공간 위에 서 있습니다. 이 공간은 1 × 1 크기의 정사각형으로 나누어져 있습니다. 가장 왼쪽 위 좌표는 (1, 1)이며, 가장 오른쪽 아래 좌표는 (N, N)에 해당합니다. 여행가 A는 상, 하, 좌, 우 방향으로 이동할 수 있으며, 시작 좌표는 항상 (1, 1)입니다. 우리 앞에는 여행가 A가 이동할 계획이 적힌 계획서가 놓여 있습니다.\n",
    "\n",
    "  계획서에는 하나의 줄에 띄어쓰기를 기준으로 하여 L, R, U, D 중 하나의 문자가 반복적으로 적혀 있습니다. 각 문자의 의미는 다음과 같습니다.\n",
    "\n",
    "L: 왼쪽으로 한 칸 이동\n",
    "R: 오른쪽으로 한 칸 이동\n",
    "U: 위로 한 칸 이동\n",
    "D: 아래로 한 칸 이동\n",
    "```\n",
    "\n",
    "- 파라미터 \n",
    "    - n: 공간의 크기(N을 의미)\n",
    "    - plans: 계획서    \n",
    "- return: 튜플형태의 최종 좌표 (X,Y) \n",
    "\n",
    "***결과***\n",
    "```\n",
    "(1, 2)\n",
    "(3, 4)\n",
    "(2, 1)\n",
    "```\n"
   ]
  },
  {
   "cell_type": "code",
   "execution_count": 51,
   "metadata": {
    "ExecuteTime": {
     "end_time": "2021-04-22T15:07:32.022051Z",
     "start_time": "2021-04-22T15:07:32.002106Z"
    },
    "scrolled": true
   },
   "outputs": [
    {
     "name": "stdout",
     "output_type": "stream",
     "text": [
      "(1, 2)\n",
      "(3, 4)\n",
      "(2, 1)\n"
     ]
    }
   ],
   "source": [
    "def move_plans(n, plans):\n",
    "    tables = {'L':(0,-1), \"R\":(0,1), 'U':(-1,0), 'D':(1,0)}\n",
    "    plan_l = plans.split()\n",
    "    x = 1\n",
    "    y = 1\n",
    "    for i in plan_l:\n",
    "#         if x<1 or y<1 or x>n or y>n: # 범위 외\n",
    "#             pass\n",
    "#         else:\n",
    "        if 1<=x+tables[i][0]<=n and 1<=y+tables[i][1]<=n:\n",
    "            x+=tables[i][0]\n",
    "            y+=tables[i][1]\n",
    "\n",
    "        elif x<1 or y<1 or x>n or y>n:\n",
    "            continue\n",
    "    return (x,y)\n",
    "        \n",
    "    pass\n",
    "\n",
    "print(move_plans(5, 'D D L R U U U'))\n",
    "print(move_plans(4, 'R R R U D D'))\n",
    "print(move_plans(3, 'D R R U R L L D'))\n"
   ]
  },
  {
   "cell_type": "markdown",
   "metadata": {},
   "source": [
    "# 문제4 (15점)=\n",
    "\n",
    "연속적으로 두번 중복된 문자 제거하는 함수를 작성하시오.\n",
    "\n",
    "주의) O(N) 시간 안에 스택을 이용하여 해결하시오.\n",
    "\n",
    "주어진 입력 s에 대하여, 연속적으로 같은 문자가 오는 경우에는 연속된 두 문자들을 문자열에서 제거하시오. 최종적으로 러턴할 문자열에는 연속된 문자들이 없어야 한다.\n",
    "\n",
    "예) \"abbac\" 가 주어진 경우 \"bb\"가 연속된문자열이기 때문에 제거하면 \"aac\"가 된고, 다시 \"aa\"가 연속된 문자열이기 때문에 제거하여 최종적으로 \"c\" 문자열만 남게된다.\n",
    "\n",
    "- 파라미터:\n",
    "    - s: 문자열\n",
    "- 리턴:\n",
    "    - 중복이 제거된 문자열\n",
    "\n",
    "***결과***\n",
    "```\n",
    "aca\n",
    "b\n",
    "bc\n",
    "```\n"
   ]
  },
  {
   "cell_type": "code",
   "execution_count": 25,
   "metadata": {
    "ExecuteTime": {
     "end_time": "2021-04-22T15:08:03.932838Z",
     "start_time": "2021-04-22T15:08:03.912895Z"
    }
   },
   "outputs": [
    {
     "name": "stdout",
     "output_type": "stream",
     "text": [
      "aca\n",
      "b\n",
      "bc\n"
     ]
    }
   ],
   "source": [
    "def remove_dups(s):\n",
    "    stack = []\n",
    "    for i in s:\n",
    "        if not stack or stack[-1]!=i:\n",
    "            stack.append(i)\n",
    "        else:\n",
    "            stack.pop()\n",
    "    return \"\".join(stack)\n",
    "    pass\n",
    "    \n",
    "\n",
    "print(remove_dups(\"acaaa\"))\n",
    "print(remove_dups(\"accab\"))\n",
    "print(remove_dups(\"baccaaac\"))\n",
    "   "
   ]
  },
  {
   "cell_type": "markdown",
   "metadata": {},
   "source": [
    "# 문제 5 (15점)\n",
    "\n",
    "순열을 리턴하는 함수를 작성하시오.\n",
    "\n",
    "주의) 반드시 재귀함수를 이용하여 풀이하시오.\n",
    "    \n",
    "    \n",
    "- 파라미터\n",
    "    - items: 서로 원소로 이루어진 리스트\n",
    "- return: 모든 가능한 순열을 가지고 있는 리스트\n",
    "    \n",
    "    \n",
    "***결과***\n",
    "```\n",
    "[['A', 'B'], ['B', 'A']]\n",
    "[[1, 2, 3], [1, 3, 2], [2, 1, 3], [2, 3, 1], [3, 1, 2], [3, 2, 1]]\n",
    "```"
   ]
  },
  {
   "cell_type": "code",
   "execution_count": 110,
   "metadata": {
    "ExecuteTime": {
     "end_time": "2021-04-22T15:08:37.922088Z",
     "start_time": "2021-04-22T15:08:37.905162Z"
    }
   },
   "outputs": [
    {
     "name": "stdout",
     "output_type": "stream",
     "text": [
      "0 ['A', 'B'] 0 []\n",
      "0 ['B'] 1 ['A']\n",
      "###\n",
      "############ 0 ['B'] 2 ['A', 'B']\n",
      "###\n",
      "############ 0 ['A', 'B'] 2 ['A', 'B']\n",
      "1 ['A', 'B'] 2 ['A', 'B']\n",
      "0 ['A'] 3 ['A', 'B', 'B']\n",
      "###\n",
      "############ 0 ['A'] 4 ['A', 'B', 'B', 'A']\n",
      "###\n",
      "############ 1 ['A', 'B'] 4 ['A', 'B', 'B', 'A']\n",
      "###\n",
      "[]\n"
     ]
    }
   ],
   "source": [
    "def permute(items): # items에 있는 걸 오른쪽의 끝으로 넣으면서 하는..., items는 건들지 않고 => subset이었나,,,,\n",
    "    res = []\n",
    "\n",
    "    def dfs(items, done):\n",
    "        for i in range(len(items)):\n",
    "            print(i,items, len(done), done)\n",
    "            \n",
    "            if not items: # items가 비면,,, items랑 길이가 같으면...\n",
    "                res.append(done)\n",
    "            else:\n",
    "                done.append(items[i])\n",
    "                dfs(items[:i]+items[i+1:],done)\n",
    "                print('############',i,items, len(done), done)\n",
    "        print('###')\n",
    "    dfs(items, [])\n",
    "    return res\n",
    "    pass\n",
    "\n",
    "print(permute(['A', 'B']))\n",
    "# print(permute([1, 2, 3]))\n",
    "\n",
    "\n",
    "    "
   ]
  },
  {
   "attachments": {
    "image-2.png": {
     "image/png": "[encoded data removed]"
    }
   },
   "cell_type": "markdown",
   "metadata": {},
   "source": [
    "# 문제6 (20점)\n",
    "\n",
    "```\n",
    "<그림 1>과 같이 정사각형 모양의 지도가 있다. \n",
    "1은 집이 있는 곳을, 0은 집이 없는 곳을 나타낸다. \n",
    "철수는 이 지도를 가지고 연결된 집의 모임인 단지를 정의 하였다.\n",
    "여기서 연결되었다는 것은 어떤 집이 좌우, 혹은 아래위로 다른 집이 있는 경우를 말한다. \n",
    "대각선상에 집이 있는 경우는 연결된 것이 아니다. \n",
    "\n",
    "단지의 개수를 리턴하는 함수를 작성하시오.\n",
    "```\n",
    "\n",
    "- 파라미터:\n",
    "    - map_str: 0과 1이 들어 있는 지도를 나타내는 문자열\n",
    "- 리턴: 단지의 개수\n",
    "\n",
    "\n",
    "<div><img src=\"attachment:image-2.png\" width=\"300\"/></div>\n",
    "\n",
    "\n",
    "***결과***\n",
    "```\n",
    "3\n",
    "4\n",
    "2\n",
    "```"
   ]
  },
  {
   "cell_type": "code",
   "execution_count": 7,
   "metadata": {
    "ExecuteTime": {
     "end_time": "2021-04-22T15:09:56.682992Z",
     "start_time": "2021-04-22T15:09:56.673063Z"
    },
    "scrolled": true
   },
   "outputs": [
    {
     "name": "stdout",
     "output_type": "stream",
     "text": [
      "None\n",
      "None\n",
      "None\n"
     ]
    }
   ],
   "source": [
    "def house_num(map_str):\n",
    "    graph = [list(map(int, k)) for k in map_str.split() if k]\n",
    "    pass\n",
    "\n",
    "## 아래는 수정하지 마시오.\n",
    "                \n",
    "map_str = \"\"\"\n",
    "0110100\n",
    "0110101\n",
    "1110101\n",
    "0000111\n",
    "0100000\n",
    "0111110\n",
    "0111000\n",
    "\"\"\"\n",
    "print(house_num(map_str))\n",
    "\n",
    "map_str = \"\"\"\n",
    "011011\n",
    "010101\n",
    "100100\n",
    "110110\n",
    "100110\n",
    "\"\"\"\n",
    "print(house_num(map_str))\n",
    "\n",
    "map_str = \"\"\"\n",
    "1110\n",
    "1101\n",
    "1011\n",
    "1001\n",
    "\"\"\"\n",
    "print(house_num(map_str))"
   ]
  },
  {
   "cell_type": "markdown",
   "metadata": {},
   "source": [
    "# 문제7 (15점)\n",
    "\n",
    "```\n",
    "S사에서는 각 부서에 필요한 물품을 지원해 주기 위해 부서별로 물품을 구매하는데 필요한 금액을 조사했습니다. \n",
    "그러나, 전체 예산이 정해져 있기 때문에 모든 부서의 물품을 구매해 줄 수는 없습니다. 그래서 최대한 많은 부서의 물품을 구매해 줄 수 있도록 하려고 합니다.\n",
    "\n",
    "물품을 구매해 줄 때는 각 부서가 신청한 금액만큼을 모두 지원해 줘야 합니다. 예를 들어 1,000원을 신청한 부서에는 정확히 1,000원을 지원해야 하며, 1,000원보다 적은 금액을 지원해 줄 수는 없습니다.\n",
    "\n",
    "부서별로 신청한 금액이 들어있는 배열 d와 예산 budget이 매개변수로 주어질 때, 최대 몇 개의 부서에 물품을 지원할 수 있는지 return 하도록 solution 함수를 완성해주세요.\n",
    "\n",
    "제한사항\n",
    "d는 부서별로 신청한 금액이 들어있는 배열이며, 길이(전체 부서의 개수)는 1 이상 100 이하입니다.\n",
    "d의 각 원소는 부서별로 신청한 금액을 나타내며, 부서별 신청 금액은 1 이상 100,000 이하의 자연수입니다.\n",
    "budget은 예산을 나타내며, 1 이상 10,000,000 이하의 자연수입니다.\n",
    "\n",
    "예시) \n",
    "d = [1,3,2,5,4], budget = 9 일때, 리턴해야 하는 값은 3이다.\n",
    "\n",
    "각 부서에서 [1원, 3원, 2원, 5원, 4원]만큼의 금액을 신청했습니다. 만약에, 1원, 2원, 4원을 신청한 부서의 물품을 구매해주면 예산 9원에서 7원이 소비되어 2원이 남습니다. 항상 정확히 신청한 금액만큼 지원해 줘야 하므로 남은 2원으로 나머지 부서를 지원해 주지 않습니다. 위 방법 외에 3개 부서를 지원해 줄 방법들은 다음과 같습니다.\n",
    "\n",
    "1원, 2원, 3원을 신청한 부서의 물품을 구매해주려면 6원이 필요합니다.\n",
    "1원, 2원, 5원을 신청한 부서의 물품을 구매해주려면 8원이 필요합니다.\n",
    "1원, 3원, 4원을 신청한 부서의 물품을 구매해주려면 8원이 필요합니다.\n",
    "1원, 3원, 5원을 신청한 부서의 물품을 구매해주려면 9원이 필요합니다.\n",
    "3개 부서보다 더 많은 부서의 물품을 구매해 줄 수는 없으므로 최대 3개 부서의 물품을 구매해 줄 수 있습니다.\n",
    "```\n",
    "\n",
    "\n",
    "***결과***\n",
    "\n",
    "```\n",
    "3\n",
    "4\n",
    "5\n",
    "```\n"
   ]
  },
  {
   "cell_type": "code",
   "execution_count": 8,
   "metadata": {
    "ExecuteTime": {
     "end_time": "2021-04-22T15:09:58.537135Z",
     "start_time": "2021-04-22T15:09:58.529157Z"
    }
   },
   "outputs": [
    {
     "name": "stdout",
     "output_type": "stream",
     "text": [
      "0\n",
      "0\n",
      "0\n"
     ]
    }
   ],
   "source": [
    "def solution(d, budget):\n",
    "    answer = 0\n",
    "    return answer\n",
    "\n",
    "# 아래는 수정하지 마시오.\n",
    "print(solution([1,3,2,5,4], 9))\n",
    "print(solution([2,2,3,3], 10))\n",
    "print(solution([1,1,2,5,4,5,3], 12))"
   ]
  },
  {
   "cell_type": "markdown",
   "metadata": {},
   "source": [
    "# 문제 8 (25점)\n",
    "\n",
    "```\n",
    "크기가 N×N인 그리드의 각 칸에 R(빨강), G(초록), B(파랑) 중 하나를 색칠한 그림이 있다. 그림은 몇 개의 구역으로 나뉘어져 있는데, 구역은 같은 색으로 이루어져 있다. 또, 같은 색상이 상하좌우로 인접해 있는 경우에 두 글자는 같은 구역에 속한다. \n",
    "\n",
    "예를 들어, 그림이 아래와 같은 경우에\n",
    "\n",
    "RRRBB\n",
    "GGBBB\n",
    "BBBRR\n",
    "BBRRR\n",
    "RRRRR\n",
    "\n",
    "구역의 수는 총 4개이다. (빨강 2, 파랑 1, 초록 1) \n",
    "그림이 입력으로 주어졌을 때 구역의 수를 구하는 프로그램을 작성하시오.\n",
    "```\n",
    "\n",
    "- 파라미터:\n",
    "    - image: RGB로 되어 있는 그림 정보를 담고 있는 문자열\n",
    "- 리턴: 구역의 수\n",
    "\n",
    "***결과***\n",
    "```\n",
    "4\n",
    "6\n",
    "```"
   ]
  },
  {
   "cell_type": "code",
   "execution_count": 13,
   "metadata": {
    "ExecuteTime": {
     "end_time": "2021-04-22T15:10:09.790734Z",
     "start_time": "2021-04-22T15:10:09.769791Z"
    }
   },
   "outputs": [
    {
     "name": "stdout",
     "output_type": "stream",
     "text": [
      "0\n",
      "0\n"
     ]
    }
   ],
   "source": [
    "\n",
    "def vision_count(image):\n",
    "    # 이 함수의 모든 부분은 수정가능 합니다.\n",
    "    pass\n",
    "    \n",
    "    def dfs(x, y, color):\n",
    "        pass\n",
    "        \n",
    "        \n",
    "    for c in ['R', 'G', 'B']:\n",
    "        pass\n",
    "    \n",
    "    return 0\n",
    "\n",
    "image = \"\"\"\n",
    "RRRBB\n",
    "GGBBB\n",
    "BBBRR\n",
    "BBRRR\n",
    "RRRRR\n",
    "\"\"\"\n",
    "\n",
    "print(vision_count(image))\n",
    "\n",
    "\n",
    "image = \"\"\"\n",
    "RRG\n",
    "GGB\n",
    "BRB\n",
    "\"\"\"\n",
    "\n",
    "print(vision_count(image))"
   ]
  },
  {
   "cell_type": "markdown",
   "metadata": {},
   "source": [
    "# 수고하셨습니다.\n",
    "# 저장하고 제출하세요."
   ]
  },
  {
   "cell_type": "code",
   "execution_count": null,
   "metadata": {},
   "outputs": [],
   "source": []
  }
 ],
 "metadata": {
  "kernelspec": {
   "display_name": "Python 3 (ipykernel)",
   "language": "python",
   "name": "python3"
  },
  "language_info": {
   "codemirror_mode": {
    "name": "ipython",
    "version": 3
   },
   "file_extension": ".py",
   "mimetype": "text/x-python",
   "name": "python",
   "nbconvert_exporter": "python",
   "pygments_lexer": "ipython3",
   "version": "3.8.11"
  },
  "toc": {
   "base_numbering": 1,
   "nav_menu": {},
   "number_sections": true,
   "sideBar": true,
   "skip_h1_title": false,
   "title_cell": "Table of Contents",
   "title_sidebar": "Contents",
   "toc_cell": false,
   "toc_position": {},
   "toc_section_display": true,
   "toc_window_display": true
  }
 },
 "nbformat": 4,
 "nbformat_minor": 2
}
