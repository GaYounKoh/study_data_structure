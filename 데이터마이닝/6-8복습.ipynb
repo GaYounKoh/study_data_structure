{
 "cells": [
  {
   "cell_type": "markdown",
   "metadata": {},
   "source": [
    "# 6강 BFS"
   ]
  },
  {
   "cell_type": "markdown",
   "metadata": {},
   "source": [
    "### 6-1. 멀티소스 문제 (시작 위치 여러개)\n",
    "- 토마토 익히기 문제\n",
    "\n",
    "- 입력 <br>\n",
    "> 1. 상자크기 <br>\n",
    "> M:가로 칸 수, N: 세로 칸 수 <br>\n",
    "> 2<=MN<=1000 <br>\n",
    "> 2. 저장된 토마토들의 정보 <br>\n",
    "> 1: 익은 <br>\n",
    "> 0: 안익은 <br>\n",
    "> -: 빈 <br>\n",
    "\n",
    "토마토는 무조건 하나 이상 있음. <br>\n",
    "\n",
    "- 출력 <br>\n",
    "> 1. 토마토가 익을 때까지의 최소 날짜 리턴.\n",
    "> 2. 저장될 때부터 모든 토마토가 익어있는 상태이면 0 리턴.\n",
    "> 3. 토마토가 모두 익지는 못하는 상황이면 -1 리턴."
   ]
  },
  {
   "cell_type": "code",
   "execution_count": 18,
   "metadata": {},
   "outputs": [],
   "source": [
    "# 모든 시작노드 (소스코드)를 방문하고 큐에 넣기. (방문표시: 그리드 자체에 +1)\n",
    "# 이미 1이면 방문표시할 필요 없음. 따라서 방문표시 +1 증가 할 필요 없음.\n",
    "\n",
    "# while문\n",
    "# 큐에서 하나 꺼내기 (선입선출)\n",
    "# 인접 노드 중에서 방문 안한 노드 방문하고 큐에 삽입.\n",
    "# 상하좌우 먼저 정의 by 벡터 형식 (idx 이용, not dic)\n",
    "\n",
    "# 모든 칸을 확인\n",
    "# 하나라도 익지 않은 곳이 있으면 return -1\n",
    "# 최댓값 구하고\n",
    "# return max-1\n",
    "\n",
    "from collections import deque\n",
    "def tomato(input_str):\n",
    "    grid = [[int(x) for x in k.split()] for k in input_str.split('\\n') if k]\n",
    "    n = len(grid) # 행\n",
    "    m = len(grid[0]) # 열\n",
    "\n",
    "    queue = deque() # 큐에는 방문한 좌표를 넣는다.\n",
    "    for i in range(n):\n",
    "        for j in range(m):\n",
    "            if grid[i][j] == 1: # 1이면\n",
    "                queue.append((i,j)) # 위치추가\n",
    "    \n",
    "    dx = [-1,1,0,0]\n",
    "    dy = [0,0,-1,1]\n",
    "    # (dx,dy) 좌표는 앞에서부터 순서대로 상하좌우\n",
    "    while queue: # queue에 원소가 존재하는 동안\n",
    "        x,y = queue.popleft() # 큐에 먼저 들어온 순서대로 빠짐\n",
    "        for i in range(4): # 상하좌우일동안\n",
    "            nx = x + dx[i] # 바꾸는 위치\n",
    "            ny = y + dy[i] # 바꾸는 위치\n",
    "\n",
    "            # 방문 가능하다면 (지도범위 내, 익지 않은 토마토라면)\n",
    "            if  (0<= nx <n and 0<= ny <m) and (grid[nx][ny] == 0):\n",
    "                # 방문\n",
    "                grid[nx][ny] = grid[x][y] +1 # 마지막 방문처리된 일수 +1\n",
    "                queue.append((nx, ny)) # 방문한 좌표 넣기\n",
    "    \n",
    "    max_value = 0 # 토마토가 모두 익는데까지 걸리는 최소날짜임.\n",
    "    for x in range(n):\n",
    "        for y in range(m):\n",
    "\n",
    "            if grid[x][y] == 0:\n",
    "                return -1\n",
    "            \n",
    "            if grid[x][y] > max_value:\n",
    "                max_value = grid[x][y]\n",
    "    return max_value -1\n"
   ]
  },
  {
   "cell_type": "code",
   "execution_count": 14,
   "metadata": {},
   "outputs": [
    {
     "name": "stdout",
     "output_type": "stream",
     "text": [
      "['', '1 0 0', '0 -1 0', '0 -1 0', '0 0 1', '']\n",
      "['1 0 0', '0 -1 0', '0 -1 0', '0 0 1']\n",
      "[[1, 0, 0], [0, -1, 0], [0, -1, 0], [0, 0, 1]]\n"
     ]
    },
    {
     "data": {
      "text/plain": [
       "'\\n1 0 0\\n0 -1 0\\n0 -1 0\\n0 0 1\\n'"
      ]
     },
     "execution_count": 14,
     "metadata": {},
     "output_type": "execute_result"
    }
   ],
   "source": [
    "input_str = \"\"\"\n",
    "1 0 0\n",
    "0 -1 0\n",
    "0 -1 0\n",
    "0 0 1\n",
    "\"\"\"\n",
    "print([k for k in input_str.split('\\n')]) # \\n 기준으로 나눠진(쉼표 찍힌) 결과들 각각의 문자열이 k\n",
    "print([k for k in input_str.split('\\n') if k]) # if k 가 있는 이유: strip 역할\n",
    "print([[int(x) for x in k.split(' ')] for k in input_str.split('\\n') if k])\n",
    "# ~.split() = ~.split(' ')\n",
    "\n",
    "input_str"
   ]
  },
  {
   "cell_type": "code",
   "execution_count": 20,
   "metadata": {},
   "outputs": [
    {
     "name": "stdout",
     "output_type": "stream",
     "text": [
      "8\n",
      "6\n",
      "2\n",
      "-1\n",
      "14\n",
      "0\n"
     ]
    }
   ],
   "source": [
    "# 아래는 수정하지 마시오.\n",
    "input_str = \"\"\"\n",
    "0 0 0 0 0 0\n",
    "0 0 0 0 0 0\n",
    "0 0 0 0 0 0\n",
    "0 0 0 0 0 1\n",
    "\"\"\"\n",
    "print(tomato(input_str))\n",
    "\n",
    "input_str = \"\"\"\n",
    "1 -1 0 0 0 0\n",
    "0 -1 0 0 0 0\n",
    "0 0 0 0 -1 0\n",
    "0 0 0 0 -1 1\n",
    "\"\"\"\n",
    "print(tomato(input_str))\n",
    "\n",
    "input_str = \"\"\"\n",
    "1 0 0\n",
    "0 -1 0\n",
    "0 -1 0\n",
    "0 0 1\n",
    "\"\"\"\n",
    "print(tomato(input_str))\n",
    "\n",
    "input_str = \"\"\"\n",
    "0 -1 0 0 0 0\n",
    "-1 0 0 0 0 0\n",
    "0 0 0 0 0 0\n",
    "0 0 0 0 0 1\n",
    "\"\"\"\n",
    "print(tomato(input_str))\n",
    "\n",
    "input_str = \"\"\"\n",
    "-1 1 0 0 0\n",
    "0 -1 -1 -1 0\n",
    "0 -1 -1 -1 0\n",
    "0 -1 -1 -1 0\n",
    "0 0 0 0 0\n",
    "\"\"\"\n",
    "print(tomato(input_str))\n",
    "\n",
    "input_str = \"\"\"\n",
    "1 -1\n",
    "-1 1\n",
    "\"\"\"\n",
    "print(tomato(input_str))\n",
    "\n",
    "# 8, 6, 2, -1, 14, 0"
   ]
  },
  {
   "cell_type": "markdown",
   "metadata": {},
   "source": [
    "### 6-2. 숨바꼭질 문제\n",
    "- 걸을 때 초당 좌표 변화: X-1, X+1 <br>\n",
    "- 순간이동 시 초당 좌표변화: X*2 <br>\n",
    "\n",
    "수빈이가 동생을 찾을 수 있는 가장 빠른 시간이 몇 초 후인지 구하는 프로그램 작성. <br>\n",
    "- 입력 <br>\n",
    "수빈, 동생의 위치 (N,K) <br>\n",
    "\n",
    "- 출력 <br>\n",
    "수빈이 동생을 찾을 수 있는 가장 빠른 시간 <br>"
   ]
  },
  {
   "cell_type": "code",
   "execution_count": 21,
   "metadata": {},
   "outputs": [],
   "source": [
    "# 멀티소스 문제 아님. (수빈이는 한 명이고, 분신술 불가능하기 때문.)\n",
    "# 그리드 없음. (그래프 없이 상상, 최적화라서 bfs)\n",
    "\n",
    "# 수직선 범위: 동생이 존재할 수 있는 곳의 범위 (0 이상, 10만 이하)\n",
    "\n",
    "#O(3^n) 시간\n",
    "\n",
    "\n",
    "# 깊이가 엄청 깊어지는 것을 방지하기 위한 max값 설정\n",
    "\n",
    "# 방문하기\n",
    "# 방문 set에는 방문 여부 노드만 들어감. 방문했던 곳을 가리키는 숫자들\n",
    "\n",
    "# 시작위치(노드) queue에 삽입\n",
    "# queue에는 노드, 그 노드까지의 시간이 들어감.\n",
    "#--> 노드 정보 (노드를 가리키는 숫자) 뿐만 아니라, 해당 노드까지 몇 초 걸렸는지\n",
    "# 시작노드는 N, 그리고 그 때의 시간은 0초이므로 그 때는 (N, 0)\n",
    "\n",
    "# 방문표시 함수** 정의\n",
    "# 수직선 범ㅁ위 내 and 방문 안한 경우 (n이 visited에 안들어 있다면)\n",
    "# 방문표시, set에 추가 .add()\n",
    "\n",
    "# 꺼내기\n",
    "# queue일 동안\n",
    "# 노드와 시작노드에서 해당 노드까지의 시간 꺼내기, 이미 방문한 지점\n",
    "\n",
    "# 방문지점이 도착해야하는 지점(정답)일 수 있음.\n",
    "# 그렇다면 동생 찾은 것\n",
    "# return time\n",
    "\n",
    "# 동생 못찾았다면\n",
    "# 방문 가능한 노드는 3가지, 이전에 방문이력 없다면 방문\n",
    "# 병렬적으로 3개 다 작성해서 돌려도 되고, for문 가능\n",
    "# 큐에 넣는 것(방문표시)은 함수로\n",
    "\n",
    "from collections import deque\n",
    "def hide_and_seek(N,K):\n",
    "\n",
    "    max_N = 10_0000\n",
    "\n",
    "    visited = set([N])\n",
    "\n",
    "    queue = deque([[N, 0]]) # [(N, time)]으로 넣어도 똑같음.\n",
    "    # N과 time이 한 세트이므로 deque에는 2중 list로 들어감.\n",
    "    # 시작노드: N, 시작 당시 시간: 0이므로 시작 당시엔 [N,0] 들어감.\n",
    "\n",
    "    def enqueue(n, time):\n",
    "        if (0<= n <=max_N) and n not in visited:\n",
    "            visited.add(n)\n",
    "            queue.append([n, time]) # (n, time)으로 넣어도 똑같음.\n",
    "    \n",
    "    while queue:\n",
    "        new_N, time = queue.popleft()\n",
    "        \n",
    "        if new_N == K:\n",
    "            return time\n",
    "        else:\n",
    "            for x in [new_N-1, new_N+1, 2*new_N]: # 이동 좌표\n",
    "                enqueue(x, time+1)\n",
    "    return None"
   ]
  },
  {
   "cell_type": "code",
   "execution_count": 22,
   "metadata": {},
   "outputs": [
    {
     "name": "stdout",
     "output_type": "stream",
     "text": [
      "2\n",
      "4\n",
      "3\n",
      "16\n"
     ]
    }
   ],
   "source": [
    "print(hide_and_seek(1, 4))\n",
    "print(hide_and_seek(5, 17))\n",
    "print(hide_and_seek(5, 18))\n",
    "print(hide_and_seek(1, 10000))\n",
    "\n",
    "# 2, 4, 3, 16"
   ]
  },
  {
   "cell_type": "markdown",
   "metadata": {},
   "source": [
    "# 7강 Binary Search"
   ]
  },
  {
   "cell_type": "markdown",
   "metadata": {},
   "source": [
    "### 7-1. Bisect_left 직접 구현하기\n",
    "- Bisect_left: 찾는 값이 리스트 내에 여러 개 존재한다면 그 제일 왼쪽에 그 값과 같은 값을 추가할 수 있는 위치"
   ]
  },
  {
   "cell_type": "code",
   "execution_count": 3,
   "metadata": {},
   "outputs": [
    {
     "name": "stdout",
     "output_type": "stream",
     "text": [
      "1\n",
      "2\n",
      "2\n"
     ]
    }
   ],
   "source": [
    "def my_bisect_left(nums, target):\n",
    "    start = 0\n",
    "    end = len(nums)-1\n",
    "\n",
    "    # 타깃 찾기\n",
    "    while start <= end:\n",
    "\n",
    "        # 타깃 만났을 때는 idx가 더 작은 부분이 있는지 확인\n",
    "\n",
    "        mid = (start + end)//2\n",
    "        # 오른쪽, 왼쪽 검색 어떤 때 왼쪽; 어떤 때 오른쪽인지가 문제\n",
    "\n",
    "        # 오른쪽 검색할 때는 target이 mid보다 더 클 때임\n",
    "        if nums[mid] < target:\n",
    "            start = mid+1 # 오른쪽 검색할 때는 start를 바꿈. (mid보다 오른쪽으로)\n",
    "\n",
    "        # target이 mid보다 작거나 같을 때는, 왼쪽에서 다시 검색.\n",
    "        else:\n",
    "            end = mid -1 # 왼쪽 검색할 때는 end를 바꿈. (mid보다 왼쪽으로)\n",
    "\n",
    "    return start\n",
    "    \n",
    "print(my_bisect_left([1], 3)) # nums 내에 3이 없는데, 1보다 3이 크므로, 오른쪽이 답\n",
    "print(my_bisect_left([1,2,3], 3))\n",
    "print(my_bisect_left([1,1,2,2,2,3], 2)) # mid에서 2를 발견한 경우 더 왼쪽 검색\n",
    "# 답: 1 2 2"
   ]
  },
  {
   "cell_type": "markdown",
   "metadata": {},
   "source": [
    "### 7-2. 예산문제\n",
    "정해진 총액 이하에서 가능한한 최대의 총 예산 배정. <br>\n",
    "모든 요청이 배정될 수 없는 경우 특정한 상한액 계산하여 그 이상인 예산 요청에는 모두 상한액만을 배정. <br>\n",
    "\n",
    "<input> <br>\n",
    "- N: 지방 수, 3<= N <=1_0000 <br>\n",
    "**(수업시간에서 풀 때 지방 수는 그냥 len으로 해결) <br>\n",
    "- 각 지방의 예산 요청 list <br>\n",
    "- M: 총 예산 <br>"
   ]
  },
  {
   "cell_type": "code",
   "execution_count": 1,
   "metadata": {},
   "outputs": [
    {
     "name": "stdout",
     "output_type": "stream",
     "text": [
      "127\n",
      "100\n"
     ]
    }
   ],
   "source": [
    "# 이진탐색, 떡 자르기 문제와 유사\n",
    "# 한 도시에 줄 수 있는 예상액이 정해져 있고, 상한액을 얼마를 해야 예산액 각 도시에 최대한 많이 해줄 수 있는가\n",
    "def solve(demand, budget):\n",
    "\n",
    "    # 검색 범위 설정\n",
    "    start = 0 # arr의 최솟값이 0일 수 있으므로. 내가 생각한 건 min(demand)였는데, 교수님 말씀이랑 결국 같은 생각인듯.\n",
    "    end = max(demand)\n",
    "\n",
    "    res = 0 # 여기에 업데이트\n",
    "    \n",
    "    # 파라메트릭 탐색\n",
    "    while start <= end:\n",
    "        total = 0 # 지급할 예산의 합, 매 while문 마다 초기화 돼야하므로 while문 안에 들어가 있어야함.\n",
    "\n",
    "        # 커트라인 설정\n",
    "        mid = (start + end) // 2 # 상한액(커트라인)\n",
    "\n",
    "        for x in demand:\n",
    "            if x > mid: # 요구한 금액이 상한액보다 더 큰 경우\n",
    "                total += mid # 줄 수 있는게 상한액이다.\n",
    "            \n",
    "            else: # 상한 안넘었을 때\n",
    "                total += x\n",
    "            \n",
    "        # 검색 범위 바꾸기\n",
    "        if total > budget: # 예산 오버할 수 없으므로 답(res) 없음. 현재의 mid보다 더 적게\n",
    "            end = mid -1\n",
    "        \n",
    "        else:\n",
    "            res = mid\n",
    "            start = mid +1\n",
    "\n",
    "    return res\n",
    "\n",
    "print(solve([120, 110, 140, 150], 485))\n",
    "print(solve([70, 80, 30, 40, 100], 450))\n",
    "# 답 127, 100"
   ]
  },
  {
   "cell_type": "markdown",
   "metadata": {},
   "source": [
    "### 7-3. 부루트포스(완전탐색) 방법을 이용하여, 덧셈을 하여 타겟을 만들 수 있는 배열의 두 숫자 인덱스를 리턴하라.\n",
    "- 제한사항\n",
    "    - 단 하나의 솔루션이 있다고 가정.\n",
    "    - 같은 원소를 두 번 사용하지 않는다.\n",
    "- 파라미터\n",
    "    - nums: 정수를 가지고 있는 정렬되어 있는 리스트\n",
    "- return: 두 개의 인덱스 값을 가진 튜플\n",
    "\n",
    "***결과*** <br>\n",
    "```\n",
    "(1,3)\n",
    "```"
   ]
  },
  {
   "cell_type": "code",
   "execution_count": 4,
   "metadata": {},
   "outputs": [
    {
     "name": "stdout",
     "output_type": "stream",
     "text": [
      "(1, 3)\n"
     ]
    }
   ],
   "source": [
    "# 두 개의 수 꺼내서 target을 만들 수 있는지\n",
    "# 일단 선형탐색으로 풀어보기\n",
    "\n",
    "def find_two_sum1(nums, target):\n",
    "    for i in range(len(nums)):\n",
    "        for j in range(i+1, len(nums)): # len(nums)로 돌릴 때나 start를 지정해주나 여전히 O(N)\n",
    "            if nums[i] + nums[j] == target:\n",
    "                return(i, j)\n",
    "print(find_two_sum1([2, 7, 11, 15], 22))\n",
    "# (1,3)"
   ]
  },
  {
   "cell_type": "code",
   "execution_count": null,
   "metadata": {},
   "outputs": [],
   "source": []
  },
  {
   "cell_type": "code",
   "execution_count": null,
   "metadata": {},
   "outputs": [],
   "source": []
  },
  {
   "cell_type": "code",
   "execution_count": null,
   "metadata": {},
   "outputs": [],
   "source": []
  },
  {
   "cell_type": "code",
   "execution_count": null,
   "metadata": {},
   "outputs": [],
   "source": []
  },
  {
   "cell_type": "code",
   "execution_count": null,
   "metadata": {},
   "outputs": [],
   "source": []
  }
 ],
 "metadata": {
  "interpreter": {
   "hash": "cd65bcbc58295ddb1be3c2ed454fcbd526c999271179adb38fc6bed2214131e2"
  },
  "kernelspec": {
   "display_name": "Python 3.8.8 ('base')",
   "language": "python",
   "name": "python3"
  },
  "language_info": {
   "codemirror_mode": {
    "name": "ipython",
    "version": 3
   },
   "file_extension": ".py",
   "mimetype": "text/x-python",
   "name": "python",
   "nbconvert_exporter": "python",
   "pygments_lexer": "ipython3",
   "version": "3.8.8"
  },
  "orig_nbformat": 4
 },
 "nbformat": 4,
 "nbformat_minor": 2
}
