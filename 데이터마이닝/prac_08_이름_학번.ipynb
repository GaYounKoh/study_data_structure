{
 "cells": [
  {
   "cell_type": "code",
   "execution_count": 15,
   "metadata": {
    "ExecuteTime": {
     "end_time": "2019-09-10T04:00:05.497613Z",
     "start_time": "2019-09-10T04:00:05.491632Z"
    }
   },
   "outputs": [
    {
     "data": {
      "text/html": [
       "<style>.container { width:95% !important; }</style>"
      ],
      "text/plain": [
       "<IPython.core.display.HTML object>"
      ]
     },
     "metadata": {},
     "output_type": "display_data"
    },
    {
     "data": {
      "text/html": [
       "<style>.input_area pre {font-family: Consolas; font-size: 15pt; line-height: 140%; font-weight: bold}</style>"
      ],
      "text/plain": [
       "<IPython.core.display.HTML object>"
      ]
     },
     "metadata": {},
     "output_type": "display_data"
    },
    {
     "data": {
      "text/html": [
       "<style>.output_area pre {font-family: Consolas; font-size: 15pt; line-height: 140%;}</style>"
      ],
      "text/plain": [
       "<IPython.core.display.HTML object>"
      ]
     },
     "metadata": {},
     "output_type": "display_data"
    }
   ],
   "source": [
    "from IPython.core.display import display, HTML\n",
    "display(HTML(\"<style>.container { width:95% !important; }</style>\"))\n",
    "display(HTML(\"<style>.input_area pre {font-family: Consolas; font-size: 15pt; line-height: 140%; font-weight: bold}</style>\"))\n",
    "display(HTML(\"<style>.output_area pre {font-family: Consolas; font-size: 15pt; line-height: 140%;}</style>\"))\n"
   ]
  },
  {
   "cell_type": "markdown",
   "metadata": {},
   "source": [
    "# 파일 이름에서 '학번'을 자신의 학번으로, '이름'을 자신의 이름으로 고치시오."
   ]
  },
  {
   "cell_type": "markdown",
   "metadata": {},
   "source": [
    "## 문제1\n",
    "\n",
    "파이썬 장점을 살린 퀵 정렬 함수를 작성하시오.\n",
    "\n",
    "***결과***\n",
    "```\n",
    "[0, 1, 2, 3, 4, 5, 6, 7, 8, 9]\n",
    "```\n"
   ]
  },
  {
   "cell_type": "code",
   "execution_count": 1,
   "metadata": {
    "ExecuteTime": {
     "end_time": "2022-05-16T04:35:28.183094Z",
     "start_time": "2022-05-16T04:35:28.167137Z"
    }
   },
   "outputs": [
    {
     "name": "stdout",
     "output_type": "stream",
     "text": [
      "[0, 1, 2, 3, 4, 5, 6, 7, 8, 9]\n"
     ]
    }
   ],
   "source": [
    "def quick_sort(array):\n",
    "    pass\n",
    "\n",
    "# 아래는 수정하지 마시오.\n",
    "array = [5, 7, 9, 0, 3, 1, 6, 2, 4, 8]\n",
    "print(quick_sort(array))\n"
   ]
  },
  {
   "cell_type": "markdown",
   "metadata": {},
   "source": [
    "## 문제2\n",
    "\n",
    "radix_sort() 함수를 수정하여 아래와 같은 결과가 나오도록 하시오.\n",
    "\n",
    "***결과***\n",
    "```\n",
    "sort by 1\n",
    "210\n",
    "401\n",
    "251\n",
    "472\n",
    "882\n",
    "902\n",
    "123\n",
    "113\n",
    "943\n",
    "124\n",
    "784\n",
    "296\n",
    "\n",
    "sort by 10\n",
    "401\n",
    "902\n",
    "210\n",
    "113\n",
    "123\n",
    "124\n",
    "943\n",
    "251\n",
    "472\n",
    "882\n",
    "784\n",
    "296\n",
    "\n",
    "sort by 100\n",
    "113\n",
    "123\n",
    "124\n",
    "210\n",
    "251\n",
    "296\n",
    "401\n",
    "472\n",
    "784\n",
    "882\n",
    "902\n",
    "943\n",
    "\n",
    "[113, 123, 124, 210, 251, 296, 401, 472, 784, 882, 902, 943]\n",
    "```\n"
   ]
  },
  {
   "cell_type": "code",
   "execution_count": 11,
   "metadata": {
    "ExecuteTime": {
     "end_time": "2022-05-16T05:09:08.021079Z",
     "start_time": "2022-05-16T05:09:08.015096Z"
    }
   },
   "outputs": [
    {
     "name": "stdout",
     "output_type": "stream",
     "text": [
      "[123, 401, 210, 113, 124, 784, 296, 472, 882, 251, 902, 943]\n"
     ]
    }
   ],
   "source": [
    "def counting_sort_by_digit(array, digit): # 예, digit == 2 -> 10의 자리를 기준으로 정렬\n",
    "    base = 10 # 10진법\n",
    "\n",
    "    def get_digit_number(num, digit): # 특정 자리수에 위치한 정수를 리턴하는 함수\n",
    "        return (num // (base ** (digit - 1))) % base\n",
    "\n",
    "    results = [None] * len(array)\n",
    "    count = [0] * base\n",
    "\n",
    "    for i in range(len(array)): # 개수 구하기\n",
    "        count[get_digit_number(array[i], digit)] += 1\n",
    "   \n",
    "    for i in range(base-1): # 누적 개수 구하기\n",
    "        count[i+1] += count[i]\n",
    "\n",
    "    for i in reversed(range(len(array))):\n",
    "        count[get_digit_number(array[i], digit)] -= 1\n",
    "        results[count[get_digit_number(array[i], digit)]] = array[i]   \n",
    "    \n",
    "    return results\n",
    "\n",
    "def radix_sort(array):\n",
    "    \n",
    "    return array\n",
    "        \n",
    "#아래는 수정하지 마시오\n",
    "data = [123, 401, 210, 113, 124, 784, 296, 472, 882, 251, 902, 943]\n",
    "print(radix_sort(data))\n"
   ]
  }
 ],
 "metadata": {
  "kernelspec": {
   "display_name": "Python 3 (ipykernel)",
   "language": "python",
   "name": "python3"
  },
  "language_info": {
   "codemirror_mode": {
    "name": "ipython",
    "version": 3
   },
   "file_extension": ".py",
   "mimetype": "text/x-python",
   "name": "python",
   "nbconvert_exporter": "python",
   "pygments_lexer": "ipython3",
   "version": "3.9.7"
  }
 },
 "nbformat": 4,
 "nbformat_minor": 2
}
