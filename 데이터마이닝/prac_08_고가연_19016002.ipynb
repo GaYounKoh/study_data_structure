{
 "cells": [
  {
   "cell_type": "markdown",
   "metadata": {
    "toc": true
   },
   "source": [
    "<h1>Table of Contents<span class=\"tocSkip\"></span></h1>\n",
    "<div class=\"toc\"><ul class=\"toc-item\"><li><span><a href=\"#파일-이름에서-'학번'을-자신의-학번으로,-'이름'을-자신의-이름으로-고치시오.\" data-toc-modified-id=\"파일-이름에서-'학번'을-자신의-학번으로,-'이름'을-자신의-이름으로-고치시오.-1\"><span class=\"toc-item-num\">1&nbsp;&nbsp;</span>파일 이름에서 '학번'을 자신의 학번으로, '이름'을 자신의 이름으로 고치시오.</a></span><ul class=\"toc-item\"><li><span><a href=\"#문제1\" data-toc-modified-id=\"문제1-1.1\"><span class=\"toc-item-num\">1.1&nbsp;&nbsp;</span>문제1</a></span></li><li><span><a href=\"#문제2\" data-toc-modified-id=\"문제2-1.2\"><span class=\"toc-item-num\">1.2&nbsp;&nbsp;</span>문제2</a></span></li></ul></li></ul></div>"
   ]
  },
  {
   "cell_type": "code",
   "execution_count": 15,
   "metadata": {
    "ExecuteTime": {
     "end_time": "2019-09-10T04:00:05.497613Z",
     "start_time": "2019-09-10T04:00:05.491632Z"
    }
   },
   "outputs": [
    {
     "data": {
      "text/html": [
       "<style>.container { width:95% !important; }</style>"
      ],
      "text/plain": [
       "<IPython.core.display.HTML object>"
      ]
     },
     "metadata": {},
     "output_type": "display_data"
    },
    {
     "data": {
      "text/html": [
       "<style>.input_area pre {font-family: Consolas; font-size: 15pt; line-height: 140%; font-weight: bold}</style>"
      ],
      "text/plain": [
       "<IPython.core.display.HTML object>"
      ]
     },
     "metadata": {},
     "output_type": "display_data"
    },
    {
     "data": {
      "text/html": [
       "<style>.output_area pre {font-family: Consolas; font-size: 15pt; line-height: 140%;}</style>"
      ],
      "text/plain": [
       "<IPython.core.display.HTML object>"
      ]
     },
     "metadata": {},
     "output_type": "display_data"
    }
   ],
   "source": [
    "from IPython.core.display import display, HTML\n",
    "display(HTML(\"<style>.container { width:95% !important; }</style>\"))\n",
    "display(HTML(\"<style>.input_area pre {font-family: Consolas; font-size: 15pt; line-height: 140%; font-weight: bold}</style>\"))\n",
    "display(HTML(\"<style>.output_area pre {font-family: Consolas; font-size: 15pt; line-height: 140%;}</style>\"))\n"
   ]
  },
  {
   "cell_type": "markdown",
   "metadata": {},
   "source": [
    "# 파일 이름에서 '학번'을 자신의 학번으로, '이름'을 자신의 이름으로 고치시오."
   ]
  },
  {
   "cell_type": "markdown",
   "metadata": {},
   "source": [
    "## 문제1\n",
    "\n",
    "파이썬 장점을 살린 퀵 정렬 함수를 작성하시오.\n",
    "\n",
    "***결과***\n",
    "```\n",
    "[0, 1, 2, 3, 4, 5, 6, 7, 8, 9]\n",
    "```\n"
   ]
  },
  {
   "cell_type": "code",
   "execution_count": 1,
   "metadata": {
    "ExecuteTime": {
     "end_time": "2022-05-16T04:35:28.183094Z",
     "start_time": "2022-05-16T04:35:28.167137Z"
    }
   },
   "outputs": [
    {
     "name": "stdout",
     "output_type": "stream",
     "text": [
      "[0, 1, 2, 3, 4, 5, 6, 7, 8, 9]\n"
     ]
    }
   ],
   "source": [
    "def quick_sort(array):\n",
    "    # 왼쪽, 오른쪽 파트 피벗을 만들면 됨.\n",
    "    if len(array) <= 1:\n",
    "        return array\n",
    "    pivot = array[0]\n",
    "    tail = array[1:]\n",
    "    \n",
    "    left_side = [x for x in tail if x <= pivot]\n",
    "    right_side = [x for x in tail if x > pivot]\n",
    "    \n",
    "    return quick_sort(left_side) + [pivot] + quick_sort(right_side)\n",
    "\n",
    "\n",
    "# 아래는 수정하지 마시오.\n",
    "array = [5, 7, 9, 0, 3, 1, 6, 2, 4, 8]\n",
    "print(quick_sort(array))\n"
   ]
  },
  {
   "cell_type": "markdown",
   "metadata": {},
   "source": [
    "## 문제2\n",
    "\n",
    "radix_sort() 함수를 수정하여 아래와 같은 결과가 나오도록 하시오.\n",
    "\n",
    "***결과***\n",
    "```\n",
    "sort by 1\n",
    "210\n",
    "401\n",
    "251\n",
    "472\n",
    "882\n",
    "902\n",
    "123\n",
    "113\n",
    "943\n",
    "124\n",
    "784\n",
    "296\n",
    "\n",
    "sort by 10\n",
    "401\n",
    "902\n",
    "210\n",
    "113\n",
    "123\n",
    "124\n",
    "943\n",
    "251\n",
    "472\n",
    "882\n",
    "784\n",
    "296\n",
    "\n",
    "sort by 100\n",
    "113\n",
    "123\n",
    "124\n",
    "210\n",
    "251\n",
    "296\n",
    "401\n",
    "472\n",
    "784\n",
    "882\n",
    "902\n",
    "943\n",
    "\n",
    "[113, 123, 124, 210, 251, 296, 401, 472, 784, 882, 902, 943]\n",
    "```\n"
   ]
  },
  {
   "cell_type": "code",
   "execution_count": 14,
   "metadata": {
    "ExecuteTime": {
     "end_time": "2022-05-16T05:09:08.021079Z",
     "start_time": "2022-05-16T05:09:08.015096Z"
    }
   },
   "outputs": [
    {
     "name": "stdout",
     "output_type": "stream",
     "text": [
      "sort by 1\n",
      "210\n",
      "401\n",
      "251\n",
      "472\n",
      "882\n",
      "902\n",
      "123\n",
      "113\n",
      "943\n",
      "124\n",
      "784\n",
      "296\n",
      "\n",
      "sort by 10\n",
      "401\n",
      "902\n",
      "210\n",
      "113\n",
      "123\n",
      "124\n",
      "943\n",
      "251\n",
      "472\n",
      "882\n",
      "784\n",
      "296\n",
      "\n",
      "sort by 100\n",
      "113\n",
      "123\n",
      "124\n",
      "210\n",
      "251\n",
      "296\n",
      "401\n",
      "472\n",
      "784\n",
      "882\n",
      "902\n",
      "943\n",
      "\n",
      "[113, 123, 124, 210, 251, 296, 401, 472, 784, 882, 902, 943]\n"
     ]
    }
   ],
   "source": [
    "def counting_sort_by_digit(array, digit): # 예, digit == 2 -> 10의 자리를 기준으로 정렬\n",
    "    base = 10 # 10진법\n",
    "\n",
    "    def get_digit_number(num, digit): # 특정 자리수에 위치한 정수를 리턴하는 함수 # 특히 이해해야함!! 자리수를 리턴하는 함수!!\n",
    "        return (num // (base ** (digit - 1))) % base\n",
    "\n",
    "    results = [None] * len(array)\n",
    "    count = [0] * base\n",
    "\n",
    "    for i in range(len(array)): # 개수 구하기\n",
    "        count[get_digit_number(array[i], digit)] += 1\n",
    "   \n",
    "    for i in range(base-1): # 누적 개수 구하기\n",
    "        count[i+1] += count[i]\n",
    "\n",
    "    for i in reversed(range(len(array))):\n",
    "        count[get_digit_number(array[i], digit)] -= 1\n",
    "        results[count[get_digit_number(array[i], digit)]] = array[i]   \n",
    "    \n",
    "    return results\n",
    "\n",
    "def radix_sort(array): # 기수정렬, 수정해야하는 부분\n",
    "    max_digit = len(str(max(array)))\n",
    "    for i in range(1, max_digit+1):\n",
    "        array = counting_sort_by_digit(array, i)\n",
    "        \n",
    "        # i: 자리수 1: 1의자리, 2: 10의자리, 3: 100의자리,\n",
    "        # i: 10^(i-1)\n",
    "        print(f'sort by {10**(i-1)}')\n",
    "        for j in array:\n",
    "            print(j)\n",
    "        print()\n",
    "    return array\n",
    "        \n",
    "#아래는 수정하지 마시오\n",
    "data = [123, 401, 210, 113, 124, 784, 296, 472, 882, 251, 902, 943]\n",
    "print(radix_sort(data))\n"
   ]
  },
  {
   "cell_type": "code",
   "execution_count": null,
   "metadata": {},
   "outputs": [],
   "source": []
  }
 ],
 "metadata": {
  "kernelspec": {
   "display_name": "Python 3",
   "language": "python",
   "name": "python3"
  },
  "language_info": {
   "codemirror_mode": {
    "name": "ipython",
    "version": 3
   },
   "file_extension": ".py",
   "mimetype": "text/x-python",
   "name": "python",
   "nbconvert_exporter": "python",
   "pygments_lexer": "ipython3",
   "version": "3.8.5"
  },
  "latex_envs": {
   "LaTeX_envs_menu_present": true,
   "autoclose": false,
   "autocomplete": true,
   "bibliofile": "biblio.bib",
   "cite_by": "apalike",
   "current_citInitial": 1,
   "eqLabelWithNumbers": true,
   "eqNumInitial": 1,
   "hotkeys": {
    "equation": "Ctrl-E",
    "itemize": "Ctrl-I"
   },
   "labels_anchors": false,
   "latex_user_defs": false,
   "report_style_numbering": false,
   "user_envs_cfg": false
  },
  "toc": {
   "base_numbering": 1,
   "nav_menu": {},
   "number_sections": true,
   "sideBar": true,
   "skip_h1_title": false,
   "title_cell": "Table of Contents",
   "title_sidebar": "Contents",
   "toc_cell": true,
   "toc_position": {},
   "toc_section_display": true,
   "toc_window_display": false
  }
 },
 "nbformat": 4,
 "nbformat_minor": 2
}
