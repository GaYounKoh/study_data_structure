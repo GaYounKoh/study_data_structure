{
 "cells": [
  {
   "cell_type": "markdown",
   "metadata": {},
   "source": [
    "# Bisect_left 직접 구현하기\n",
    "* Bisect_left: 찾는 값이 리스트 내에 여러개 존재한다면 그 제일 왼쪽에 추가할 수 있는 위치"
   ]
  },
  {
   "cell_type": "code",
   "execution_count": null,
   "metadata": {},
   "outputs": [],
   "source": [
    "\n",
    "def my_bisect_left(nums, target):\n",
    "    start = 0\n",
    "    end = len(nums) -1\n",
    "    \n",
    "    # 타겟 찾기\n",
    "    while start <= end:\n",
    "        \n",
    "        # 타겟만났을 때는 idx가 더 작은 부분이 있는지 확인\n",
    "        \n",
    "        mid = (start+end)//2\n",
    "        # 오른쪽, 왼쪽 겁색, 어떤 때 왼쪽; 어떤 때 오른쪽인지가 문제\n",
    "\n",
    "        # 오른쪽 검색할 때는 target이 mid보다 더 클 때임.\n",
    "        if nums[mid] < target:\n",
    "            start = mid +1 # start를 바꿈\n",
    "            \n",
    "        # target이 작거나 같을 때는, 왼쪽에서 다시 검색.\n",
    "        else:\n",
    "            end = mid -1 # end를 바꿈\n",
    "            \n",
    "    return start\n",
    "\n",
    "print(my_bisect_left([1], 3)) # nums 내에 3이 없는데, 1보다 3이 크므로, 오른쪽이 답\n",
    "print(my_bisect_left([1,2,3], 3))\n",
    "print(my_bisect_left([1,1,2,2,2,3], 2)) # mid에서 2를 발견한 경우 더 왼쪽 검색\n"
   ]
  },
  {
   "cell_type": "markdown",
   "metadata": {},
   "source": [
    "# 예산문제\n",
    "정해진 총액 이하에서 가능한한 최대의 총 예산 배정 <br>\n",
    "모든 요청이 배정될 수 없는 경우 특정한 상한액 계산하여 그 이상인 예산 요청에는 모두 상한액만을 배정 <br>\n",
    "\n",
    "N: 지방 수, 3<=N<=1_0000 <br>\n",
    "**(수업시간에서 풀 때 지방 수는 그냥 len으로 해결) <br>\n",
    "각 지방의 예산요청 list <br>\n",
    "M: 총 예산"
   ]
  },
  {
   "cell_type": "code",
   "execution_count": null,
   "metadata": {},
   "outputs": [],
   "source": [
    "# 이진탐색, 떡 자르기 문제,,,와 유사\n",
    "# 한 도시에 줄수 있는 예상액이 정해져있고, 상한액을 얼마를 해야 예산액 각 도시에 최대한 많이 해줄 수 있는가\n",
    "def solve(demand, budget):\n",
    "    # 검색범위 설정\n",
    "    start = 0 # arr의 최솟값이 0일 수 있으므로 min(demand)\n",
    "    end = max(demand)\n",
    "    \n",
    "    res = 0\n",
    "    \n",
    "    # 파라메트릭 탐색\n",
    "    while start <= end:\n",
    "        \n",
    "        total = 0 # 지급할 예산의 합, 매 while문 마다 초기화돼야하므로 while문 안에 들어가기!!\n",
    "        \n",
    "        # 커트라인 설정\n",
    "        mid = (start + end) // 2 # 상한액(커트라인)\n",
    "        \n",
    "        for x in demand:\n",
    "            if x > mid: # 요구한 금액이 상한액보다 더 큰 경우\n",
    "                total += mid # 줄 수 있는게 상한액이다.\n",
    "            \n",
    "            else: # 상한 안넘었을 때\n",
    "                total+=x\n",
    "                \n",
    "        # 검색 범위 바꾸기\n",
    "        if total > budget: # 예산 오버할 수 없으므로 답 없음. 현재의 mid보다 더 적게\n",
    "            end = mid -1\n",
    "        \n",
    "        else:\n",
    "            res = mid\n",
    "            start = mid +1\n",
    "\n",
    "    return res\n",
    "print(solve([120, 110, 140, 150], 485))\n",
    "print(solve([70, 80, 30, 40, 100], 450))"
   ]
  },
  {
   "cell_type": "markdown",
   "metadata": {},
   "source": [
    "이진 탐색을 이용해, <br>\n",
    "덧셈을 하여 타겟을 만들 수 있는 배열의 두 숫자 인덱스 리턴 <br>\n",
    "* 제한 사항\n",
    "    * 단 하나의 솔루션이 있다고 가정한다.\n",
    "    * 같은 원소를 두 번 사용하지 않는다. <br>\n",
    "* 파라미터\n",
    "    * nums: 정수를 가지고 있는 정렬되어 있는 리스트 <br>\n",
    "* return: 두 개의 인덱스 값을 가진 튜플"
   ]
  },
  {
   "cell_type": "code",
   "execution_count": null,
   "metadata": {},
   "outputs": [],
   "source": [
    "def find_two_sum2(nums, target):\n",
    "    for i, v in enumerate(nums):\n",
    "        left = i + 1            # start\n",
    "        right = len(nums) - 1\n",
    "        expected = target - v   # v: i에 있는 값\n",
    "        \n",
    "        # expected가 nums안에 있는지 Binary Search\n",
    "        while left <= right:\n",
    "            mid = ( left + right ) // 2\n",
    "            if nums[mid] < expected:\n",
    "                left = mid + 1\n",
    "            elif nums[mid] > expected:\n",
    "                right = mid - 1\n",
    "            else:               # 같으면(크지도 같지도 않으면) 발견된 것\n",
    "                return i, mid \n",
    "\n",
    "print(find_two_sum2([2, 7, 11, 15], 22))"
   ]
  }
 ],
 "metadata": {
  "interpreter": {
   "hash": "0a54084e6b208ee8d1ce3989ffc20924477a5f55f5a43e22e699a6741623861e"
  },
  "kernelspec": {
   "display_name": "Python 3.7.8 64-bit",
   "language": "python",
   "name": "python3"
  },
  "language_info": {
   "name": "python",
   "version": "3.7.8"
  },
  "orig_nbformat": 4
 },
 "nbformat": 4,
 "nbformat_minor": 2
}
