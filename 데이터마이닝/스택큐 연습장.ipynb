{
 "cells": [
  {
   "cell_type": "code",
   "execution_count": 8,
   "metadata": {},
   "outputs": [
    {
     "name": "stdout",
     "output_type": "stream",
     "text": [
      "True\n",
      "True\n",
      "False\n",
      "False\n"
     ]
    }
   ],
   "source": [
    "# 괄호가 모두 짝이 맞는지 결과 리턴\n",
    "def is_valid_parentheses(s):\n",
    "    dic = {')':'(', '}':'{', ']':'['}\n",
    "\n",
    "    stack = []\n",
    "    for i in s:\n",
    "        if i not in dic:\n",
    "            stack.append(i)\n",
    "\n",
    "        elif not stack or dic[i] != stack.pop(): # 꺼내서 확인 후 버려\n",
    "            return False\n",
    "        \n",
    "    return len(stack)==0\n",
    "\n",
    "print(is_valid_parentheses('{}[]()'))\n",
    "print(is_valid_parentheses('{}[()]'))\n",
    "\n",
    "print(is_valid_parentheses('{[()}]'))\n",
    "print(is_valid_parentheses('{]}'))"
   ]
  },
  {
   "cell_type": "code",
   "execution_count": 13,
   "metadata": {},
   "outputs": [
    {
     "name": "stdout",
     "output_type": "stream",
     "text": [
      "# ['{']\n",
      "# ['{', '[']\n",
      "# ['{', '[', '(']\n"
     ]
    },
    {
     "data": {
      "text/plain": [
       "['{', '[', '(']"
      ]
     },
     "execution_count": 13,
     "metadata": {},
     "output_type": "execute_result"
    }
   ],
   "source": [
    "dic = {')':'(', '}':'{', ']':'['}\n",
    "\n",
    "stack = []\n",
    "for i in '{}[]()':\n",
    "    if i not in dic:\n",
    "        stack.append(i)\n",
    "        print('#',stack)\n",
    "\n",
    "    elif not stack or dic[i] != stack[-1]: # 꺼내서 바로 확인\n",
    "        print(stack)\n",
    "        pass\n",
    "stack"
   ]
  },
  {
   "cell_type": "code",
   "execution_count": 3,
   "metadata": {},
   "outputs": [
    {
     "name": "stdout",
     "output_type": "stream",
     "text": [
      "[1, 1, 1, 0]\n"
     ]
    }
   ],
   "source": [
    "def temp(T):\n",
    "    stack = []\n",
    "    answer = [0]*len(T)\n",
    "    for idx, j in enumerate(T):\n",
    "        if not stack or T[stack[-1]]>=j:\n",
    "            stack.append(idx)\n",
    "        else:\n",
    "            last = stack.pop()\n",
    "            answer[last] = idx-last\n",
    "            stack.append(idx)\n",
    "    return answer\n",
    "print(temp([1,2,3,4]))"
   ]
  },
  {
   "cell_type": "code",
   "execution_count": 10,
   "metadata": {},
   "outputs": [
    {
     "name": "stdout",
     "output_type": "stream",
     "text": [
      "ca\n",
      "b\n",
      "bc\n"
     ]
    }
   ],
   "source": [
    "def remove_dups(s):\n",
    "    stack = []\n",
    "    for i in s:\n",
    "        if not stack or stack[-1]!=i:\n",
    "            stack.append(i)\n",
    "        else:\n",
    "            stack.pop()\n",
    "            \n",
    "    \n",
    "    return ''.join(stack)\n",
    "\n",
    "print(remove_dups(\"caaa\"))\n",
    "print(remove_dups(\"accab\"))\n",
    "print(remove_dups(\"baccaaac\"))"
   ]
  },
  {
   "cell_type": "code",
   "execution_count": 11,
   "metadata": {},
   "outputs": [
    {
     "name": "stdout",
     "output_type": "stream",
     "text": [
      "6\n",
      "11\n"
     ]
    }
   ],
   "source": [
    "def rain_trap(heights):\n",
    "    stack = []\n",
    "    volume = 0\n",
    "    \n",
    "    for i in range(len(heights)):\n",
    "        while stack and heights[stack[-1]] < heights[i]:\n",
    "            cur = stack.pop()\n",
    "            if not stack:\n",
    "                break\n",
    "            left = stack[-1]\n",
    "            if heights[left] == heights[cur]:\n",
    "                continue\n",
    "            right = i\n",
    "            \n",
    "            d = right - left - 1\n",
    "            h = min(heights[left], heights[right]) - heights[cur]\n",
    "            volume += d*h\n",
    "            #print(f\"i:{i}, cur:{cur}, d:{d}, h:{h}\")\n",
    "        \n",
    "        stack.append(i)\n",
    "        \n",
    "    return volume\n",
    "    \n",
    "# 아래는 수정하지 마시오.\n",
    "print(rain_trap([0,1,0,2,1,0,1,3,2,1,2,1]))\n",
    "print(rain_trap([0,4,0,0,1,0,3]))"
   ]
  },
  {
   "cell_type": "code",
   "execution_count": 14,
   "metadata": {},
   "outputs": [
    {
     "name": "stdout",
     "output_type": "stream",
     "text": [
      "1\n",
      "2\n",
      "3\n",
      "4\n",
      "5\n",
      "6\n",
      "7\n",
      "8\n",
      "9\n",
      "10\n"
     ]
    }
   ],
   "source": [
    "i = 0\n",
    "while i != 10:\n",
    "    i+=1\n",
    "    print(i)\n"
   ]
  },
  {
   "cell_type": "code",
   "execution_count": null,
   "metadata": {},
   "outputs": [],
   "source": []
  }
 ],
 "metadata": {
  "interpreter": {
   "hash": "e4cfef919f511c0e3a05919ed86dab4fa959f970f2723dae87eeb918be14f5f0"
  },
  "kernelspec": {
   "display_name": "Python 3.8.8 ('base')",
   "language": "python",
   "name": "python3"
  },
  "language_info": {
   "codemirror_mode": {
    "name": "ipython",
    "version": 3
   },
   "file_extension": ".py",
   "mimetype": "text/x-python",
   "name": "python",
   "nbconvert_exporter": "python",
   "pygments_lexer": "ipython3",
   "version": "3.8.8"
  },
  "orig_nbformat": 4
 },
 "nbformat": 4,
 "nbformat_minor": 2
}
