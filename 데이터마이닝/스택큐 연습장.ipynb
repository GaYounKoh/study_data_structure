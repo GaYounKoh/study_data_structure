{
 "cells": [
  {
   "cell_type": "code",
   "execution_count": 1,
   "metadata": {},
   "outputs": [
    {
     "data": {
      "text/plain": [
       "102900"
      ]
     },
     "execution_count": 1,
     "metadata": {},
     "output_type": "execute_result"
    }
   ],
   "source": [
    "35700 + 4500 + 22800 + 16800 + 23100"
   ]
  },
  {
   "cell_type": "code",
   "execution_count": 8,
   "metadata": {},
   "outputs": [
    {
     "name": "stdout",
     "output_type": "stream",
     "text": [
      "True\n",
      "True\n",
      "False\n",
      "False\n"
     ]
    }
   ],
   "source": [
    "# 괄호가 모두 짝이 맞는지 결과 리턴\n",
    "def is_valid_parentheses(s):\n",
    "    dic = {')':'(', '}':'{', ']':'['}\n",
    "\n",
    "    stack = []\n",
    "    for i in s:\n",
    "        if i not in dic:\n",
    "            stack.append(i)\n",
    "\n",
    "        elif not stack or dic[i] != stack.pop(): # 꺼내서 확인 후 버려\n",
    "            return False\n",
    "        \n",
    "    return len(stack)==0\n",
    "\n",
    "print(is_valid_parentheses('{}[]()'))\n",
    "print(is_valid_parentheses('{}[()]'))\n",
    "\n",
    "print(is_valid_parentheses('{[()}]'))\n",
    "print(is_valid_parentheses('{]}'))"
   ]
  },
  {
   "cell_type": "code",
   "execution_count": 13,
   "metadata": {},
   "outputs": [
    {
     "name": "stdout",
     "output_type": "stream",
     "text": [
      "# ['{']\n",
      "# ['{', '[']\n",
      "# ['{', '[', '(']\n"
     ]
    },
    {
     "data": {
      "text/plain": [
       "['{', '[', '(']"
      ]
     },
     "execution_count": 13,
     "metadata": {},
     "output_type": "execute_result"
    }
   ],
   "source": [
    "dic = {')':'(', '}':'{', ']':'['}\n",
    "\n",
    "stack = []\n",
    "for i in '{}[]()':\n",
    "    if i not in dic:\n",
    "        stack.append(i)\n",
    "        print('#',stack)\n",
    "\n",
    "    elif not stack or dic[i] != stack[-1]: # 꺼내서 바로 확인\n",
    "        print(stack)\n",
    "        pass\n",
    "stack"
   ]
  },
  {
   "cell_type": "code",
   "execution_count": null,
   "metadata": {},
   "outputs": [],
   "source": []
  }
 ],
 "metadata": {
  "interpreter": {
   "hash": "e4cfef919f511c0e3a05919ed86dab4fa959f970f2723dae87eeb918be14f5f0"
  },
  "kernelspec": {
   "display_name": "Python 3.8.8 ('base')",
   "language": "python",
   "name": "python3"
  },
  "language_info": {
   "codemirror_mode": {
    "name": "ipython",
    "version": 3
   },
   "file_extension": ".py",
   "mimetype": "text/x-python",
   "name": "python",
   "nbconvert_exporter": "python",
   "pygments_lexer": "ipython3",
   "version": "3.8.8"
  },
  "orig_nbformat": 4
 },
 "nbformat": 4,
 "nbformat_minor": 2
}
