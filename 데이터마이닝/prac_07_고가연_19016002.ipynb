{
 "cells": [
  {
   "cell_type": "markdown",
   "metadata": {
    "toc": true
   },
   "source": [
    "<h1>Table of Contents<span class=\"tocSkip\"></span></h1>\n",
    "<div class=\"toc\"><ul class=\"toc-item\"><li><span><a href=\"#파일-이름에서-'학번'을-자신의-학번으로,-'이름'을-자신의-이름으로-고치시오.\" data-toc-modified-id=\"파일-이름에서-'학번'을-자신의-학번으로,-'이름'을-자신의-이름으로-고치시오.-1\"><span class=\"toc-item-num\">1&nbsp;&nbsp;</span>파일 이름에서 '학번'을 자신의 학번으로, '이름'을 자신의 이름으로 고치시오.</a></span><ul class=\"toc-item\"><li><span><a href=\"#문제1\" data-toc-modified-id=\"문제1-1.1\"><span class=\"toc-item-num\">1.1&nbsp;&nbsp;</span>문제1</a></span></li><li><span><a href=\"#문제-2\" data-toc-modified-id=\"문제-2-1.2\"><span class=\"toc-item-num\">1.2&nbsp;&nbsp;</span>문제 2</a></span></li><li><span><a href=\"#문제3\" data-toc-modified-id=\"문제3-1.3\"><span class=\"toc-item-num\">1.3&nbsp;&nbsp;</span>문제3</a></span></li><li><span><a href=\"#문제4\" data-toc-modified-id=\"문제4-1.4\"><span class=\"toc-item-num\">1.4&nbsp;&nbsp;</span>문제4</a></span></li></ul></li></ul></div>"
   ]
  },
  {
   "cell_type": "code",
   "execution_count": 15,
   "metadata": {
    "ExecuteTime": {
     "end_time": "2019-09-10T04:00:05.497613Z",
     "start_time": "2019-09-10T04:00:05.491632Z"
    }
   },
   "outputs": [
    {
     "data": {
      "text/html": [
       "<style>.container { width:95% !important; }</style>"
      ],
      "text/plain": [
       "<IPython.core.display.HTML object>"
      ]
     },
     "metadata": {},
     "output_type": "display_data"
    },
    {
     "data": {
      "text/html": [
       "<style>.input_area pre {font-family: Consolas; font-size: 15pt; line-height: 140%; font-weight: bold}</style>"
      ],
      "text/plain": [
       "<IPython.core.display.HTML object>"
      ]
     },
     "metadata": {},
     "output_type": "display_data"
    },
    {
     "data": {
      "text/html": [
       "<style>.output_area pre {font-family: Consolas; font-size: 15pt; line-height: 140%;}</style>"
      ],
      "text/plain": [
       "<IPython.core.display.HTML object>"
      ]
     },
     "metadata": {},
     "output_type": "display_data"
    }
   ],
   "source": [
    "from IPython.core.display import display, HTML\n",
    "display(HTML(\"<style>.container { width:95% !important; }</style>\"))\n",
    "display(HTML(\"<style>.input_area pre {font-family: Consolas; font-size: 15pt; line-height: 140%; font-weight: bold}</style>\"))\n",
    "display(HTML(\"<style>.output_area pre {font-family: Consolas; font-size: 15pt; line-height: 140%;}</style>\"))\n"
   ]
  },
  {
   "cell_type": "markdown",
   "metadata": {},
   "source": [
    "# 파일 이름에서 '학번'을 자신의 학번으로, '이름'을 자신의 이름으로 고치시오."
   ]
  },
  {
   "cell_type": "markdown",
   "metadata": {},
   "source": [
    "## 문제1\n",
    "\n",
    "bisect_left 함수를 직접구현한 my_bisect_left 함수를 작성하시오.\n",
    "\n",
    "***결과***\n",
    "```\n",
    "1\n",
    "2\n",
    "2\n",
    "```\n"
   ]
  },
  {
   "cell_type": "code",
   "execution_count": 9,
   "metadata": {
    "ExecuteTime": {
     "end_time": "2022-05-08T07:06:13.344062Z",
     "start_time": "2022-05-08T07:06:13.335086Z"
    }
   },
   "outputs": [
    {
     "name": "stdout",
     "output_type": "stream",
     "text": [
      "1\n",
      "2\n",
      "2\n"
     ]
    }
   ],
   "source": [
    "def my_bisect_left(nums, target):\n",
    "    start = 0\n",
    "    end = len(nums) -1\n",
    "    \n",
    "    # 타겟 찾기\n",
    "    while start <= end:\n",
    "        \n",
    "        # 타겟만났을 때는 idx가 더 작은 부분이 있는지 확인\n",
    "#         res = 0 # 하는게 맞았음. 근데 꼭 할 필요는 없음.\n",
    "        \n",
    "        mid = (start+end)//2\n",
    "        # 오른쪽, 왼쪽 겁색, 어떤 때 왼쪽; 어떤 때 오른쪽인지가 문제\n",
    "\n",
    "# #         if nums[mid] == target: # 겹치면, 왼쪽 검색\n",
    "# #             res = mid\n",
    "# #             end = mid -1\n",
    "\n",
    "        # 오른쪽 검색할 때는 target이 mid보다 더 클 때임.\n",
    "        if nums[mid] < target:\n",
    "            start = mid +1 # start를 바꿈\n",
    "#             result = start # 업데이트 해주고 넣어야함.\n",
    "            \n",
    "        # target이 작거나 같을 때는, 왼쪽에서 다시 검색.\n",
    "        else:\n",
    "            end = mid -1 # end를 바꿈\n",
    "            \n",
    "    return start # result\n",
    "\n",
    "# result는 꼭 할 필요는 없음.\n",
    "\n",
    "\n",
    "print(my_bisect_left([1], 3)) # nums 내에 3이 없는데, 1보다 3이 크므로, 오른쪽이 답\n",
    "print(my_bisect_left([1,2,3], 3))\n",
    "print(my_bisect_left([1,1,2,2,2,3], 2)) # mid에서 2를 발견한 경우 더 왼쪽 검색\n",
    "\n"
   ]
  },
  {
   "cell_type": "markdown",
   "metadata": {},
   "source": [
    "## 문제 2\n",
    "\n",
    "출처: https://www.acmicpc.net/problem/2512\n",
    "\n",
    "국가의 역할 중 하나는 여러 지방의 예산요청을 심사하여 국가의 예산을 분배하는 것이다. 국가예산의 총액은 미리 정해져 있어서 모든 예산요청을 배정해 주기는 어려울 수도 있다. 그래서 정해진 총액 이하에서 가능한 한 최대의 총 예산을 다음과 같은 방법으로 배정한다.\n",
    "\n",
    "모든 요청이 배정될 수 있는 경우에는 요청한 금액을 그대로 배정한다.\n",
    "모든 요청이 배정될 수 없는 경우에는 특정한 정수 상한액을 계산하여 그 이상인 예산요청에는 모두 상한액을 배정한다. 상한액 이하의 예산요청에 대해서는 요청한 금액을 그대로 배정한다. \n",
    "예를 들어, 전체 국가예산이 485이고 4개 지방의 예산요청이 각각 120, 110, 140, 150이라고 하자. 이 경우, 상한액을 127로 잡으면, 위의 요청들에 대해서 각각 120, 110, 127, 127을 배정하고 그 합이 484로 가능한 최대가 된다. \n",
    "\n",
    "여러 지방의 예산요청과 국가예산의 총액이 주어졌을 때, 위의 조건을 모두 만족하도록 예산을 배정하는 프로그램을 작성하시오.\n",
    "\n",
    " - 입력\n",
    ">첫째 줄에는 지방의 수를 의미하는 정수 N이 주어진다. N은 3 이상 10,000 이하이다. 다음 줄에는 각 지방의 예산요청을 표현하는 N개의 정수가 빈칸을 사이에 두고 주어진다. 이 값들은 모두 1 이상 100,000 이하이다. 그 다음 줄에는 총 예산을 나타내는 정수 M이 주어진다. M은 N 이상 1,000,000,000 이하이다. \n",
    "\n",
    " - 출력 \n",
    ">첫째 줄에는 배정된 예산들 중 최댓값인 정수를 출력한다. \n",
    "\n",
    "\n",
    "***결과***\n",
    "```\n",
    "127\n",
    "100\n",
    "```"
   ]
  },
  {
   "cell_type": "code",
   "execution_count": 2,
   "metadata": {
    "ExecuteTime": {
     "end_time": "2022-05-09T05:26:51.691954Z",
     "start_time": "2022-05-09T05:26:51.673542Z"
    }
   },
   "outputs": [
    {
     "name": "stdout",
     "output_type": "stream",
     "text": [
      "127\n",
      "100\n"
     ]
    }
   ],
   "source": [
    "# 이진탐색, 떡 자르기 문제,,,와 유사\n",
    "# 한 도시에 줄수 있는 예상액이 정해져있고, 상한액을 얼마를 해야 예산액 각 도시에 최대한 많이 해줄 수 있는가\n",
    "def solve(demand, budget):\n",
    "    # 검색범위 설정\n",
    "    start = 0 # arr의 최솟값이 0일 수 있으므로 min(demand)\n",
    "    end = max(demand)\n",
    "    \n",
    "    res = 0\n",
    "    \n",
    "    # 파라메트릭 탐색\n",
    "    while start <= end:\n",
    "        \n",
    "        total = 0 # 지급할 예산의 합, 매 while문 마다 초기화돼야하므로 while문 안에 들어가기!!\n",
    "        \n",
    "        # 커트라인 설정\n",
    "        mid = (start + end) // 2 # 상한액(커트라인)\n",
    "        \n",
    "        for x in demand:\n",
    "            if x > mid: # 요구한 금액이 상한액보다 더 큰 경우\n",
    "                total += mid # 줄 수 있는게 상한액이다.\n",
    "            \n",
    "            else: # 상한 안넘었을 때\n",
    "                total+=x\n",
    "                \n",
    "        # 검색 범위 바꾸기\n",
    "        if total > budget: # 예산 오버할 수 없으므로 답 없음. 현재의 mid보다 더 적게\n",
    "            end = mid -1\n",
    "        \n",
    "        else:\n",
    "            res = mid\n",
    "            start = mid +1\n",
    "\n",
    "    return res\n",
    "\n",
    "#     res = 0\n",
    "    \n",
    "#     while start <= end:\n",
    "#         total = 0\n",
    "#         mid = (start+end)//2\n",
    "#         for x in demand:\n",
    "#             if x-mid < 0:\n",
    "                \n",
    "#             total += (x-mid)\n",
    "            \n",
    "#         if x > mid: # x가 \n",
    "            \n",
    "# 아래는 수정하지 마시오.\n",
    "print(solve([120, 110, 140, 150], 485))\n",
    "print(solve([70, 80, 30, 40, 100], 450))"
   ]
  },
  {
   "cell_type": "markdown",
   "metadata": {},
   "source": [
    "## 문제3\n",
    "\n",
    "부루트포스(완전탐색)방법을 이용하여, \n",
    "\n",
    "덧셈을 하여 타겟을 만들 수 있는 배열의 두 숫자 인덱스를 리턴하라.\n",
    "\n",
    "- 제한 사항\n",
    "    - 단 하나의 솔루션이 있다고 가정한다.\n",
    "    - 같은 원소를 두번 사용하지 않는다.\n",
    "    \n",
    "- 파라미터\n",
    "    - nums: 정수를 가지고 있는 정렬되어 있는 리스트\n",
    "- return: 두개의 인덱스값을 가진 튜플\n",
    "\n",
    "\n",
    "***결과***\n",
    "```\n",
    "(1, 3)\n",
    "```\n"
   ]
  },
  {
   "cell_type": "code",
   "execution_count": 3,
   "metadata": {
    "ExecuteTime": {
     "end_time": "2022-05-09T05:27:13.822115Z",
     "start_time": "2022-05-09T05:27:13.818125Z"
    }
   },
   "outputs": [
    {
     "name": "stdout",
     "output_type": "stream",
     "text": [
      "(1, 3)\n"
     ]
    }
   ],
   "source": [
    "# 두 개의 수 꺼내서 target을 만들 수 있는지\n",
    "# 일단 선형탐색으로 풀어보기\n",
    "\n",
    "def find_two_sum1(nums, target):\n",
    "    for i in range(len(nums)):\n",
    "        for j in range(i+1, len(nums)): # len(nums)로 돌릴 때나 start를 지정해주나 여전히 O(N)\n",
    "            if nums[i] + nums[j] == target:\n",
    "                return(i, j)\n",
    "\n",
    "print(find_two_sum1([2, 7, 11, 15], 22))\n"
   ]
  },
  {
   "cell_type": "markdown",
   "metadata": {},
   "source": [
    "## 문제4\n",
    "\n",
    "이진 탐색을 이용하여,\n",
    "\n",
    "덧셈을 하여 타겟을 만들 수 있는 배열의 두 숫자 인덱스를 리턴하라.\n",
    "\n",
    "- 제한 사항\n",
    "    - 단 하나의 솔루션이 있다고 가정한다.\n",
    "    - 같은 원소를 두번 사용하지 않는다.\n",
    "    \n",
    "- 파라미터\n",
    "    - nums: 정수를 가지고 있는 정렬되어 있는 리스트\n",
    "- return: 두개의 인덱스값을 가진 튜플\n",
    "\n",
    "\n",
    "***결과***\n",
    "```\n",
    "(1, 3)\n",
    "```\n"
   ]
  },
  {
   "cell_type": "code",
   "execution_count": 5,
   "metadata": {
    "ExecuteTime": {
     "end_time": "2022-05-09T01:14:34.842516Z",
     "start_time": "2022-05-09T01:14:34.827589Z"
    }
   },
   "outputs": [
    {
     "name": "stdout",
     "output_type": "stream",
     "text": [
      "(1, 3)\n"
     ]
    }
   ],
   "source": [
    "def find_two_sum2(nums, target):\n",
    "    for i, v in enumerate(nums):\n",
    "        left = i + 1 # start\n",
    "        right = len(nums) - 1\n",
    "        expected = target - v # v: i에 있는 값\n",
    "        \n",
    "        # expected가 nums안에 있는지 Binary Search\n",
    "        while left <= right:\n",
    "            mid = ( left + right ) // 2\n",
    "            if nums[mid] < expected:\n",
    "                left = mid + 1\n",
    "            elif nums[mid] > expected:\n",
    "                right = mid - 1\n",
    "            else: # 같으면(크지도 같지도 않으면) 발견된 것\n",
    "                return i, mid \n",
    "\n",
    "print(find_two_sum2([2, 7, 11, 15], 22))\n"
   ]
  }
 ],
 "metadata": {
  "kernelspec": {
   "display_name": "Python 3",
   "language": "python",
   "name": "python3"
  },
  "language_info": {
   "codemirror_mode": {
    "name": "ipython",
    "version": 3
   },
   "file_extension": ".py",
   "mimetype": "text/x-python",
   "name": "python",
   "nbconvert_exporter": "python",
   "pygments_lexer": "ipython3",
   "version": "3.8.5"
  },
  "latex_envs": {
   "LaTeX_envs_menu_present": true,
   "autoclose": false,
   "autocomplete": true,
   "bibliofile": "biblio.bib",
   "cite_by": "apalike",
   "current_citInitial": 1,
   "eqLabelWithNumbers": true,
   "eqNumInitial": 1,
   "hotkeys": {
    "equation": "Ctrl-E",
    "itemize": "Ctrl-I"
   },
   "labels_anchors": false,
   "latex_user_defs": false,
   "report_style_numbering": false,
   "user_envs_cfg": false
  },
  "toc": {
   "base_numbering": 1,
   "nav_menu": {},
   "number_sections": true,
   "sideBar": true,
   "skip_h1_title": false,
   "title_cell": "Table of Contents",
   "title_sidebar": "Contents",
   "toc_cell": true,
   "toc_position": {},
   "toc_section_display": true,
   "toc_window_display": false
  }
 },
 "nbformat": 4,
 "nbformat_minor": 2
}
