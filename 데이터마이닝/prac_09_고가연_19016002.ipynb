{
 "cells": [
  {
   "cell_type": "markdown",
   "metadata": {
    "toc": true
   },
   "source": [
    "<h1>Table of Contents<span class=\"tocSkip\"></span></h1>\n",
    "<div class=\"toc\"><ul class=\"toc-item\"><li><span><a href=\"#파일-이름에서-'학번'을-자신의-학번으로,-'이름'을-자신의-이름으로-고치시오.\" data-toc-modified-id=\"파일-이름에서-'학번'을-자신의-학번으로,-'이름'을-자신의-이름으로-고치시오.-1\"><span class=\"toc-item-num\">1&nbsp;&nbsp;</span>파일 이름에서 '학번'을 자신의 학번으로, '이름'을 자신의 이름으로 고치시오.</a></span></li><li><span><a href=\"#문제1\" data-toc-modified-id=\"문제1-2\"><span class=\"toc-item-num\">2&nbsp;&nbsp;</span>문제1</a></span></li><li><span><a href=\"#문제2\" data-toc-modified-id=\"문제2-3\"><span class=\"toc-item-num\">3&nbsp;&nbsp;</span>문제2</a></span></li></ul></div>"
   ]
  },
  {
   "cell_type": "code",
   "execution_count": 15,
   "metadata": {
    "ExecuteTime": {
     "end_time": "2019-09-10T04:00:05.497613Z",
     "start_time": "2019-09-10T04:00:05.491632Z"
    }
   },
   "outputs": [
    {
     "data": {
      "text/html": [
       "<style>.container { width:95% !important; }</style>"
      ],
      "text/plain": [
       "<IPython.core.display.HTML object>"
      ]
     },
     "metadata": {},
     "output_type": "display_data"
    },
    {
     "data": {
      "text/html": [
       "<style>.input_area pre {font-family: Consolas; font-size: 15pt; line-height: 140%; font-weight: bold}</style>"
      ],
      "text/plain": [
       "<IPython.core.display.HTML object>"
      ]
     },
     "metadata": {},
     "output_type": "display_data"
    },
    {
     "data": {
      "text/html": [
       "<style>.output_area pre {font-family: Consolas; font-size: 15pt; line-height: 140%;}</style>"
      ],
      "text/plain": [
       "<IPython.core.display.HTML object>"
      ]
     },
     "metadata": {},
     "output_type": "display_data"
    }
   ],
   "source": [
    "from IPython.core.display import display, HTML\n",
    "display(HTML(\"<style>.container { width:95% !important; }</style>\"))\n",
    "display(HTML(\"<style>.input_area pre {font-family: Consolas; font-size: 15pt; line-height: 140%; font-weight: bold}</style>\"))\n",
    "display(HTML(\"<style>.output_area pre {font-family: Consolas; font-size: 15pt; line-height: 140%;}</style>\"))\n"
   ]
  },
  {
   "cell_type": "markdown",
   "metadata": {},
   "source": [
    "# 파일 이름에서 '학번'을 자신의 학번으로, '이름'을 자신의 이름으로 고치시오."
   ]
  },
  {
   "cell_type": "markdown",
   "metadata": {},
   "source": [
    "# 문제1\n",
    "\n",
    "바텀업(DP 테이블) 방식으로 피보나치 수열을 항을 구하는 함수를 작성하시오.\n",
    "\n",
    "- 파라미터\n",
    "    - x: 피보나치 수열의 항 번호\n",
    "- 리턴\n",
    "    - 피보나치 수열의 항 값\n",
    "\n",
    "***결과***\n",
    "```\n",
    "2\n",
    "3\n",
    "9227465\n",
    "```"
   ]
  },
  {
   "cell_type": "code",
   "execution_count": 14,
   "metadata": {
    "ExecuteTime": {
     "end_time": "2022-05-23T05:03:31.705104Z",
     "start_time": "2022-05-23T05:03:31.686155Z"
    }
   },
   "outputs": [
    {
     "name": "stdout",
     "output_type": "stream",
     "text": [
      "2\n",
      "3\n",
      "9227465\n"
     ]
    }
   ],
   "source": [
    "def fibo_bottomup(x):\n",
    "    d = [0] * (x+1) # dp테이블을 몇 개 만들어야 하는가? x개수에 +1한 만큼\n",
    "    d[1] = 1\n",
    "    d[2] = 1\n",
    "    \n",
    "    for i in range(3, x+1): # len(d)\n",
    "        d[i] = d[i-1] + d[i-2]\n",
    "        \n",
    "    return d[x]\n",
    "\n",
    "# 아래는 수정하지 마시오.\n",
    "print(fibo_bottomup(3))\n",
    "print(fibo_bottomup(4))\n",
    "print(fibo_bottomup(35))\n"
   ]
  },
  {
   "cell_type": "markdown",
   "metadata": {},
   "source": [
    "# 문제2\n",
    "\n",
    "```1로 만들기``` 문제풀이를 함수 형태로 구현하시오.\n",
    "\n",
    "```\n",
    "정수 n이 주어졌을 때, 정수 n에 사용할 수 있는 연산은 다음과 같이 4가지입니다.\n",
    "    - n이 5로 나누어 떨어지면, 5로 나눕니다.\n",
    "    - n이 3으로 나누어 떨어지면, 3으로 나눕니다.\n",
    "    - n이 2로 나누어 떨어지면, 2로 나눕니다.\n",
    "    - n에서 1을 뺍니다.\n",
    "\n",
    "정수 n이 주어졌을 때, 연산 4개를 적절히 사용해서 값을 1로 만들고자 합니다. 연산을 사용하는 횟수의 최솟값을 리턴하시오.\n",
    "\n",
    "```\n",
    "\n",
    "- parameter\n",
    "    - n: 정수 (1<= n <= 30000)\n",
    "- return\n",
    "    - 연산을 하는 횟수의 최소값\n",
    "\n",
    "***결과***\n",
    "```\n",
    "3\n",
    "6\n",
    "```\n"
   ]
  },
  {
   "cell_type": "code",
   "execution_count": 13,
   "metadata": {
    "ExecuteTime": {
     "end_time": "2022-05-23T05:04:15.164370Z",
     "start_time": "2022-05-23T05:04:15.147416Z"
    }
   },
   "outputs": [
    {
     "name": "stdout",
     "output_type": "stream",
     "text": [
      "3\n",
      "6\n"
     ]
    }
   ],
   "source": [
    "# 일단 dp테이블 만들고 시작\n",
    "def make_one(n):\n",
    "    d = [0] * (n+1) # 오오,,\n",
    "    # a0는 필요 없음\n",
    "    # d[1] = 0 # 초기값 a1 == 0\n",
    "    \n",
    "    # i % 2 == 0\n",
    "    ## i를 2로 나눈 몫: i/2가 아닌 i//2 로 작성해야함.\n",
    "    # 정수여야 하기 때문\n",
    "    \n",
    "    \n",
    "    # 점화식 전까지만....\n",
    "    # dp테이블을 for문으로 채워나가는 것임.\n",
    "    for i in range(2, n+1):\n",
    "        # -1, //2, //3, //5\n",
    "        \n",
    "        c = [d[i-1]] # 4가지 계산 후의 dp테이블의 값을 모아둘 list.. !!!\n",
    "        for j in [2,3,5]:\n",
    "            if i % j == 0: # for문으로 c에 값들 추가....\n",
    "                c.append(d[i//j])\n",
    "        # c는 4개 중 가능한 애들이 모인 값\n",
    "        \n",
    "        d[i] = min(c) + 1\n",
    "    return d[n]\n",
    "    \n",
    "#     for i in range(2, len(d)):\n",
    "#         if i % 2 == 0 or i % 3 == 0 or i % 5 == 0:\n",
    "#             d[i] = min(i-1, ... ) + 1\n",
    "        \n",
    "#     return d[n]\n",
    "\n",
    "print(make_one(26))\n",
    "print(make_one(111))\n"
   ]
  }
 ],
 "metadata": {
  "kernelspec": {
   "display_name": "Python 3",
   "language": "python",
   "name": "python3"
  },
  "language_info": {
   "codemirror_mode": {
    "name": "ipython",
    "version": 3
   },
   "file_extension": ".py",
   "mimetype": "text/x-python",
   "name": "python",
   "nbconvert_exporter": "python",
   "pygments_lexer": "ipython3",
   "version": "3.8.5"
  },
  "latex_envs": {
   "LaTeX_envs_menu_present": true,
   "autoclose": false,
   "autocomplete": true,
   "bibliofile": "biblio.bib",
   "cite_by": "apalike",
   "current_citInitial": 1,
   "eqLabelWithNumbers": true,
   "eqNumInitial": 1,
   "hotkeys": {
    "equation": "Ctrl-E",
    "itemize": "Ctrl-I"
   },
   "labels_anchors": false,
   "latex_user_defs": false,
   "report_style_numbering": false,
   "user_envs_cfg": false
  },
  "toc": {
   "base_numbering": 1,
   "nav_menu": {},
   "number_sections": true,
   "sideBar": true,
   "skip_h1_title": false,
   "title_cell": "Table of Contents",
   "title_sidebar": "Contents",
   "toc_cell": true,
   "toc_position": {},
   "toc_section_display": true,
   "toc_window_display": false
  }
 },
 "nbformat": 4,
 "nbformat_minor": 2
}
