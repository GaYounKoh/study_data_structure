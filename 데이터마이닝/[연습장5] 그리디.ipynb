{
 "cells": [
  {
   "cell_type": "code",
   "execution_count": 2,
   "metadata": {},
   "outputs": [
    {
     "name": "stdout",
     "output_type": "stream",
     "text": [
      "25\n",
      "24\n",
      "8\n",
      "7\n",
      "6\n",
      "2\n"
     ]
    }
   ],
   "source": [
    "n = 25\n",
    "k = 3\n",
    "res = 0\n",
    "while n>1:\n",
    "    print(n)\n",
    "    if n%k == 0:\n",
    "        res += 1\n",
    "        n //= k\n",
    "    else:\n",
    "        res+=1\n",
    "        n-=1"
   ]
  },
  {
   "cell_type": "code",
   "execution_count": 5,
   "metadata": {},
   "outputs": [
    {
     "name": "stdout",
     "output_type": "stream",
     "text": [
      "25\n",
      "24\n",
      "8\n",
      "7\n",
      "6\n",
      "2\n"
     ]
    }
   ],
   "source": [
    "n = 25\n",
    "k = 3\n",
    "res = 0\n",
    "while n!=1:\n",
    "    print(n)\n",
    "    if n%k == 0:\n",
    "        res += 1\n",
    "        n //= k\n",
    "    else:\n",
    "        res+=1\n",
    "        n-=1"
   ]
  },
  {
   "cell_type": "code",
   "execution_count": 9,
   "metadata": {},
   "outputs": [
    {
     "name": "stdout",
     "output_type": "stream",
     "text": [
      "1\n",
      "2\n",
      "3\n",
      "4\n",
      "5\n"
     ]
    }
   ],
   "source": [
    "s = '12345'\n",
    "for i in range(len(s)):\n",
    "    print(s[i])\n",
    "    "
   ]
  },
  {
   "cell_type": "code",
   "execution_count": null,
   "metadata": {},
   "outputs": [],
   "source": []
  }
 ],
 "metadata": {
  "interpreter": {
   "hash": "e4cfef919f511c0e3a05919ed86dab4fa959f970f2723dae87eeb918be14f5f0"
  },
  "kernelspec": {
   "display_name": "Python 3.8.8 ('base')",
   "language": "python",
   "name": "python3"
  },
  "language_info": {
   "codemirror_mode": {
    "name": "ipython",
    "version": 3
   },
   "file_extension": ".py",
   "mimetype": "text/x-python",
   "name": "python",
   "nbconvert_exporter": "python",
   "pygments_lexer": "ipython3",
   "version": "3.8.8"
  },
  "orig_nbformat": 4
 },
 "nbformat": 4,
 "nbformat_minor": 2
}
