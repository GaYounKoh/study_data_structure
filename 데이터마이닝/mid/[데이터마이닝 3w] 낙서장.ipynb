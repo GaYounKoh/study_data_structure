{
 "cells": [
  {
   "cell_type": "code",
   "execution_count": 2,
   "id": "c4788da7",
   "metadata": {},
   "outputs": [
    {
     "data": {
      "text/plain": [
       "6"
      ]
     },
     "execution_count": 2,
     "metadata": {},
     "output_type": "execute_result"
    }
   ],
   "source": [
    "N = 25\n",
    "K = 3\n",
    "cnt = 0\n",
    "while N!=1:\n",
    "    cnt+=1\n",
    "    if N%K == 0:\n",
    "        N //= K\n",
    "    else:\n",
    "        N -= 1\n",
    "cnt"
   ]
  },
  {
   "cell_type": "code",
   "execution_count": 5,
   "id": "d60a22f8",
   "metadata": {},
   "outputs": [
    {
     "data": {
      "text/plain": [
       "9"
      ]
     },
     "execution_count": 5,
     "metadata": {},
     "output_type": "execute_result"
    }
   ],
   "source": [
    "# N = 25\n",
    "# K = 3\n",
    "# cnt = N//K + N%K\n",
    "\n",
    "# cnt"
   ]
  },
  {
   "cell_type": "code",
   "execution_count": 9,
   "id": "14d716c0",
   "metadata": {},
   "outputs": [
    {
     "data": {
      "text/plain": [
       "1"
      ]
     },
     "execution_count": 9,
     "metadata": {},
     "output_type": "execute_result"
    }
   ],
   "source": [
    "inputs = '123'#input('숫자열입력, len 20 이하')\n",
    "# inputs.split()\n",
    "result = int(inputs[0])\n",
    "result"
   ]
  },
  {
   "cell_type": "code",
   "execution_count": null,
   "id": "2f025c56",
   "metadata": {},
   "outputs": [],
   "source": [
    "# 문제 1 내 방법으로 다시 풀어보기\n",
    "#         if i == 0:\n",
    "#             f = prices[i]\n",
    "        \n",
    "#         else:\n",
    "#             if f <= i\n",
    "#             r += i-f\n",
    "#             pass"
   ]
  },
  {
   "cell_type": "code",
   "execution_count": null,
   "id": "8f2e55fc",
   "metadata": {},
   "outputs": [],
   "source": [
    "# 문제 2 내 방법으로 다시 풀어보기\n",
    "#     g.sort()\n",
    "#     s.sort()\n",
    "#     r = 0\n",
    "#     for i in g:\n",
    "#         if i <= j:\n",
    "#             r+=1\n"
   ]
  }
 ],
 "metadata": {
  "kernelspec": {
   "display_name": "Python 3",
   "language": "python",
   "name": "python3"
  },
  "language_info": {
   "codemirror_mode": {
    "name": "ipython",
    "version": 3
   },
   "file_extension": ".py",
   "mimetype": "text/x-python",
   "name": "python",
   "nbconvert_exporter": "python",
   "pygments_lexer": "ipython3",
   "version": "3.8.5"
  },
  "latex_envs": {
   "LaTeX_envs_menu_present": true,
   "autoclose": false,
   "autocomplete": true,
   "bibliofile": "biblio.bib",
   "cite_by": "apalike",
   "current_citInitial": 1,
   "eqLabelWithNumbers": true,
   "eqNumInitial": 1,
   "hotkeys": {
    "equation": "Ctrl-E",
    "itemize": "Ctrl-I"
   },
   "labels_anchors": false,
   "latex_user_defs": false,
   "report_style_numbering": false,
   "user_envs_cfg": false
  },
  "toc": {
   "base_numbering": 1,
   "nav_menu": {},
   "number_sections": true,
   "sideBar": true,
   "skip_h1_title": false,
   "title_cell": "Table of Contents",
   "title_sidebar": "Contents",
   "toc_cell": false,
   "toc_position": {},
   "toc_section_display": true,
   "toc_window_display": false
  }
 },
 "nbformat": 4,
 "nbformat_minor": 5
}
