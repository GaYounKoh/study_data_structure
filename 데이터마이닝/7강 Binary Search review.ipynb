{
 "cells": [
  {
   "cell_type": "markdown",
   "metadata": {},
   "source": [
    "# Bisect_left 직접 구현하기\n",
    "* Bisect_left: 찾는 값이 리스트 내에 여러개 존재한다면 그 제일 왼쪽에 그 값과 같은 값을 추가할 수 있는 위치"
   ]
  },
  {
   "cell_type": "code",
   "execution_count": null,
   "metadata": {},
   "outputs": [],
   "source": [
    "\n",
    "def my_bisect_left(nums, target):\n",
    "    start = 0\n",
    "    end = len(nums) -1\n",
    "    \n",
    "    # 타겟 찾기\n",
    "    while start <= end:\n",
    "        \n",
    "        # 타겟 만났을 때는 idx가 더 작은 부분이 있는지 확인\n",
    "        \n",
    "        mid = (start + end)//2\n",
    "        # 오른쪽, 왼쪽 검색, 어떤 때 왼쪽; 어떤 때 오른쪽인지가 문제\n",
    "\n",
    "        # 오른쪽 검색할 때는 target이 mid보다 더 클 때임.\n",
    "        if nums[mid] < target:\n",
    "            start = mid +1      # 오른쪽 검색할 때는 start를 바꿈. (mid보다 오른쪽으로)\n",
    "            \n",
    "        # target이 mid보다 작거나 같을 때는, 왼쪽에서 다시 검색.\n",
    "        else:\n",
    "            end = mid -1        # 왼쪽 검색할 때는 end를 바꿈 (mid보다 왼쪽으로)\n",
    "            \n",
    "    return start\n",
    "\n",
    "print(my_bisect_left([1], 3)) # nums 내에 3이 없는데, 1보다 3이 크므로, 오른쪽이 답\n",
    "print(my_bisect_left([1,2,3], 3))\n",
    "print(my_bisect_left([1,1,2,2,2,3], 2)) # mid에서 2를 발견한 경우 더 왼쪽 검색\n"
   ]
  },
  {
   "cell_type": "markdown",
   "metadata": {},
   "source": [
    "# 예산문제\n",
    "정해진 총액 이하에서 가능한한 최대의 총 예산 배정 <br>\n",
    "모든 요청이 배정될 수 없는 경우 특정한 상한액 계산하여 그 이상인 예산 요청에는 모두 상한액만을 배정 <br>\n",
    "\n",
    "N: 지방 수, 3<=N<=1_0000 <br>\n",
    "**(수업시간에서 풀 때 지방 수는 그냥 len으로 해결) <br>\n",
    "각 지방의 예산요청 list <br>\n",
    "M: 총 예산"
   ]
  },
  {
   "cell_type": "code",
   "execution_count": null,
   "metadata": {},
   "outputs": [],
   "source": [
    "# 이진탐색, 떡 자르기 문제,,,와 유사\n",
    "# 한 도시에 줄수 있는 예상액이 정해져있고, 상한액을 얼마를 해야 예산액 각 도시에 최대한 많이 해줄 수 있는가\n",
    "def solve(demand, budget):\n",
    "    # 검색범위 설정\n",
    "    start = 0 # arr의 최솟값이 0일 수 있으므로, 내가 생각한 건 min(demand)였는데, 교수님 말씀이랑 같은 생각인듯.\n",
    "    end = max(demand)\n",
    "    \n",
    "    res = 0\n",
    "    \n",
    "    # 파라메트릭 탐색\n",
    "    while start <= end:\n",
    "        \n",
    "        total = 0 # 지급할 예산의 합, 매 while문 마다 초기화돼야하므로 while문 안에 들어가기!!\n",
    "        \n",
    "        # 커트라인 설정\n",
    "        mid = (start + end) // 2 # 상한액(커트라인)\n",
    "        \n",
    "        for x in demand:\n",
    "            if x > mid: # 요구한 금액이 상한액보다 더 큰 경우\n",
    "                total += mid # 줄 수 있는게 상한액이다.\n",
    "            \n",
    "            else: # 상한 안넘었을 때\n",
    "                total += x\n",
    "                \n",
    "        # 검색 범위 바꾸기\n",
    "        if total > budget: # 예산 오버할 수 없으므로 답(res) 없음. 현재의 mid보다 더 적게\n",
    "            end = mid -1\n",
    "        \n",
    "        else:\n",
    "            res = mid\n",
    "            start = mid +1\n",
    "\n",
    "    return res\n",
    "print(solve([120, 110, 140, 150], 485))\n",
    "print(solve([70, 80, 30, 40, 100], 450))"
   ]
  },
  {
   "cell_type": "markdown",
   "metadata": {},
   "source": [
    "이진 탐색을 이용해, <br>\n",
    "덧셈을 하여 타겟을 만들 수 있는 배열의 두 숫자 인덱스 리턴 <br>\n",
    "* 제한 사항\n",
    "    * 단 하나의 솔루션이 있다고 가정한다.\n",
    "    * 같은 원소를 두 번 사용하지 않는다. <br>\n",
    "* 파라미터\n",
    "    * nums: 정수를 가지고 있는 정렬되어 있는 리스트 <br>\n",
    "* return: 두 개의 인덱스 값을 가진 튜플"
   ]
  },
  {
   "cell_type": "code",
   "execution_count": null,
   "metadata": {},
   "outputs": [],
   "source": [
    "def find_two_sum2(nums, target):\n",
    "    for i, v in enumerate(nums):\n",
    "        left = i + 1            # start\n",
    "        right = len(nums) - 1\n",
    "        expected = target - v   # v: i에 있는 값\n",
    "        \n",
    "        # expected가 nums안에 있는지 Binary Search\n",
    "        while left <= right:\n",
    "            mid = ( left + right ) // 2\n",
    "            if nums[mid] < expected:\n",
    "                left = mid + 1\n",
    "            elif nums[mid] > expected:\n",
    "                right = mid - 1\n",
    "            else:               # 같으면(크지도 같지도 않으면) 발견된 것\n",
    "                return i, mid \n",
    "\n",
    "print(find_two_sum2([2, 7, 11, 15], 22))"
   ]
  },
  {
   "cell_type": "code",
   "execution_count": null,
   "metadata": {},
   "outputs": [],
   "source": []
  },
  {
   "cell_type": "markdown",
   "metadata": {},
   "source": [
    "# 이진 탐색 소스코드 재귀적 구현"
   ]
  },
  {
   "cell_type": "code",
   "execution_count": null,
   "metadata": {},
   "outputs": [],
   "source": [
    "def binary_search(array, target, start, end):\n",
    "    if start > end:\n",
    "        return None\n",
    "    mid = (start + end) // 2\n",
    "\n",
    "    # 찾은 경우 (mid를 기준으로 계속 찾으므로 mid==target이어야 찾은 것)\n",
    "        # 중간점 인덱스 반환\n",
    "    if array[mid] == target:\n",
    "        return mid\n",
    "    \n",
    "    # 중간점의 값보다 찾고자 하는 값이 <<작은>> 경우, mid의 <<왼쪽>> 확인.\n",
    "    elif array[mid] > target:\n",
    "        return binary_search(array, target, start, mid-1)\n",
    "\n",
    "    # 중간점의 값보다 찾고자 하는 값이 <<큰>> 경우, mid의 <<오른쪽>> 확인.\n",
    "    else:\n",
    "        return binary_search(array, target, mid+1, end)\n",
    "\n",
    "\n",
    "\n",
    "\n",
    "# n (원소의 개수)과 target (찾고자 하는 값)을 입력받기\n",
    "n, target = list(map(int, input('# 입력 예시: 10 7: ').split()))\n",
    "\n",
    "# 전체 원소 입력 받기\n",
    "array = list(map(int, input('# 입력 예시: 1 3 5 7 9 11 13 15 17 19 ;;; 1 3 5 6 9 11 13 15 17 19: ').split()))\n",
    "\n",
    "\n",
    "# 이진 탐색 수행 결과 출력\n",
    "result = binary_search(array, target, 0, n-1)\n",
    "if result == None:\n",
    "    print('원소 존재하지 않음.')\n",
    "\n",
    "else:\n",
    "    print(result + 1)\n"
   ]
  },
  {
   "cell_type": "markdown",
   "metadata": {},
   "source": [
    "# 이진 탐색 소스코드 반복문 구현 (더 간단)"
   ]
  },
  {
   "cell_type": "code",
   "execution_count": null,
   "metadata": {},
   "outputs": [],
   "source": [
    "def binary_search(array, target, start, end):\n",
    "    while start <= end:\n",
    "        mid = (start + end) // 2\n",
    "\n",
    "        if array[mid] == target:\n",
    "            return mid\n",
    "        \n",
    "        elif array[mid] > target:\n",
    "            end = mid - 1\n",
    "\n",
    "        else:\n",
    "            start = mid + 1\n",
    "    return None\n",
    "\n",
    "\n",
    "\n",
    "\n",
    "# n (원소의 개수)과 target (찾고자 하는 값)을 입력받기\n",
    "n, target = list(map(int, input('# 입력 예시: 10 7: ').split()))\n",
    "\n",
    "# 전체 원소 입력 받기\n",
    "array = list(map(int, input('# 입력 예시: 1 3 5 7 9 11 13 15 17 19 ;;; 1 3 5 6 9 11 13 15 17 19: ').split()))\n",
    "\n",
    "\n",
    "# 이진 탐색 수행 결과 출력\n",
    "result = binary_search(array, target, 0, n-1)\n",
    "if result == None:\n",
    "    print('원소 존재하지 않음.')\n",
    "\n",
    "else:\n",
    "    print(result + 1)\n"
   ]
  },
  {
   "cell_type": "markdown",
   "metadata": {},
   "source": [
    "# 정렬된 배열에서 특정 수의 개수 구하기\n",
    "* N개의 원소를 포함하고 있는 수열이 오름차순으로 정렬되어 있다. <br>\n",
    "이때 이 수열에서 x가 등장하는 횟수? <br>\n",
    "<br>\n",
    "예를 들어 수열 {1,1,2,2,2,2,3}이 있을 때, x=2라면, 현재 수열에서 값이 2인 원소가 4개이므로, 4 출력. <br>\n",
    "<br>\n",
    "* 단, 시간복잡도 O(logN) <br>"
   ]
  },
  {
   "cell_type": "code",
   "execution_count": null,
   "metadata": {},
   "outputs": [],
   "source": [
    "from bisect import bisect_left, bisect_right\n",
    "\n",
    "def count_by_range(array, left_value, right_value):\n",
    "    R_idx = bisect_right(array, right_value)\n",
    "    L_idx = bisect_right(array, left_value)\n",
    "\n",
    "    return R_idx - L_idx\n",
    "\n",
    "\n",
    "\n",
    "N, x = map(int, input('입력 예시: 7 2: ').split()) # x는 타깃\n",
    "# 등장횟수는 bisect오른쪽 - bisect왼쪽 해서 구하는 것\n",
    "lst = list(map(int, input('입력 예시: 1 1 2 2 2 2 3: ').split()))\n",
    "\n",
    "# 값이 [x, x] 범위에 있는 데이터의 개수 계산\n",
    "count = count_by_range(lst, x, x)\n",
    "\n",
    "# 값이 x인 원소가 존재하지 않는다면\n",
    "if count == 0:\n",
    "    print(-1)\n",
    "\n",
    "# 값이 x인 원소가 존재한다면\n",
    "else:\n",
    "    print(count)"
   ]
  }
 ],
 "metadata": {
  "interpreter": {
   "hash": "0a54084e6b208ee8d1ce3989ffc20924477a5f55f5a43e22e699a6741623861e"
  },
  "kernelspec": {
   "display_name": "Python 3.7.8 64-bit",
   "language": "python",
   "name": "python3"
  },
  "language_info": {
   "codemirror_mode": {
    "name": "ipython",
    "version": 3
   },
   "file_extension": ".py",
   "mimetype": "text/x-python",
   "name": "python",
   "nbconvert_exporter": "python",
   "pygments_lexer": "ipython3",
   "version": "3.7.8"
  },
  "orig_nbformat": 4
 },
 "nbformat": 4,
 "nbformat_minor": 2
}
