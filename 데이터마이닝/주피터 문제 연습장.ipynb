{
 "cells": [
  {
   "cell_type": "markdown",
   "metadata": {},
   "source": [
    "# [DFS]\n",
    "## 서로 다른 원소를 가지는 리스트를 입력으로 받아서 가능한 모든 순열 리턴하기"
   ]
  },
  {
   "cell_type": "code",
   "execution_count": 1,
   "metadata": {},
   "outputs": [
    {
     "name": "stdout",
     "output_type": "stream",
     "text": [
      "[['A', 'B'], ['B', 'A']]\n"
     ]
    }
   ],
   "source": [
    "# 왼쪽에서 삭제해서 done에 추가\n",
    "def permute(items):\n",
    "    results = [] # 최종 완성된 순열\n",
    "\n",
    "    # 안에서 함수를 정의하고 안에서 함수를 호출하는....\n",
    "    \n",
    "    def dfs(items, done): # done : 매개변수\n",
    "        # done이 완성된 순열이면 results에 넣는다.\n",
    "        if not items: # done 완성 = items 텅텅\n",
    "            results.append(done)\n",
    "        else:\n",
    "            # 하...나를 뽑아서 done의 오른쪽에 삽입\n",
    "            for i in range(len(items)):\n",
    "                # items[0:i] + items[i+1:] # items에서 인덱스 i원소 삭제된 새로운 리스트,,, 원래 items 리스트는 건들지 않고..., \n",
    "                # done+[items[i]] # 왜 done을 바로 바꾸지 않는지에 대해서,,, 기존 done은 지켜야 하기 때문. append는 바로 리턴이라 안쓰는 것.\n",
    "                dfs(items[0:i]+items[i+1:], done+[items[i]]) # done옆에 items에서 하나 뽑아서 붙이기\n",
    "    dfs(items, []) # items는 주어지고, done은 비어있음. (채워나가는 것.)\n",
    "    return results\n",
    "\n",
    "print(permute(['A', 'B']))"
   ]
  },
  {
   "cell_type": "markdown",
   "metadata": {},
   "source": [
    "## 모든 부분집합을 리턴하는 함수 작성\n",
    "* items에는 모두 다른 원소들이 들어 있다."
   ]
  },
  {
   "cell_type": "code",
   "execution_count": 1,
   "metadata": {},
   "outputs": [
    {
     "name": "stdout",
     "output_type": "stream",
     "text": [
      "[[]]\n",
      "[[0], []]\n",
      "[[0, 1], [0], [1], []]\n",
      "[[0, 1, 2], [0, 1], [0, 2], [0], [1, 2], [1], [2], []]\n"
     ]
    }
   ],
   "source": [
    "# 오른쪽의 부분집합만들기\n",
    "# 함수 탐색 트리를 만들어야\n",
    "# 언제 종료할 지 부터!!! idx가 끝에 오면 끝!!!\n",
    "def subsets(items):\n",
    "    results = [] # 완성된 부분집합들 받는 list\n",
    "    def dfs(subset, i):     # subset: 현재 만들고 있는 중인 부분집합 (tmp), 다 만들면 results에 subset넣기\n",
    "                            # i: 있다 없다 처리할 idx 번호\n",
    "        # subset이 완성되면 results에 추가\n",
    "        if i == len(items):\n",
    "            results.append(subset[:]) # subset은 공유하므로 새로운 subset을 업데이트를 해줘야함.\n",
    "                                    # 새롭게 만드는 방법은 list[:]가 있고, .copy()가 있음.\n",
    "        else:\n",
    "            # i가 있는 경우와 없는 경우를 나누어서 dfs 재귀 호출\n",
    "            ### i가 있는 경우 (i위치의 원소를 sebset에 넣어주기)\n",
    "            subset.append(items[i]) # 자체를 바꾸는 것이기 때문\n",
    "\n",
    "            # i 처리 후 i+1의 원소에 대한 재귀함수 실시... i+1 번째로 가는 것은 재귀함수를 통해...\n",
    "            dfs(subset, i+1)\n",
    "\n",
    "            ### i가 없는 경우 어떻게 재귀호출을 해야하나... (***이 문제의 하이라이트***)\n",
    "            subset.pop() # 기존에 넣었던 걸 빼는 과정이 필요        # 뒤로가기...?\n",
    "            dfs(subset, i+1) # i 처리 후 i+1의 원소에 대한 재귀함수 실시...\n",
    "        \n",
    "    dfs([], 0) # subset은 비어있고, 0번째 idx부터 확인하며 채워나가는 것. (함수 내에서 함수 정의하고 호출까지...)\n",
    "    return results\n",
    "    \n",
    "\n",
    "# 아래는 수정하지 마시오.\n",
    "print(subsets([]))\n",
    "print(subsets([0]))\n",
    "print(subsets([0,1]))\n",
    "print(subsets([0,1,2]))"
   ]
  },
  {
   "cell_type": "code",
   "execution_count": null,
   "metadata": {},
   "outputs": [],
   "source": []
  }
 ],
 "metadata": {
  "interpreter": {
   "hash": "e4cfef919f511c0e3a05919ed86dab4fa959f970f2723dae87eeb918be14f5f0"
  },
  "kernelspec": {
   "display_name": "Python 3.8.8 ('base')",
   "language": "python",
   "name": "python3"
  },
  "language_info": {
   "codemirror_mode": {
    "name": "ipython",
    "version": 3
   },
   "file_extension": ".py",
   "mimetype": "text/x-python",
   "name": "python",
   "nbconvert_exporter": "python",
   "pygments_lexer": "ipython3",
   "version": "3.8.8"
  },
  "orig_nbformat": 4
 },
 "nbformat": 4,
 "nbformat_minor": 2
}
