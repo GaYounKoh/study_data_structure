{
 "cells": [
  {
   "cell_type": "markdown",
   "metadata": {},
   "source": [
    "# [DFS]\n",
    "## 서로 다른 원소를 가지는 리스트를 입력으로 받아서 가능한 모든 순열 리턴하기"
   ]
  },
  {
   "cell_type": "code",
   "execution_count": 1,
   "metadata": {},
   "outputs": [
    {
     "name": "stdout",
     "output_type": "stream",
     "text": [
      "[['A', 'B'], ['B', 'A']]\n"
     ]
    }
   ],
   "source": [
    "# 왼쪽에서 삭제해서 done에 추가\n",
    "def permute(items):\n",
    "    results = [] # 최종 완성된 순열\n",
    "\n",
    "    # 안에서 함수를 정의하고 안에서 함수를 호출하는....\n",
    "    \n",
    "    def dfs(items, done): # done : 매개변수\n",
    "        # done이 완성된 순열이면 results에 넣는다.\n",
    "        if not items: # done 완성 = items 텅텅\n",
    "            results.append(done)\n",
    "        else:\n",
    "            # 하...나를 뽑아서 done의 오른쪽에 삽입\n",
    "            for i in range(len(items)):\n",
    "                # items[0:i] + items[i+1:] # items에서 인덱스 i원소 삭제된 새로운 리스트,,, 원래 items 리스트는 건들지 않고..., \n",
    "                # done+[items[i]] # 왜 done을 바로 바꾸지 않는지에 대해서,,, 기존 done은 지켜야 하기 때문. append는 바로 리턴이라 안쓰는 것.\n",
    "                dfs(items[0:i]+items[i+1:], done+[items[i]]) # done옆에 items에서 하나 뽑아서 붙이기\n",
    "    dfs(items, [])\n",
    "    return results\n",
    "\n",
    "print(permute(['A', 'B']))"
   ]
  },
  {
   "cell_type": "markdown",
   "metadata": {},
   "source": [
    "## 모든 부분집합을 리턴하는 함수 작성\n",
    "* items에는 모두 다른 원소들이 들어 있다."
   ]
  },
  {
   "cell_type": "code",
   "execution_count": null,
   "metadata": {},
   "outputs": [],
   "source": [
    "def subsets(items):\n",
    "    results = []\n",
    "    def dfs(subset, i):     \n",
    "        for i in subset\n",
    "    dfs([], 0)\n",
    "    return results\n",
    "    \n",
    "\n",
    "# 아래는 수정하지 마시오.\n",
    "print(subsets([]))\n",
    "print(subsets([0]))\n",
    "print(subsets([0,1]))\n",
    "print(subsets([0,1,2]))"
   ]
  }
 ],
 "metadata": {
  "interpreter": {
   "hash": "e4cfef919f511c0e3a05919ed86dab4fa959f970f2723dae87eeb918be14f5f0"
  },
  "kernelspec": {
   "display_name": "Python 3.8.8 ('base')",
   "language": "python",
   "name": "python3"
  },
  "language_info": {
   "codemirror_mode": {
    "name": "ipython",
    "version": 3
   },
   "file_extension": ".py",
   "mimetype": "text/x-python",
   "name": "python",
   "nbconvert_exporter": "python",
   "pygments_lexer": "ipython3",
   "version": "3.8.8"
  },
  "orig_nbformat": 4
 },
 "nbformat": 4,
 "nbformat_minor": 2
}
