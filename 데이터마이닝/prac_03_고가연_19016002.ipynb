{
 "cells": [
  {
   "cell_type": "code",
   "execution_count": 15,
   "metadata": {
    "ExecuteTime": {
     "end_time": "2019-09-10T04:00:05.497613Z",
     "start_time": "2019-09-10T04:00:05.491632Z"
    }
   },
   "outputs": [
    {
     "data": {
      "text/html": [
       "<style>.container { width:95% !important; }</style>"
      ],
      "text/plain": [
       "<IPython.core.display.HTML object>"
      ]
     },
     "metadata": {},
     "output_type": "display_data"
    },
    {
     "data": {
      "text/html": [
       "<style>.input_area pre {font-family: Consolas; font-size: 15pt; line-height: 140%; font-weight: bold}</style>"
      ],
      "text/plain": [
       "<IPython.core.display.HTML object>"
      ]
     },
     "metadata": {},
     "output_type": "display_data"
    },
    {
     "data": {
      "text/html": [
       "<style>.output_area pre {font-family: Consolas; font-size: 15pt; line-height: 140%;}</style>"
      ],
      "text/plain": [
       "<IPython.core.display.HTML object>"
      ]
     },
     "metadata": {},
     "output_type": "display_data"
    }
   ],
   "source": [
    "from IPython.core.display import display, HTML\n",
    "display(HTML(\"<style>.container { width:95% !important; }</style>\"))\n",
    "display(HTML(\"<style>.input_area pre {font-family: Consolas; font-size: 15pt; line-height: 140%; font-weight: bold}</style>\"))\n",
    "display(HTML(\"<style>.output_area pre {font-family: Consolas; font-size: 15pt; line-height: 140%;}</style>\"))\n"
   ]
  },
  {
   "cell_type": "markdown",
   "metadata": {},
   "source": [
    "# 파일 이름에서 '학번'을 자신의 학번으로, '이름'을 자신의 이름으로 고치시오."
   ]
  },
  {
   "cell_type": "markdown",
   "metadata": {},
   "source": [
    "## 문제1\n",
    "\n",
    "아래와 같이 출력하는 코드를 완성하시오.\n",
    "\n",
    "\n",
    "***결과***\n",
    "```\n",
    "(0, 0) (0, 1) (0, 2) (0, 3) (0, 4) \n",
    "(1, 0) (1, 1) (1, 2) (1, 3) (1, 4) \n",
    "(2, 0) (2, 1) (2, 2) (2, 3) (2, 4) \n",
    "(3, 0) (3, 1) (3, 2) (3, 3) (3, 4) \n",
    "```\n"
   ]
  },
  {
   "cell_type": "code",
   "execution_count": 24,
   "metadata": {
    "ExecuteTime": {
     "end_time": "2022-03-28T04:56:04.761265Z",
     "start_time": "2022-03-28T04:56:04.754283Z"
    },
    "scrolled": false
   },
   "outputs": [
    {
     "name": "stdout",
     "output_type": "stream",
     "text": [
      "(0, 0) (0, 1) (0, 2) (0, 3) (0, 4) \n",
      "(1, 0) (1, 1) (1, 2) (1, 3) (1, 4) \n",
      "(2, 0) (2, 1) (2, 2) (2, 3) (2, 4) \n",
      "(3, 0) (3, 1) (3, 2) (3, 3) (3, 4) \n"
     ]
    }
   ],
   "source": [
    "# row : 3까지\n",
    "# col: 4까지\n",
    "\n",
    "# 보통 row부터\n",
    "\n",
    "for i in range(4): # row\n",
    "    for j in range(5): # col\n",
    "#         print((i,j), end = ' ') \n",
    "        print(f'({i}, {j})', end = ' ') # 한 줄 다 돌고\n",
    "    print() # 띄어쓰기\n",
    "    \n",
    "    \n",
    "# 출력순서 왼쪽 위부터 오른쪽으로..."
   ]
  },
  {
   "cell_type": "markdown",
   "metadata": {},
   "source": [
    "## 문제2\n",
    "\n",
    "```\n",
    "  여행가 A는 N × N 크기의 정사각형 공간 위에 서 있습니다. 이 공간은 1 × 1 크기의 정사각형으로 나누어져 있습니다. 가장 왼쪽 위 좌표는 (1, 1)이며, 가장 오른쪽 아래 좌표는 (N, N)에 해당합니다. 여행가 A는 상, 하, 좌, 우 방향으로 이동할 수 있으며, 시작 좌표는 항상 (1, 1)입니다. 우리 앞에는 여행가 A가 이동할 계획이 적힌 계획서가 놓여 있습니다.\n",
    "\n",
    "  계획서에는 하나의 줄에 띄어쓰기를 기준으로 하여 L, R, U, D 중 하나의 문자가 반복적으로 적혀 있습니다. 각 문자의 의미는 다음과 같습니다.\n",
    "\n",
    "L: 왼쪽으로 한 칸 이동\n",
    "R: 오른쪽으로 한 칸 이동\n",
    "U: 위로 한 칸 이동\n",
    "D: 아래로 한 칸 이동\n",
    "```\n",
    "\n",
    "***결과***\n",
    "```\n",
    "(1, 2)\n",
    "(3, 4)\n",
    "```"
   ]
  },
  {
   "cell_type": "code",
   "execution_count": 30,
   "metadata": {
    "ExecuteTime": {
     "end_time": "2022-03-28T05:09:37.087245Z",
     "start_time": "2022-03-28T05:09:37.066774Z"
    }
   },
   "outputs": [
    {
     "name": "stdout",
     "output_type": "stream",
     "text": [
      "(1, 2)\n",
      "(3, 4)\n"
     ]
    }
   ],
   "source": [
    "def move_plans(n, plans):\n",
    "    plans = plans.split(' ')\n",
    "    moves = {'L': (0,-1), 'R': (0,1), 'U': (-1,0), 'D': (1,0)}\n",
    "    r = 1\n",
    "    c = 1\n",
    "    \n",
    "    for plan in plans:\n",
    "        nr = r + moves[plan][0]\n",
    "        nc = c + moves[plan][1]\n",
    "        \n",
    "        if nr > n or nc > n or nr < 1 or nc < 1:\n",
    "            continue       # pass와 continue의 차이???\n",
    "            \n",
    "        # 조건에 해당 안되면 update\n",
    "        r = nr\n",
    "        c = nc\n",
    "    return (r,c)\n",
    "# 문제 해결에 7분 12초 소요.\n",
    "\n",
    "\n",
    "print(move_plans(5, 'D D L R U U U'))\n",
    "print(move_plans(5, 'R R R U D D'))\n",
    "\n",
    "# 틀려도 됨. 15분 내로만..."
   ]
  },
  {
   "cell_type": "markdown",
   "metadata": {},
   "source": [
    "## 문제3\n",
    "\n",
    "프로그래머스 문제\n",
    "https://programmers.co.kr/learn/courses/30/lessons/68644\n",
    "\n",
    "위 문제를 풀고 코드를 붙여 넣으세요.\n",
    "\n",
    "***결과***\n",
    "```\n",
    "[2, 3, 4, 5, 6, 7]\n",
    "[2, 5, 7, 9, 12]\n",
    "```\n",
    "\n"
   ]
  },
  {
   "cell_type": "code",
   "execution_count": 1,
   "metadata": {
    "ExecuteTime": {
     "end_time": "2022-03-28T05:20:40.790247Z",
     "start_time": "2022-03-28T05:20:40.769771Z"
    },
    "scrolled": true
   },
   "outputs": [
    {
     "name": "stdout",
     "output_type": "stream",
     "text": [
      "None\n",
      "None\n"
     ]
    }
   ],
   "source": [
    "# 1단계는 어떻게 풀든 풀기만 하면 된다.\n",
    "\n",
    "# # 내 코드\n",
    "def solution(numbers):\n",
    "    ans = []\n",
    "    for i in range(len(numbers)):\n",
    "        for j in range(1, len(numbers)): # 내 코드는 계속 1부터 돌고.. 김진아씨 코드는 i+1부터 돎.... 차이가 있음.\n",
    "            if i != j:\n",
    "                num = numbers[i]+numbers[j]\n",
    "                ans.append(num)\n",
    "    ans = list(set(ans))\n",
    "    ans.sort()\n",
    "    return ans\n",
    "\n",
    "# 15분 내에 풀었다!#!~!~@~!#! +7점\n",
    "\n",
    "\n",
    "# # 교수님 방법: 그냥 하란대로\n",
    "# def solution(numbers):\n",
    "#     answer = []\n",
    "#     for i in range(len(numbers)): # range(len(list))해서 idx 받는거 익숙해지기!!\n",
    "#         for j in range(len(numbers)):\n",
    "#             if i != j: # 서로 다른 인덱스\n",
    "#                 answer.append(numbers[i] + numbers[j])\n",
    "#     return sorted(list(set(answer)))\n",
    "\n",
    "\n",
    "# # 김진아 학생 코드 # 교수님보다 2배 빠르게 짜인 코드라고 하심.\n",
    "# def solution(numbers):\n",
    "#     answer = []\n",
    "#     for i in range(len(numbers)): # range(len(list))해서 idx 받는거 익숙해지기!!\n",
    "#         for j in range(i+1, len(numbers)):\n",
    "#             answer.append(numbers[i] + numbers[j])\n",
    "#     return sorted(list(set(answer)))\n",
    "\n",
    "print(solution([2,1,3,4,1]))\n",
    "print(solution([5,0,2,7]))"
   ]
  },
  {
   "cell_type": "code",
   "execution_count": null,
   "metadata": {},
   "outputs": [],
   "source": []
  }
 ],
 "metadata": {
  "kernelspec": {
   "display_name": "Python 3",
   "language": "python",
   "name": "python3"
  },
  "language_info": {
   "codemirror_mode": {
    "name": "ipython",
    "version": 3
   },
   "file_extension": ".py",
   "mimetype": "text/x-python",
   "name": "python",
   "nbconvert_exporter": "python",
   "pygments_lexer": "ipython3",
   "version": "3.8.5"
  },
  "latex_envs": {
   "LaTeX_envs_menu_present": true,
   "autoclose": false,
   "autocomplete": true,
   "bibliofile": "biblio.bib",
   "cite_by": "apalike",
   "current_citInitial": 1,
   "eqLabelWithNumbers": true,
   "eqNumInitial": 1,
   "hotkeys": {
    "equation": "Ctrl-E",
    "itemize": "Ctrl-I"
   },
   "labels_anchors": false,
   "latex_user_defs": false,
   "report_style_numbering": false,
   "user_envs_cfg": false
  },
  "toc": {
   "base_numbering": 1,
   "nav_menu": {},
   "number_sections": true,
   "sideBar": true,
   "skip_h1_title": false,
   "title_cell": "Table of Contents",
   "title_sidebar": "Contents",
   "toc_cell": false,
   "toc_position": {},
   "toc_section_display": true,
   "toc_window_display": false
  }
 },
 "nbformat": 4,
 "nbformat_minor": 2
}
