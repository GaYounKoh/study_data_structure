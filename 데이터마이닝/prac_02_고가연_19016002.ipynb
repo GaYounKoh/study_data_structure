{
 "cells": [
  {
   "cell_type": "code",
   "execution_count": 15,
   "metadata": {
    "ExecuteTime": {
     "end_time": "2019-09-10T04:00:05.497613Z",
     "start_time": "2019-09-10T04:00:05.491632Z"
    }
   },
   "outputs": [
    {
     "data": {
      "text/html": [
       "<style>.container { width:95% !important; }</style>"
      ],
      "text/plain": [
       "<IPython.core.display.HTML object>"
      ]
     },
     "metadata": {},
     "output_type": "display_data"
    },
    {
     "data": {
      "text/html": [
       "<style>.input_area pre {font-family: Consolas; font-size: 15pt; line-height: 140%; font-weight: bold}</style>"
      ],
      "text/plain": [
       "<IPython.core.display.HTML object>"
      ]
     },
     "metadata": {},
     "output_type": "display_data"
    },
    {
     "data": {
      "text/html": [
       "<style>.output_area pre {font-family: Consolas; font-size: 15pt; line-height: 140%;}</style>"
      ],
      "text/plain": [
       "<IPython.core.display.HTML object>"
      ]
     },
     "metadata": {},
     "output_type": "display_data"
    }
   ],
   "source": [
    "from IPython.core.display import display, HTML\n",
    "display(HTML(\"<style>.container { width:95% !important; }</style>\"))\n",
    "display(HTML(\"<style>.input_area pre {font-family: Consolas; font-size: 15pt; line-height: 140%; font-weight: bold}</style>\"))\n",
    "display(HTML(\"<style>.output_area pre {font-family: Consolas; font-size: 15pt; line-height: 140%;}</style>\"))\n"
   ]
  },
  {
   "cell_type": "markdown",
   "metadata": {},
   "source": [
    "# 파일 이름에서 '학번'을 자신의 학번으로, '이름'을 자신의 이름으로 고치시오."
   ]
  },
  {
   "cell_type": "markdown",
   "metadata": {},
   "source": [
    "## 문제1\n",
    "\n",
    "파라미터 prices는 주식 가격을 시간순으로 가지고 있는 리스트이다.\n",
    "주식 매매를 통해서 가질 수 있는 최대 이득을 리턴하는 함수를 구현하시오.\n",
    "\n",
    "***결과***\n",
    "```\n",
    "7\n",
    "```\n"
   ]
  },
  {
   "cell_type": "code",
   "execution_count": 2,
   "metadata": {
    "ExecuteTime": {
     "end_time": "2022-03-21T06:51:56.209279Z",
     "start_time": "2022-03-21T06:51:56.188464Z"
    },
    "scrolled": true
   },
   "outputs": [
    {
     "name": "stdout",
     "output_type": "stream",
     "text": [
      "7\n"
     ]
    }
   ],
   "source": [
    "def maxProfit(prices): # 이득 볼 수 있는 구간에 최대 이득일 다 보는 것.이 문제의 핵심\n",
    "    r = 0 # 이득\n",
    "    for i in range(len(prices)-1): # 맨 마지막꺼는 안됨. 그 다음이 업ㅅ기 때문에, 따라서 -1을 해서 loop 돌림\n",
    "        gap = prices[i+1] - prices[i]\n",
    "#         print(gap)\n",
    "        if gap > 0:\n",
    "            r += gap\n",
    "    return r\n",
    "    pass\n",
    "\n",
    "# 아래는 수정하지 마시오.\n",
    "prices01 = [7,1,5,3,6,4]\n",
    "print(maxProfit(prices01))"
   ]
  },
  {
   "cell_type": "markdown",
   "metadata": {},
   "source": [
    "## 문제2\n",
    "\n",
    "1. 아이들 마다 쿠키를 1개씩 나누어 주려고 한다.\n",
    "1. 아이들은 각자 만족하는 쿠키의 최소 크기가 정해져 있다.\n",
    "1. 최대한 많은 아이들을 만족시키고 싶다.\n",
    "\n",
    "파라미티:\n",
    "- g: 아이들이 만족하는 최소 쿠키 크기를 담은 리스트\n",
    "- s: 쿠키들의 크기를 담은 리스트\n",
    "- return : 최대로 만족한 아이들의 수\n",
    "\n",
    "***결과***\n",
    "```\n",
    "1\n",
    "2\n",
    "2\n",
    "```\n"
   ]
  },
  {
   "cell_type": "code",
   "execution_count": 1,
   "metadata": {
    "ExecuteTime": {
     "end_time": "2022-03-21T06:52:16.518071Z",
     "start_time": "2022-03-21T06:52:16.508442Z"
    },
    "scrolled": true
   },
   "outputs": [
    {
     "name": "stdout",
     "output_type": "stream",
     "text": [
      "1\n",
      "2\n",
      "2\n"
     ]
    }
   ],
   "source": [
    "def findContentChildren(g, s): # 최소 (욕심 없는 애들) 먼저 만족시켜주고 해치워버려~~~ (sort()), s랑 g len 다를 수 있음.\n",
    "    g.sort() # g 가 바로 sort된 결과로 바뀜.\n",
    "    s.sort()\n",
    "    # 정렬부터 한 거는 잘 했음.\n",
    "    \n",
    "    i = 0 # 아이 인덱스, 동시에 cnt 인덱스\n",
    "    j = 0 # 쿠키 인덱스\n",
    "    \n",
    "    # cnt = 0\n",
    "\n",
    "    while i < len(g) and j <len(s): # 둘 다 훑는게 맞았음.. 근데 방식이 내 생각이랑 달랐음.\n",
    "        if g[i] <= s[j]: # i번째 아이가 만족\n",
    "            i += 1 # 다음 아이 선택 위해 idx update\n",
    "            # cnt += 0\n",
    "            j += 1 # 다음 쿠키 선택 위해 idx update\n",
    "        else:      # 아이 불만족시\n",
    "            j += 1 # 쿠키만 다음으로~!~!~!\n",
    "    return i # i에는 만족한 아이 수가 들어가게 코드가 짜여있음.\n",
    "    # return cnt\n",
    "    pass # while 문 끝났다면 쿠키 or 아이 둘 중 하나는 무조건 끝난 것.\n",
    "\n",
    "# 아래는 수정하지 마시오.\n",
    "print(findContentChildren([1,2,3], [1,1]))\n",
    "print(findContentChildren([1,2], [1,2,3]))\n",
    "print(findContentChildren([2,3,4], [1,5,3,1]))"
   ]
  },
  {
   "cell_type": "code",
   "execution_count": null,
   "metadata": {},
   "outputs": [],
   "source": []
  }
 ],
 "metadata": {
  "kernelspec": {
   "display_name": "Python 3",
   "language": "python",
   "name": "python3"
  },
  "language_info": {
   "codemirror_mode": {
    "name": "ipython",
    "version": 3
   },
   "file_extension": ".py",
   "mimetype": "text/x-python",
   "name": "python",
   "nbconvert_exporter": "python",
   "pygments_lexer": "ipython3",
   "version": "3.8.8"
  },
  "latex_envs": {
   "LaTeX_envs_menu_present": true,
   "autoclose": false,
   "autocomplete": true,
   "bibliofile": "biblio.bib",
   "cite_by": "apalike",
   "current_citInitial": 1,
   "eqLabelWithNumbers": true,
   "eqNumInitial": 1,
   "hotkeys": {
    "equation": "Ctrl-E",
    "itemize": "Ctrl-I"
   },
   "labels_anchors": false,
   "latex_user_defs": false,
   "report_style_numbering": false,
   "user_envs_cfg": false
  },
  "toc": {
   "base_numbering": 1,
   "nav_menu": {},
   "number_sections": true,
   "sideBar": true,
   "skip_h1_title": false,
   "title_cell": "Table of Contents",
   "title_sidebar": "Contents",
   "toc_cell": false,
   "toc_position": {},
   "toc_section_display": true,
   "toc_window_display": false
  }
 },
 "nbformat": 4,
 "nbformat_minor": 2
}
