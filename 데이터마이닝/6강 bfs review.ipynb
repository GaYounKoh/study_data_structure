{
 "cells": [
  {
   "cell_type": "markdown",
   "metadata": {},
   "source": [
    "# 멀티소스 문제 (시작 위치 여러개)\n",
    "* 토마토 문제\n",
    "1. 토마토는 격자모양 상자의 칸에 하나씩 넣어서 창고에 보관한다.\n",
    "2. 익은 토마토 & 안익은 토마토...\n",
    "3. 익은 토마토의 인접한 곳에 있는 안익은 토마토들은 하루마다 익은 토마토의 영향을 받아 익게 된다.\n",
    "4. 하나의 토마도의 인접한 곳은 상하좌우를 의미.\n",
    "5. 대각선 방향은 영향이 안가며, 저절로 익는 경우는 없다고 가정.\n",
    "6. 토마토가 다 익는 ___최소일수___? <br>\n",
    "단, 일부 칸에는 토마토가 들어있지 않을 수도 있다. <br>\n",
    "\n",
    "* 입력\n",
    "1. 상자크기 M: 가로 칸 수, N: 세로 칸 수 <br>\n",
    "2<=MN<=1000 <br>\n",
    "2. 저장된 토마토들의 정보 <br>\n",
    "1: 익은 토마토 <br>\n",
    "0: 안익은 토마토 <br>\n",
    "-1: 빈 칸 <br>\n",
    "토마토가 하나 이상 있는 경우만 입력으로 주어짐. <br>\n",
    "\n",
    "* 출력\n",
    "1. 토마토가 익을 때까지의 최소 날짜를 리턴해야.\n",
    "2. 저장될 때부터 모든 토마토가 익어있는 상태이면 0을 리턴해야,\n",
    "3. 토마토가 모두 익지는 못하는 상황이면 -1을 리턴해야.\n",
    "\n",
    "\n"
   ]
  },
  {
   "cell_type": "code",
   "execution_count": null,
   "metadata": {},
   "outputs": [],
   "source": []
  }
 ],
 "metadata": {
  "interpreter": {
   "hash": "57baa5815c940fdaff4d14510622de9616cae602444507ba5d0b6727c008cbd6"
  },
  "kernelspec": {
   "display_name": "Python 3.7.8 64-bit",
   "language": "python",
   "name": "python3"
  },
  "language_info": {
   "name": "python",
   "version": "3.7.8"
  },
  "orig_nbformat": 4
 },
 "nbformat": 4,
 "nbformat_minor": 2
}
