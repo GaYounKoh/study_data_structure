{
 "cells": [
  {
   "cell_type": "markdown",
   "metadata": {},
   "source": [
    "# 시험문제가 꽤나 ...\n",
    "함수 정의부분 제외하고는 몽땅 암기해야..."
   ]
  },
  {
   "cell_type": "code",
   "execution_count": 2,
   "metadata": {},
   "outputs": [],
   "source": [
    "from IPython.core.interactiveshell import InteractiveShell\n",
    "InteractiveShell.ast_node_interactivity = \"all\""
   ]
  },
  {
   "cell_type": "markdown",
   "metadata": {},
   "source": [
    "# 멀티소스 문제 (시작 위치 여러개)\n",
    "* 토마토 문제\n",
    "1. 토마토는 격자모양 상자의 칸에 하나씩 넣어서 창고에 보관한다.\n",
    "2. 익은 토마토 & 안익은 토마토...\n",
    "3. 익은 토마토의 인접한 곳에 있는 안익은 토마토들은 하루마다 익은 토마토의 영향을 받아 익게 된다.\n",
    "4. 하나의 토마도의 인접한 곳은 상하좌우를 의미.\n",
    "5. 대각선 방향은 영향이 안가며, 저절로 익는 경우는 없다고 가정.\n",
    "6. 토마토가 다 익는 ___최소일수___? <br>\n",
    "단, 일부 칸에는 토마토가 들어있지 않을 수도 있다. <br>\n",
    "\n",
    "* <입력>\n",
    "1. 상자크기 M: 가로 칸 수, N: 세로 칸 수 <br>\n",
    "2<=MN<=1000 <br>\n",
    "2. 저장된 토마토들의 정보 <br>\n",
    "1: 익은 토마토 <br>\n",
    "0: 안익은 토마토 <br>\n",
    "-1: 빈 칸 <br>\n",
    "토마토가 하나 이상 있는 경우만 입력으로 주어짐. <br>\n",
    "\n",
    "* <출력>\n",
    "1. 토마토가 익을 때까지의 최소 날짜를 리턴해야.\n",
    "2. 저장될 때부터 모든 토마토가 익어있는 상태이면 0을 리턴해야,\n",
    "3. 토마토가 모두 익지는 못하는 상황이면 -1을 리턴해야.\n",
    "\n",
    "\n"
   ]
  },
  {
   "cell_type": "code",
   "execution_count": 7,
   "metadata": {},
   "outputs": [],
   "source": [
    "## 1.\n",
    "# 모든 시작노드 (소스코드)를 방문하고 큐에 넣기. (방문표시: 그리드 자체에 +1)\n",
    "# 이미 1이면 방문표시할 필요 없음. 따라서 시작노드는 방문표시 (+1 증가) 할 필요 없음.\n",
    "\n",
    "## 2.\n",
    "# while문\n",
    "    # 큐에서 하나 꺼내기.\n",
    "    # 인접노드 중에서 방문 안한 노드 방문하고 큐에 삽입.\n",
    "# ** 상하좌우 먼저 정의. by 벡터형식 (idx 이용, not dic)\n",
    "\n",
    "## 3.\n",
    "# 모든 칸을 확인\n",
    "    # 하나라도 익지 않은 곳이 있으면 return -1\n",
    "    # 최댓값 구하고\n",
    "# return max - 1\n",
    "# return 0 # 얘는 왜할까...\n",
    "\n",
    "from collections import deque\n",
    "def tomato(input_str):\n",
    "    grid = [[int(x) for x in k.split()] for k in input_str.split('\\n') if k]\n",
    "    n = len(grid) # 행\n",
    "    m = len(grid[0]) # 열\n",
    "\n",
    "    ## 1.\n",
    "    queue = deque() # 큐에는 방문한 좌표를 넣는다.\n",
    "    for i in range(n):\n",
    "        for j in range(m):\n",
    "            if grid[i][j] == 1: # 1이면\n",
    "                queue.append((i,j)) # 위치 추가\n",
    "    \n",
    "    ## 2.\n",
    "    dx = [-1,1,0,0]\n",
    "    dy = [0,0,-1,1]\n",
    "\n",
    "    while queue: # queue에 원소가 존재하는 동안\n",
    "        x,y = queue.popleft() # 큐에 먼저 들어온 순서대로 빠짐\n",
    "\n",
    "        for i in range(4): # 상하좌우일동안\n",
    "            nx = x + dx[i]\n",
    "            ny = y + dy[i]\n",
    "\n",
    "            # 방문가능하다면 (지도범위 내, 익지 않은 토마토라면)\n",
    "            if (0 <= nx < n and 0 <= ny < m) and (grid[nx][ny]==0):\n",
    "                # 방문\n",
    "                grid[nx][ny] = grid[x][y] + 1 # 마지막 방문처리 된 일수 + 1\n",
    "                queue.append((nx,ny)) # 방문한 좌표 넣기\n",
    "\n",
    "    ## 3.\n",
    "    max_value = 0 # 변수명이 좀 그래서 그렇지, 이게 토마토 모두 익는데까지 걸리는 최소날짜임.\n",
    "    for x in range(n):\n",
    "        for y in range(m):\n",
    "\n",
    "            if grid[x][y] == 0:\n",
    "                return -1\n",
    "\n",
    "            if grid[x][y] > max_value:\n",
    "                max_value = grid[x][y]\n",
    "    return max_value - 1\n",
    "\n"
   ]
  },
  {
   "cell_type": "code",
   "execution_count": 8,
   "metadata": {},
   "outputs": [
    {
     "name": "stdout",
     "output_type": "stream",
     "text": [
      "8\n",
      "6\n",
      "2\n",
      "-1\n",
      "14\n",
      "0\n"
     ]
    }
   ],
   "source": [
    "# 아래는 수정하지 마시오.\n",
    "input_str = \"\"\"\n",
    "0 0 0 0 0 0\n",
    "0 0 0 0 0 0\n",
    "0 0 0 0 0 0\n",
    "0 0 0 0 0 1\n",
    "\"\"\"\n",
    "print(tomato(input_str))\n",
    "\n",
    "input_str = \"\"\"\n",
    "1 -1 0 0 0 0\n",
    "0 -1 0 0 0 0\n",
    "0 0 0 0 -1 0\n",
    "0 0 0 0 -1 1\n",
    "\"\"\"\n",
    "print(tomato(input_str))\n",
    "\n",
    "input_str = \"\"\"\n",
    "1 0 0\n",
    "0 -1 0\n",
    "0 -1 0\n",
    "0 0 1\n",
    "\"\"\"\n",
    "print(tomato(input_str))\n",
    "\n",
    "input_str = \"\"\"\n",
    "0 -1 0 0 0 0\n",
    "-1 0 0 0 0 0\n",
    "0 0 0 0 0 0\n",
    "0 0 0 0 0 1\n",
    "\"\"\"\n",
    "print(tomato(input_str))\n",
    "\n",
    "input_str = \"\"\"\n",
    "-1 1 0 0 0\n",
    "0 -1 -1 -1 0\n",
    "0 -1 -1 -1 0\n",
    "0 -1 -1 -1 0\n",
    "0 0 0 0 0\n",
    "\"\"\"\n",
    "print(tomato(input_str))\n",
    "\n",
    "input_str = \"\"\"\n",
    "1 -1\n",
    "-1 1\n",
    "\"\"\"\n",
    "print(tomato(input_str))"
   ]
  },
  {
   "cell_type": "code",
   "execution_count": 10,
   "metadata": {},
   "outputs": [
    {
     "data": {
      "text/plain": [
       "[[1, -1, 0, 0, 0, 0],\n",
       " [0, -1, 0, 0, 0, 0],\n",
       " [0, 0, 0, 0, -1, 0],\n",
       " [0, 0, 0, 0, -1, 1]]"
      ]
     },
     "execution_count": 10,
     "metadata": {},
     "output_type": "execute_result"
    },
    {
     "data": {
      "text/plain": [
       "'1.    n: 4, m: 6'"
      ]
     },
     "execution_count": 10,
     "metadata": {},
     "output_type": "execute_result"
    },
    {
     "data": {
      "text/plain": [
       "'2.    queue: deque([])'"
      ]
     },
     "execution_count": 10,
     "metadata": {},
     "output_type": "execute_result"
    },
    {
     "data": {
      "text/plain": [
       "'3.    queue: deque([(0, 0)])'"
      ]
     },
     "execution_count": 10,
     "metadata": {},
     "output_type": "execute_result"
    },
    {
     "data": {
      "text/plain": [
       "'3.    queue: deque([(0, 0), (3, 5)])'"
      ]
     },
     "execution_count": 10,
     "metadata": {},
     "output_type": "execute_result"
    },
    {
     "data": {
      "text/plain": [
       "'    queue: deque([(0, 0), (3, 5)])'"
      ]
     },
     "execution_count": 10,
     "metadata": {},
     "output_type": "execute_result"
    },
    {
     "data": {
      "text/plain": [
       "'4.    x: 0, y: 0'"
      ]
     },
     "execution_count": 10,
     "metadata": {},
     "output_type": "execute_result"
    },
    {
     "data": {
      "text/plain": [
       "[[1, -1, 0, 0, 0, 0],\n",
       " [2, -1, 0, 0, 0, 0],\n",
       " [0, 0, 0, 0, -1, 0],\n",
       " [0, 0, 0, 0, -1, 1]]"
      ]
     },
     "execution_count": 10,
     "metadata": {},
     "output_type": "execute_result"
    },
    {
     "data": {
      "text/plain": [
       "'5.    queue: deque([(3, 5), (1, 0)])'"
      ]
     },
     "execution_count": 10,
     "metadata": {},
     "output_type": "execute_result"
    },
    {
     "data": {
      "text/plain": [
       "'4.    x: 3, y: 5'"
      ]
     },
     "execution_count": 10,
     "metadata": {},
     "output_type": "execute_result"
    },
    {
     "data": {
      "text/plain": [
       "[[1, -1, 0, 0, 0, 0],\n",
       " [2, -1, 0, 0, 0, 0],\n",
       " [0, 0, 0, 0, -1, 2],\n",
       " [0, 0, 0, 0, -1, 1]]"
      ]
     },
     "execution_count": 10,
     "metadata": {},
     "output_type": "execute_result"
    },
    {
     "data": {
      "text/plain": [
       "'5.    queue: deque([(1, 0), (2, 5)])'"
      ]
     },
     "execution_count": 10,
     "metadata": {},
     "output_type": "execute_result"
    },
    {
     "data": {
      "text/plain": [
       "'4.    x: 1, y: 0'"
      ]
     },
     "execution_count": 10,
     "metadata": {},
     "output_type": "execute_result"
    },
    {
     "data": {
      "text/plain": [
       "[[1, -1, 0, 0, 0, 0],\n",
       " [2, -1, 0, 0, 0, 0],\n",
       " [3, 0, 0, 0, -1, 2],\n",
       " [0, 0, 0, 0, -1, 1]]"
      ]
     },
     "execution_count": 10,
     "metadata": {},
     "output_type": "execute_result"
    },
    {
     "data": {
      "text/plain": [
       "'5.    queue: deque([(2, 5), (2, 0)])'"
      ]
     },
     "execution_count": 10,
     "metadata": {},
     "output_type": "execute_result"
    },
    {
     "data": {
      "text/plain": [
       "'4.    x: 2, y: 5'"
      ]
     },
     "execution_count": 10,
     "metadata": {},
     "output_type": "execute_result"
    },
    {
     "data": {
      "text/plain": [
       "[[1, -1, 0, 0, 0, 0],\n",
       " [2, -1, 0, 0, 0, 3],\n",
       " [3, 0, 0, 0, -1, 2],\n",
       " [0, 0, 0, 0, -1, 1]]"
      ]
     },
     "execution_count": 10,
     "metadata": {},
     "output_type": "execute_result"
    },
    {
     "data": {
      "text/plain": [
       "'5.    queue: deque([(2, 0), (1, 5)])'"
      ]
     },
     "execution_count": 10,
     "metadata": {},
     "output_type": "execute_result"
    },
    {
     "data": {
      "text/plain": [
       "'4.    x: 2, y: 0'"
      ]
     },
     "execution_count": 10,
     "metadata": {},
     "output_type": "execute_result"
    },
    {
     "data": {
      "text/plain": [
       "[[1, -1, 0, 0, 0, 0],\n",
       " [2, -1, 0, 0, 0, 3],\n",
       " [3, 0, 0, 0, -1, 2],\n",
       " [4, 0, 0, 0, -1, 1]]"
      ]
     },
     "execution_count": 10,
     "metadata": {},
     "output_type": "execute_result"
    },
    {
     "data": {
      "text/plain": [
       "'5.    queue: deque([(1, 5), (3, 0)])'"
      ]
     },
     "execution_count": 10,
     "metadata": {},
     "output_type": "execute_result"
    },
    {
     "data": {
      "text/plain": [
       "[[1, -1, 0, 0, 0, 0],\n",
       " [2, -1, 0, 0, 0, 3],\n",
       " [3, 4, 0, 0, -1, 2],\n",
       " [4, 0, 0, 0, -1, 1]]"
      ]
     },
     "execution_count": 10,
     "metadata": {},
     "output_type": "execute_result"
    },
    {
     "data": {
      "text/plain": [
       "'5.    queue: deque([(1, 5), (3, 0), (2, 1)])'"
      ]
     },
     "execution_count": 10,
     "metadata": {},
     "output_type": "execute_result"
    },
    {
     "data": {
      "text/plain": [
       "'4.    x: 1, y: 5'"
      ]
     },
     "execution_count": 10,
     "metadata": {},
     "output_type": "execute_result"
    },
    {
     "data": {
      "text/plain": [
       "[[1, -1, 0, 0, 0, 4],\n",
       " [2, -1, 0, 0, 0, 3],\n",
       " [3, 4, 0, 0, -1, 2],\n",
       " [4, 0, 0, 0, -1, 1]]"
      ]
     },
     "execution_count": 10,
     "metadata": {},
     "output_type": "execute_result"
    },
    {
     "data": {
      "text/plain": [
       "'5.    queue: deque([(3, 0), (2, 1), (0, 5)])'"
      ]
     },
     "execution_count": 10,
     "metadata": {},
     "output_type": "execute_result"
    },
    {
     "data": {
      "text/plain": [
       "[[1, -1, 0, 0, 0, 4],\n",
       " [2, -1, 0, 0, 4, 3],\n",
       " [3, 4, 0, 0, -1, 2],\n",
       " [4, 0, 0, 0, -1, 1]]"
      ]
     },
     "execution_count": 10,
     "metadata": {},
     "output_type": "execute_result"
    },
    {
     "data": {
      "text/plain": [
       "'5.    queue: deque([(3, 0), (2, 1), (0, 5), (1, 4)])'"
      ]
     },
     "execution_count": 10,
     "metadata": {},
     "output_type": "execute_result"
    },
    {
     "data": {
      "text/plain": [
       "'4.    x: 3, y: 0'"
      ]
     },
     "execution_count": 10,
     "metadata": {},
     "output_type": "execute_result"
    },
    {
     "data": {
      "text/plain": [
       "[[1, -1, 0, 0, 0, 4],\n",
       " [2, -1, 0, 0, 4, 3],\n",
       " [3, 4, 0, 0, -1, 2],\n",
       " [4, 5, 0, 0, -1, 1]]"
      ]
     },
     "execution_count": 10,
     "metadata": {},
     "output_type": "execute_result"
    },
    {
     "data": {
      "text/plain": [
       "'5.    queue: deque([(2, 1), (0, 5), (1, 4), (3, 1)])'"
      ]
     },
     "execution_count": 10,
     "metadata": {},
     "output_type": "execute_result"
    },
    {
     "data": {
      "text/plain": [
       "'4.    x: 2, y: 1'"
      ]
     },
     "execution_count": 10,
     "metadata": {},
     "output_type": "execute_result"
    },
    {
     "data": {
      "text/plain": [
       "[[1, -1, 0, 0, 0, 4],\n",
       " [2, -1, 0, 0, 4, 3],\n",
       " [3, 4, 5, 0, -1, 2],\n",
       " [4, 5, 0, 0, -1, 1]]"
      ]
     },
     "execution_count": 10,
     "metadata": {},
     "output_type": "execute_result"
    },
    {
     "data": {
      "text/plain": [
       "'5.    queue: deque([(0, 5), (1, 4), (3, 1), (2, 2)])'"
      ]
     },
     "execution_count": 10,
     "metadata": {},
     "output_type": "execute_result"
    },
    {
     "data": {
      "text/plain": [
       "'4.    x: 0, y: 5'"
      ]
     },
     "execution_count": 10,
     "metadata": {},
     "output_type": "execute_result"
    },
    {
     "data": {
      "text/plain": [
       "[[1, -1, 0, 0, 5, 4],\n",
       " [2, -1, 0, 0, 4, 3],\n",
       " [3, 4, 5, 0, -1, 2],\n",
       " [4, 5, 0, 0, -1, 1]]"
      ]
     },
     "execution_count": 10,
     "metadata": {},
     "output_type": "execute_result"
    },
    {
     "data": {
      "text/plain": [
       "'5.    queue: deque([(1, 4), (3, 1), (2, 2), (0, 4)])'"
      ]
     },
     "execution_count": 10,
     "metadata": {},
     "output_type": "execute_result"
    },
    {
     "data": {
      "text/plain": [
       "'4.    x: 1, y: 4'"
      ]
     },
     "execution_count": 10,
     "metadata": {},
     "output_type": "execute_result"
    },
    {
     "data": {
      "text/plain": [
       "[[1, -1, 0, 0, 5, 4],\n",
       " [2, -1, 0, 5, 4, 3],\n",
       " [3, 4, 5, 0, -1, 2],\n",
       " [4, 5, 0, 0, -1, 1]]"
      ]
     },
     "execution_count": 10,
     "metadata": {},
     "output_type": "execute_result"
    },
    {
     "data": {
      "text/plain": [
       "'5.    queue: deque([(3, 1), (2, 2), (0, 4), (1, 3)])'"
      ]
     },
     "execution_count": 10,
     "metadata": {},
     "output_type": "execute_result"
    },
    {
     "data": {
      "text/plain": [
       "'4.    x: 3, y: 1'"
      ]
     },
     "execution_count": 10,
     "metadata": {},
     "output_type": "execute_result"
    },
    {
     "data": {
      "text/plain": [
       "[[1, -1, 0, 0, 5, 4],\n",
       " [2, -1, 0, 5, 4, 3],\n",
       " [3, 4, 5, 0, -1, 2],\n",
       " [4, 5, 6, 0, -1, 1]]"
      ]
     },
     "execution_count": 10,
     "metadata": {},
     "output_type": "execute_result"
    },
    {
     "data": {
      "text/plain": [
       "'5.    queue: deque([(2, 2), (0, 4), (1, 3), (3, 2)])'"
      ]
     },
     "execution_count": 10,
     "metadata": {},
     "output_type": "execute_result"
    },
    {
     "data": {
      "text/plain": [
       "'4.    x: 2, y: 2'"
      ]
     },
     "execution_count": 10,
     "metadata": {},
     "output_type": "execute_result"
    },
    {
     "data": {
      "text/plain": [
       "[[1, -1, 0, 0, 5, 4],\n",
       " [2, -1, 6, 5, 4, 3],\n",
       " [3, 4, 5, 0, -1, 2],\n",
       " [4, 5, 6, 0, -1, 1]]"
      ]
     },
     "execution_count": 10,
     "metadata": {},
     "output_type": "execute_result"
    },
    {
     "data": {
      "text/plain": [
       "'5.    queue: deque([(0, 4), (1, 3), (3, 2), (1, 2)])'"
      ]
     },
     "execution_count": 10,
     "metadata": {},
     "output_type": "execute_result"
    },
    {
     "data": {
      "text/plain": [
       "[[1, -1, 0, 0, 5, 4],\n",
       " [2, -1, 6, 5, 4, 3],\n",
       " [3, 4, 5, 6, -1, 2],\n",
       " [4, 5, 6, 0, -1, 1]]"
      ]
     },
     "execution_count": 10,
     "metadata": {},
     "output_type": "execute_result"
    },
    {
     "data": {
      "text/plain": [
       "'5.    queue: deque([(0, 4), (1, 3), (3, 2), (1, 2), (2, 3)])'"
      ]
     },
     "execution_count": 10,
     "metadata": {},
     "output_type": "execute_result"
    },
    {
     "data": {
      "text/plain": [
       "'4.    x: 0, y: 4'"
      ]
     },
     "execution_count": 10,
     "metadata": {},
     "output_type": "execute_result"
    },
    {
     "data": {
      "text/plain": [
       "[[1, -1, 0, 6, 5, 4],\n",
       " [2, -1, 6, 5, 4, 3],\n",
       " [3, 4, 5, 6, -1, 2],\n",
       " [4, 5, 6, 0, -1, 1]]"
      ]
     },
     "execution_count": 10,
     "metadata": {},
     "output_type": "execute_result"
    },
    {
     "data": {
      "text/plain": [
       "'5.    queue: deque([(1, 3), (3, 2), (1, 2), (2, 3), (0, 3)])'"
      ]
     },
     "execution_count": 10,
     "metadata": {},
     "output_type": "execute_result"
    },
    {
     "data": {
      "text/plain": [
       "'4.    x: 1, y: 3'"
      ]
     },
     "execution_count": 10,
     "metadata": {},
     "output_type": "execute_result"
    },
    {
     "data": {
      "text/plain": [
       "'4.    x: 3, y: 2'"
      ]
     },
     "execution_count": 10,
     "metadata": {},
     "output_type": "execute_result"
    },
    {
     "data": {
      "text/plain": [
       "[[1, -1, 0, 6, 5, 4],\n",
       " [2, -1, 6, 5, 4, 3],\n",
       " [3, 4, 5, 6, -1, 2],\n",
       " [4, 5, 6, 7, -1, 1]]"
      ]
     },
     "execution_count": 10,
     "metadata": {},
     "output_type": "execute_result"
    },
    {
     "data": {
      "text/plain": [
       "'5.    queue: deque([(1, 2), (2, 3), (0, 3), (3, 3)])'"
      ]
     },
     "execution_count": 10,
     "metadata": {},
     "output_type": "execute_result"
    },
    {
     "data": {
      "text/plain": [
       "'4.    x: 1, y: 2'"
      ]
     },
     "execution_count": 10,
     "metadata": {},
     "output_type": "execute_result"
    },
    {
     "data": {
      "text/plain": [
       "[[1, -1, 7, 6, 5, 4],\n",
       " [2, -1, 6, 5, 4, 3],\n",
       " [3, 4, 5, 6, -1, 2],\n",
       " [4, 5, 6, 7, -1, 1]]"
      ]
     },
     "execution_count": 10,
     "metadata": {},
     "output_type": "execute_result"
    },
    {
     "data": {
      "text/plain": [
       "'5.    queue: deque([(2, 3), (0, 3), (3, 3), (0, 2)])'"
      ]
     },
     "execution_count": 10,
     "metadata": {},
     "output_type": "execute_result"
    },
    {
     "data": {
      "text/plain": [
       "'4.    x: 2, y: 3'"
      ]
     },
     "execution_count": 10,
     "metadata": {},
     "output_type": "execute_result"
    },
    {
     "data": {
      "text/plain": [
       "'4.    x: 0, y: 3'"
      ]
     },
     "execution_count": 10,
     "metadata": {},
     "output_type": "execute_result"
    },
    {
     "data": {
      "text/plain": [
       "'4.    x: 3, y: 3'"
      ]
     },
     "execution_count": 10,
     "metadata": {},
     "output_type": "execute_result"
    },
    {
     "data": {
      "text/plain": [
       "'4.    x: 0, y: 2'"
      ]
     },
     "execution_count": 10,
     "metadata": {},
     "output_type": "execute_result"
    },
    {
     "data": {
      "text/plain": [
       "'6.    max_value: 1'"
      ]
     },
     "execution_count": 10,
     "metadata": {},
     "output_type": "execute_result"
    },
    {
     "data": {
      "text/plain": [
       "'6.    max_value: 7'"
      ]
     },
     "execution_count": 10,
     "metadata": {},
     "output_type": "execute_result"
    },
    {
     "name": "stdout",
     "output_type": "stream",
     "text": [
      "답: 6\n"
     ]
    },
    {
     "data": {
      "text/plain": [
       "'#########################################################'"
      ]
     },
     "execution_count": 10,
     "metadata": {},
     "output_type": "execute_result"
    }
   ],
   "source": [
    "input_str = \"\"\"\n",
    "1 -1 0 0 0 0\n",
    "0 -1 0 0 0 0\n",
    "0 0 0 0 -1 0\n",
    "0 0 0 0 -1 1\n",
    "\"\"\"\n",
    "from collections import deque\n",
    "\n",
    "grid = [[int(x) for x in k.split()] for k in input_str.split('\\n') if k]\n",
    "\n",
    "# [k for k in input_str.split('\\n') if k] # 1. input_str을 \\n을 기준으로 나눠서 리스트로 받음. 원소가 존재할 때.\n",
    "\n",
    "# [k.split() for k in input_str.split('\\n') if k] # 2. input_str을 나눈걸 공백으로 또 나눠서 리스트로 받음.\n",
    "\n",
    "grid # 3. 그걸 모두 숫자로 받음.\n",
    "\n",
    "\n",
    "n = len(grid) # 행\n",
    "m = len(grid[0]) # 열\n",
    "f'1.    n: {n}, m: {m}'\n",
    "\n",
    "## 1.\n",
    "queue = deque() # 큐에는 방문한 좌표를 넣는다.\n",
    "f'2.    queue: {queue}'\n",
    "\n",
    "for i in range(n):\n",
    "    for j in range(m):\n",
    "        if grid[i][j] == 1: # 1이면\n",
    "            queue.append((i,j)) # 위치 추가\n",
    "            f'3.    queue: {queue}'\n",
    "f'    queue: {queue}'\n",
    "\n",
    "## 2.\n",
    "dx = [-1,1,0,0]\n",
    "dy = [0,0,-1,1]\n",
    "\n",
    "while queue: # queue에 원소가 존재하는 동안\n",
    "    x,y = queue.popleft() # 큐에 먼저 들어온 순서대로 빠짐\n",
    "    f'4.    x: {x}, y: {y}'\n",
    "\n",
    "    for i in range(4): # 상하좌우일동안\n",
    "        nx = x + dx[i]\n",
    "        ny = y + dy[i]\n",
    "\n",
    "        # 방문가능하다면 (지도범위 내, 익지 않은 토마토라면)\n",
    "        if (0 <= nx < n and 0 <= ny < m) and (grid[nx][ny]==0):\n",
    "            # 방문\n",
    "            grid[nx][ny] = grid[x][y] + 1 # 마지막 방문처리 된 일수 + 1\n",
    "            grid\n",
    "            queue.append((nx,ny)) # 방문한 좌표 넣기\n",
    "            f'5.    queue: {queue}'\n",
    "\n",
    "## 3.\n",
    "max_value = 0 # 변수명이 좀 그래서 그렇지, 이게 토마토 모두 익는데까지 걸리는 최소날짜임.\n",
    "for x in range(n):\n",
    "    for y in range(m):\n",
    "\n",
    "        if grid[x][y] == 0:\n",
    "            print(f'답: {-1}')\n",
    "\n",
    "        if grid[x][y] > max_value:\n",
    "            max_value = grid[x][y]\n",
    "            f'6.    max_value: {max_value}'\n",
    "print(f'답: {max_value - 1}')\n",
    "\n",
    "'#########################################################'"
   ]
  },
  {
   "cell_type": "markdown",
   "metadata": {},
   "source": [
    "* 숨바꼭질 문제\n",
    "1. 수빈이는 현재 점 N (0 <= N <= 100,000)에, <br>\n",
    "동생은 점 K (0 <= K <= 100,000)에 있다. <br>\n",
    "2. 수빈이는 걷거나 순간이동 가능.\n",
    "> * 걸을 때 초당 좌표변화: X-1, X+1\n",
    "> * 순간이동 시 초당 좌표변화: X*2\n",
    "3. 수빈이가 동생을 찾을 수 있는 가장 빠른 시간이 몇 초 후인지 구하는 프로그램 작성. <br>\n",
    "\n",
    "* <입력> <br>\n",
    "수빈, 동생의 위치 (N, K) <br>\n",
    "\n",
    "* <출력> <br>\n",
    "수빈이 동생을 찾을 수 있는 가장 빠른 시간 <br>"
   ]
  },
  {
   "cell_type": "code",
   "execution_count": 1,
   "metadata": {},
   "outputs": [],
   "source": [
    "# 멀티소스 문제 아님. (수빈이는 한 명이고, 분신술 불가능하기 때문.)\n",
    "# 그리드 없음. (그래프 없이 상상, 최적화라서 bfs)\n",
    "\n",
    "# 수직선 범위: 동생이 존재할 수 있는 곳의 범위 (0 이상, 10만 이하)\n",
    "\n",
    "# O(3^n) 시간\n",
    "\n",
    "## 0.\n",
    "# 깊이가 엄청 깊어지는 것을 방지하기위한 max값 설정\n",
    "\n",
    "## 1.\n",
    "# 방문하기\n",
    "# 방문set에는 방문했는지 안했는지 노드만 들어감. 방문했던 곳을 가리키는 숫자들\n",
    "\n",
    "## 2.\n",
    "# 시작위치 (노드) queue에 삽입\n",
    "# queue에는 노드, 그 노드까지의 시간이 들어감.\n",
    "#--> 노드 정보 (노드를 가리키는 숫자) 뿐만 아니라, 해당 노드까지 몇 초 걸렸는지\n",
    "# 시작노드는 N, 그리고 그 때의 시간은 0초이므로 그 때는 (N, 0)\n",
    "\n",
    "## 3-0.\n",
    "# **방문표시 함수 정의**\n",
    "# 수직선 범위 내 and 방문 안한 경우 (n이 visited에 안들어있다면)\n",
    "# 방문 표시, set에 추가 .add()\n",
    "\n",
    "## 3.\n",
    "# **꺼내기**\n",
    "# queue일 동안\n",
    "    # 노드와 시작노드에서 해당 노드까지의 시간 꺼내기, 이미 방문한 지점.\n",
    "\n",
    "    # 방문지점이 도착해야하는 지점(정답)일 수 있음.\n",
    "    # 그렇다면 동생 찾은 것\n",
    "        # return time\n",
    "\n",
    "    # 동생 못찾았다면\n",
    "        # 방문 가능한 노드는 3가지, 이전에 방문 이력 없다면 방문.\n",
    "        # 병렬적으로 3개 다 작성해서 돌려도 되고, for문 가능\n",
    "            # 큐에 넣는 것(방문표시)은 함수로\n",
    "\n",
    "from collections import deque\n",
    "def hide_and_seek(N,K):\n",
    "    \n",
    "    ## 0.\n",
    "    max_N = 10_0000\n",
    "\n",
    "    ## 1.\n",
    "    visited = set([N])\n",
    "\n",
    "    ## 2.\n",
    "    queue = deque([[N,0]]) # [(N, time)]으로 넣어도 똑같음.\n",
    "    # N과 time이 한 세트이므로 deque에는 2중 list로 들어감.\n",
    "    # 시작 노드: N, 시작 당시 시간: 0이므로 시작 당시엔 [N,0] 들어감.\n",
    "\n",
    "    ## 3-0.\n",
    "    def enqueue(n, time):\n",
    "        if (0<=n<=max_N) and n not in visited:\n",
    "            visited.add(n)\n",
    "            queue.append([n, time]) # (n, time)으로 넣어도 똑같음.\n",
    "\n",
    "    ## 3.\n",
    "    while queue:\n",
    "        new_N, time = queue.popleft()\n",
    "\n",
    "        if new_N == K:\n",
    "            return time\n",
    "        else:\n",
    "            for x in [new_N-1, new_N+1, 2*new_N]:\n",
    "                enqueue(x, time+1)\n",
    "    \n",
    "    return None"
   ]
  },
  {
   "cell_type": "code",
   "execution_count": 2,
   "metadata": {},
   "outputs": [
    {
     "name": "stdout",
     "output_type": "stream",
     "text": [
      "2\n",
      "4\n",
      "3\n",
      "16\n"
     ]
    }
   ],
   "source": [
    "# 아래는 수정하지 마시오.\n",
    "print(hide_and_seek(1, 4))\n",
    "print(hide_and_seek(5, 17))\n",
    "print(hide_and_seek(5, 18))\n",
    "print(hide_and_seek(1, 10000))"
   ]
  },
  {
   "cell_type": "code",
   "execution_count": 7,
   "metadata": {},
   "outputs": [
    {
     "name": "stdout",
     "output_type": "stream",
     "text": [
      "1.\t visited: {1}\n",
      "2.\t queue1: deque([[1, 0]])\n",
      "2.\t queue2: deque([1, 0])\n",
      "3-1.\t new_N: 1, time: 0\n",
      "3-3.\t visited: {0, 1}\n",
      "3-4.\t queue1: deque([[0, 0]])\n",
      "3-5.\t queue2: deque([1, 0, [0, 0]])\n",
      "3-3.\t visited: {0, 1, 2}\n",
      "3-4.\t queue1: deque([[0, 0], [2, 0]])\n",
      "3-5.\t queue2: deque([1, 0, [0, 0], [2, 0]])\n"
     ]
    }
   ],
   "source": [
    "from collections import deque\n",
    "N = 1\n",
    "K = 4\n",
    "max_N = 10_0000\n",
    "visited = set([N])\n",
    "print(f'1.\\t visited: {visited}')\n",
    "queue1 = deque([[N,0]])\n",
    "queue2 = deque([N,0])\n",
    "print(f'2.\\t queue1: {queue1}')\n",
    "print(f'2.\\t queue2: {queue2}')\n",
    "\n",
    "while queue1:\n",
    "    new_N, time = queue1.popleft()\n",
    "    print(f'3-1.\\t new_N: {new_N}, time: {time}')\n",
    "    if new_N == K:\n",
    "        print(f'3-2.\\t time: {time}')\n",
    "    \n",
    "    else:\n",
    "        for x in [new_N-1, new_N+1, 2*new_N]:\n",
    "            if (0 <= x <= max_N) and x not in visited:\n",
    "                visited.add(x)\n",
    "                queue1.append([x,time])\n",
    "                queue2.append([x,time])\n",
    "                print(f'3-3.\\t visited: {visited}')\n",
    "                print(f'3-4.\\t queue1: {queue1}')\n",
    "                print(f'3-5.\\t queue2: {queue2}')\n",
    "    break\n",
    "                \n"
   ]
  },
  {
   "cell_type": "markdown",
   "metadata": {},
   "source": [
    "# << while 변수: >>이해 <br>\n",
    "* if문이랑 똑같음. 변수가 존재할 때 <br>\n",
    "즉 변수 내에 아직도 원소가 남아있을 때만 while문 돌아감.\n"
   ]
  },
  {
   "cell_type": "code",
   "execution_count": 9,
   "metadata": {},
   "outputs": [
    {
     "name": "stdout",
     "output_type": "stream",
     "text": [
      "pop전\t [1, 2, 3, 4]\n",
      "pop후\t [1, 2, 3]\n",
      "pop전\t [1, 2, 3]\n",
      "pop후\t [1, 2]\n",
      "pop전\t [1, 2]\n",
      "pop후\t [1]\n",
      "pop전\t [1]\n",
      "pop후\t []\n"
     ]
    }
   ],
   "source": [
    "lst = [1,2,3,4]\n",
    "while lst:\n",
    "    print(f'pop전\\t {lst}')\n",
    "    lst.pop()\n",
    "    print(f'pop후\\t {lst}')"
   ]
  },
  {
   "cell_type": "code",
   "execution_count": null,
   "metadata": {},
   "outputs": [],
   "source": []
  }
 ],
 "metadata": {
  "interpreter": {
   "hash": "0a54084e6b208ee8d1ce3989ffc20924477a5f55f5a43e22e699a6741623861e"
  },
  "kernelspec": {
   "display_name": "Python 3.7.8 64-bit",
   "language": "python",
   "name": "python3"
  },
  "language_info": {
   "codemirror_mode": {
    "name": "ipython",
    "version": 3
   },
   "file_extension": ".py",
   "mimetype": "text/x-python",
   "name": "python",
   "nbconvert_exporter": "python",
   "pygments_lexer": "ipython3",
   "version": "3.7.8"
  },
  "orig_nbformat": 4
 },
 "nbformat": 4,
 "nbformat_minor": 2
}
