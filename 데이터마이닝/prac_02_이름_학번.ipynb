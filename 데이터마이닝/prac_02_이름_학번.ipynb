{
 "cells": [
  {
   "cell_type": "code",
   "execution_count": 15,
   "metadata": {
    "ExecuteTime": {
     "end_time": "2019-09-10T04:00:05.497613Z",
     "start_time": "2019-09-10T04:00:05.491632Z"
    }
   },
   "outputs": [
    {
     "data": {
      "text/html": [
       "<style>.container { width:95% !important; }</style>"
      ],
      "text/plain": [
       "<IPython.core.display.HTML object>"
      ]
     },
     "metadata": {},
     "output_type": "display_data"
    },
    {
     "data": {
      "text/html": [
       "<style>.input_area pre {font-family: Consolas; font-size: 15pt; line-height: 140%; font-weight: bold}</style>"
      ],
      "text/plain": [
       "<IPython.core.display.HTML object>"
      ]
     },
     "metadata": {},
     "output_type": "display_data"
    },
    {
     "data": {
      "text/html": [
       "<style>.output_area pre {font-family: Consolas; font-size: 15pt; line-height: 140%;}</style>"
      ],
      "text/plain": [
       "<IPython.core.display.HTML object>"
      ]
     },
     "metadata": {},
     "output_type": "display_data"
    }
   ],
   "source": [
    "from IPython.core.display import display, HTML\n",
    "display(HTML(\"<style>.container { width:95% !important; }</style>\"))\n",
    "display(HTML(\"<style>.input_area pre {font-family: Consolas; font-size: 15pt; line-height: 140%; font-weight: bold}</style>\"))\n",
    "display(HTML(\"<style>.output_area pre {font-family: Consolas; font-size: 15pt; line-height: 140%;}</style>\"))\n"
   ]
  },
  {
   "cell_type": "markdown",
   "metadata": {},
   "source": [
    "# 파일 이름에서 '학번'을 자신의 학번으로, '이름'을 자신의 이름으로 고치시오."
   ]
  },
  {
   "cell_type": "markdown",
   "metadata": {},
   "source": [
    "## 문제1\n",
    "\n",
    "파라미터 prices는 주식 가격을 시간순으로 가지고 있는 리스트이다.\n",
    "주식 매매를 통해서 가질 수 있는 최대 이득을 리턴하는 함수를 구현하시오.\n",
    "\n",
    "***결과***\n",
    "```\n",
    "7\n",
    "```\n"
   ]
  },
  {
   "cell_type": "code",
   "execution_count": 1,
   "metadata": {
    "ExecuteTime": {
     "end_time": "2022-03-21T06:51:56.209279Z",
     "start_time": "2022-03-21T06:51:56.188464Z"
    },
    "scrolled": true
   },
   "outputs": [
    {
     "name": "stdout",
     "output_type": "stream",
     "text": [
      "None\n"
     ]
    }
   ],
   "source": [
    "def maxProfit(prices):\n",
    "    pass\n",
    "\n",
    "# 아래는 수정하지 마시오.\n",
    "prices01 = [7,1,5,3,6,4]\n",
    "print(maxProfit(prices01))"
   ]
  },
  {
   "cell_type": "markdown",
   "metadata": {},
   "source": [
    "## 문제2\n",
    "\n",
    "1. 아이들 마다 쿠키를 1개씩 나누어 주려고 한다.\n",
    "1. 아이들은 각자 만족하는 쿠키의 최소 크기가 정해져 있다.\n",
    "1. 최대한 많은 아이들을 만족시키고 싶다.\n",
    "\n",
    "파라미티:\n",
    "- g: 아이들이 만족하는 최소 쿠키 크기를 담은 리스트\n",
    "- s: 쿠키들의 크기를 담은 리스트\n",
    "- return : 최대로 만족한 아이들의 수\n",
    "\n",
    "***결과***\n",
    "```\n",
    "1\n",
    "2\n",
    "2\n",
    "```\n"
   ]
  },
  {
   "cell_type": "code",
   "execution_count": 2,
   "metadata": {
    "ExecuteTime": {
     "end_time": "2022-03-21T06:52:16.518071Z",
     "start_time": "2022-03-21T06:52:16.508442Z"
    },
    "scrolled": true
   },
   "outputs": [
    {
     "name": "stdout",
     "output_type": "stream",
     "text": [
      "None\n",
      "None\n",
      "None\n"
     ]
    }
   ],
   "source": [
    "def findContentChildren(g, s):\n",
    "    pass\n",
    "\n",
    "# 아래는 수정하지 마시오.\n",
    "print(findContentChildren([1,2,3], [1,1]))\n",
    "print(findContentChildren([1,2], [1,2,3]))\n",
    "print(findContentChildren([2,3,4], [1,5,3,1]))"
   ]
  },
  {
   "cell_type": "code",
   "execution_count": null,
   "metadata": {},
   "outputs": [],
   "source": []
  }
 ],
 "metadata": {
  "kernelspec": {
   "display_name": "Python 3 (ipykernel)",
   "language": "python",
   "name": "python3"
  },
  "language_info": {
   "codemirror_mode": {
    "name": "ipython",
    "version": 3
   },
   "file_extension": ".py",
   "mimetype": "text/x-python",
   "name": "python",
   "nbconvert_exporter": "python",
   "pygments_lexer": "ipython3",
   "version": "3.9.7"
  }
 },
 "nbformat": 4,
 "nbformat_minor": 2
}
