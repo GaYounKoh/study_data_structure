{
 "cells": [
  {
   "cell_type": "markdown",
   "metadata": {
    "toc": true
   },
   "source": [
    "<h1>Table of Contents<span class=\"tocSkip\"></span></h1>\n",
    "<div class=\"toc\"><ul class=\"toc-item\"><li><span><a href=\"#파일-이름에서-'학번'을-자신의-학번으로,-'이름'을-자신의-이름으로-고치시오.\" data-toc-modified-id=\"파일-이름에서-'학번'을-자신의-학번으로,-'이름'을-자신의-이름으로-고치시오.-1\"><span class=\"toc-item-num\">1&nbsp;&nbsp;</span>파일 이름에서 '학번'을 자신의 학번으로, '이름'을 자신의 이름으로 고치시오.</a></span></li><li><span><a href=\"#문제1\" data-toc-modified-id=\"문제1-2\"><span class=\"toc-item-num\">2&nbsp;&nbsp;</span>문제1</a></span></li><li><span><a href=\"#문제2\" data-toc-modified-id=\"문제2-3\"><span class=\"toc-item-num\">3&nbsp;&nbsp;</span>문제2</a></span></li></ul></div>"
   ]
  },
  {
   "cell_type": "code",
   "execution_count": 15,
   "metadata": {
    "ExecuteTime": {
     "end_time": "2019-09-10T04:00:05.497613Z",
     "start_time": "2019-09-10T04:00:05.491632Z"
    }
   },
   "outputs": [
    {
     "data": {
      "text/html": [
       "<style>.container { width:95% !important; }</style>"
      ],
      "text/plain": [
       "<IPython.core.display.HTML object>"
      ]
     },
     "metadata": {},
     "output_type": "display_data"
    },
    {
     "data": {
      "text/html": [
       "<style>.input_area pre {font-family: Consolas; font-size: 15pt; line-height: 140%; font-weight: bold}</style>"
      ],
      "text/plain": [
       "<IPython.core.display.HTML object>"
      ]
     },
     "metadata": {},
     "output_type": "display_data"
    },
    {
     "data": {
      "text/html": [
       "<style>.output_area pre {font-family: Consolas; font-size: 15pt; line-height: 140%;}</style>"
      ],
      "text/plain": [
       "<IPython.core.display.HTML object>"
      ]
     },
     "metadata": {},
     "output_type": "display_data"
    }
   ],
   "source": [
    "from IPython.core.display import display, HTML\n",
    "display(HTML(\"<style>.container { width:95% !important; }</style>\"))\n",
    "display(HTML(\"<style>.input_area pre {font-family: Consolas; font-size: 15pt; line-height: 140%; font-weight: bold}</style>\"))\n",
    "display(HTML(\"<style>.output_area pre {font-family: Consolas; font-size: 15pt; line-height: 140%;}</style>\"))\n"
   ]
  },
  {
   "cell_type": "markdown",
   "metadata": {},
   "source": [
    "# 파일 이름에서 '학번'을 자신의 학번으로, '이름'을 자신의 이름으로 고치시오."
   ]
  },
  {
   "cell_type": "markdown",
   "metadata": {},
   "source": [
    "# 문제1\n",
    "\n",
    "\n",
    "여러 종류의 화폐가 있습니다. 이 화폐들의 개수를 최소한으로 이용해서 그 가치의 합이 amount원이 되도록 하려고 합니다. 이때 각 종류의 화폐는 몇 개라도 사용할 수 있습니다.\n",
    "예를 들어 2원, 3원 단위의 화폐가 있을 때는 15원을 만들기 위해 3원을 5개 사용하는 것이 가장 최소한의 화폐 개수입니다.\n",
    "\n",
    "amount 원을 만들기 위한 최소한의 화폐 개수를 출력하는 프로그램을 작성하세요. 만약, amount 원을 만들 수 있는 방법이 없다면, -1을 리턴합니다.\n",
    "\n",
    "- 파라미터:\n",
    "    - coins: 여러 종류의 화폐의 금액이 들어 있는 리스트 (화폐의 금액은 10000보다 작거나 같은 자연수이다.)\n",
    "    - amount: 화폐들의 조합으로 만들어야 하는 금액 (amount는 1이상 10000이하이다.)\n",
    "- 리턴: amount 금액을 만들기 위한 최소한의 화폐 개수\n",
    "\n",
    "***결과***\n",
    "```\n",
    "2\n",
    "22\n",
    "-1\n",
    "```\n"
   ]
  },
  {
   "cell_type": "code",
   "execution_count": 12,
   "metadata": {
    "ExecuteTime": {
     "end_time": "2022-05-29T05:32:26.980173Z",
     "start_time": "2022-05-29T05:32:26.967179Z"
    }
   },
   "outputs": [
    {
     "name": "stdout",
     "output_type": "stream",
     "text": [
      "2\n",
      "22\n",
      "-1\n"
     ]
    }
   ],
   "source": [
    "def change_coins(coins, amount):\n",
    "    # DP 테이블 초기화: 무한대로\n",
    "    INF = 10000+1            # 혹은 1e4 + 1 # 혹은 10000보다 더 큰 숫자 아무거나\n",
    "    d = [INF] * (amount + 1) # dp 테이블, 길이: amount만큼\n",
    "    d[0] = 0                 # 0원을 만드는데 필요한 동전 수 = 0개이기 때문\n",
    "    \n",
    "    # DP 테이블 채우기 (i ~ (1,amount))\n",
    "    for i in range(1, amount+1): # i일 때 d[i] 구하기\n",
    "        for k in coins:\n",
    "            if i>=k:         # i-k >= 0 교수님 식\n",
    "                d[i] = min(d[i], d[i-k]+1) # 식으로 작성한 점화식(90%) 코드로 구현하기(10%)\n",
    "\n",
    "#     # 결과 리턴\n",
    "#     if d[amount] == INF:\n",
    "#         return -1\n",
    "#     else:\n",
    "#         return d[amount]\n",
    "    \n",
    "# 완벽합니다\n",
    "    # 교수님 결과 리턴 코드\n",
    "    return d[-1] if d[-1] < INF else -1\n",
    "\n",
    "\n",
    "print(change_coins([2,5,8], 7)) # 서로다른 종류의 동전, 정렬 안돼있어도 됨.\n",
    "print(change_coins([2,5], 101))\n",
    "print(change_coins([2,5,9], 3))"
   ]
  },
  {
   "cell_type": "markdown",
   "metadata": {},
   "source": [
    "# 문제2\n",
    "\n",
    "금액이 다른 여러 종류의 화폐가 있습니다. 이 화폐들을 이용하여 그 가치의 합이 amount 원이 되도록 하려고 합니다. 이때 각 종류의 화폐는 몇 개라도 사용할 수 있습니다.\n",
    "amount 원을 만들 수 있는 방법은 모두 몇가지 인지 리턴하는 함수를 작성하세요.\n",
    "화폐의 조합으로 amount 원을 만들 수 없다면 0을 리턴합니다.\n",
    "\n",
    "- 파라미터:\n",
    "    - coins: 여러 종류의 화폐의 금액이 들어 있는 리스트 (화폐의 금액은 10000보다 작거나 같은 자연수이다.)\n",
    "    - amount: 화폐들의 조합으로 만들어야 하는 금액 (amount는 1이상 10000이하이다.)\n",
    "- 리턴: amount 금액을 만들 수 있는 방법의 가지수\n",
    "\n",
    "***결과***\n",
    "```\n",
    "2\n",
    "4\n",
    "6\n",
    "```"
   ]
  },
  {
   "cell_type": "code",
   "execution_count": 30,
   "metadata": {
    "ExecuteTime": {
     "end_time": "2022-05-29T05:32:51.933394Z",
     "start_time": "2022-05-29T05:32:51.920428Z"
    }
   },
   "outputs": [
    {
     "name": "stdout",
     "output_type": "stream",
     "text": [
      "2\n",
      "4\n",
      "6\n"
     ]
    }
   ],
   "source": [
    "def change_coins2(amount, coins):\n",
    "    ## DP 테이블 생성과 초기화\n",
    "    # DP 테이블 사이즈: (동전종류 +1) * (amount+1) --> (0번째부터 세므로)\n",
    "    # 첫 줄은 1 들어있음 둘 째 열은 0 들어있음\n",
    "    d = [[1] + [0]*amount for _ in range(len(coins) + 1)] # 2중리스트...\n",
    "#     print(d)\n",
    "    ## DP 테이블 채우기\n",
    "    for i in range(1, len(coins)+1): # 0번 줄(row)은 다 해서 1번 줄부터...\n",
    "        for j in range(1,amount+1):       # 만들어야 할 금액, 0원 자리(0번col)는 다 끝남\n",
    "            # 동전 k를 쓰는 경우, 안쓰는 경우\n",
    "            k = coins[i-1]           # i 번째 동전까지 쓸 수 있음.\n",
    "            \n",
    "            if j-k >= 0:\n",
    "                # 점화식 d[i] = A + B\n",
    "                # A : 현재 위치의 한 칸 위\n",
    "                # B : 현재 위치의 왼쪽, j = j-k\n",
    "                d[i][j] = d[i-1][j] + d[i][j-k]\n",
    "            \n",
    "            else:\n",
    "                # 점화식 d[i] = A, (B파트 없음.)\n",
    "                d[i][j] = d[i-1][j]\n",
    "                \n",
    "    ## 결과 리턴 # 그 테이블의 가장 오른쪽 아래를 리턴\n",
    "    return d[-1][-1]                # 가장 아래, 가장 오른쪽\n",
    "                                     # 틀림: d[len(coin) + 1][amount+1]\n",
    "\n",
    "                \n",
    "# 아래는 수정하지 마시오.\n",
    "print(change_coins2(3, [1,2]))\n",
    "print(change_coins2(5, [1,2,5]))\n",
    "print(change_coins2(7, [1,2,5]))\n",
    "\n"
   ]
  },
  {
   "cell_type": "code",
   "execution_count": 22,
   "metadata": {},
   "outputs": [
    {
     "name": "stdout",
     "output_type": "stream",
     "text": [
      "[[1, 0, 0, 0], [1, 0, 0, 0], [1, 0, 0, 0]]\n"
     ]
    }
   ],
   "source": [
    "coins = [1,2]\n",
    "amount = 3\n",
    "d = [[1] + [0] * amount for _ in range(len(coins) + 1)] # 2중리스트...\n",
    "print(d)"
   ]
  },
  {
   "cell_type": "code",
   "execution_count": 20,
   "metadata": {},
   "outputs": [
    {
     "data": {
      "text/plain": [
       "[1, 0]"
      ]
     },
     "execution_count": 20,
     "metadata": {},
     "output_type": "execute_result"
    }
   ],
   "source": []
  }
 ],
 "metadata": {
  "kernelspec": {
   "display_name": "Python 3",
   "language": "python",
   "name": "python3"
  },
  "language_info": {
   "codemirror_mode": {
    "name": "ipython",
    "version": 3
   },
   "file_extension": ".py",
   "mimetype": "text/x-python",
   "name": "python",
   "nbconvert_exporter": "python",
   "pygments_lexer": "ipython3",
   "version": "3.8.5"
  },
  "latex_envs": {
   "LaTeX_envs_menu_present": true,
   "autoclose": false,
   "autocomplete": true,
   "bibliofile": "biblio.bib",
   "cite_by": "apalike",
   "current_citInitial": 1,
   "eqLabelWithNumbers": true,
   "eqNumInitial": 1,
   "hotkeys": {
    "equation": "Ctrl-E",
    "itemize": "Ctrl-I"
   },
   "labels_anchors": false,
   "latex_user_defs": false,
   "report_style_numbering": false,
   "user_envs_cfg": false
  },
  "toc": {
   "base_numbering": 1,
   "nav_menu": {},
   "number_sections": true,
   "sideBar": true,
   "skip_h1_title": false,
   "title_cell": "Table of Contents",
   "title_sidebar": "Contents",
   "toc_cell": true,
   "toc_position": {},
   "toc_section_display": true,
   "toc_window_display": false
  }
 },
 "nbformat": 4,
 "nbformat_minor": 2
}
