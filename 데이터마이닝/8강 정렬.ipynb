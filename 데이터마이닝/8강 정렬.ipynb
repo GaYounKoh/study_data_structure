{
 "cells": [
  {
   "cell_type": "markdown",
   "metadata": {},
   "source": [
    "# quick sort\n",
    "* return으로 함수 호출하니까 재귀함수.... <br>\n",
    "\n",
    "array의 <br>\n",
    "<p><font color = 'red', size = '5'>**맨 앞 원소**</font>를 <font size = 5>**pivot**</font>이라고 잡고, <br></p>\n",
    "\n",
    "나머지를 슬라이싱해서 모두 <font size = 5>**tail**</font>로 잡음. <br>\n",
    "<br>\n",
    "\n",
    "tail 중 pivot보다 <br>\n",
    "<p><font color = 'red', size = '5'>**작거나 같은**</font> 애들은 <b>left</b> list <br></p>\n",
    "<p><font color = 'red', size = '5'>**큰**</font> 애들은 <b>right</b> list <br></p>\n",
    "<br>\n",
    "\n",
    "왼쪽 quick_sort 결과 (type: list) + pivot (type: list로 해야 리스트 원소로 더해짐) + 오른쪽 quick_sort 결과 (type: list)\n"
   ]
  },
  {
   "cell_type": "code",
   "execution_count": 1,
   "metadata": {},
   "outputs": [
    {
     "name": "stdout",
     "output_type": "stream",
     "text": [
      "[0, 1, 2, 3, 4, 5, 6, 7, 8, 9]\n"
     ]
    }
   ],
   "source": [
    "def quick_sort(arr):\n",
    "    if len(arr)<=1:\n",
    "        return arr\n",
    "    pivot = arr[0]\n",
    "    tail = arr[1:]\n",
    "\n",
    "    left = [i for i in tail if i <= pivot]\n",
    "    right = [i for i in tail if i > pivot]\n",
    "\n",
    "    return quick_sort(left) + [pivot] + quick_sort(right)\n",
    "array = [5, 7, 9, 0, 3, 1, 6, 2, 4, 8]\n",
    "print(quick_sort(array))\n"
   ]
  },
  {
   "cell_type": "markdown",
   "metadata": {},
   "source": [
    "# radix sort (기수정렬)\n",
    "* 함수 3개 존재,\n",
    "* 함수 내에서 만들어진 함수 호출하는 재귀함수 2번 사용\n",
    "\n",
    "생성하는 순서대로 <br>\n",
    "> [함수1] <br>\n",
    "> counting_sort_by_digit <br>\n",
    ">> input: array, digit <br>\n",
    ">> output: results <br>\n",
    "<br>\n",
    "\n",
    "> [함수2] <br>\n",
    "> get_digit_number <br>\n",
    ">> input: num, digit <br>\n",
    ">> output: digit 자릿수에 위치한 정수 <br>\n",
    "<br>\n",
    "\n",
    "> [함수3] <br>\n",
    "> radix_sort <br>\n",
    ">> input: array <br>\n",
    ">> output: array <br>"
   ]
  },
  {
   "cell_type": "code",
   "execution_count": 30,
   "metadata": {},
   "outputs": [],
   "source": [
    "def counting_sort_by_digit(array, digit): # 예, digit == 2 -> 10의 자리를 기준으로 정렬\n",
    "    base = 10 # 10진법\n",
    "\n",
    "    def get_digit_number(num, digit): # digit 자릿수에 위치한 정수를 리턴하는 함수 # 특히 이해해야함!! 자릿수의 수를 리턴하는 함수!!\n",
    "        return (num // (base ** (digit - 1))) % base\n",
    "\n",
    "    results = [None] * len(array)\n",
    "    count = [0] * base\n",
    "\n",
    "    for i in range(len(array)): # digit 자릿수에 위치한 정수의 개수 구하기\n",
    "        count[get_digit_number(array[i], digit)] += 1\n",
    "   \n",
    "    for i in range(base-1): # 위에서 구한 count 누적 개수 구하기\n",
    "        count[i+1] += count[i]\n",
    "\n",
    "    for i in reversed(range(len(array))): # 입력 arr 뒤집어서\n",
    "        print(f'count전: 입력 == 자릿수의 정수 == {get_digit_number(array[i], digit)} \\t 그 정수의 자리에 해당하는 원소: {count[get_digit_number(array[i], digit)]}')\n",
    "        count[get_digit_number(array[i], digit)] -= 1 # 자릿수의 정수에 해당하는 자리에 해당하는 원소 -1\n",
    "        print(f'##### count후: {count[get_digit_number(array[i], digit)]}')\n",
    "        print(count)\n",
    "        results[count[get_digit_number(array[i], digit)]] = array[i]\n",
    "\n",
    "    return count, results"
   ]
  },
  {
   "cell_type": "code",
   "execution_count": 31,
   "metadata": {},
   "outputs": [
    {
     "name": "stdout",
     "output_type": "stream",
     "text": [
      "3\n",
      "count전: 입력 == 자릿수의 정수 == 9 \t 그 정수의 자리에 해당하는 원소: 12\n",
      "##### count후: 11\n",
      "[0, 3, 6, 6, 8, 8, 8, 9, 10, 11]\n",
      "count전: 입력 == 자릿수의 정수 == 9 \t 그 정수의 자리에 해당하는 원소: 11\n",
      "##### count후: 10\n",
      "[0, 3, 6, 6, 8, 8, 8, 9, 10, 10]\n",
      "count전: 입력 == 자릿수의 정수 == 2 \t 그 정수의 자리에 해당하는 원소: 6\n",
      "##### count후: 5\n",
      "[0, 3, 5, 6, 8, 8, 8, 9, 10, 10]\n",
      "count전: 입력 == 자릿수의 정수 == 8 \t 그 정수의 자리에 해당하는 원소: 10\n",
      "##### count후: 9\n",
      "[0, 3, 5, 6, 8, 8, 8, 9, 9, 10]\n",
      "count전: 입력 == 자릿수의 정수 == 4 \t 그 정수의 자리에 해당하는 원소: 8\n",
      "##### count후: 7\n",
      "[0, 3, 5, 6, 7, 8, 8, 9, 9, 10]\n",
      "count전: 입력 == 자릿수의 정수 == 2 \t 그 정수의 자리에 해당하는 원소: 5\n",
      "##### count후: 4\n",
      "[0, 3, 4, 6, 7, 8, 8, 9, 9, 10]\n",
      "count전: 입력 == 자릿수의 정수 == 7 \t 그 정수의 자리에 해당하는 원소: 9\n",
      "##### count후: 8\n",
      "[0, 3, 4, 6, 7, 8, 8, 8, 9, 10]\n",
      "count전: 입력 == 자릿수의 정수 == 1 \t 그 정수의 자리에 해당하는 원소: 3\n",
      "##### count후: 2\n",
      "[0, 2, 4, 6, 7, 8, 8, 8, 9, 10]\n",
      "count전: 입력 == 자릿수의 정수 == 1 \t 그 정수의 자리에 해당하는 원소: 2\n",
      "##### count후: 1\n",
      "[0, 1, 4, 6, 7, 8, 8, 8, 9, 10]\n",
      "count전: 입력 == 자릿수의 정수 == 2 \t 그 정수의 자리에 해당하는 원소: 4\n",
      "##### count후: 3\n",
      "[0, 1, 3, 6, 7, 8, 8, 8, 9, 10]\n",
      "count전: 입력 == 자릿수의 정수 == 4 \t 그 정수의 자리에 해당하는 원소: 7\n",
      "##### count후: 6\n",
      "[0, 1, 3, 6, 6, 8, 8, 8, 9, 10]\n",
      "count전: 입력 == 자릿수의 정수 == 1 \t 그 정수의 자리에 해당하는 원소: 1\n",
      "##### count후: 0\n",
      "[0, 0, 3, 6, 6, 8, 8, 8, 9, 10]\n",
      "([0, 0, 3, 6, 6, 8, 8, 8, 9, 10], [123, 113, 124, 210, 296, 251, 401, 472, 784, 882, 902, 943])\n"
     ]
    }
   ],
   "source": [
    "data = [123, 401, 210, 113, 124, 784, 296, 472, 882, 251, 902, 943]\n",
    "max_digit = len(str(max(data)))\n",
    "print(max_digit)\n",
    "\n",
    "print(counting_sort_by_digit(data, max_digit))\n",
    "\n",
    "## 자릿수 == 3으로 첫 count 한 결과\n",
    "# [0, 3, 3, 0, 2, 0, 0, 1, 1, 2]\n",
    "\n",
    "## 자릿수 == 3으로 두 번째 count (누적개수) 한 결과\n",
    "# [0, 3, 6, 6, 8, 8, 8, 9, 10, 12]\n",
    "\n",
    "## 자릿수 == 3으로 세 번째 count 및 results한 결과\n",
    "# count = [0, 0, 3, 6, 6, 8, 8, 8, 9, 10]\n",
    "# results = [123, 113, 124, 210, 296, 251, 401, 472, 784, 882, 902, 943]"
   ]
  },
  {
   "cell_type": "code",
   "execution_count": 4,
   "metadata": {},
   "outputs": [
    {
     "data": {
      "text/plain": [
       "3"
      ]
     },
     "execution_count": 4,
     "metadata": {},
     "output_type": "execute_result"
    }
   ],
   "source": [
    "base = 10\n",
    "def get_digit_number(num, digit): # 특정 자리수에 위치한 정수를 리턴하는 함수 # 특히 이해해야함!! 자리수를 리턴하는 함수!!\n",
    "    return (num // (base ** (digit - 1))) % base\n",
    "get_digit_number(132, 2)"
   ]
  },
  {
   "cell_type": "code",
   "execution_count": 32,
   "metadata": {},
   "outputs": [
    {
     "name": "stdout",
     "output_type": "stream",
     "text": [
      "sort by 1\n",
      "210\n",
      "401\n",
      "251\n",
      "472\n",
      "882\n",
      "902\n",
      "123\n",
      "113\n",
      "943\n",
      "124\n",
      "784\n",
      "296\n",
      "\n",
      "sort by 10\n",
      "401\n",
      "902\n",
      "210\n",
      "113\n",
      "123\n",
      "124\n",
      "943\n",
      "251\n",
      "472\n",
      "882\n",
      "784\n",
      "296\n",
      "\n",
      "sort by 100\n",
      "113\n",
      "123\n",
      "124\n",
      "210\n",
      "251\n",
      "296\n",
      "401\n",
      "472\n",
      "784\n",
      "882\n",
      "902\n",
      "943\n",
      "\n",
      "[113, 123, 124, 210, 251, 296, 401, 472, 784, 882, 902, 943]\n"
     ]
    }
   ],
   "source": [
    "def counting_sort_by_digit(array, digit): # 예, digit == 2 -> 10의 자리를 기준으로 정렬\n",
    "    base = 10 # 10진법\n",
    "\n",
    "    def get_digit_number(num, digit): # 특정 자리수에 위치한 정수를 리턴하는 함수 # 특히 이해해야함!! 자리수를 리턴하는 함수!!\n",
    "        return (num // (base ** (digit - 1))) % base\n",
    "\n",
    "    results = [None] * len(array)\n",
    "    count = [0] * base\n",
    "\n",
    "    for i in range(len(array)): # 개수 구하기\n",
    "        count[get_digit_number(array[i], digit)] += 1\n",
    "   \n",
    "    for i in range(base-1): # 누적 개수 구하기\n",
    "        count[i+1] += count[i]\n",
    "\n",
    "    for i in reversed(range(len(array))):\n",
    "        count[get_digit_number(array[i], digit)] -= 1\n",
    "        results[count[get_digit_number(array[i], digit)]] = array[i]   \n",
    "    \n",
    "    return results\n",
    "\n",
    "def radix_sort(array): # 기수정렬, 수정해야하는 부분\n",
    "    max_digit = len(str(max(array)))\n",
    "    for i in range(1, max_digit+1):\n",
    "        array = counting_sort_by_digit(array, i)\n",
    "        \n",
    "        # i: 자리수 1: 1의자리, 2: 10의자리, 3: 100의자리,\n",
    "        # i: 10^(i-1)\n",
    "        print(f'sort by {10**(i-1)}')\n",
    "        for j in array:\n",
    "            print(j)\n",
    "        print()\n",
    "    return array\n",
    "        \n",
    "#아래는 수정하지 마시오\n",
    "data = [123, 401, 210, 113, 124, 784, 296, 472, 882, 251, 902, 943]\n",
    "print(radix_sort(data))"
   ]
  },
  {
   "cell_type": "code",
   "execution_count": null,
   "metadata": {},
   "outputs": [],
   "source": []
  }
 ],
 "metadata": {
  "interpreter": {
   "hash": "cd65bcbc58295ddb1be3c2ed454fcbd526c999271179adb38fc6bed2214131e2"
  },
  "kernelspec": {
   "display_name": "Python 3.8.8 ('base')",
   "language": "python",
   "name": "python3"
  },
  "language_info": {
   "codemirror_mode": {
    "name": "ipython",
    "version": 3
   },
   "file_extension": ".py",
   "mimetype": "text/x-python",
   "name": "python",
   "nbconvert_exporter": "python",
   "pygments_lexer": "ipython3",
   "version": "3.8.8"
  },
  "orig_nbformat": 4
 },
 "nbformat": 4,
 "nbformat_minor": 2
}
