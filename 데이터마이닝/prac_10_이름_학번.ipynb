{
 "cells": [
  {
   "cell_type": "code",
   "execution_count": 15,
   "metadata": {
    "ExecuteTime": {
     "end_time": "2019-09-10T04:00:05.497613Z",
     "start_time": "2019-09-10T04:00:05.491632Z"
    }
   },
   "outputs": [
    {
     "data": {
      "text/html": [
       "<style>.container { width:95% !important; }</style>"
      ],
      "text/plain": [
       "<IPython.core.display.HTML object>"
      ]
     },
     "metadata": {},
     "output_type": "display_data"
    },
    {
     "data": {
      "text/html": [
       "<style>.input_area pre {font-family: Consolas; font-size: 15pt; line-height: 140%; font-weight: bold}</style>"
      ],
      "text/plain": [
       "<IPython.core.display.HTML object>"
      ]
     },
     "metadata": {},
     "output_type": "display_data"
    },
    {
     "data": {
      "text/html": [
       "<style>.output_area pre {font-family: Consolas; font-size: 15pt; line-height: 140%;}</style>"
      ],
      "text/plain": [
       "<IPython.core.display.HTML object>"
      ]
     },
     "metadata": {},
     "output_type": "display_data"
    }
   ],
   "source": [
    "from IPython.core.display import display, HTML\n",
    "display(HTML(\"<style>.container { width:95% !important; }</style>\"))\n",
    "display(HTML(\"<style>.input_area pre {font-family: Consolas; font-size: 15pt; line-height: 140%; font-weight: bold}</style>\"))\n",
    "display(HTML(\"<style>.output_area pre {font-family: Consolas; font-size: 15pt; line-height: 140%;}</style>\"))\n"
   ]
  },
  {
   "cell_type": "markdown",
   "metadata": {},
   "source": [
    "# 파일 이름에서 '학번'을 자신의 학번으로, '이름'을 자신의 이름으로 고치시오."
   ]
  },
  {
   "cell_type": "markdown",
   "metadata": {},
   "source": [
    "# 문제1\n",
    "\n",
    "\n",
    "여러 종류의 화폐가 있습니다. 이 화폐들의 개수를 최소한으로 이용해서 그 가치의 합이 amount원이 되도록 하려고 합니다. 이때 각 종류의 화폐는 몇 개라도 사용할 수 있습니다.\n",
    "예를 들어 2원, 3원 단위의 화폐가 있을 때는 15원을 만들기 위해 3원을 5개 사용하는 것이 가장 최소한의 화폐 개수입니다.\n",
    "\n",
    "amount 원을 만들기 위한 최소한의 화폐 개수를 출력하는 프로그램을 작성하세요. 만약, amount 원을 만들 수 있는 방법이 없다면, -1을 리턴합니다.\n",
    "\n",
    "- 파라미터:\n",
    "    - coins: 여러 종류의 화폐의 금액이 들어 있는 리스트 (화폐의 금액은 10000보다 작거나 같은 자연수이다.)\n",
    "    - amount: 화폐들의 조합으로 만들어야 하는 금액 (amount는 1이상 10000이하이다.)\n",
    "- 리턴: amount 금액을 만들기 위한 최소한의 화폐 개수\n",
    "\n",
    "***결과***\n",
    "```\n",
    "2\n",
    "22\n",
    "-1\n",
    "```\n"
   ]
  },
  {
   "cell_type": "code",
   "execution_count": 1,
   "metadata": {
    "ExecuteTime": {
     "end_time": "2022-05-29T05:32:26.980173Z",
     "start_time": "2022-05-29T05:32:26.967179Z"
    }
   },
   "outputs": [
    {
     "name": "stdout",
     "output_type": "stream",
     "text": [
      "None\n",
      "None\n",
      "None\n"
     ]
    }
   ],
   "source": [
    "def change_coins(coins, amount):\n",
    "    pass\n",
    "\n",
    "print(change_coins([2,5,8], 7))\n",
    "print(change_coins([2,5], 101))\n",
    "print(change_coins([2,5,9], 3))"
   ]
  },
  {
   "cell_type": "markdown",
   "metadata": {},
   "source": [
    "# 문제2\n",
    "\n",
    "금액이 다른 여러 종류의 화폐가 있습니다. 이 화폐들을 이용하여 그 가치의 합이 amount 원이 되도록 하려고 합니다. 이때 각 종류의 화폐는 몇 개라도 사용할 수 있습니다.\n",
    "amount 원을 만들 수 있는 방법은 모두 몇가지 인지 리턴하는 함수를 작성하세요.\n",
    "화폐의 조합으로 amount 원을 만들 수 없다면 0을 리턴합니다.\n",
    "\n",
    "- 파라미터:\n",
    "    - coins: 여러 종류의 화폐의 금액이 들어 있는 리스트 (화폐의 금액은 10000보다 작거나 같은 자연수이다.)\n",
    "    - amount: 화폐들의 조합으로 만들어야 하는 금액 (amount는 1이상 10000이하이다.)\n",
    "- 리턴: amount 금액을 만들 수 있는 방법의 가지수\n",
    "\n",
    "***결과***\n",
    "```\n",
    "2\n",
    "4\n",
    "6\n",
    "```"
   ]
  },
  {
   "cell_type": "code",
   "execution_count": 3,
   "metadata": {
    "ExecuteTime": {
     "end_time": "2022-05-29T05:32:51.933394Z",
     "start_time": "2022-05-29T05:32:51.920428Z"
    }
   },
   "outputs": [
    {
     "name": "stdout",
     "output_type": "stream",
     "text": [
      "None\n",
      "None\n",
      "None\n"
     ]
    }
   ],
   "source": [
    "def change_coins2(amount, coins):\n",
    "    ## DP 테이블 생성과 초기화\n",
    "    \n",
    "    ## DP 테이블 채우기\n",
    "    \n",
    "    ## 결과 리턴\n",
    "    \n",
    "    pass\n",
    "\n",
    "                \n",
    "# 아래는 수정하지 마시오.\n",
    "print(change_coins2(3, [1,2]))\n",
    "print(change_coins2(5, [1,2,5]))\n",
    "print(change_coins2(7, [1,2,5]))\n",
    "\n"
   ]
  }
 ],
 "metadata": {
  "kernelspec": {
   "display_name": "Python 3 (ipykernel)",
   "language": "python",
   "name": "python3"
  },
  "language_info": {
   "codemirror_mode": {
    "name": "ipython",
    "version": 3
   },
   "file_extension": ".py",
   "mimetype": "text/x-python",
   "name": "python",
   "nbconvert_exporter": "python",
   "pygments_lexer": "ipython3",
   "version": "3.9.7"
  }
 },
 "nbformat": 4,
 "nbformat_minor": 2
}
