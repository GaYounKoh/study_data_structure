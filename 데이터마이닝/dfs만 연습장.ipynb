{
 "cells": [
  {
   "cell_type": "code",
   "execution_count": 5,
   "metadata": {},
   "outputs": [
    {
     "name": "stdout",
     "output_type": "stream",
     "text": [
      "1 2 7 6 8 3 4 5 "
     ]
    }
   ],
   "source": [
    "# 번호가 낮은 인접노드부터 모두 방문하기\n",
    "def visit(graph, v, visited):\n",
    "    visited[v] = True\n",
    "    print(v, end = ' ')\n",
    "\n",
    "    for i in graph[v]:\n",
    "        if not visited[i]:\n",
    "            visit(graph, i, visited)\n",
    "\n",
    "\n",
    "graph_ = [\n",
    "    [],\n",
    "    [2,3,8],\n",
    "    [1,7],\n",
    "    [1,4,5],\n",
    "    [3,5],\n",
    "    [3,4],\n",
    "    [7],\n",
    "    [2,6,8],\n",
    "    [1,7]\n",
    "] # 각 인덱스를 노드로 보고 각 노드의 인접노드 리스트로 묶어두기\n",
    "\n",
    "visited_ = [False] * len(graph_)\n",
    "visit(graph_, 1, visited_)"
   ]
  },
  {
   "cell_type": "code",
   "execution_count": 10,
   "metadata": {},
   "outputs": [
    {
     "name": "stdout",
     "output_type": "stream",
     "text": [
      "1 2 7 6 8 3 4 5 "
     ]
    }
   ],
   "source": [
    "# 번호가 낮은 인접노드부터 모두 방문하기\n",
    "### graph의 각 리스트부분은 낮은 숫자부터 정렬돼있어야함.\n",
    "\n",
    "def visit(graph, v, visited):\n",
    "    ###################################\n",
    "    visited[v] = True\n",
    "    print(v, end = ' ')\n",
    "\n",
    "    for i in graph[v]:\n",
    "        if not visited[i]:\n",
    "            visit(graph, i, visited)\n",
    "    ####################################\n",
    "# 1. 방문처리\n",
    "# 2. v 출력\n",
    "# 3. graph의 해당 idx부분 리스트 for loop 돌면서\n",
    "# 4. visited의 해당 리스트 특정 원소부분이 방문 처리가 안돼있으면\n",
    "# 5. 재귀함수\n",
    "\n",
    "graph_ = [\n",
    "    [],\n",
    "    [2,3,8],\n",
    "    [1,7],\n",
    "    [1,4,5],\n",
    "    [3,5],\n",
    "    [3,4],\n",
    "    [7],\n",
    "    [2,6,8],\n",
    "    [1,7]\n",
    "] # 각 인덱스를 노드로 보고 각 노드의 인접노드 리스트로 묶어두기\n",
    "\n",
    "visited_ = [False] * len(graph_)\n",
    "visit(graph_, 1, visited_)"
   ]
  },
  {
   "cell_type": "code",
   "execution_count": null,
   "metadata": {},
   "outputs": [],
   "source": [
    "## DFS로 특정 노드 방문하고 연결된 모든 노드들도 방문\n",
    "def dfs(x,y):\n",
    "    \n",
    "\n",
    "\n",
    "# n, m을 공백을 기준으로 구분하여 입력받기\n",
    "n, m = map(int, input().split()) # n, m 따로따로 입력\n",
    "\n",
    "# 2차원 리스트의 맵 정보 입력받기\n",
    "graph = []\n",
    "for i in range(n):\n",
    "    graph.append(list(map(int, input()))) # graph 넋놓고 보지 말고... 한 줄씩 입력,,,\n",
    "\n",
    "# 모든 노드(위치)에 대해 음료수 채우기\n",
    "result = 0\n",
    "for i in range(n): # 모든 칸에 대해 DFS 다 돌리기\n",
    "    for j in range(m):\n",
    "\n",
    "        # 현재 위치에서 DFS 수행\n",
    "        if dfs(i,j) == True: # 얼음 발견했으면\n",
    "            result += 1\n",
    "\n",
    "print(result)"
   ]
  },
  {
   "cell_type": "code",
   "execution_count": null,
   "metadata": {},
   "outputs": [],
   "source": []
  }
 ],
 "metadata": {
  "interpreter": {
   "hash": "e4cfef919f511c0e3a05919ed86dab4fa959f970f2723dae87eeb918be14f5f0"
  },
  "kernelspec": {
   "display_name": "Python 3.8.8 ('base')",
   "language": "python",
   "name": "python3"
  },
  "language_info": {
   "codemirror_mode": {
    "name": "ipython",
    "version": 3
   },
   "file_extension": ".py",
   "mimetype": "text/x-python",
   "name": "python",
   "nbconvert_exporter": "python",
   "pygments_lexer": "ipython3",
   "version": "3.8.8"
  },
  "orig_nbformat": 4
 },
 "nbformat": 4,
 "nbformat_minor": 2
}
