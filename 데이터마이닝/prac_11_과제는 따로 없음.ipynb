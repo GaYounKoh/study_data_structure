{
 "cells": [
  {
   "cell_type": "markdown",
   "metadata": {},
   "source": [
    "# 다익스트라 알고리즘\n",
    "- 다이나믹 프로그래밍 + 그리디 가 합쳐진 알고리즘"
   ]
  },
  {
   "cell_type": "code",
   "execution_count": 3,
   "metadata": {},
   "outputs": [],
   "source": [
    "import heapq\n",
    "INF = int(1e9) # 무한을 의미하는 값으로 10억을 설정\n",
    "\n",
    "def dijkstra(graph, start):\n",
    "    n = len(graph)\n",
    "    distance = {k:INF for k in graph}\n",
    "    distance[start] = 0\n",
    "\n",
    "    q = [] # 최소힙 저장 변수\n",
    "    # 시작 노드로 가기 위한 최단 거리는 0으로 설정하여, 큐에 삽입\n",
    "    heapq.heappush(q, (0,start))\n",
    "\n",
    "    while q: # 큐가 비어있지 않다면\n",
    "        # 최단 거리가 가장 짧은 노드에 대한 정보 꺼내기\n",
    "        dist, now = heapq.heappop(q) # now: 현재 방문처리붕인 노드\n",
    "        \n",
    "        # 현재 노드가 이미 처리된 적이 있는 노드라면 무시\n",
    "        if distance[now] < dist:\n",
    "            continue\n",
    "\n",
    "        # 현재 노드와 연결된 다른 인접한 노드들을 확인\n",
    "        for node, weight in graph[now]:\n",
    "            cost = dist + weight\n",
    "            # 현재 노드를 거텨서, 다른 노드로 이동하는 거리가 더 짧은 경우\n",
    "            if cost < distance[node]:\n",
    "                distance[node] = cost\n",
    "                heapq.heappush(q, (cost, node))\n",
    "    return distance"
   ]
  },
  {
   "cell_type": "code",
   "execution_count": 4,
   "metadata": {},
   "outputs": [
    {
     "name": "stdout",
     "output_type": "stream",
     "text": [
      "from 1 to 1: 0\n",
      "from 1 to 2: 2\n",
      "from 1 to 3: 3\n",
      "from 1 to 4: 1\n",
      "from 1 to 5: 2\n",
      "from 1 to 6: 4\n"
     ]
    }
   ],
   "source": [
    "\n",
    "# 다익스트라 알고리즘을 수행\n",
    "\n",
    "graph = {\n",
    "    1: [(2,2), (3,5), (4,1)],\n",
    "    2: [(3,3), (4,2)],\n",
    "    3: [(2,3), (6,5)],\n",
    "    4: [(3,3), (5,1)],\n",
    "    5: [(3,1), (6,2)],\n",
    "    6: []\n",
    "}\n",
    "start = 1\n",
    "distance = dijkstra(graph, start)\n",
    "\n",
    "# 모든 노드로 가기 위한 최단 거리를 출력\n",
    "for node in distance:\n",
    "    # 도달할 수 없는 경우, 무한(INFINITY)이라고 출력\n",
    "    if distance[node] == INF:\n",
    "        print(f'from {start} to {node}: INFINITY')\n",
    "    \n",
    "    # 도달할 수 있는 경우, 거리를 출력\n",
    "    else:\n",
    "        print(f'from {start} to {node}: {distance[node]}')"
   ]
  }
 ],
 "metadata": {
  "interpreter": {
   "hash": "cd65bcbc58295ddb1be3c2ed454fcbd526c999271179adb38fc6bed2214131e2"
  },
  "kernelspec": {
   "display_name": "Python 3.8.8 ('base')",
   "language": "python",
   "name": "python3"
  },
  "language_info": {
   "codemirror_mode": {
    "name": "ipython",
    "version": 3
   },
   "file_extension": ".py",
   "mimetype": "text/x-python",
   "name": "python",
   "nbconvert_exporter": "python",
   "pygments_lexer": "ipython3",
   "version": "3.8.8"
  },
  "orig_nbformat": 4
 },
 "nbformat": 4,
 "nbformat_minor": 2
}
