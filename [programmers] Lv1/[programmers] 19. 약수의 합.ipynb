{
 "cells": [
  {
   "cell_type": "markdown",
   "metadata": {},
   "source": [
    "# 220401, 약수의 합 (획득한 점수: 3)\n",
    "* 시간제한 없음. & n조건: 0<=n<=3000이길래 그냥 for loop 3000번 돌림."
   ]
  },
  {
   "cell_type": "code",
   "execution_count": null,
   "metadata": {},
   "outputs": [],
   "source": [
    "def solution(n):\n",
    "    ans = []\n",
    "    for i in range(1,3001):\n",
    "        if n == 0:\n",
    "            ans.append(n)\n",
    "            break\n",
    "        elif n%i == 0:\n",
    "            ans.append(i)\n",
    "    return sum(ans)"
   ]
  }
 ],
 "metadata": {
  "interpreter": {
   "hash": "e4cfef919f511c0e3a05919ed86dab4fa959f970f2723dae87eeb918be14f5f0"
  },
  "kernelspec": {
   "display_name": "Python 3.8.8 ('base')",
   "language": "python",
   "name": "python3"
  },
  "language_info": {
   "name": "python",
   "version": "3.8.8"
  },
  "orig_nbformat": 4
 },
 "nbformat": 4,
 "nbformat_minor": 2
}
