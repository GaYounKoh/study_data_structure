{
 "cells": [
  {
   "cell_type": "markdown",
   "metadata": {},
   "source": [
    "# 220608, 스택, 같은 숫자는 싫어 (획득한 점수: 2)"
   ]
  },
  {
   "cell_type": "markdown",
   "metadata": {},
   "source": [
    "# 답"
   ]
  },
  {
   "cell_type": "code",
   "execution_count": 3,
   "metadata": {},
   "outputs": [],
   "source": [
    "def solution(arr):\n",
    "    stack = []\n",
    "    for i,j in enumerate(arr):\n",
    "        if i == 0:\n",
    "            stack.append(j)\n",
    "        else:\n",
    "            if stack[-1]==j:\n",
    "                stack[-1]\n",
    "                stack.pop()\n",
    "            stack.append(j)\n",
    "    return stack"
   ]
  },
  {
   "cell_type": "markdown",
   "metadata": {},
   "source": [
    "# 낙서장"
   ]
  },
  {
   "cell_type": "code",
   "execution_count": 18,
   "metadata": {},
   "outputs": [],
   "source": [
    "arr = [1,1,3,3,0,1,1]\n",
    "stack = []\n",
    "for i,j in enumerate(arr):\n",
    "    if i == 0:\n",
    "        stack.append(j)\n",
    "    else:\n",
    "        if stack[-1]==j:\n",
    "            stack[-1]\n",
    "            stack.pop()\n",
    "        stack.append(j)\n"
   ]
  },
  {
   "cell_type": "code",
   "execution_count": 19,
   "metadata": {},
   "outputs": [
    {
     "data": {
      "text/plain": [
       "[1, 3, 0, 1]"
      ]
     },
     "execution_count": 19,
     "metadata": {},
     "output_type": "execute_result"
    }
   ],
   "source": [
    "stack"
   ]
  },
  {
   "cell_type": "markdown",
   "metadata": {},
   "source": [
    "# 다른 사람 풀이"
   ]
  },
  {
   "cell_type": "code",
   "execution_count": 8,
   "metadata": {},
   "outputs": [
    {
     "name": "stdout",
     "output_type": "stream",
     "text": [
      "0 []\n",
      "continue 0 [1]\n",
      "1 [1]\n",
      "if 1 [1]\n",
      "2 [1]\n",
      "continue 2 [1, 3]\n",
      "3 [3]\n",
      "if 3 [1, 3]\n",
      "4 [3]\n",
      "continue 4 [1, 3, 0]\n",
      "5 [0]\n",
      "continue 5 [1, 3, 0, 1]\n",
      "6 [1]\n",
      "if 6 [1, 3, 0, 1]\n"
     ]
    }
   ],
   "source": [
    "arr = [1,1,3,3,0,1,1]\n",
    "stack = []\n",
    "for i,j in enumerate(arr):\n",
    "    print(i,stack[-1:])\n",
    "    if stack[-1:]==[j]:\n",
    "        print('if',i,stack)\n",
    "        continue\n",
    "    stack.append(j)\n",
    "    print('continue',i,stack) # if 아래 continue는 for loop으로 돌아간다는 의미.\n"
   ]
  },
  {
   "cell_type": "code",
   "execution_count": 4,
   "metadata": {},
   "outputs": [
    {
     "data": {
      "text/plain": [
       "[1, 3, 0, 1]"
      ]
     },
     "execution_count": 4,
     "metadata": {},
     "output_type": "execute_result"
    }
   ],
   "source": [
    "stack"
   ]
  },
  {
   "cell_type": "code",
   "execution_count": 7,
   "metadata": {},
   "outputs": [
    {
     "data": {
      "text/plain": [
       "[6]"
      ]
     },
     "execution_count": 7,
     "metadata": {},
     "output_type": "execute_result"
    }
   ],
   "source": [
    "tmp = [1,2,3,4,5,6]\n",
    "tmp[-1:]"
   ]
  }
 ],
 "metadata": {
  "interpreter": {
   "hash": "cd65bcbc58295ddb1be3c2ed454fcbd526c999271179adb38fc6bed2214131e2"
  },
  "kernelspec": {
   "display_name": "Python 3.8.8 ('base')",
   "language": "python",
   "name": "python3"
  },
  "language_info": {
   "codemirror_mode": {
    "name": "ipython",
    "version": 3
   },
   "file_extension": ".py",
   "mimetype": "text/x-python",
   "name": "python",
   "nbconvert_exporter": "python",
   "pygments_lexer": "ipython3",
   "version": "3.8.8"
  },
  "orig_nbformat": 4
 },
 "nbformat": 4,
 "nbformat_minor": 2
}
