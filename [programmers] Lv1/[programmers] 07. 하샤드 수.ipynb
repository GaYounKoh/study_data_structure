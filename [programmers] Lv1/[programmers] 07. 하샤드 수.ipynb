{
 "cells": [
  {
   "cell_type": "markdown",
   "metadata": {},
   "source": [
    "# 220319 하샤드 수 (획득한 점수: 2점)\n",
    "짱 잘 풀음ㅎ.\n",
    "* ~ 인지 아닌지 검사하는 함수는 ==으로 확인하는 코드 리턴\n",
    "* 나머지는 %로 확인~"
   ]
  },
  {
   "cell_type": "code",
   "execution_count": null,
   "metadata": {},
   "outputs": [],
   "source": [
    "def solution(x):\n",
    "    return x % sum([int(i) for i in str(x)]) == 0"
   ]
  }
 ],
 "metadata": {
  "language_info": {
   "name": "python"
  },
  "orig_nbformat": 4
 },
 "nbformat": 4,
 "nbformat_minor": 2
}
