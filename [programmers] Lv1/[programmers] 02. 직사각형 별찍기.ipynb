{
 "cells": [
  {
   "cell_type": "markdown",
   "metadata": {},
   "source": [
    "# 220316 직사각형 별찍기 (획득한 점수: 6점)"
   ]
  },
  {
   "cell_type": "code",
   "execution_count": 3,
   "metadata": {},
   "outputs": [
    {
     "name": "stdout",
     "output_type": "stream",
     "text": [
      "**\n",
      "**\n",
      "**\n",
      "**\n",
      "\n",
      "#######################\n",
      "**\n",
      "**\n",
      "**\n",
      "**\n",
      "#######################\n",
      "**\n",
      "\n",
      "**\n",
      "**\n",
      "\n",
      "**\n",
      "\n"
     ]
    }
   ],
   "source": [
    "a, b = map(int, input().strip().split(' '))\n",
    "\n",
    "print(f\"{'*'*a}\\n\"*b) # 사실 이게 답이어야 하는게 맞지 않은지.... 사각형 출력하라면서..\n",
    "\n",
    "print('#######################')\n",
    "\n",
    "# 얘도 결국 f-string과 같은 결과였음...\n",
    "for i in range(b): # 높이만큼 loop 돌리고\n",
    "    print('*'*a) # 가로 길이만큼 문자열 출력\n",
    "\n",
    "print('#######################')\n",
    "\n",
    "# 문제 오류 아님?\n",
    "# 아니... 원래 적혀있던 거 때문에 자꾸 실패한다고 뜬다고...\n",
    "# print(('*'*a+'\\n')*b) # 원래꺼 다 맞았었음;;;\n",
    "\n",
    "# 빈 사각형이 아니라 꽉 찬 사각형이었음. 더 쉬운 문제였던 것...\n",
    "print(f\"{'*'*a}\\n\")\n",
    "print(f\"{'*'+' '*(a-2)+'*'}\\n\"*(b-2)) #어쨌든 이거 틀림...\n",
    "print(f\"{'*'*a}\\n\")"
   ]
  }
 ],
 "metadata": {
  "interpreter": {
   "hash": "e4cfef919f511c0e3a05919ed86dab4fa959f970f2723dae87eeb918be14f5f0"
  },
  "kernelspec": {
   "display_name": "Python 3.8.8 ('base')",
   "language": "python",
   "name": "python3"
  },
  "language_info": {
   "codemirror_mode": {
    "name": "ipython",
    "version": 3
   },
   "file_extension": ".py",
   "mimetype": "text/x-python",
   "name": "python",
   "nbconvert_exporter": "python",
   "pygments_lexer": "ipython3",
   "version": "3.8.8"
  },
  "orig_nbformat": 4
 },
 "nbformat": 4,
 "nbformat_minor": 2
}
