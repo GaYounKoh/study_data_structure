{
 "cells": [
  {
   "cell_type": "markdown",
   "metadata": {},
   "source": [
    "# 220403, 문자열을 정수로 바꾸기 (획득한 점수: 1)\n",
    "* 휙휙 풂..."
   ]
  },
  {
   "cell_type": "code",
   "execution_count": null,
   "metadata": {},
   "outputs": [],
   "source": [
    "def solution(s):\n",
    "    if s[0] == '+':\n",
    "        ans = int(s[1:])\n",
    "    elif s[0] == '-':\n",
    "        ans = -int(s[1:])\n",
    "    else:\n",
    "        ans = int(s)\n",
    "    return ans"
   ]
  }
 ],
 "metadata": {
  "language_info": {
   "name": "python"
  },
  "orig_nbformat": 4
 },
 "nbformat": 4,
 "nbformat_minor": 2
}
