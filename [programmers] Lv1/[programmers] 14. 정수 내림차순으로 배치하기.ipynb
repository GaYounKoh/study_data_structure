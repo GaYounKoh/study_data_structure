{
 "cells": [
  {
   "cell_type": "code",
   "execution_count": 4,
   "metadata": {},
   "outputs": [],
   "source": [
    "from IPython.core.interactiveshell import InteractiveShell\n",
    "InteractiveShell.ast_node_interactivity = \"all\""
   ]
  },
  {
   "cell_type": "markdown",
   "metadata": {},
   "source": [
    "# 220327 제출, 정수 내림차순으로 배치하기 (획득한 점수: 8)\n",
    "runtime error 왜 아는 것인지 도저히 이해가 안가 결국 인터넷 검색. <br>\n",
    "[참고 1 _ 이 사람도 이해 못함.](https://velog.io/@jokwed/%ED%94%84%EB%A1%9C%EA%B7%B8%EB%9E%98%EB%A8%B8%EC%8A%A4Python%EC%A0%95%EC%88%98-%EB%82%B4%EB%A6%BC%EC%B0%A8%EC%88%9C%EC%9C%BC%EB%A1%9C-%EB%B0%B0%EC%B9%98%ED%95%98%EA%B8%B0) <br>\n",
    "[참고 2 _ 이 사람은 int 설정 따로 안해줬는데 잘 됐나봄.](https://velog.io/@cosmos/Programmers%ED%94%84%EB%A1%9C%EA%B7%B8%EB%9E%98%EB%A8%B8%EC%8A%A4-%EC%A0%95%EC%88%98-%EB%82%B4%EB%A6%BC%EC%B0%A8%EC%88%9C%EC%9C%BC%EB%A1%9C-%EB%B0%B0%EC%B9%98%ED%95%98%EA%B8%B0-python) <br>\n",
    "> 참고 2 --> 내림차순에는 sorted 함수의 <span style = 'color:red'> reverse = True </span> 사용"
   ]
  },
  {
   "cell_type": "markdown",
   "metadata": {},
   "source": [
    "# 답"
   ]
  },
  {
   "cell_type": "code",
   "execution_count": 1,
   "metadata": {},
   "outputs": [],
   "source": [
    "def solution(n):\n",
    "    # lst = [i for i in str(int(n))] # str 씌우기 전에 int(n)으로 받아줘야 runtime error 안난다고 함....\n",
    "    # lst = sorted(lst) # sorted(seq_data)는 list를 반환, list.sort()는 None 반환..?\n",
    "    # # https://docs.python.org/ko/3/howto/sorting.html\n",
    "    # jo = ''.join(lst[::-1])\n",
    "    # return int(jo)#str(n).sort(acsending = False)) # 이거로도 할 수 있긴한데 첨부터 str로 하고싶었으니까 str로 제출할래\n",
    "\n",
    "    st = sorted(str(int(n)))[::-1] # str 씌우기 전에 int(n)으로 받아줘야 runtime error 안난다고 함.... 왜..?\n",
    "    st = ''.join(st)\n",
    "    return int(st)"
   ]
  },
  {
   "cell_type": "markdown",
   "metadata": {},
   "source": [
    "# Try 1 (220325)"
   ]
  },
  {
   "cell_type": "code",
   "execution_count": null,
   "metadata": {},
   "outputs": [],
   "source": [
    "# 이게 런타임에러가 난다고..?\n",
    "def solution(n):\n",
    "    lst = [i for i in str(n)]\n",
    "    lst = sorted(lst) # sorted(seq_data)는 list를 반환, list.sort()는 None 반환..?\n",
    "    # https://docs.python.org/ko/3/howto/sorting.html\n",
    "    jo = ''.join(lst[::-1])\n",
    "    return int(jo)#str(n).sort(acsending = False)) # 이거로도 할 수 있긴한데 첨부터 str로 하고싶었으니까 str로 제출할래\n",
    "    \n",
    "    # st = sorted(str(n))[::-1]\n",
    "    # st = ''.join(st)\n",
    "    # return int(st)"
   ]
  },
  {
   "cell_type": "code",
   "execution_count": 9,
   "metadata": {},
   "outputs": [
    {
     "data": {
      "text/plain": [
       "['1', '1', '2', '3', '7', '8']"
      ]
     },
     "execution_count": 9,
     "metadata": {},
     "output_type": "execute_result"
    },
    {
     "data": {
      "text/plain": [
       "873211"
      ]
     },
     "execution_count": 9,
     "metadata": {},
     "output_type": "execute_result"
    }
   ],
   "source": [
    "n = 118372\n",
    "st = sorted(str(n))\n",
    "st\n",
    "st = ''.join(st[::-1])\n",
    "# print(st)\n",
    "int(st)"
   ]
  },
  {
   "cell_type": "code",
   "execution_count": null,
   "metadata": {},
   "outputs": [],
   "source": []
  }
 ],
 "metadata": {
  "interpreter": {
   "hash": "e4cfef919f511c0e3a05919ed86dab4fa959f970f2723dae87eeb918be14f5f0"
  },
  "kernelspec": {
   "display_name": "Python 3.8.8 ('base')",
   "language": "python",
   "name": "python3"
  },
  "language_info": {
   "codemirror_mode": {
    "name": "ipython",
    "version": 3
   },
   "file_extension": ".py",
   "mimetype": "text/x-python",
   "name": "python",
   "nbconvert_exporter": "python",
   "pygments_lexer": "ipython3",
   "version": "3.8.8"
  },
  "orig_nbformat": 4
 },
 "nbformat": 4,
 "nbformat_minor": 2
}
