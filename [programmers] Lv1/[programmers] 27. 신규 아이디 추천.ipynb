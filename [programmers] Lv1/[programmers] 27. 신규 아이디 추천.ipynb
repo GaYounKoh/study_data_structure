{
 "cells": [
  {
   "cell_type": "code",
   "execution_count": 1,
   "metadata": {},
   "outputs": [],
   "source": [
    "from IPython.core.interactiveshell import InteractiveShell\n",
    "InteractiveShell.ast_node_interactivity = \"all\""
   ]
  },
  {
   "cell_type": "markdown",
   "metadata": {},
   "source": [
    "# 220507 신규 이아디 추천, (획득한 점수: 3)"
   ]
  },
  {
   "cell_type": "code",
   "execution_count": null,
   "metadata": {},
   "outputs": [],
   "source": [
    "def solution(new_id):\n",
    "    ## 1.\n",
    "    low = new_id.lower()\n",
    "\n",
    "    new = ''\n",
    "    ## 2.\n",
    "    for i in low:\n",
    "        if i.isalpha(): # 이미 모두 소문자이므로 추가적으로 소문자인지 따지지 않는다\n",
    "            new+=i\n",
    "        elif i.isdigit():\n",
    "            new+=i\n",
    "        elif i in ['-', '_', '.']:\n",
    "            new+=i\n",
    "\n",
    "    ## 3.\n",
    "    if '..' in new:\n",
    "        while '..' in new: # '..'이 문자열에 있는 동안!!!\n",
    "            new = new[: new.index('..')] + '.' + new[new.index('..'):].strip('.')\n",
    "\n",
    "    ## 4.\n",
    "    if new.startswith('.') or new.endswith('.'):\n",
    "        new = new.strip('.') # 이게 되네...?\n",
    "\n",
    "\n",
    "    ## 5.\n",
    "    if len(new) == 0:\n",
    "        new += 'a'\n",
    "\n",
    "    ## 6.\n",
    "    if len(new) >= 16:\n",
    "        new = new[:15]\n",
    "\n",
    "        if new.startswith('.') or new.endswith('.'):\n",
    "            new = new.strip('.')\n",
    "\n",
    "    ## 7.\n",
    "    if len(new) <= 2:\n",
    "        while len(new) < 3: # len(new)가 3미만일 때 (즉, 길이가 2일 때까지 돌고, 원소 더하면 길이 3되면서 종료)\n",
    "            new += new[-1]\n",
    "\n",
    "    return new"
   ]
  },
  {
   "cell_type": "markdown",
   "metadata": {},
   "source": [
    "# 낙서장"
   ]
  },
  {
   "cell_type": "code",
   "execution_count": 16,
   "metadata": {},
   "outputs": [
    {
     "name": "stdout",
     "output_type": "stream",
     "text": [
      "aaa\n"
     ]
    }
   ],
   "source": [
    "new_id = '=.=' # '...!@BaT#*..y.abcdefghijklm'\n",
    "## 1.\n",
    "low = new_id.lower()\n",
    "\n",
    "new = ''\n",
    "## 2.\n",
    "for i in low:\n",
    "    if i.isalpha(): # 이미 모두 소문자이므로 추가적으로 소문자인지 따지지 않는다\n",
    "        new+=i\n",
    "    elif i.isdigit():\n",
    "        new+=i\n",
    "    elif i in ['-', '_', '.']:\n",
    "        new+=i\n",
    "# print(new)\n",
    "\n",
    "# dot_list = list(filter(lambda x: new[x] == '..', range(len(new))))\n",
    "\n",
    "## 3.\n",
    "if '..' in new:\n",
    "    while '..' in new: # '..'이 문자열에 있는 동안!!!\n",
    "        new = new[: new.index('..')] + '.' + new[new.index('..'):].strip('.')\n",
    "# print(f'new: {new}')\n",
    "\n",
    "## 4.\n",
    "if new.startswith('.') or new.endswith('.'):\n",
    "    new = new.strip('.') # 이게 되네...?\n",
    "# print(f'new: {new}')\n",
    "\n",
    "\n",
    "## 5.\n",
    "if len(new) == 0:\n",
    "    new += 'a'\n",
    "\n",
    "## 6.\n",
    "if len(new) >= 16:\n",
    "    new = new[:15]\n",
    "    \n",
    "    if new.startswith('.') or new.endswith('.'):\n",
    "        new = new.strip('.')\n",
    "\n",
    "## 7.\n",
    "# cnt = 0\n",
    "if len(new) <= 2:\n",
    "    while len(new) < 3: # len(new)가 3미만일 때 (즉, 길이가 2일 때까지 돌고, 원소 더하면 길이 3되면서 종료)\n",
    "        new += new[-1]\n",
    "\n",
    "print(new)"
   ]
  },
  {
   "cell_type": "markdown",
   "metadata": {},
   "source": [
    "# strip은 덮어쓰기가 안됨.\n",
    "좌우 '.' 지우기가 됨."
   ]
  },
  {
   "cell_type": "code",
   "execution_count": 12,
   "metadata": {},
   "outputs": [
    {
     "data": {
      "text/plain": [
       "'ㅇㅁㄴ'"
      ]
     },
     "execution_count": 12,
     "metadata": {},
     "output_type": "execute_result"
    },
    {
     "data": {
      "text/plain": [
       "'---ㅇㅁㄴ'"
      ]
     },
     "execution_count": 12,
     "metadata": {},
     "output_type": "execute_result"
    }
   ],
   "source": [
    "a = '---ㅇㅁㄴ'\n",
    "a.strip('-')\n",
    "a"
   ]
  },
  {
   "cell_type": "markdown",
   "metadata": {},
   "source": [
    "# filter 함수 <br>\n",
    "내장함수를 built in 함수라고 함. <br>\n",
    "filter 대신 for loop의 enumerate 사용 가능. <br>\n",
    "* 2개 이상의 문자에 대해서는 인덱싱이 안됨.\n"
   ]
  },
  {
   "cell_type": "code",
   "execution_count": 22,
   "metadata": {},
   "outputs": [
    {
     "data": {
      "text/plain": [
       "[]"
      ]
     },
     "execution_count": 22,
     "metadata": {},
     "output_type": "execute_result"
    }
   ],
   "source": [
    "new = '...'\n",
    "dot_list = list(filter(lambda x: new[x] == '..', range(len(new)))) # 2개 이상의 문자 확인데 대해서는 왜 비었다고 뜰지 생각해보니, 원소 하나씩 돌면서 생각해서 그럼.\n",
    "dot_list"
   ]
  },
  {
   "cell_type": "code",
   "execution_count": 30,
   "metadata": {},
   "outputs": [
    {
     "data": {
      "text/plain": [
       "'.sf...esg.....llwk'"
      ]
     },
     "execution_count": 30,
     "metadata": {},
     "output_type": "execute_result"
    },
    {
     "data": {
      "text/plain": [
       "'.sf.esg.llwk'"
      ]
     },
     "execution_count": 30,
     "metadata": {},
     "output_type": "execute_result"
    }
   ],
   "source": [
    "new = '..sf...esg.....llwk'\n",
    "def dot(x):\n",
    "    x = x[: x.index('..')] + '.' + x[x.index('..'):].strip('.')\n",
    "    return x\n",
    "if '..' in new:\n",
    "    new = dot(new)\n",
    "new\n",
    "\n",
    "# while문을 쓰면 되는거였잖아..?\n",
    "while '..' in new: # '..'이 문자열에 있는 동안!!!\n",
    "    new = dot(new)\n",
    "new"
   ]
  },
  {
   "cell_type": "markdown",
   "metadata": {},
   "source": [
    "# 다른사람의 풀이"
   ]
  },
  {
   "cell_type": "code",
   "execution_count": 31,
   "metadata": {},
   "outputs": [
    {
     "data": {
      "text/plain": [
       "'st: ...bat..y.abcdefghijklm'"
      ]
     },
     "execution_count": 31,
     "metadata": {},
     "output_type": "execute_result"
    },
    {
     "data": {
      "text/plain": [
       "'st: bat.y.abcdefghi'"
      ]
     },
     "execution_count": 31,
     "metadata": {},
     "output_type": "execute_result"
    }
   ],
   "source": [
    "# 정규식..?\n",
    "new_id = '...!@BaT#*..y.abcdefghijklm'\n",
    "\n",
    "import re\n",
    "\n",
    "# def solution(new_id):\n",
    "st = new_id\n",
    "st = st.lower()\n",
    "st = re.sub('[^a-z0-9\\-_.]', '', st)\n",
    "f'st: {st}'\n",
    "st = re.sub('\\.+', '.', st)\n",
    "st = re.sub('^[.]|[.]$', '', st)\n",
    "st = 'a' if len(st) == 0 else st[:15]\n",
    "st = re.sub('^[.]|[.]$', '', st)\n",
    "st = st if len(st) > 2 else st + \"\".join([st[-1] for i in range(3-len(st))])\n",
    "f'st: {st}'\n",
    "    # return st"
   ]
  },
  {
   "cell_type": "code",
   "execution_count": null,
   "metadata": {},
   "outputs": [],
   "source": []
  }
 ],
 "metadata": {
  "interpreter": {
   "hash": "0a54084e6b208ee8d1ce3989ffc20924477a5f55f5a43e22e699a6741623861e"
  },
  "kernelspec": {
   "display_name": "Python 3.7.8 64-bit",
   "language": "python",
   "name": "python3"
  },
  "language_info": {
   "codemirror_mode": {
    "name": "ipython",
    "version": 3
   },
   "file_extension": ".py",
   "mimetype": "text/x-python",
   "name": "python",
   "nbconvert_exporter": "python",
   "pygments_lexer": "ipython3",
   "version": "3.7.8"
  },
  "orig_nbformat": 4
 },
 "nbformat": 4,
 "nbformat_minor": 2
}
