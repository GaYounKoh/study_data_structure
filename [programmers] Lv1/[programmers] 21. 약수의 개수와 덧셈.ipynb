{
 "cells": [
  {
   "cell_type": "markdown",
   "metadata": {},
   "source": [
    "# 220402, 약수의 개수와 덧셈 (획득한 점수: 2)\n",
    "짧게 써야한다는 강박이 없으니 막힘없이 풀어버림,,,,,,,,,,,,, <br>\n",
    "진짜 막힘이 없었음,,, 첫 제출시도 만에 성공해버린,,,,, <br>"
   ]
  },
  {
   "cell_type": "code",
   "execution_count": null,
   "metadata": {},
   "outputs": [],
   "source": [
    "def solution(left, right):\n",
    "    dic = {}\n",
    "    for i in range(left, right+1):\n",
    "        tmp = []\n",
    "        for j in range(1,i+1):\n",
    "            if i%j == 0:\n",
    "                tmp.append(j)\n",
    "        dic[i] = len(tmp)\n",
    "    \n",
    "    sum_l = []\n",
    "    minus_l = []\n",
    "    for i in dic.keys():\n",
    "        if dic[i]%2 == 0:\n",
    "            sum_l.append(i)\n",
    "        else:\n",
    "            minus_l.append(i)\n",
    "            \n",
    "    return sum(sum_l)-sum(minus_l)"
   ]
  }
 ],
 "metadata": {
  "interpreter": {
   "hash": "e4cfef919f511c0e3a05919ed86dab4fa959f970f2723dae87eeb918be14f5f0"
  },
  "kernelspec": {
   "display_name": "Python 3.8.8 ('base')",
   "language": "python",
   "name": "python3"
  },
  "language_info": {
   "name": "python",
   "version": "3.8.8"
  },
  "orig_nbformat": 4
 },
 "nbformat": 4,
 "nbformat_minor": 2
}
