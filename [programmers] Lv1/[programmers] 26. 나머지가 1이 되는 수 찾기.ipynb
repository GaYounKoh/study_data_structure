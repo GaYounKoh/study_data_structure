{
 "cells": [
  {
   "cell_type": "markdown",
   "metadata": {},
   "source": [
    "# 220410, 나머지가 1이 되는 수 찾기 (획득한 점수: 3)\n",
    "* 처음 return 되는 게 가장 작은거!!!"
   ]
  },
  {
   "cell_type": "markdown",
   "metadata": {},
   "source": [
    "# 정답"
   ]
  },
  {
   "cell_type": "code",
   "execution_count": null,
   "metadata": {},
   "outputs": [],
   "source": [
    "def solution(n):\n",
    "    # 소수 구하는 문제???\n",
    "    # ()*x + 1 = n\n",
    "    s = n-1\n",
    "    result = []\n",
    "    for i in range(2,s+1):\n",
    "        if s%i == 0:\n",
    "            return(i)"
   ]
  },
  {
   "cell_type": "markdown",
   "metadata": {},
   "source": [
    "# Try 1"
   ]
  },
  {
   "cell_type": "code",
   "execution_count": 4,
   "metadata": {},
   "outputs": [
    {
     "name": "stdout",
     "output_type": "stream",
     "text": [
      "3\n",
      "9\n"
     ]
    }
   ],
   "source": [
    "# 소수 구하는 문제\n",
    "# ()*x + 1 = n\n",
    "n = 10\n",
    "s = n-1\n",
    "result = []\n",
    "for i in range(2,s+1):\n",
    "    if s%i == 0:\n",
    "        return(i)"
   ]
  }
 ],
 "metadata": {
  "interpreter": {
   "hash": "6410af7c2dfa4069b2c7d49a5fe679014da99f4de105009041bd84f5aada7cfa"
  },
  "kernelspec": {
   "display_name": "Python 3.10.3 64-bit",
   "language": "python",
   "name": "python3"
  },
  "language_info": {
   "codemirror_mode": {
    "name": "ipython",
    "version": 3
   },
   "file_extension": ".py",
   "mimetype": "text/x-python",
   "name": "python",
   "nbconvert_exporter": "python",
   "pygments_lexer": "ipython3",
   "version": "3.8.8"
  },
  "orig_nbformat": 4
 },
 "nbformat": 4,
 "nbformat_minor": 2
}
