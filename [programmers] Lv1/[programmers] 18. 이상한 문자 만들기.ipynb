{
 "cells": [
  {
   "cell_type": "code",
   "execution_count": 2,
   "metadata": {},
   "outputs": [],
   "source": [
    "from IPython.core.interactiveshell import InteractiveShell\n",
    "InteractiveShell.ast_node_interactivity = \"all\""
   ]
  },
  {
   "cell_type": "markdown",
   "metadata": {},
   "source": [
    "# 220401 이상한 문자 만들기 (획득한 점수: 12)\n",
    "* 시간 제한 안걸려있음."
   ]
  },
  {
   "cell_type": "code",
   "execution_count": null,
   "metadata": {},
   "outputs": [],
   "source": [
    "def solution(s):\n",
    "    s_l= s.split(' ')\n",
    "    ans = []\n",
    "    for i in s_l:\n",
    "        tmp = ''\n",
    "        i = i.lower()\n",
    "        i\n",
    "        # i[1::2].upper()\n",
    "        for j,k in enumerate(i):\n",
    "            if j%2 == 0:\n",
    "                k = k.upper()\n",
    "                tmp+=k\n",
    "            else:\n",
    "                tmp+=k\n",
    "        ans.append(tmp)\n",
    "\n",
    "    return ' '.join(ans)"
   ]
  },
  {
   "cell_type": "markdown",
   "metadata": {},
   "source": [
    "# prac(연습장,,,)"
   ]
  },
  {
   "cell_type": "code",
   "execution_count": 26,
   "metadata": {},
   "outputs": [
    {
     "data": {
      "text/plain": [
       "['Hello', 'bmw']"
      ]
     },
     "execution_count": 26,
     "metadata": {},
     "output_type": "execute_result"
    },
    {
     "data": {
      "text/plain": [
       "'hello'"
      ]
     },
     "execution_count": 26,
     "metadata": {},
     "output_type": "execute_result"
    },
    {
     "data": {
      "text/plain": [
       "'bmw'"
      ]
     },
     "execution_count": 26,
     "metadata": {},
     "output_type": "execute_result"
    },
    {
     "data": {
      "text/plain": [
       "'HeLlO BmW'"
      ]
     },
     "execution_count": 26,
     "metadata": {},
     "output_type": "execute_result"
    }
   ],
   "source": [
    "s = 'Hello bmw'\n",
    "s_l= s.split(' ')\n",
    "\n",
    "ans = []\n",
    "for i in s_l:\n",
    "    tmp = ''\n",
    "    i = i.lower()\n",
    "    i\n",
    "    # i[1::2].upper()\n",
    "    for j,k in enumerate(i):\n",
    "        if j%2 == 0:\n",
    "            k = k.upper()\n",
    "            tmp+=k\n",
    "        else:\n",
    "            tmp+=k\n",
    "    ans.append(tmp)\n",
    "\n",
    "' '.join(ans)\n",
    "\n",
    "# print(s_l)"
   ]
  },
  {
   "cell_type": "code",
   "execution_count": 6,
   "metadata": {},
   "outputs": [
    {
     "data": {
      "text/plain": [
       "[1, 's,d']"
      ]
     },
     "execution_count": 6,
     "metadata": {},
     "output_type": "execute_result"
    }
   ],
   "source": [
    "[1,3,'s,d','s'][::2]\n"
   ]
  },
  {
   "cell_type": "code",
   "execution_count": 9,
   "metadata": {},
   "outputs": [
    {
     "data": {
      "text/plain": [
       "'13'"
      ]
     },
     "execution_count": 9,
     "metadata": {},
     "output_type": "execute_result"
    }
   ],
   "source": [
    "'1234'[::2]\n"
   ]
  },
  {
   "cell_type": "code",
   "execution_count": null,
   "metadata": {},
   "outputs": [],
   "source": []
  }
 ],
 "metadata": {
  "interpreter": {
   "hash": "e4cfef919f511c0e3a05919ed86dab4fa959f970f2723dae87eeb918be14f5f0"
  },
  "kernelspec": {
   "display_name": "Python 3.8.8 ('base')",
   "language": "python",
   "name": "python3"
  },
  "language_info": {
   "codemirror_mode": {
    "name": "ipython",
    "version": 3
   },
   "file_extension": ".py",
   "mimetype": "text/x-python",
   "name": "python",
   "nbconvert_exporter": "python",
   "pygments_lexer": "ipython3",
   "version": "3.8.8"
  },
  "orig_nbformat": 4
 },
 "nbformat": 4,
 "nbformat_minor": 2
}
