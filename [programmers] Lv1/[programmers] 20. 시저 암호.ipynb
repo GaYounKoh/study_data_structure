{
 "cells": [
  {
   "cell_type": "markdown",
   "metadata": {},
   "source": [
    "# 220402, 시저 암호 (획득한 점수 : 7)\n",
    "* 시간제한 없음... <br>\n",
    "복잡하게도 풀었따,,,,"
   ]
  },
  {
   "cell_type": "code",
   "execution_count": null,
   "metadata": {},
   "outputs": [],
   "source": [
    "def solution(s, n):\n",
    "    lower = ['a','b','c','d','e','f','g','h','i','j','k',\n",
    "     'l','m','n','o','p','q','r','s','t','u','v','w','x','y','z']\n",
    "    upper = [i.upper() for i in lower]\n",
    "    # s_all = lower+upper\n",
    "    # s_l = ','.join(s)\n",
    "    # s_l = s.split(',')\n",
    "    s_l = []\n",
    "    for i in s:\n",
    "        if i == ' ':\n",
    "            s_l.append(i)\n",
    "        elif i == i.lower():\n",
    "            if lower.index(i)+n > 25:\n",
    "                i = lower[lower.index(i)+n-25-1] # -1은 왜 추가적으로 해줘야 하는것인가... (아,,,n의 최대 길이가 24였음;;;;)\n",
    "                # print('lo>25')\n",
    "                s_l.append(i)\n",
    "            else:\n",
    "                i = lower[lower.index(i)+n]\n",
    "                s_l.append(i)\n",
    "\n",
    "        elif i == i.upper():\n",
    "            if upper.index(i)+n > 25:\n",
    "                i = upper[upper.index(i)+n-25-1]\n",
    "                s_l.append(i)\n",
    "            else:\n",
    "                i = upper[upper.index(i)+n]\n",
    "                s_l.append(i)\n",
    "            \n",
    "    # print(s_l)\n",
    "    # print(','.join(s_l).replace(',',''))\n",
    "    return ','.join(s_l).replace(',','')\n",
    "    ## str_list.index(i)+n\n",
    "    ## .append()"
   ]
  }
 ],
 "metadata": {
  "interpreter": {
   "hash": "e4cfef919f511c0e3a05919ed86dab4fa959f970f2723dae87eeb918be14f5f0"
  },
  "kernelspec": {
   "display_name": "Python 3.8.8 ('base')",
   "language": "python",
   "name": "python3"
  },
  "language_info": {
   "name": "python",
   "version": "3.8.8"
  },
  "orig_nbformat": 4
 },
 "nbformat": 4,
 "nbformat_minor": 2
}
