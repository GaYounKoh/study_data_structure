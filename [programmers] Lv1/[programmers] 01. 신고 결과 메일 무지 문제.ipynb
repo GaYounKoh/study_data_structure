{
 "cells": [
  {
   "cell_type": "code",
   "execution_count": 9,
   "metadata": {},
   "outputs": [],
   "source": [
    "from IPython.core.interactiveshell import InteractiveShell\n",
    "InteractiveShell.ast_node_interactivity = \"all\""
   ]
  },
  {
   "cell_type": "markdown",
   "metadata": {},
   "source": [
    "# \"220315 신고 결과 받기 coding test, took 1 hour\""
   ]
  },
  {
   "cell_type": "code",
   "execution_count": null,
   "metadata": {},
   "outputs": [],
   "source": [
    "def solution(id_list, report, k):\n",
    "    # id_list\n",
    "    # report_ = report.replace(\" \", \" : \")\n",
    "    # report_ = report.split(\" \")\n",
    "    # if len(set(report_)) == k:\n",
    "    dic = {}\n",
    "    for i in report:\n",
    "        dic[i[:i.index(\" \")]] = [i[i.index(\" \"):]]\n",
    "        \n",
    "    answer = []\n",
    "    for i in id_list:\n",
    "        answer.append(dic[i])\n",
    "        \n",
    "    return answer"
   ]
  },
  {
   "cell_type": "code",
   "execution_count": 159,
   "metadata": {},
   "outputs": [],
   "source": [
    "id_list = [\"muzi\", \"frodo\", \"apeach\", \"neo\"]\n",
    "report = [\"muzi frodo\",\"apeach frodo\",\"frodo neo\",\"muzi neo\",\"apeach muzi\"]\n",
    "k = 2"
   ]
  },
  {
   "cell_type": "markdown",
   "metadata": {},
   "source": [
    "# 방법2"
   ]
  },
  {
   "cell_type": "code",
   "execution_count": 174,
   "metadata": {},
   "outputs": [
    {
     "data": {
      "text/plain": [
       "{'muzi': ['neo'], 'apeach': ['muzi'], 'frodo': ['neo']}"
      ]
     },
     "execution_count": 174,
     "metadata": {},
     "output_type": "execute_result"
    }
   ],
   "source": [
    "dic = {}\n",
    "for i in report:\n",
    "    # [i[:i.index(\" \")]]\n",
    "    # dic[i[:i.index(\" \")]].append(i[i.index(\" \")+1:])\n",
    "    if i not in dic.keys():\n",
    "        globals()[f'{i}_list'] = [i[i.index(\" \")+1:]]\n",
    "        # print(globals()[f'{i}_list'])\n",
    "        dic[i[:i.index(\" \")]] = globals()[f'{i}_list']\n",
    "    else:\n",
    "        # dic[i[:i.index(\" \")]].append(i[i.index(\" \")+1:])\n",
    "        print(globals()[f'{i}_list'])\n",
    "        globals()[f'{i}_list'].append(i[i.index(\" \")+1:])\n",
    "        dic[i[:i.index(\" \")]] = globals()[f'{i}_list']\n",
    "\n",
    "\n",
    "# report_ = [i.replace(\" \", \" : \") for i in report]\n",
    "# report_ = \" \".join(report_)\n",
    "# # if len(set(report_)) == k:\n",
    "# report_\n",
    "dic\n",
    "# 딕셔너리 value (list 형태일 때) 에 dic[key].append(new_value)로 append가능한지 확인해보기 ==> 되네..? https://www.codegrepper.com/code-examples/python/python+append+value+to+dictionary+list"
   ]
  },
  {
   "cell_type": "code",
   "execution_count": 42,
   "metadata": {},
   "outputs": [
    {
     "name": "stdout",
     "output_type": "stream",
     "text": [
      "신고자: muzi frodo     처벌대상: muzi 처벌횟수 1\n",
      "신고자: frodo neo     처벌대상: frodo 처벌횟수 2\n",
      "신고자: apeach frodo     처벌대상: apeach 처벌횟수 0\n"
     ]
    }
   ],
   "source": [
    "# 일단 각각이 몇 번 불리는지 횟수를 cnt\n",
    "# 한 사람이 여러번 신고한 건 한 번으로 쳐지니까 set으로 없애기\n",
    "report = list(set(report))\n",
    "ans = [] # id별 신고 횟수 리스트\n",
    "for j in id_list:\n",
    "    # if [i[i.index(\" \")+1:] for i in report].count(j) < k:\n",
    "    if j not in [i[:i.index(\" \")] for i in report]: # 신고 안했으면\n",
    "        ans.append(0)\n",
    "    elif j in [i[i.index(\" \")+1:] for i in report] or j in [i[:i.index(\" \")] for i in report]: # 처벌 리스트에 있거나 신고 리스트에 있으면\n",
    "        print(\"신고자:\", report[[i[:i.index(\" \")] for i in report].index(j)], '    처벌대상:', j, \"처벌횟수\", [i[i.index(\" \")+1:] for i in report].count(j))\n",
    "# report"
   ]
  },
  {
   "cell_type": "code",
   "execution_count": 53,
   "metadata": {},
   "outputs": [
    {
     "data": {
      "text/plain": [
       "[2, 1, 2, 0]"
      ]
     },
     "execution_count": 53,
     "metadata": {},
     "output_type": "execute_result"
    }
   ],
   "source": [
    "# 일단 각각이 몇 번 불리는지 횟수를 cnt\n",
    "# 한 사람이 여러번 신고한 건 한 번으로 쳐지니까 set으로 없애기\n",
    "report = list(set(report))\n",
    "ans = [] # id별 신고 횟수 리스트\n",
    "for j in id_list:\n",
    "    if j not in [i[:i.index(\" \")] for i in report]: # 신고 안했으면\n",
    "        ans.append(0)\n",
    "    else:\n",
    "        # print(\"신고자:\", report[[i[:i.index(\" \")] for i in report].index(j)])\n",
    "        # print('신고자: ', j, \"신고횟수\", [i[:i.index(\" \")] for i in report].count(j))\n",
    "        ans.append([i[:i.index(\" \")] for i in report].count(j))\n",
    "    # print('    처벌대상:', j, \"    처벌횟수\", [i[i.index(\" \")+1:] for i in report].count(j))\n",
    "\n",
    "ans"
   ]
  },
  {
   "cell_type": "markdown",
   "metadata": {},
   "source": [
    "# 다시"
   ]
  },
  {
   "cell_type": "code",
   "execution_count": null,
   "metadata": {},
   "outputs": [],
   "source": [
    "# 일단 각각이 몇 번 불리는지 횟수를 cnt\n",
    "# 한 사람이 여러번 신고한 건 한 번으로 쳐지니까 set으로 없애기\n",
    "\n",
    "def solution(id_list, report, k):\n",
    "    report = list(set(report))\n",
    "    ans = [] # id별 신고 횟수 리스트\n",
    "    for j in id_list:\n",
    "        if j not in [i[:i.index(\" \")] for i in report]: # 신고 안했으면\n",
    "            ans.append(0)\n",
    "        else:\n",
    "            ans.append([i[:i.index(\" \")] for i in report].count(j))\n",
    "    return ans"
   ]
  },
  {
   "cell_type": "code",
   "execution_count": 58,
   "metadata": {},
   "outputs": [
    {
     "data": {
      "text/plain": [
       "'frodo'"
      ]
     },
     "execution_count": 58,
     "metadata": {},
     "output_type": "execute_result"
    },
    {
     "data": {
      "text/plain": [
       "[0]"
      ]
     },
     "execution_count": 58,
     "metadata": {},
     "output_type": "execute_result"
    }
   ],
   "source": [
    "# report = list(set(report))\n",
    "# ans = [] # id별 신고 횟수 리스트\n",
    "# for j in id_list:\n",
    "#     if j not in [i[:i.index(\" \")] for i in report]: # 신고 안했으면\n",
    "#         ans.append(0)\n",
    "#     else:\n",
    "#         if [i[i.index(\" \")+1:] for i in report].count(j) >= k: # j의 처벌 횟수가 k 이상일 때\n",
    "#             j\n",
    "#             # ans.append([i[:i.index(\" \")] for i in report].count(j))\n",
    "# ans"
   ]
  },
  {
   "cell_type": "code",
   "execution_count": 79,
   "metadata": {},
   "outputs": [
    {
     "data": {
      "text/plain": [
       "['apeach', 'muzi', 'muzi', 'apeach', 'frodo']"
      ]
     },
     "execution_count": 79,
     "metadata": {},
     "output_type": "execute_result"
    },
    {
     "data": {
      "text/plain": [
       "['frodo', 'frodo', 'neo', 'muzi', 'neo']"
      ]
     },
     "execution_count": 79,
     "metadata": {},
     "output_type": "execute_result"
    },
    {
     "data": {
      "text/plain": [
       "('muzi', ['frodo', 'neo'])"
      ]
     },
     "execution_count": 79,
     "metadata": {},
     "output_type": "execute_result"
    },
    {
     "data": {
      "text/plain": [
       "('apeach', ['frodo', 'muzi'])"
      ]
     },
     "execution_count": 79,
     "metadata": {},
     "output_type": "execute_result"
    },
    {
     "data": {
      "text/plain": [
       "('frodo', ['neo'])"
      ]
     },
     "execution_count": 79,
     "metadata": {},
     "output_type": "execute_result"
    }
   ],
   "source": [
    "report = list(set(report))\n",
    "ans = [] # id별 신고 횟수 리스트\n",
    "\n",
    "신고자 = []\n",
    "처벌자 = []\n",
    "for i in report:\n",
    "    신고자.append(i[:i.index(\" \")])\n",
    "    처벌자.append(i[i.index(\" \")+1:])\n",
    "신고자\n",
    "처벌자\n",
    "# *** 리스트 중복 제거 (순서 유지) 방법 찾기\n",
    "# 리스트 인덱스 반환 https://pmandocom.tistory.com/17\n",
    "# 답에 적용한 리스트 인덱스 반환 https://velog.io/@suzieep/Python-%ED%8C%8C%EC%9D%B4%EC%8D%AC-%EB%A6%AC%EC%8A%A4%ED%8A%B8%EC%97%90%EC%84%9C-%ED%8A%B9%EC%A0%95-%EA%B0%92%EC%9D%98-%EB%AA%A8%EB%93%A0-%EC%9C%84%EC%B9%98-%EC%B0%BE%EA%B8%B0\n",
    "\n",
    "\n",
    "# 사실 리스트를 dic으로 바꾸는 코드가 제일 필요함.\n",
    "\n",
    "\n",
    "# 애초에 조건에 한 번 신고됐으면 제외하기.\n",
    "\n",
    "for i in set(신고자):\n",
    "    신고자_idx = list(filter(lambda e: 신고자[e] == i, range(len(신고자))))\n",
    "    i, [처벌자[j] for j in 신고자_idx] # 신고자가 처벌한 사람 list\n",
    "    # globals()[f'{i}_신고idx'] = list(filter(lambda e: 신고자[e] == i, range(len(신고자))))\n",
    "    # globals()[f'{i}_신고idx']"
   ]
  },
  {
   "cell_type": "markdown",
   "metadata": {},
   "source": [
    "# 새로 생각한 조건 추가해서 다시\n",
    "애초에 조건에 한 번 신고됐으면 제외하기."
   ]
  },
  {
   "cell_type": "code",
   "execution_count": 109,
   "metadata": {},
   "outputs": [
    {
     "data": {
      "text/plain": [
       "['muzi', 'frodo', 'apeach', 'neo']"
      ]
     },
     "execution_count": 109,
     "metadata": {},
     "output_type": "execute_result"
    },
    {
     "data": {
      "text/plain": [
       "('신고자', ['apeach', 'muzi', 'muzi', 'apeach', 'frodo'])"
      ]
     },
     "execution_count": 109,
     "metadata": {},
     "output_type": "execute_result"
    },
    {
     "data": {
      "text/plain": [
       "('처벌자', ['frodo', 'frodo', 'neo', 'muzi', 'neo'])"
      ]
     },
     "execution_count": 109,
     "metadata": {},
     "output_type": "execute_result"
    },
    {
     "data": {
      "text/plain": [
       "'muzi'"
      ]
     },
     "execution_count": 109,
     "metadata": {},
     "output_type": "execute_result"
    },
    {
     "data": {
      "text/plain": [
       "('k회 미만 처벌자를 신고한 사람', 'apeach')"
      ]
     },
     "execution_count": 109,
     "metadata": {},
     "output_type": "execute_result"
    },
    {
     "data": {
      "text/plain": [
       "2"
      ]
     },
     "execution_count": 109,
     "metadata": {},
     "output_type": "execute_result"
    },
    {
     "data": {
      "text/plain": [
       "('neo', '처벌자_idx', [2, 4])"
      ]
     },
     "execution_count": 109,
     "metadata": {},
     "output_type": "execute_result"
    },
    {
     "data": {
      "text/plain": [
       "('처벌자에 대한 신고자', 'muzi')"
      ]
     },
     "execution_count": 109,
     "metadata": {},
     "output_type": "execute_result"
    },
    {
     "data": {
      "text/plain": [
       "('처벌자에 대한 신고자', 'frodo')"
      ]
     },
     "execution_count": 109,
     "metadata": {},
     "output_type": "execute_result"
    },
    {
     "data": {
      "text/plain": [
       "2"
      ]
     },
     "execution_count": 109,
     "metadata": {},
     "output_type": "execute_result"
    },
    {
     "data": {
      "text/plain": [
       "('frodo', '처벌자_idx', [0, 1])"
      ]
     },
     "execution_count": 109,
     "metadata": {},
     "output_type": "execute_result"
    },
    {
     "data": {
      "text/plain": [
       "('처벌자에 대한 신고자', 'apeach')"
      ]
     },
     "execution_count": 109,
     "metadata": {},
     "output_type": "execute_result"
    },
    {
     "data": {
      "text/plain": [
       "('처벌자에 대한 신고자', 'muzi')"
      ]
     },
     "execution_count": 109,
     "metadata": {},
     "output_type": "execute_result"
    },
    {
     "data": {
      "text/plain": [
       "[]"
      ]
     },
     "execution_count": 109,
     "metadata": {},
     "output_type": "execute_result"
    },
    {
     "data": {
      "text/plain": [
       "{'apeach': 1, 'muzi': 2, 'frodo': 1}"
      ]
     },
     "execution_count": 109,
     "metadata": {},
     "output_type": "execute_result"
    }
   ],
   "source": [
    "id_list\n",
    "report = list(set(report))\n",
    "ans = [] # id별 신고 횟수 리스트\n",
    "신고자 = [i[:i.index(\" \")] for i in report]\n",
    "처벌자 = [i[i.index(\" \")+1:] for i in report]\n",
    "'신고자', 신고자\n",
    "'처벌자', 처벌자\n",
    "\n",
    "dic = {}\n",
    "\n",
    "for j in set(처벌자):\n",
    "    if 처벌자.count(j) < k:\n",
    "        j\n",
    "        'k회 미만 처벌자를 신고한 사람', id_list[id_list.index(신고자[처벌자.index(j)])]\n",
    "        dic[id_list[id_list.index(신고자[처벌자.index(j)])]] = 0\n",
    "        pass\n",
    "    else:\n",
    "        처벌자.count(j)\n",
    "        처벌자_idx = list(filter(lambda e: 처벌자[e] == j, range(len(처벌자))))\n",
    "        j, '처벌자_idx', 처벌자_idx\n",
    "        for m in 처벌자_idx:\n",
    "            '처벌자에 대한 신고자', 신고자[m]\n",
    "            if 신고자[m] not in dic.keys():\n",
    "                dic[신고자[m]] = 1\n",
    "            else:\n",
    "                dic[신고자[m]] += 1\n",
    "            # answer.insert(id_list.index(신고자[m]))\n",
    "\n",
    "\n",
    "    # if j not in [i[:i.index(\" \")] for i in report]: # 신고 안했으면\n",
    "    #     ans.append(0)\n",
    "    # else:\n",
    "    #     ans.append([i[:i.index(\" \")] for i in report].count(j))\n",
    "ans\n",
    "dic"
   ]
  },
  {
   "cell_type": "markdown",
   "metadata": {},
   "source": [
    "# 다시"
   ]
  },
  {
   "cell_type": "code",
   "execution_count": 110,
   "metadata": {},
   "outputs": [
    {
     "data": {
      "text/plain": [
       "['muzi', 'frodo', 'apeach', 'neo']"
      ]
     },
     "execution_count": 110,
     "metadata": {},
     "output_type": "execute_result"
    },
    {
     "data": {
      "text/plain": [
       "('신고자', ['apeach', 'muzi', 'muzi', 'apeach', 'frodo'])"
      ]
     },
     "execution_count": 110,
     "metadata": {},
     "output_type": "execute_result"
    },
    {
     "data": {
      "text/plain": [
       "('처벌자', ['frodo', 'frodo', 'neo', 'muzi', 'neo'])"
      ]
     },
     "execution_count": 110,
     "metadata": {},
     "output_type": "execute_result"
    }
   ],
   "source": []
  },
  {
   "cell_type": "code",
   "execution_count": 147,
   "metadata": {},
   "outputs": [
    {
     "data": {
      "text/plain": [
       "('사원들', ['muzi', 'frodo', 'apeach', 'neo'])"
      ]
     },
     "execution_count": 147,
     "metadata": {},
     "output_type": "execute_result"
    },
    {
     "data": {
      "text/plain": [
       "('신고자', ['apeach', 'muzi', 'muzi', 'apeach', 'frodo'])"
      ]
     },
     "execution_count": 147,
     "metadata": {},
     "output_type": "execute_result"
    },
    {
     "data": {
      "text/plain": [
       "('처벌자', ['frodo', 'frodo', 'neo', 'muzi', 'neo'])"
      ]
     },
     "execution_count": 147,
     "metadata": {},
     "output_type": "execute_result"
    },
    {
     "data": {
      "text/plain": [
       "('neo', '처벌자_idx', [2, 4])"
      ]
     },
     "execution_count": 147,
     "metadata": {},
     "output_type": "execute_result"
    },
    {
     "data": {
      "text/plain": [
       "('처벌자에 대한 신고자', 'muzi')"
      ]
     },
     "execution_count": 147,
     "metadata": {},
     "output_type": "execute_result"
    },
    {
     "data": {
      "text/plain": [
       "('처벌자에 대한 신고자', 'frodo')"
      ]
     },
     "execution_count": 147,
     "metadata": {},
     "output_type": "execute_result"
    },
    {
     "data": {
      "text/plain": [
       "{'apeach': 0, 'neo': 0, 'muzi': 1, 'frodo': 1}"
      ]
     },
     "execution_count": 147,
     "metadata": {},
     "output_type": "execute_result"
    }
   ],
   "source": [
    "'사원들', id_list\n",
    "report = list(set(report))\n",
    "ans = [] # id별 신고 횟수 리스트\n",
    "\n",
    "신고자 = [i[:i.index(\" \")] for i in report]\n",
    "처벌자 = [i[i.index(\" \")+1:] for i in report]\n",
    "'신고자', 신고자\n",
    "'처벌자', 처벌자\n",
    "\n",
    "dic = {}\n",
    "신고안함lst = [i for i in id_list if i not in set(신고자)]\n",
    "처벌안받음lst = [i for i in id_list if i not in set(처벌자)]\n",
    "\n",
    "for j in id_list:\n",
    "    # if j not in set(처벌자):\n",
    "    #     continue\n",
    "\n",
    "    # if j in 신고안함lst:\n",
    "    #     '신고안함', j\n",
    "    #     dic[j] = 0\n",
    "\n",
    "\n",
    "    if j in set(처벌자):\n",
    "        if 처벌자.count(j) < k:\n",
    "            # 'k회 미만 처벌자를 신고한 사람', id_list[id_list.index(신고자[처벌자.index(j)])]\n",
    "            dic[id_list[id_list.index(신고자[처벌자.index(j)])]] = 0\n",
    "        elif j in 신고안함lst:\n",
    "            # '신고안함', j\n",
    "            dic[j] = 0\n",
    "    # j in 신고안함lst 이 조건이 오는 순서가 처벌자 안에 있는 지를 확인하는 것보다 나중으로 바뀌면 왜 안되는가에 대해 test를 해본 결과\n",
    "    # 처벌자에는 있어도 신고자에는 없을 수가 있으므로, 처벌자에 id가 있는지 확인하는 조건 안으로 조건문을 넣어줘야함.\n",
    "\n",
    "    # elif j in 신고안함lst:\n",
    "    #     '신고안함', j\n",
    "    #     dic[j] = 0\n",
    "dic"
   ]
  },
  {
   "cell_type": "markdown",
   "metadata": {},
   "source": [
    "# 방법2 다시"
   ]
  },
  {
   "cell_type": "code",
   "execution_count": 182,
   "metadata": {},
   "outputs": [
    {
     "data": {
      "text/plain": [
       "{'muzi': ['frodo']}"
      ]
     },
     "execution_count": 182,
     "metadata": {},
     "output_type": "execute_result"
    },
    {
     "data": {
      "text/plain": [
       "{'muzi': ['frodo'], 'apeach': ['frodo']}"
      ]
     },
     "execution_count": 182,
     "metadata": {},
     "output_type": "execute_result"
    },
    {
     "data": {
      "text/plain": [
       "{'muzi': ['frodo'], 'apeach': ['frodo'], 'frodo': ['neo']}"
      ]
     },
     "execution_count": 182,
     "metadata": {},
     "output_type": "execute_result"
    },
    {
     "data": {
      "text/plain": [
       "{'muzi': ['frodo', 'neo'], 'apeach': ['frodo', 'muzi'], 'frodo': ['neo']}"
      ]
     },
     "execution_count": 182,
     "metadata": {},
     "output_type": "execute_result"
    }
   ],
   "source": [
    "dic = {}\n",
    "for i in report:\n",
    "    # i, i[i.index(\" \")+1:]\n",
    "    if i[:i.index(\" \")] not in dic.keys():\n",
    "        dic[i[:i.index(\" \")]] = [i[i.index(\" \")+1:]]\n",
    "        dic\n",
    "    else:\n",
    "        dic[i[:i.index(\" \")]].append(i[i.index(\" \")+1:])\n",
    "dic"
   ]
  },
  {
   "cell_type": "markdown",
   "metadata": {},
   "source": [
    "# 김수 도움!!!!"
   ]
  },
  {
   "cell_type": "code",
   "execution_count": 204,
   "metadata": {},
   "outputs": [
    {
     "data": {
      "text/plain": [
       "{'muzi': ['frodo', 'neo'], 'apeach': ['frodo', 'muzi'], 'frodo': ['neo']}"
      ]
     },
     "execution_count": 204,
     "metadata": {},
     "output_type": "execute_result"
    },
    {
     "data": {
      "text/plain": [
       "{'muzi': 1, 'frodo': 2, 'apeach': 0, 'neo': 2}"
      ]
     },
     "execution_count": 204,
     "metadata": {},
     "output_type": "execute_result"
    },
    {
     "data": {
      "text/plain": [
       "[2, 1, 1, 0]"
      ]
     },
     "execution_count": 204,
     "metadata": {},
     "output_type": "execute_result"
    }
   ],
   "source": [
    "def solution(id_list, report, k):\n",
    "    dic = {}\n",
    "    re_lst = [] # 처벌자 list\n",
    "    report = set(report)\n",
    "    for i in report:\n",
    "        # i, i[i.index(\" \")+1:]\n",
    "        user, reported_user = i.split()\n",
    "        re_lst.append(reported_user)\n",
    "\n",
    "        if user not in dic.keys():\n",
    "            dic[user] = [reported_user]\n",
    "        else:\n",
    "            dic[user].append(reported_user)\n",
    "    dic\n",
    "\n",
    "    re_dic = {} # 신고횟수\n",
    "    for i in id_list:\n",
    "        if i in set(re_lst):\n",
    "            re_dic[i] = re_lst.count(i)\n",
    "        else:\n",
    "            re_dic[i] = 0\n",
    "    re_dic\n",
    "\n",
    "    # ans = [0] * len(id_list)\n",
    "    ans = {i:0 for i in id_list}\n",
    "    for i in id_list:\n",
    "        if re_dic[i] >= k:\n",
    "            for key,v in dic.items():\n",
    "                if i in v:\n",
    "                    ans[key]+=1\n",
    "\n",
    "    list(ans.values())\n",
    "    return list(ans.values())"
   ]
  },
  {
   "cell_type": "code",
   "execution_count": 202,
   "metadata": {},
   "outputs": [
    {
     "data": {
      "text/plain": [
       "[0, 0, 0, 0]"
      ]
     },
     "execution_count": 202,
     "metadata": {},
     "output_type": "execute_result"
    }
   ],
   "source": []
  },
  {
   "cell_type": "code",
   "execution_count": null,
   "metadata": {},
   "outputs": [],
   "source": []
  }
 ],
 "metadata": {
  "interpreter": {
   "hash": "a189447917acffb1567c89b7cb00fa9d2475a0f68c2a9e06a8cc7f2367540eba"
  },
  "kernelspec": {
   "display_name": "Python 3.8.5 ('base')",
   "language": "python",
   "name": "python3"
  },
  "language_info": {
   "codemirror_mode": {
    "name": "ipython",
    "version": 3
   },
   "file_extension": ".py",
   "mimetype": "text/x-python",
   "name": "python",
   "nbconvert_exporter": "python",
   "pygments_lexer": "ipython3",
   "version": "3.8.5"
  },
  "orig_nbformat": 4
 },
 "nbformat": 4,
 "nbformat_minor": 2
}
