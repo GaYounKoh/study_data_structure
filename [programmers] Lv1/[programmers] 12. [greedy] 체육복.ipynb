{
 "cells": [
  {
   "cell_type": "markdown",
   "metadata": {},
   "source": [
    "# 220325 [greedy] 체육복 빌려주기 (획득한 점수: 12, 미쳤나봄.)\n",
    "거의 1시간 30분 ~ 2시간 미만 소요된듯. <br>\n",
    "list 두개에서 서로 중복인거 빼는 게 관건이었음. <br>\n",
    "1. 일차적으로 중복인걸 for loop 돌리기 전에 빼야한다는 생각을 안했고,\n",
    "2. 그 생각을 한 후에는 차집합이 생각이 안났음.\n",
    "3. 그리고 lost에서 reserve를 차집합할 생각만 했지 <br>\n",
    "reserve에서는 lost를 뺄 생각을 못함. <br>\n",
    "\n",
    "진짜 개도랐다."
   ]
  },
  {
   "cell_type": "markdown",
   "metadata": {},
   "source": [
    "# 정답"
   ]
  },
  {
   "cell_type": "code",
   "execution_count": null,
   "metadata": {},
   "outputs": [],
   "source": [
    "def solution(n, lost, reserve):\n",
    "    lost_ = list(set(lost) - set(reserve))\n",
    "    reserve = list(set(reserve) - set(lost))\n",
    "    lost_.sort()\n",
    "    reserve.sort()\n",
    "    r = n - len(lost_)\n",
    "\n",
    "    for i in reserve:\n",
    "        if i-1 in lost_:\n",
    "            lost_.pop(lost_.index(i-1))\n",
    "            r+=1\n",
    "        elif i+1 in lost_:\n",
    "            lost_.pop(lost_.index(i+1))\n",
    "            r+=1\n",
    "    return r"
   ]
  },
  {
   "cell_type": "markdown",
   "metadata": {},
   "source": [
    "# try 1"
   ]
  },
  {
   "cell_type": "code",
   "execution_count": 17,
   "metadata": {},
   "outputs": [
    {
     "name": "stdout",
     "output_type": "stream",
     "text": [
      "i+1 [2, 4]\n",
      "[4]\n",
      "i+1 [4]\n",
      "[]\n"
     ]
    }
   ],
   "source": [
    "## 여벌 가져온 애도 한 벌 도난당했을 수 있음. 그럼 못빌려줌.\n",
    "n = 5 # 전체 학생 수\n",
    "lost = [2,4] # 도난 학생 번호\n",
    "reserve = [1,3,5] # 여벌 학생 번호\n",
    "\n",
    "# 빌려야 하는 애들로 for loop 돌린 ver\n",
    "# n_lst = list(range(1,n+1))\n",
    "# for i in lost:\n",
    "#     if n_lst[n_lst.index(i-1)] in reserve or n_lst[n_lst.index(i+1)] in reserve:\n",
    "        ## 굳이 index로 하지 않아도... 어차피 얘네가 번호로 들어가 있으니까...\n",
    "#         print(n_lst[n_lst.index(i-1)])\n",
    "\n",
    "\n",
    "# wrong\n",
    "# 빌려줄 수 있는 애들로 for loop 돌리기로\n",
    "# 일단은 번호 순으로 정렬\n",
    "reserve = sorted(reserve) #.sort()와 차이점..? .sort()는 inplace 기능 있음.\n",
    "lost = sorted(lost)\n",
    "r = n - len(lost) # lost가 아니라고 다 여벌을 갖고있지는 않으므로.\n",
    "\n",
    "for i in reserve:\n",
    "    if i in lost:\n",
    "        r+=1 # lost이면서 reserve에 들어갔던 거면 초기 r 수식이 하나 더 빼줬던 게 돼버리므로.\n",
    "        pass\n",
    "    elif i-1 in lost:\n",
    "        print('i-1', lost)\n",
    "        lost.pop(lost.index(i-1))\n",
    "        print(lost)\n",
    "        r+=1\n",
    "    elif i+1 in lost:\n",
    "        print('i+1', lost)\n",
    "        lost.pop(lost.index(i+1))\n",
    "        print(lost)\n",
    "        r+=1\n",
    "\n",
    "# while len(lost) != 0:\n",
    "#     for i in reserve:\n",
    "#         if i in lost:\n",
    "#             pass\n",
    "#         elif i-1 in lost:\n",
    "#             lost.pop(lost.index(i-1))\n",
    "#             r+=1\n",
    "#         elif i+1 in lost:\n",
    "#             lost.pop(lost.index(i+1))\n",
    "#             r+=1\n",
    "#     break"
   ]
  },
  {
   "cell_type": "markdown",
   "metadata": {},
   "source": [
    "# try 2"
   ]
  },
  {
   "cell_type": "code",
   "execution_count": 33,
   "metadata": {},
   "outputs": [
    {
     "name": "stdout",
     "output_type": "stream",
     "text": [
      "i 1\n",
      "i+1: 2 \t r: 2, [2, 3, 4, 5, 9]\n",
      "i 2\n",
      "i+1: 3 \t r: 3, [3, 4, 5, 9]\n",
      "i 3\n",
      "i+1: 4 \t r: 4, [4, 5, 9]\n",
      "i 5\n",
      "i: 5 \t r: 6\n",
      "i 6\n",
      "i 7\n",
      "i 9\n",
      "i: 9 \t r: 7\n"
     ]
    }
   ],
   "source": [
    "n = 9 # 전체 학생 수\n",
    "lost = [2,1,3,6,9,5,7] # 도난 학생 번호\n",
    "reserve = [4,3,5,2,9] # 여벌 학생 번호\n",
    "lost.sort()\n",
    "reserve.sort()\n",
    "r = n - len(lost)\n",
    "# for i in lost:\n",
    "#     print('i', i)\n",
    "#     if i in reserve: # 아 이 때도 pop해줘야하지..  # 이거 아님. 밑에 적어뒀지만 이게 아니라 초장에 lost를 reserve에 대해 차집합해줬어야함.\n",
    "#         reserve.pop(reserve.index(i))\n",
    "#         r += 1\n",
    "#         print(f'i: {i} \\t r: {r}')\n",
    "#         pass\n",
    "#     elif i-1 in reserve:\n",
    "#         print(f'i-1: {i-1} \\t r: {r}, {reserve}')\n",
    "#         reserve.pop(reserve.index(i-1))\n",
    "#         r+=1\n",
    "#     elif i+1 in reserve:\n",
    "#         print(f'i+1: {i+1} \\t r: {r}, {reserve}')\n",
    "#         reserve.pop(reserve.index(i+1))\n",
    "#         r+=1\n",
    "\n",
    "# 아니... 중복되는 사람은 빌려주면 안되는것...\n",
    "#### !!!!!!!!!!!!!! 차집합!!!!!!!!!"
   ]
  },
  {
   "cell_type": "code",
   "execution_count": 37,
   "metadata": {},
   "outputs": [],
   "source": [
    "from IPython.core.interactiveshell import InteractiveShell\n",
    "InteractiveShell.ast_node_interactivity = \"all\""
   ]
  },
  {
   "cell_type": "markdown",
   "metadata": {},
   "source": [
    "# try3, 정답...."
   ]
  },
  {
   "cell_type": "code",
   "execution_count": 49,
   "metadata": {},
   "outputs": [
    {
     "data": {
      "text/plain": [
       "[1, 6, 7]"
      ]
     },
     "execution_count": 49,
     "metadata": {},
     "output_type": "execute_result"
    },
    {
     "data": {
      "text/plain": [
       "[4]"
      ]
     },
     "execution_count": 49,
     "metadata": {},
     "output_type": "execute_result"
    },
    {
     "data": {
      "text/plain": [
       "('무조건 먹는 애들: ', 6)"
      ]
     },
     "execution_count": 49,
     "metadata": {},
     "output_type": "execute_result"
    },
    {
     "name": "stdout",
     "output_type": "stream",
     "text": [
      "i:4 \t res:[4] \t r:6\n"
     ]
    }
   ],
   "source": [
    "n = 9 # 전체 학생 수\n",
    "lost = [2,1,3,6,9,5,7] # 도난 학생 번호\n",
    "reserve = [4,3,5,2,9] # 여벌 학생 번호\n",
    "lost_ = list(set(lost) - set(reserve))\n",
    "reserve = list(set(reserve) - set(lost))\n",
    "lost_.sort()\n",
    "reserve.sort()\n",
    "lost_\n",
    "reserve\n",
    "r = n - len(lost_)\n",
    "'무조건 먹는 애들: ', r\n",
    "\n",
    "for i in reserve:\n",
    "    print(f'i:{i} \\t res:{reserve} \\t r:{r}')\n",
    "    if i-1 in lost_:\n",
    "        lost_.pop(lost_.index(i-1))\n",
    "        r+=1\n",
    "    elif i+1 in lost_:\n",
    "        lost_.pop(lost_.index(i+1))\n",
    "        r+=1"
   ]
  },
  {
   "cell_type": "code",
   "execution_count": null,
   "metadata": {},
   "outputs": [],
   "source": []
  }
 ],
 "metadata": {
  "interpreter": {
   "hash": "e4cfef919f511c0e3a05919ed86dab4fa959f970f2723dae87eeb918be14f5f0"
  },
  "kernelspec": {
   "display_name": "Python 3.8.8 ('base')",
   "language": "python",
   "name": "python3"
  },
  "language_info": {
   "codemirror_mode": {
    "name": "ipython",
    "version": 3
   },
   "file_extension": ".py",
   "mimetype": "text/x-python",
   "name": "python",
   "nbconvert_exporter": "python",
   "pygments_lexer": "ipython3",
   "version": "3.8.8"
  },
  "orig_nbformat": 4
 },
 "nbformat": 4,
 "nbformat_minor": 2
}
