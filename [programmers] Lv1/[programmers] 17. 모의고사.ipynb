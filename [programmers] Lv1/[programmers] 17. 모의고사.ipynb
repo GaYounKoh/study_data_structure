{
 "cells": [
  {
   "cell_type": "code",
   "execution_count": 37,
   "metadata": {},
   "outputs": [
    {
     "data": {
      "text/plain": [
       "2000"
      ]
     },
     "execution_count": 37,
     "metadata": {},
     "output_type": "execute_result"
    }
   ],
   "source": [
    "round(10000/len(list(range(1,6))))\n"
   ]
  },
  {
   "cell_type": "markdown",
   "metadata": {},
   "source": [
    "# 220401, 모의고사 (획득한 점수: 9)\n",
    "* 문제 잘 읽기.... 뭘 구하라는 건지... "
   ]
  },
  {
   "cell_type": "code",
   "execution_count": null,
   "metadata": {},
   "outputs": [],
   "source": [
    "# 문제 잘못 읽었었음... 가장 많이 맞힌 애(들)만 출력\n",
    "def solution(answers):\n",
    "    s1 = list(range(1,6)) #* (round(10000/len(list(range(1,6))))+1)\n",
    "    s2 = [2,1,2,3,2,4,2,5] #* (round(10000/len([2,1,2,3,2,4,2,5]))+1)\n",
    "    s3 = [3,3,1,1,2,2,4,4,5,5] #* (round(10000 / len([3,3,1,1,2,2,4,4,5,5]))+1)\n",
    "    \n",
    "    dic = {1:0, 2:0, 3:0}\n",
    "    for i,j in enumerate(answers):\n",
    "        # if i == i%len(s1)\n",
    "        if j == s1[i%len(s1)]:\n",
    "            dic[1] += 1\n",
    "        if j == s2[i%len(s2)]:\n",
    "            dic[2] += 1\n",
    "        if j == s3[i%len(s3)]:\n",
    "            dic[3] += 1\n",
    "    \n",
    "    dic = dict(sorted(dic.items(), key = lambda item: item[1], reverse = True))\n",
    "    ans = []\n",
    "    for i in dic.keys():\n",
    "        if dic[i] == max(dic.values()):\n",
    "            ans.append(i)\n",
    "    # print(ans)\n",
    "    return ans"
   ]
  },
  {
   "cell_type": "markdown",
   "metadata": {},
   "source": [
    "# Try 1 완성\n",
    "* 시간제한 없고, runtime error라고도 안뜨므로 시간문제는 아님."
   ]
  },
  {
   "cell_type": "code",
   "execution_count": 46,
   "metadata": {},
   "outputs": [
    {
     "data": {
      "text/plain": [
       "({1: 9, 2: 3, 3: 3}, [1, 2, 3])"
      ]
     },
     "execution_count": 46,
     "metadata": {},
     "output_type": "execute_result"
    }
   ],
   "source": [
    "# 하나라도 맞혔으면 출력하는 방법\n",
    "def solution(answers):\n",
    "    s1 = list(range(1,6)) #* (round(10000/len(list(range(1,6))))+1)\n",
    "    s2 = [2,1,2,3,2,4,2,5] #* (round(10000/len([2,1,2,3,2,4,2,5]))+1)\n",
    "    s3 = [3,3,1,1,2,2,4,4,5,5] #* (round(10000 / len([3,3,1,1,2,2,4,4,5,5]))+1)\n",
    "    \n",
    "    dic = {1:0, 2:0, 3:0}\n",
    "    for i,j in enumerate(answers):\n",
    "        if j == s1[i%len(s1)]: # s1[i]:\n",
    "            dic[1] += 1\n",
    "        if j == s2[i%len(s2)]: # s2[i]:\n",
    "            dic[2] += 1\n",
    "        if j == s3[i%len(s3)]: # s3[i]:\n",
    "            dic[3] += 1\n",
    "    \n",
    "    dic = dict(sorted(dic.items(), key = lambda item: item[1], reverse = True))\n",
    "    ans = []\n",
    "    for i in dic.keys():\n",
    "        if dic[i] != 0:\n",
    "            ans.append(i)\n",
    "    # print(dic)\n",
    "    # print(ans)\n",
    "    return dic, ans\n",
    "\n",
    "\n",
    "solution([1,2,3,4,5,5,5,5,5,4,3,2,3,3,3,2,1,2,2,3,1,1,5,4,4,4,1,1])\n",
    "# solution([2,1,2,3,2,2,4,4,5,5,2])\n",
    "# solution([2,1,2,3,2,2,4,4,5,5,1,2,3,4,5])\n",
    "\n"
   ]
  },
  {
   "cell_type": "markdown",
   "metadata": {},
   "source": [
    "# Try 1 prac"
   ]
  },
  {
   "cell_type": "code",
   "execution_count": 36,
   "metadata": {},
   "outputs": [
    {
     "name": "stdout",
     "output_type": "stream",
     "text": [
      "[1, 2, 3]\n",
      "{1: 4, 2: 1, 3: 0}\n",
      "[1, 2]\n"
     ]
    }
   ],
   "source": [
    "answers = [1,2,2,4,5]\n",
    "\n",
    "s1 = list(range(1,6)) * (round(10000/len(list(range(1,6))))+1)\n",
    "s2 = [2,1,2,3,2,4,2,5] * (round(10000/len([2,1,2,3,2,4,2,5]))+1)\n",
    "s3 = [3,3,1,1,2,2,4,4,5,5] * (round(10000 / len([3,3,1,1,2,2,4,4,5,5]))+1)\n",
    "\n",
    "dic = {1:0, 2:0, 3:0}\n",
    "for i,j in enumerate(answers):\n",
    "    if j == s1[i]:\n",
    "        dic[1] += 1\n",
    "    elif j == s2[i]:\n",
    "        dic[2] += 1\n",
    "    elif j == s3[i]:\n",
    "        dic[3] += 1\n",
    "\n",
    "# dic = sorted(dic)\n",
    "# print(dic.sort(by = dic.values()))\n",
    "# print(sorted(dic, by = dic.values(), reverse = True))\n",
    "print(sorted(dic)) # dic을 sorted로 정렬하면 list return.\n",
    "print(dic)\n",
    "## value로 dic 정렬...\n",
    "dic = dict(sorted(dic.items(), key = lambda item: item[1], reverse = True))\n",
    "\n",
    "ans = []\n",
    "for i in dic.keys():\n",
    "    if dic[i] != 0:\n",
    "        ans.append(i)\n",
    "print(ans)\n"
   ]
  },
  {
   "cell_type": "code",
   "execution_count": null,
   "metadata": {},
   "outputs": [],
   "source": []
  }
 ],
 "metadata": {
  "interpreter": {
   "hash": "e4cfef919f511c0e3a05919ed86dab4fa959f970f2723dae87eeb918be14f5f0"
  },
  "kernelspec": {
   "display_name": "Python 3.8.8 ('base')",
   "language": "python",
   "name": "python3"
  },
  "language_info": {
   "codemirror_mode": {
    "name": "ipython",
    "version": 3
   },
   "file_extension": ".py",
   "mimetype": "text/x-python",
   "name": "python",
   "nbconvert_exporter": "python",
   "pygments_lexer": "ipython3",
   "version": "3.8.8"
  },
  "orig_nbformat": 4
 },
 "nbformat": 4,
 "nbformat_minor": 2
}
