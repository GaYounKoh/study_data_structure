{
 "cells": [
  {
   "cell_type": "code",
   "execution_count": 15,
   "metadata": {},
   "outputs": [],
   "source": [
    "# case1\n",
    "board = [[0,0,0,0,0],[0,0,1,0,3],[0,2,5,0,1],[4,2,4,4,2],[3,5,1,3,1]]\n",
    "moves = [1,5,3,5,1,2,1,4] #01130302"
   ]
  },
  {
   "cell_type": "code",
   "execution_count": 19,
   "metadata": {},
   "outputs": [],
   "source": [
    "# case2\n",
    "board = [[0,0,0,0,0],[0,0,1,0,3],[0,2,5,0,1],[4,2,4,4,2],[3,5,1,1,3]]\n",
    "moves = [1,5,3,5,1,2,1,4] #03110302 # 연속적으로 들어가는게 아니면 안터지나,,"
   ]
  },
  {
   "cell_type": "code",
   "execution_count": 96,
   "metadata": {},
   "outputs": [],
   "source": [
    "# 아... board의 생김새(어떻게 꺼내야하는지)를 이제 이해함...\n",
    "board = [\n",
    "    [0,0,0,0,0],\n",
    "    [0,0,1,0,3],\n",
    "    [0,2,5,0,1],\n",
    "    [4,2,4,4,2],\n",
    "    [3,5,1,3,1]]\n",
    "moves = [1,5,3,5,1,2,1,4] #431132 ? 4"
   ]
  },
  {
   "cell_type": "code",
   "execution_count": 97,
   "metadata": {},
   "outputs": [
    {
     "name": "stdout",
     "output_type": "stream",
     "text": [
      "4\n"
     ]
    }
   ],
   "source": [
    "stack = []\n",
    "ans = 0\n",
    "for i in moves:\n",
    "    i = i-1\n",
    "    for j in range(len(board)):\n",
    "        if board[i][-1]!=0:\n",
    "            if not stack or stack[-1] != board[j][i]:\n",
    "                stack.append(board[j][i])\n",
    "                board[j][i] = 0\n",
    "                break\n",
    "            elif stack[-1] == board[j][i]:\n",
    "                stack.pop()\n",
    "                ans+=2\n",
    "                break\n",
    "print(ans)"
   ]
  },
  {
   "cell_type": "code",
   "execution_count": 93,
   "metadata": {},
   "outputs": [
    {
     "name": "stdout",
     "output_type": "stream",
     "text": [
      "i: 0\n",
      "4\n",
      "i: 4\n",
      "3\n",
      "i: 2\n",
      "1\n",
      "i: 4\n",
      "1\n",
      "i: 0\n",
      "3\n",
      "i: 1\n",
      "2\n",
      "i: 0\n",
      "i: 3\n",
      "4\n"
     ]
    }
   ],
   "source": [
    "# while moves가 아니라 행렬방식으로 해야할듯.\n",
    "for i in moves:\n",
    "    i = i-1\n",
    "    print(f'i: {i}')\n",
    "    for j in range(len(board)):\n",
    "        # print(f'######## {j},{i} board: {board[j]}')\n",
    "        if board[j][i] != 0:\n",
    "            print(board[j][i])\n",
    "            board[j][i] = 0\n",
    "            break\n",
    "            # print(f'0이 됐는지 확인: {board[j][i-1]}')"
   ]
  },
  {
   "cell_type": "markdown",
   "metadata": {},
   "source": [
    "# 완성본 (제출안됨...)"
   ]
  },
  {
   "cell_type": "code",
   "execution_count": null,
   "metadata": {},
   "outputs": [],
   "source": [
    "# remove도 안쓰고 있는데 대체 제출이 왜 안되는것인가에 대하여..\n",
    "def solution(board, moves):\n",
    "    # 후입선출\n",
    "    stack = []\n",
    "    ans = 0\n",
    "    for i in moves:\n",
    "        i = i-1\n",
    "        \n",
    "        if board[i][-1]!=0:\n",
    "            if not stack:\n",
    "                stack.append(board[i][-1])\n",
    "                board[i].pop() #### 핵심!!!\n",
    "\n",
    "            else:\n",
    "                if stack[-1]==board[i][-1]:\n",
    "                    ans+=2\n",
    "                    stack.pop()\n",
    "                    board[i].pop()\n",
    "\n",
    "                else:\n",
    "                    stack.append(board[i][-1])\n",
    "                    board[i].pop() #### 핵심!!!\n",
    "                    \n",
    "        else:\n",
    "            board[i].pop() #### 핵심!!!\n",
    "    return ans"
   ]
  },
  {
   "cell_type": "markdown",
   "metadata": {},
   "source": [
    "# 테스트는 통과했는데... 제출이 안되는,,,"
   ]
  },
  {
   "cell_type": "code",
   "execution_count": 20,
   "metadata": {},
   "outputs": [
    {
     "name": "stdout",
     "output_type": "stream",
     "text": [
      "0\n",
      "### ~~~~~~#$%$#@@ else (stack and stack[-1]==board[i][-1]), pop 후: [0, 0, 0, 0]\n",
      "4\n",
      "if not stack: 3\n",
      "2\n",
      "else (stack and stack[-1]!=board[i][-1]): 1\n",
      "4\n",
      "else (stack and stack[-1]==board[i][-1]): 1\n",
      "else (stack and stack[-1]==board[i][-1]), pop 후: [3, 5, 1]\n",
      "[3]\n",
      "0\n",
      "### ~~~~~~#$%$#@@ else (stack and stack[-1]==board[i][-1]), pop 후: [0, 0, 0]\n",
      "1\n",
      "else (stack and stack[-1]==board[i][-1]): 3\n",
      "else (stack and stack[-1]==board[i][-1]), pop 후: [0, 0, 1, 0]\n",
      "[]\n",
      "0\n",
      "### ~~~~~~#$%$#@@ else (stack and stack[-1]==board[i][-1]), pop 후: [0, 0]\n",
      "3\n",
      "if not stack: 2\n",
      "ans: 4\n"
     ]
    }
   ],
   "source": [
    "stack = []\n",
    "ans = 0\n",
    "for i in moves:\n",
    "    i = i-1\n",
    "    print(i)\n",
    "    # print(i)\n",
    "    # print(board[i])\n",
    "    if board[i][-1]!=0:\n",
    "    #    print(board[i][-1])\n",
    "\n",
    "        if not stack: # 스택이 비어있으면\n",
    "            print(f'if not stack: {board[i][-1]}')\n",
    "            stack.append(board[i][-1]) # 스택 채워주고 # board 비워주기\n",
    "            board[i].pop() #### 핵심!!!\n",
    "        else:\n",
    "            if stack[-1]==board[i][-1]: # 같으면 터뜨리기\n",
    "                print(f'else (stack and stack[-1]==board[i][-1]): {board[i][-1]}')\n",
    "                ans+=2\n",
    "                stack.pop()\n",
    "                board[i].pop() #### 핵심!!!\n",
    "                print(f'else (stack and stack[-1]==board[i][-1]), pop 후: {board[i]}')\n",
    "                print(stack)\n",
    "            else:\n",
    "                print(f'else (stack and stack[-1]!=board[i][-1]): {board[i][-1]}')\n",
    "                stack.append(board[i][-1])\n",
    "                board[i].pop() #### 핵심!!!\n",
    "    else: # 0이어도 다음이 0이 아닐 수 있음. 그러니 반드시 pop 해줘야 함.\n",
    "        board[i].pop() #### 핵심!!!\n",
    "        print(f'### ~~~~~~#$%$#@@ else (stack and stack[-1]==board[i][-1]), pop 후: {board[i]}')\n",
    "\n",
    "print(f'ans: {ans}')"
   ]
  },
  {
   "cell_type": "code",
   "execution_count": null,
   "metadata": {},
   "outputs": [],
   "source": []
  }
 ],
 "metadata": {
  "interpreter": {
   "hash": "0a54084e6b208ee8d1ce3989ffc20924477a5f55f5a43e22e699a6741623861e"
  },
  "kernelspec": {
   "display_name": "Python 3.7.8 64-bit",
   "language": "python",
   "name": "python3"
  },
  "language_info": {
   "codemirror_mode": {
    "name": "ipython",
    "version": 3
   },
   "file_extension": ".py",
   "mimetype": "text/x-python",
   "name": "python",
   "nbconvert_exporter": "python",
   "pygments_lexer": "ipython3",
   "version": "3.7.8"
  },
  "orig_nbformat": 4
 },
 "nbformat": 4,
 "nbformat_minor": 2
}
