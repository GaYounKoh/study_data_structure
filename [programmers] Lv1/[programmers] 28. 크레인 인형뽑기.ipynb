{
 "cells": [
  {
   "cell_type": "code",
   "execution_count": 2,
   "metadata": {},
   "outputs": [],
   "source": [
    "board = [[0,0,0,0,0],[0,0,1,0,3],[0,2,5,0,1],[4,2,4,4,2],[3,5,1,3,1]]\n",
    "moves = [1,5,3,5,1,2,1,4]"
   ]
  },
  {
   "cell_type": "markdown",
   "metadata": {},
   "source": [
    "# 테스트는 통과했는데... 제출이 안되는,,,"
   ]
  },
  {
   "cell_type": "code",
   "execution_count": 20,
   "metadata": {},
   "outputs": [
    {
     "name": "stdout",
     "output_type": "stream",
     "text": [
      "0\n",
      "4\n",
      "if not stack: 1\n",
      "2\n",
      "else (stack and stack[-1]==board[i][-1]): 1\n",
      "[]\n",
      "4\n",
      "if not stack: 3\n",
      "0\n",
      "1\n",
      "else (stack and stack[-1]==board[i][-1]): 3\n",
      "[]\n",
      "0\n",
      "3\n",
      "if not stack: 2\n",
      "ans: 4\n"
     ]
    }
   ],
   "source": [
    "stack = []\n",
    "ans = 0\n",
    "for i in moves:\n",
    "    i = i-1\n",
    "    print(i)\n",
    "    # print(i)\n",
    "    # print(board[i])\n",
    "    if board[i][-1]!=0:\n",
    "    #    print(board[i][-1])\n",
    "\n",
    "        if not stack:\n",
    "            print(f'if not stack: {board[i][-1]}')\n",
    "            stack.append(board[i][-1])\n",
    "            board[i].pop() #### 핵심!!!\n",
    "        else:\n",
    "            if stack[-1]==board[i][-1]:\n",
    "                print(f'else (stack and stack[-1]==board[i][-1]): {board[i][-1]}')\n",
    "                ans+=2\n",
    "                stack.pop()\n",
    "                print(stack)\n",
    "            else:\n",
    "                print(f'else (stack and stack[-1]!=board[i][-1]): {board[i][-1]}')\n",
    "                stack.append(board[i][-1])\n",
    "                board[i].pop() #### 핵심!!!\n",
    "\n",
    "print(f'ans: {ans}')"
   ]
  },
  {
   "cell_type": "code",
   "execution_count": null,
   "metadata": {},
   "outputs": [],
   "source": []
  }
 ],
 "metadata": {
  "interpreter": {
   "hash": "0a54084e6b208ee8d1ce3989ffc20924477a5f55f5a43e22e699a6741623861e"
  },
  "kernelspec": {
   "display_name": "Python 3.7.8 64-bit",
   "language": "python",
   "name": "python3"
  },
  "language_info": {
   "codemirror_mode": {
    "name": "ipython",
    "version": 3
   },
   "file_extension": ".py",
   "mimetype": "text/x-python",
   "name": "python",
   "nbconvert_exporter": "python",
   "pygments_lexer": "ipython3",
   "version": "3.7.8"
  },
  "orig_nbformat": 4
 },
 "nbformat": 4,
 "nbformat_minor": 2
}
