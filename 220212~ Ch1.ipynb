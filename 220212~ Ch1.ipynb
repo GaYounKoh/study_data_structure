{
 "cells": [
  {
   "cell_type": "markdown",
   "metadata": {},
   "source": [
    "# 파이썬과 함께하는 자료구조의 이해"
   ]
  },
  {
   "cell_type": "markdown",
   "metadata": {},
   "source": [
    "# 1.4 파이썬 언어에 대한 기본적인 지식 (p.24~)"
   ]
  },
  {
   "cell_type": "code",
   "execution_count": null,
   "metadata": {},
   "outputs": [],
   "source": [
    "class 클래스_이름:\n",
    "    def __init__(self, 인자1, 인자2, ...): # 객체생성자\n",
    "        self.인스턴스_변수1 = 인자1\n",
    "    \n",
    "    def ...\n",
    "\n",
    "    def ..."
   ]
  },
  {
   "cell_type": "markdown",
   "metadata": {},
   "source": [
    "## 클래스 예제"
   ]
  },
  {
   "cell_type": "code",
   "execution_count": 2,
   "metadata": {},
   "outputs": [],
   "source": [
    "class Student:\n",
    "    def __init__(self, name, id): # Student 객체 생성자\n",
    "        self.name = name # 인스턴스 변수\n",
    "        self.id = id # 인스턴스 변수\n",
    "    def get_name(self): # 객체의 name을 리턴하는 메소드\n",
    "        return self.name\n",
    "    def get_id(self): # 객체의 id를 리턴하는 메소드\n",
    "        return self.id"
   ]
  },
  {
   "cell_type": "code",
   "execution_count": 3,
   "metadata": {},
   "outputs": [
    {
     "name": "stdout",
     "output_type": "stream",
     "text": [
      "Lee\n",
      "101\n"
     ]
    }
   ],
   "source": [
    "best = Student('Lee', 101)\n",
    "# best: 객체\n",
    "print(best.get_name())\n",
    "print(best.get_id())\n",
    "# best학생의 name과 id 출력"
   ]
  },
  {
   "cell_type": "markdown",
   "metadata": {},
   "source": [
    "### self?\n",
    "- 클래스에서 관례로 사용되는 메소드의 첫 번째 인자\n",
    "- 클래스의 생성자로 만들어진 객체의 이름을 self가 있는 자리에 대체시키기 위함."
   ]
  },
  {
   "cell_type": "markdown",
   "metadata": {},
   "source": [
    "### list\n",
    "- list\n",
    "- list.pop(~~~)\n",
    "- list.append(~~~)\n",
    "- len(list)\n",
    "\n",
    "메모리에 저장됨을 기억할 것.<br>\n",
    "실제 list에는 정수 객체의 ``레퍼런스``가 저장됨.\n"
   ]
  },
  {
   "cell_type": "markdown",
   "metadata": {},
   "source": [
    "### if 문\n",
    "- 조건식이 True일 때 해당 명령문 수행, False면 else의 명령문 수행\n",
    "- 세분화 시켜야 할 때는 if ~~~ elif ~~~ else ~~~"
   ]
  },
  {
   "cell_type": "markdown",
   "metadata": {},
   "source": [
    "### 반복문\n",
    "- for문\n",
    "<br>\n",
    "--- list, tuple, string 등의 순서형 자료의 항목들을 차례로 읽으며 명령문을 처리하는 방식\n",
    "<br>\n",
    "--- range()를 사용하는 방식\n",
    "<br>\n",
    "```\n",
    "for i in ~:\n",
    "    명령문\n",
    "```\n",
    "--- \n",
    "- while문\n",
    "<br>\n",
    "--- 조건이 만족된 동안에만 반복 수행됨.\n",
    "```\n",
    "while 조건식:\n",
    "    명령문\n",
    "```"
   ]
  },
  {
   "cell_type": "markdown",
   "metadata": {},
   "source": [
    "#### range() 함수의 형식\n",
    "- range(N) # 0 ~ N-1까지\n",
    "- range(시작, N) # 시작 ~ N-1까지\n",
    "- range(시작, N, step) # 시작 ~ N-1까지 step마다 띄어서\n",
    "\n",
    "<br>\n",
    "\n",
    "- range로 reverse하기\n",
    "\n",
    "```\n",
    "range(시작, N, -1) # 단, N < 시작\n",
    "```"
   ]
  },
  {
   "cell_type": "markdown",
   "metadata": {},
   "source": [
    "### 의사 난수 생성을 이용해 리스트 만들기와 프로그램의 실행시간을 측정하기"
   ]
  },
  {
   "cell_type": "code",
   "execution_count": 7,
   "metadata": {},
   "outputs": [
    {
     "name": "stdout",
     "output_type": "stream",
     "text": [
      "--- 0.0 seconds ---\n"
     ]
    }
   ],
   "source": [
    "# random, time 모듈 불러오기\n",
    "import random\n",
    "import time\n",
    "\n",
    "# 난수 생성을 위한 초기값을 현재 시각으로\n",
    "random.seed(time.time())\n",
    "a = []\n",
    "for i in range(100):\n",
    "    a.append(random.randint(1,1000)) # 1과 1000사이의 난수 1개를 생성하여 a에 추가\n",
    "\n",
    "start_time = time.time() # 현재 시각을 시작 시간으로 지정\n",
    "# ┌\n",
    "# |수행시간을 측정할 부분\n",
    "# └\n",
    "print(\"--- %s seconds ---\" % (time.time() - start_time)) # 이 line에서의 time.time()으로 불려진 시간은 종료시각에 해당\n",
    "\n",
    "# 참고로 time.time()은 1970.01.01. 00:00:00로부터 현재시각을 몇 초인지를 리턴함."
   ]
  },
  {
   "cell_type": "markdown",
   "metadata": {},
   "source": [
    "### 내장함수"
   ]
  },
  {
   "cell_type": "code",
   "execution_count": null,
   "metadata": {},
   "outputs": [],
   "source": []
  }
 ],
 "metadata": {
  "interpreter": {
   "hash": "e4cfef919f511c0e3a05919ed86dab4fa959f970f2723dae87eeb918be14f5f0"
  },
  "kernelspec": {
   "display_name": "Python 3.8.8 ('base')",
   "language": "python",
   "name": "python3"
  },
  "language_info": {
   "codemirror_mode": {
    "name": "ipython",
    "version": 3
   },
   "file_extension": ".py",
   "mimetype": "text/x-python",
   "name": "python",
   "nbconvert_exporter": "python",
   "pygments_lexer": "ipython3",
   "version": "3.8.8"
  },
  "orig_nbformat": 4
 },
 "nbformat": 4,
 "nbformat_minor": 2
}
