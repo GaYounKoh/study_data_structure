{
 "cells": [
  {
   "cell_type": "code",
   "execution_count": null,
   "metadata": {
    "ExecuteTime": {
     "end_time": "2021-06-10T16:24:47.417055Z",
     "start_time": "2021-06-10T16:24:47.395114Z"
    }
   },
   "outputs": [],
   "source": [
    "from IPython.core.display import display, HTML\n",
    "display(HTML(\"<style>.container { width:95% !important; }</style>\"))\n",
    "display(HTML(\"<style>.input_area pre {font-family: Consolas; font-size: 15pt; line-height: 140%; font-weight: bold}</style>\"))\n",
    "display(HTML(\"<style>.output_area pre {font-family: Consolas; font-size: 15pt; line-height: 140%;}</style>\"))\n"
   ]
  },
  {
   "cell_type": "markdown",
   "metadata": {},
   "source": [
    "# 데이터마이닝 기말고사\n",
    "- 주의 사항\n",
    "    1. 모든 문제를 풀기에는 시간이 절대적으로 부족할 것입니다. 모든 문제들을 빠르게 살펴본 후에 쉬운 문제 부터 푸시길 바랍니다.\n",
    "    1. 문제마다 점수가 다릅니다.\n",
    "        - 부분점수는 없습니다.\n",
    "    1. 오직 주피터노트북만을 이용히여 문제를 푸십시오. 다른 도구를 사용할 수 없습니다.\n",
    "    1. 모든 인터넷을 사용할 수 없습니다.\n",
    "    1. 개인 전자기기를 사용할 수 없습니다.\n",
    "    1. 추가적인 패키지를 `import` 할 수 없습니다.\n",
    "    1. 수시로 저장하세요.\n",
    "    1. 셀을 실행시켰을 때, 멈추지 않는다면, 주피터노트북 메뉴에 있는 정지버튼을 누르거나 Kernel 메뉴에서 restart를 누르세요.\n",
    "        - 그래도 동작하지 않는 경우에는 주피터노트북을 다시 시작하세요.\n",
    "- 제출 방법\n",
    "    1. 파일 이름에서 '학번'을 자신의 학번으로, '이름'을 자신의 이름으로 고치시오.\n",
    "    1. LMS에 주피터노트북 파일(.ipynb)을 제출하세요.\n",
    "        1. LMS 사용이 불가능한 경우만, 이메일로 아래 주소로 제출 하세요.\n",
    "            - ydhwang@suwon.ac.kr\n",
    "            - 메일제목: `[데이터마이닝기말고사] 홍길동 123456`\n"
   ]
  },
  {
   "cell_type": "markdown",
   "metadata": {},
   "source": [
    "## 문제0 - 20점\n",
    "\n",
    "아래 셀을 실행시키시오.\n",
    "\n"
   ]
  },
  {
   "cell_type": "code",
   "execution_count": null,
   "metadata": {
    "ExecuteTime": {
     "end_time": "2021-06-10T16:24:47.433013Z",
     "start_time": "2021-06-10T16:24:47.418053Z"
    }
   },
   "outputs": [],
   "source": [
    "import socket\n",
    "import datetime\n",
    "print(datetime.datetime.now().strftime('%Y-%m-%d %H:%M:%S'))\n",
    "print(socket.gethostbyname(socket.gethostname()))"
   ]
  },
  {
   "cell_type": "markdown",
   "metadata": {},
   "source": [
    "## 문제1 - 10점\n",
    "\n",
    "DP테이블 방식으로 피보나치수를 구하는 함수를 작성하시오.\n",
    "\n",
    "- 파라미터:\n",
    "    - x: 2이상의 양의 정수\n",
    "- 리턴: x번째 피보나치 수\n",
    "\n",
    "예) x=3 일때 2를 리턴, x=4 일때, 3을 리턴\n",
    "\n",
    "***결과***\n",
    "```\n",
    "2\n",
    "3\n",
    "832040\n",
    "```"
   ]
  },
  {
   "cell_type": "code",
   "execution_count": 2,
   "metadata": {},
   "outputs": [
    {
     "name": "stdout",
     "output_type": "stream",
     "text": [
      "None\n",
      "None\n",
      "None\n"
     ]
    }
   ],
   "source": [
    "def fibo_bottomup(x):\n",
    "    pass\n",
    "\n",
    "# 아래는 수정하지 마시오.\n",
    "print(fibo_bottomup(3))\n",
    "print(fibo_bottomup(4))\n",
    "print(fibo_bottomup(30))"
   ]
  },
  {
   "cell_type": "markdown",
   "metadata": {},
   "source": [
    "## 문제2 - 13점\n",
    "\n",
    "수빈이는 동생과 숨바꼭질을 하고 있다. 수빈이는 현재 점 N(0 ≤ N ≤ 100,000)에 있고, 동생은 점 K(0 ≤ K ≤ 100,000)에 있다. 수빈이는 걷거나 순간이동을 할 수 있다. 만약, 수빈이의 위치가 X일 때 걷는다면 1초 후에 X-1 또는 X+1로 이동하게 된다. 순간이동을 하는 경우에는 1초 후에 2*X의 위치로 이동하게 된다.\n",
    "\n",
    "수빈이와 동생의 위치가 주어졌을 때, 수빈이가 동생을 찾을 수 있는 가장 빠른 시간이 몇 초 후인지 구하는 프로그램을 작성하시오.\n",
    "\n",
    "- 파라미터:\n",
    "    - N: 수빈이의 위치\n",
    "    - K: 동생의 위치\n",
    "- 리턴: 동생을 찾는데 걸리는 시간\n",
    "    \n",
    "\n",
    "- 예제\n",
    "    - 입력:N=5, K=17\n",
    "\n",
    "    - 출력:4\n",
    "\n",
    "    수빈이가 5-10-9-18-17 순으로 가면 4초만에 동생을 찾을 수 있다.\n",
    "\n",
    "***결과***\n",
    "```\n",
    "2\n",
    "4\n",
    "3\n",
    "16\n",
    "```\n"
   ]
  },
  {
   "cell_type": "code",
   "execution_count": 4,
   "metadata": {
    "ExecuteTime": {
     "end_time": "2021-06-10T16:24:47.448970Z",
     "start_time": "2021-06-10T16:24:47.434010Z"
    },
    "scrolled": true
   },
   "outputs": [
    {
     "name": "stdout",
     "output_type": "stream",
     "text": [
      "None\n",
      "None\n",
      "None\n",
      "None\n"
     ]
    }
   ],
   "source": [
    "from collections import deque\n",
    "def hide_and_seek(N, K):\n",
    "    pass\n",
    "\n",
    "# 아래는 수정하지 마시오.\n",
    "print(hide_and_seek(1, 4))\n",
    "print(hide_and_seek(5, 17))\n",
    "print(hide_and_seek(5, 18))\n",
    "print(hide_and_seek(1, 10000))"
   ]
  },
  {
   "cell_type": "markdown",
   "metadata": {},
   "source": [
    "## 문제3 - 15점\n",
    "\n",
    "이진 탐색을 이용하여, 덧셈을 하여 타겟을 만들 수 있는 배열의 두 숫자 인덱스를 리턴하라.\n",
    "\n",
    "- 제한 사항\n",
    "    - 단 하나의 솔루션이 있다고 가정한다.\n",
    "    - 같은 원소를 두번 사용하지 않는다.\n",
    "    - 솔루션이 없는 경우 (-1, -1)을 리턴한다.\n",
    "\n",
    "- 파라미터\n",
    "    - nums: 정수를 가지고 있는 정렬되어 있는 리스트\n",
    "    - target: 만들어야 하는 정수\n",
    "\n",
    "- return: 두개의 인덱스값을 가진 튜플\n",
    "\n",
    "\n",
    "***결과***\n",
    "```\n",
    "(-1, -1)\n",
    "(1, 3)\n",
    "(2, 5)\n",
    "```"
   ]
  },
  {
   "cell_type": "code",
   "execution_count": 7,
   "metadata": {},
   "outputs": [
    {
     "name": "stdout",
     "output_type": "stream",
     "text": [
      "None\n",
      "None\n",
      "None\n"
     ]
    }
   ],
   "source": [
    "def find_two_sum2(nums, target):\n",
    "    pass\n",
    "\n",
    "# 아래는 수정하지 마시오.\n",
    "print(find_two_sum2([2, 7, 11, 15], 10))\n",
    "print(find_two_sum2([2, 7, 11, 15], 22))\n",
    "print(find_two_sum2([1, 5, 7, 11, 25, 101, 200, 333], 108))\n",
    "\n"
   ]
  },
  {
   "cell_type": "markdown",
   "metadata": {},
   "source": [
    "## 문제4 - 15점\n",
    "\n",
    "안정적인 계수 정렬 함수를 구현하시오.\n",
    "\n",
    "- 파라미터:\n",
    "    - array: 양의 정수가 들어 있는 리스트\n",
    "\n",
    "- 리턴: 정렬되어 있는 리스트\n",
    "\n",
    "***결과***\n",
    "```\n",
    "[0, 0, 1, 1, 2, 2, 3, 4, 5, 5, 6, 7, 8, 9, 9]\n",
    "True\n",
    "```\n",
    "\n"
   ]
  },
  {
   "cell_type": "code",
   "execution_count": 8,
   "metadata": {},
   "outputs": [
    {
     "name": "stdout",
     "output_type": "stream",
     "text": [
      "None\n",
      "False\n"
     ]
    }
   ],
   "source": [
    "def counting_sort_stable(array):\n",
    "    pass\n",
    "\n",
    "# 아래는 수정하지 마시오.\n",
    "array = [7, 5, 9, 0, 3, 1, 6, 2, 9, 1, 4, 8, 0, 5, 2]\n",
    "sorted_array = counting_sort_stable(array)\n",
    "print(counting_sort_stable(array))\n",
    "print(sorted_array == sorted(array))\n"
   ]
  },
  {
   "cell_type": "markdown",
   "metadata": {},
   "source": [
    "## 문제5 - 28점\n",
    "\n",
    "```1로 만들기``` 변형문제\n",
    "\n",
    "```\n",
    "정수 n이 주어졌을 때, 정수 n에 사용할 수 있는 연산은 다음과 같이 4가지입니다.\n",
    "    - n이 5로 나누어 떨어지면, 5로 나눕니다.\n",
    "    - n이 3으로 나누어 떨어지면, 3으로 나눕니다.\n",
    "    - n이 2로 나누어 떨어지면, 2로 나눕니다.\n",
    "    - n에서 1을 뺍니다.\n",
    "\n",
    "정수 n이 주어졌을 때, 연산 4개를 적절히 사용해서 값을 1로 만들고자 합니다. \n",
    "연산을 사용하는 횟수의 최솟값과 정수 n의 변화 과정을 담은 리스트를 리턴하시오.\n",
    "\n",
    "예시) \n",
    "    n=7 일때, (3, [7, 6, 5, 1]) 를 리턴해야한다.\n",
    "    설명: 7->6->5->1 의 과정을 거처서 7이 1이 되고 이 과정에서 연산이 3번 수행된다. 이 방법 보다 더 좋은 방법은 없다.\n",
    "\n",
    "주의) 반드시 다이나믹프로그래밍을 사용하시오.\n",
    "```\n",
    "\n",
    "- parameter\n",
    "    - n: 정수 (1<= n <= 30000)\n",
    "- return\n",
    "    - 튜플: (연산을 하는 횟수의 최소값, n의 변화 과정을 담은 리스트)\n",
    "\n",
    "***결과***\n",
    "```\n",
    "(3, [7, 6, 5, 1])\n",
    "(3, [26, 25, 5, 1])\n",
    "(6, [111, 110, 55, 11, 10, 5, 1])\n",
    "```\n"
   ]
  },
  {
   "cell_type": "code",
   "execution_count": 10,
   "metadata": {},
   "outputs": [
    {
     "name": "stdout",
     "output_type": "stream",
     "text": [
      "None\n",
      "None\n",
      "None\n"
     ]
    }
   ],
   "source": [
    "def make_one(n):\n",
    "    pass\n",
    "\n",
    "# 아래는 수정하지 마시오.\n",
    "print(make_one(7))\n",
    "print(make_one(26))\n",
    "print(make_one(111))"
   ]
  },
  {
   "cell_type": "markdown",
   "metadata": {},
   "source": [
    "## 문제6 - 15점\n",
    "\n",
    "금액이 다른 여러 종류의 화폐가 있습니다. \n",
    "이 화폐들을 이용하여 그 가치의 합이 amount 원이 되도록 하려고 합니다. \n",
    "이때 각 종류의 화폐는 몇 개라도 사용할 수 있습니다.\n",
    "amount 원을 만들 수 있는 방법은 모두 몇가지 인지 리턴하는 함수를 작성하세요.\n",
    "화폐의 조합으로 amount 원을 만들 수 없다면 0을 리턴합니다.\n",
    "(화폐의 종류와 개수가 같다면 같은 방법입니다.)\n",
    "\n",
    "\n",
    "- 주의) \n",
    "    - 추가적인 파이썬 패키지를 사용할 수 없음\n",
    "    \n",
    "\n",
    "- 예시)\n",
    "```\n",
    "Input: amount = 5, coins = [1,2,5]\n",
    "Output: 4\n",
    "설명: 5원을 만드는 방법은 4가지 뿐이다. \n",
    "    5=5\n",
    "    5=2+2+1\n",
    "    5=2+1+1+1\n",
    "    5=1+1+1+1+1\n",
    "```\n",
    "\n",
    "- 함수 파라미터:\n",
    "    * amount: 거슬러름돈의 액수\n",
    "    * coins: 화폐들의 금액\n",
    "    * return: amount 원을 만들 수 있는 서로 다른 방법의 수, 방법이 없다면 0을 리턴한다.\n",
    "\n",
    "\n",
    "***결과***\n",
    "```\n",
    "2\n",
    "4\n",
    "22\n",
    "```"
   ]
  },
  {
   "cell_type": "code",
   "execution_count": 11,
   "metadata": {},
   "outputs": [
    {
     "name": "stdout",
     "output_type": "stream",
     "text": [
      "None\n",
      "None\n",
      "None\n"
     ]
    }
   ],
   "source": [
    "def change_coins2(amount, coins):\n",
    "    pass\n",
    "\n",
    "                \n",
    "# 아래는 수정하지 마시오.\n",
    "print(change_coins2(3, [1,2]))\n",
    "print(change_coins2(5, [1,2,5]))\n",
    "print(change_coins2(20, [1,2,7]))\n",
    "\n"
   ]
  },
  {
   "cell_type": "markdown",
   "metadata": {},
   "source": [
    "## 문제7 - 20점\n",
    "\n",
    "\n",
    "```\n",
    "배열 array의 i번째 숫자부터 j번째 숫자까지 자르고 정렬했을 때, k번째에 있는 수를 구하려 합니다.\n",
    "\n",
    "예를 들어 array가 [1, 5, 2, 6, 3, 7, 4], i = 2, j = 5, k = 3이라면\n",
    "\n",
    "array의 2번째부터 5번째까지 자르면 [5, 2, 6, 3]입니다.\n",
    "1에서 나온 배열을 정렬하면 [2, 3, 5, 6]입니다.\n",
    "2에서 나온 배열의 3번째 숫자는 5입니다.\n",
    "배열 array, [i, j, k]를 원소로 가진 2차원 배열 commands가 매개변수로 주어질 때, commands의 모든 원소에 대해 앞서 설명한 연산을 적용했을 때 나온 결과를 배열에 담아 return 하도록 solution 함수를 작성해주세요.\n",
    "```\n",
    "\n",
    "- 제한사항\n",
    "    - array의 길이는 1 이상 100 이하입니다.\n",
    "    - array의 각 원소는 1 이상 100 이하입니다.\n",
    "    - commands의 길이는 1 이상 50 이하입니다.\n",
    "    - commands의 각 원소는 길이가 3입니다.\n",
    "    \n",
    "\n",
    "- 예시\n",
    "\n",
    "```\n",
    "array: [1, 5, 2, 6, 3, 7, 4]\n",
    "commands: [[2, 5, 3], [4, 4, 1], [1, 7, 3]]\n",
    "return: [5, 6, 3]\n",
    "```\n",
    "- 예시 설명\n",
    "\n",
    "```\n",
    "[1, 5, 2, 6, 3, 7, 4]를 2번째부터 5번째까지 자른 후 정렬합니다. [2, 3, 5, 6]의 세 번째 숫자는 5입니다.\n",
    "[1, 5, 2, 6, 3, 7, 4]를 4번째부터 4번째까지 자른 후 정렬합니다. [6]의 첫 번째 숫자는 6입니다.\n",
    "[1, 5, 2, 6, 3, 7, 4]를 1번째부터 7번째까지 자른 후 정렬합니다. [1, 2, 3, 4, 5, 6, 7]의 세 번째 숫자는 3입니다.\n",
    "따라서 [5, 6, 3]을 리턴합니다.\n",
    "```\n",
    "\n",
    "***결과***\n",
    "```\n",
    "[5, 6, 3]\n",
    "```\n"
   ]
  },
  {
   "cell_type": "code",
   "execution_count": 12,
   "metadata": {},
   "outputs": [
    {
     "name": "stdout",
     "output_type": "stream",
     "text": [
      "None\n"
     ]
    }
   ],
   "source": [
    "def solution(array, commands):\n",
    "    pass\n",
    "\n",
    "# 아래는 수정하지 마시오.\n",
    "print(solution([1, 5, 2, 6, 3, 7, 4], [[2, 5, 3], [4, 4, 1], [1, 7, 3]]))"
   ]
  },
  {
   "attachments": {
    "image.png": {
     "image/png": "[encoded data removed]"
    }
   },
   "cell_type": "markdown",
   "metadata": {},
   "source": [
    "## 문제8 - 15점\n",
    "\n",
    "아래의 다익스트라 알고리즘을 구현한 함수는 일부분이 누락되어 있다.\n",
    "\n",
    "다익스트라 알고리즘을 완성하시오.\n",
    "\n",
    "- 함수 파라미터:\n",
    "    * graph: 딕셔너리로 구현된 그래프\n",
    "    * start: 시작 노드\n",
    "    * return: 시작 노드로 부터 다른 모든 노드까지의 최단경로 거리를 가지고 있는 딕셔너리\n",
    "\n",
    "\n",
    "\n",
    "- 주어진 그래프\n",
    "![image.png](attachment:image.png)\n",
    "\n",
    "***결과***\n",
    "```\n",
    "from 1 to 1: 0\n",
    "from 1 to 2: 2\n",
    "from 1 to 3: 3\n",
    "from 1 to 4: 1\n",
    "from 1 to 5: 2\n",
    "from 1 to 6: 4\n",
    "```"
   ]
  },
  {
   "cell_type": "code",
   "execution_count": 14,
   "metadata": {},
   "outputs": [
    {
     "name": "stdout",
     "output_type": "stream",
     "text": [
      "from 1 to 1: 0\n",
      "from 1 to 2: INFINITY\n",
      "from 1 to 3: INFINITY\n",
      "from 1 to 4: INFINITY\n",
      "from 1 to 5: INFINITY\n",
      "from 1 to 6: INFINITY\n"
     ]
    }
   ],
   "source": [
    "import heapq\n",
    "\n",
    "INF = int(1e9) # 무한대값 설정\n",
    "\n",
    "def dijkstra(graph, start):\n",
    "    n = len(graph)\n",
    "    distance = {k:INF for k in graph}\n",
    "    distance[start] = 0\n",
    "    \n",
    "    q = [] \n",
    "    heapq.heappush(q, (0, start))\n",
    "    \n",
    "    while q: \n",
    "        dist, now = heapq.heappop(q)\n",
    "        if distance[now] < dist:\n",
    "            continue\n",
    "        for node, weight in graph[now]:\n",
    "            pass\n",
    "    return distance\n",
    "\n",
    "\n",
    "\n",
    "### 아래는 수정하지 마시오.\n",
    "graph = {\n",
    "    1:[(2, 2), (3, 5), (4, 1)],\n",
    "    2:[(3, 3), (4, 2)],\n",
    "    3:[(2, 3), (6, 5)],\n",
    "    4:[(3, 3), (5, 1)],\n",
    "    5:[(3, 1), (6, 2)],\n",
    "    6:[]\n",
    "}\n",
    "\n",
    "start = 1\n",
    "distance = dijkstra(graph, start)\n",
    "\n",
    "for node in distance:\n",
    "    if distance[node] == INF:\n",
    "        print(f\"from {start} to {node}: INFINITY\")\n",
    "    else:\n",
    "        print(f\"from {start} to {node}: {distance[node]}\")\n",
    "\n"
   ]
  },
  {
   "attachments": {
    "image.png": {
     "image/png": "[encoded data removed]"
    }
   },
   "cell_type": "markdown",
   "metadata": {},
   "source": [
    "## 문제9 - 30점\n",
    "\n",
    "다이나믹프로그래밍을 이용하여 아래 문제를 푸시오.\n",
    "\n",
    "![image.png](attachment:image.png)\n",
    "\n",
    "위와 같은 삼각형의 꼭대기에서 바닥까지 이어지는 경로 중, 거쳐간 숫자의 합이 가장 큰 경우를 찾아보려고 합니다. 아래 칸으로 이동할 때는 대각선 방향으로 한 칸 오른쪽 또는 왼쪽으로만 이동 가능합니다. 예를 들어 3에서는 그 아래칸의 8 또는 1로만 이동이 가능합니다.\n",
    "\n",
    "삼각형의 정보가 담긴 배열 triangle이 매개변수로 주어질 때, 거쳐간 숫자의 합의 최댓값을 return 하도록 solution 함수를 완성하세요.\n",
    "\n",
    "- 제한사항\n",
    "    - 삼각형의 높이는 1 이상 500 이하입니다.\n",
    "    - 삼각형을 이루고 있는 숫자는 0 이상 9,999 이하의 정수입니다.\n",
    "\n",
    "- 입출력 예\n",
    "\n",
    "```\n",
    "triangle:\n",
    "[[7], [3, 8], [8, 1, 0], [2, 7, 4, 4], [4, 5, 2, 6, 5]]\n",
    "\n",
    "result:30\n",
    "```\n",
    "\n",
    "***결과***\n",
    "```\n",
    "18\n",
    "30\n",
    "```"
   ]
  },
  {
   "cell_type": "code",
   "execution_count": null,
   "metadata": {},
   "outputs": [],
   "source": [
    "def max_path(triangle):\n",
    "    pass\n",
    "\n",
    "# 아래는 수정하지 마시오.\n",
    "print(max_path([[7], [3, 8], [8, 1, 0]]))\n",
    "print(max_path([[7], [3, 8], [8, 1, 0], [2, 7, 4, 4], [4, 5, 2, 6, 5]]))"
   ]
  },
  {
   "cell_type": "markdown",
   "metadata": {},
   "source": [
    "# 수고하셨습니다.\n",
    "# 저장하고 제출하세요.\n",
    "# 모든 파일을 삭제하세요."
   ]
  }
 ],
 "metadata": {
  "kernelspec": {
   "display_name": "Python 3",
   "language": "python",
   "name": "python3"
  },
  "language_info": {
   "codemirror_mode": {
    "name": "ipython",
    "version": 3
   },
   "file_extension": ".py",
   "mimetype": "text/x-python",
   "name": "python",
   "nbconvert_exporter": "python",
   "pygments_lexer": "ipython3",
   "version": "3.8.8"
  },
  "toc": {
   "base_numbering": 1,
   "nav_menu": {},
   "number_sections": true,
   "sideBar": true,
   "skip_h1_title": false,
   "title_cell": "Table of Contents",
   "title_sidebar": "Contents",
   "toc_cell": false,
   "toc_position": {},
   "toc_section_display": true,
   "toc_window_display": false
  }
 },
 "nbformat": 4,
 "nbformat_minor": 2
}
