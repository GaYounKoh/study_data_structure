{
 "cells": [
  {
   "cell_type": "code",
   "execution_count": 9,
   "metadata": {},
   "outputs": [],
   "source": [
    "from IPython.core.interactiveshell import InteractiveShell\n",
    "InteractiveShell.ast_node_interactivity = \"all\""
   ]
  },
  {
   "cell_type": "code",
   "execution_count": null,
   "metadata": {},
   "outputs": [],
   "source": [
    "def solution(id_list, report, k):\n",
    "    # id_list\n",
    "    # report_ = report.replace(\" \", \" : \")\n",
    "    # report_ = report.split(\" \")\n",
    "    # if len(set(report_)) == k:\n",
    "    dic = {}\n",
    "    for i in report:\n",
    "        dic[i[:i.index(\" \")]] = [i[i.index(\" \"):]]\n",
    "        \n",
    "    answer = []\n",
    "    for i in id_list:\n",
    "        answer.append(dic[i])\n",
    "        \n",
    "    return answer"
   ]
  },
  {
   "cell_type": "code",
   "execution_count": 1,
   "metadata": {},
   "outputs": [],
   "source": [
    "id_list = [\"muzi\", \"frodo\", \"apeach\", \"neo\"]\n",
    "report = [\"muzi frodo\",\"apeach frodo\",\"frodo neo\",\"muzi neo\",\"apeach muzi\"]\n",
    "k = 2"
   ]
  },
  {
   "cell_type": "code",
   "execution_count": 26,
   "metadata": {},
   "outputs": [
    {
     "data": {
      "text/plain": [
       "False"
      ]
     },
     "execution_count": 26,
     "metadata": {},
     "output_type": "execute_result"
    },
    {
     "data": {
      "text/plain": [
       "False"
      ]
     },
     "execution_count": 26,
     "metadata": {},
     "output_type": "execute_result"
    },
    {
     "data": {
      "text/plain": [
       "False"
      ]
     },
     "execution_count": 26,
     "metadata": {},
     "output_type": "execute_result"
    },
    {
     "data": {
      "text/plain": [
       "False"
      ]
     },
     "execution_count": 26,
     "metadata": {},
     "output_type": "execute_result"
    }
   ],
   "source": [
    "# dic = {}\n",
    "# for i in report:\n",
    "#     # [i[:i.index(\" \")]]\n",
    "#     # dic[i[:i.index(\" \")]].append(i[i.index(\" \")+1:])\n",
    "#     if i not in dic.keys():\n",
    "#         globals[f'{i}_list'] = [i[i.index(\" \")+1:]]\n",
    "#         dic[i[:i.index(\" \")]] = globals[f'{i}_list']\n",
    "#     else:\n",
    "#         # dic[i[:i.index(\" \")]].append(i[i.index(\" \")+1:])\n",
    "#         globals[f'{i}_list'].append(i[i.index(\" \")+1:])\n",
    "#         dic[i[:i.index(\" \")]] = globals[f'{i}_list']\n",
    "\n",
    "\n",
    "# report_ = [i.replace(\" \", \" : \") for i in report]\n",
    "# report_ = \" \".join(report_)\n",
    "# # if len(set(report_)) == k:\n",
    "# report_\n",
    "\n"
   ]
  },
  {
   "cell_type": "code",
   "execution_count": 42,
   "metadata": {},
   "outputs": [
    {
     "name": "stdout",
     "output_type": "stream",
     "text": [
      "신고자: muzi frodo     처벌대상: muzi 처벌횟수 1\n",
      "신고자: frodo neo     처벌대상: frodo 처벌횟수 2\n",
      "신고자: apeach frodo     처벌대상: apeach 처벌횟수 0\n"
     ]
    }
   ],
   "source": [
    "# 일단 각각이 몇 번 불리는지 횟수를 cnt\n",
    "# 한 사람이 여러번 신고한 건 한 번으로 쳐지니까 set으로 없애기\n",
    "report = list(set(report))\n",
    "ans = [] # id별 신고 횟수 리스트\n",
    "for j in id_list:\n",
    "    # if [i[i.index(\" \")+1:] for i in report].count(j) < k:\n",
    "    if j not in [i[:i.index(\" \")] for i in report]: # 신고 안했으면\n",
    "        ans.append(0)\n",
    "    elif j in [i[i.index(\" \")+1:] for i in report] or j in [i[:i.index(\" \")] for i in report]: # 처벌 리스트에 있거나 신고 리스트에 있으면\n",
    "        print(\"신고자:\", report[[i[:i.index(\" \")] for i in report].index(j)], '    처벌대상:', j, \"처벌횟수\", [i[i.index(\" \")+1:] for i in report].count(j))\n",
    "# report"
   ]
  },
  {
   "cell_type": "code",
   "execution_count": 53,
   "metadata": {},
   "outputs": [
    {
     "data": {
      "text/plain": [
       "[2, 1, 2, 0]"
      ]
     },
     "execution_count": 53,
     "metadata": {},
     "output_type": "execute_result"
    }
   ],
   "source": [
    "# 일단 각각이 몇 번 불리는지 횟수를 cnt\n",
    "# 한 사람이 여러번 신고한 건 한 번으로 쳐지니까 set으로 없애기\n",
    "report = list(set(report))\n",
    "ans = [] # id별 신고 횟수 리스트\n",
    "for j in id_list:\n",
    "    if j not in [i[:i.index(\" \")] for i in report]: # 신고 안했으면\n",
    "        ans.append(0)\n",
    "    else:\n",
    "        # print(\"신고자:\", report[[i[:i.index(\" \")] for i in report].index(j)])\n",
    "        # print('신고자: ', j, \"신고횟수\", [i[:i.index(\" \")] for i in report].count(j))\n",
    "        ans.append([i[:i.index(\" \")] for i in report].count(j))\n",
    "    # print('    처벌대상:', j, \"    처벌횟수\", [i[i.index(\" \")+1:] for i in report].count(j))\n",
    "\n",
    "ans"
   ]
  },
  {
   "cell_type": "code",
   "execution_count": null,
   "metadata": {},
   "outputs": [],
   "source": [
    "\n",
    "# answer = []\n",
    "# for i in id_list:\n",
    "#     answer.append(dic[i])"
   ]
  }
 ],
 "metadata": {
  "interpreter": {
   "hash": "a189447917acffb1567c89b7cb00fa9d2475a0f68c2a9e06a8cc7f2367540eba"
  },
  "kernelspec": {
   "display_name": "Python 3.8.5 ('base')",
   "language": "python",
   "name": "python3"
  },
  "language_info": {
   "codemirror_mode": {
    "name": "ipython",
    "version": 3
   },
   "file_extension": ".py",
   "mimetype": "text/x-python",
   "name": "python",
   "nbconvert_exporter": "python",
   "pygments_lexer": "ipython3",
   "version": "3.8.5"
  },
  "orig_nbformat": 4
 },
 "nbformat": 4,
 "nbformat_minor": 2
}
