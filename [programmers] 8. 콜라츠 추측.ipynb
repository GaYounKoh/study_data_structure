{
 "cells": [
  {
   "cell_type": "code",
   "execution_count": 9,
   "metadata": {},
   "outputs": [],
   "source": [
    "from IPython.core.interactiveshell import InteractiveShell\n",
    "InteractiveShell.ast_node_interactivity = \"all\""
   ]
  },
  {
   "cell_type": "markdown",
   "metadata": {},
   "source": [
    "* 220319시작 ~> timeover,\n",
    "# 0321 제출, 콜라츠 추측 (9점 받음. 실화냐)"
   ]
  },
  {
   "cell_type": "code",
   "execution_count": 10,
   "metadata": {},
   "outputs": [
    {
     "data": {
      "text/plain": [
       "-1"
      ]
     },
     "execution_count": 10,
     "metadata": {},
     "output_type": "execute_result"
    },
    {
     "data": {
      "text/plain": [
       "4"
      ]
     },
     "execution_count": 10,
     "metadata": {},
     "output_type": "execute_result"
    }
   ],
   "source": [
    "# num = 16#626331\n",
    "def solution(num):\n",
    "    cnt = 500\n",
    "    while num != 1: # num이 1이 아니라면, 그 동안에 루프 돌아.\n",
    "        cnt -= 1\n",
    "        if cnt == 0:\n",
    "            cnt = -1\n",
    "            break\n",
    "\n",
    "        elif num % 2 == 0: # 짝수라면\n",
    "            num = num / 2\n",
    "\n",
    "        elif num % 2 != 0: # 홀수라면\n",
    "            num = num * 3 + 1\n",
    "        \n",
    "    if num == 1:\n",
    "        cnt = 500 - cnt\n",
    "\n",
    "    return cnt\n",
    "# cnt\n",
    "solution(626331)\n",
    "solution(16)"
   ]
  },
  {
   "cell_type": "code",
   "execution_count": 4,
   "metadata": {},
   "outputs": [
    {
     "data": {
      "text/plain": [
       "-1"
      ]
     },
     "execution_count": 4,
     "metadata": {},
     "output_type": "execute_result"
    }
   ],
   "source": [
    "cnt"
   ]
  },
  {
   "cell_type": "markdown",
   "metadata": {},
   "source": [
    "# try 1 (@ 220319)\n",
    "time over로 제출 안됨."
   ]
  },
  {
   "cell_type": "code",
   "execution_count": null,
   "metadata": {},
   "outputs": [],
   "source": [
    "def solution(num):\n",
    "    cnt = 500\n",
    "    while num != 1:\n",
    "        cnt -= 1\n",
    "        if cnt == 0:\n",
    "            if num != 1:\n",
    "                cnt = -1\n",
    "            else:\n",
    "                pass\n",
    "            break\n",
    "\n",
    "        elif num % 2 == 0:\n",
    "            num = num / 2\n",
    "            if num == 1:\n",
    "                cnt = 500-cnt\n",
    "                break\n",
    "        elif num % 2 != 0:\n",
    "            num = num * 3 + 1\n",
    "            if num == 1:\n",
    "                cnt = 500-cnt\n",
    "                break\n",
    "            \n",
    "    return cnt"
   ]
  },
  {
   "cell_type": "code",
   "execution_count": null,
   "metadata": {},
   "outputs": [],
   "source": []
  }
 ],
 "metadata": {
  "interpreter": {
   "hash": "e4cfef919f511c0e3a05919ed86dab4fa959f970f2723dae87eeb918be14f5f0"
  },
  "kernelspec": {
   "display_name": "Python 3.8.8 ('base')",
   "language": "python",
   "name": "python3"
  },
  "language_info": {
   "codemirror_mode": {
    "name": "ipython",
    "version": 3
   },
   "file_extension": ".py",
   "mimetype": "text/x-python",
   "name": "python",
   "nbconvert_exporter": "python",
   "pygments_lexer": "ipython3",
   "version": "3.8.5"
  },
  "orig_nbformat": 4
 },
 "nbformat": 4,
 "nbformat_minor": 2
}
